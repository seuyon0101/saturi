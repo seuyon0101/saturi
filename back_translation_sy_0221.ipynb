{
 "cells": [
  {
   "cell_type": "code",
   "execution_count": 1,
<<<<<<< HEAD
   "id": "02b79c13",
=======
   "id": "799ceb45",
>>>>>>> b6c8dd010651492c90fd5e7fef25fee553046c11
   "metadata": {},
   "outputs": [],
   "source": [
    "# !pip install transformers --upgrade\n",
    "from transformers import pipeline, AutoModelForSeq2SeqLM, AutoTokenizer\n",
    "import os\n",
    "import pandas as pd\n",
    "import datasets\n",
    "import gc\n",
    "from tqdm import tqdm"
   ]
  },
  {
   "cell_type": "code",
   "execution_count": 2,
<<<<<<< HEAD
   "id": "ec92a7ce",
=======
   "id": "0cd7acad",
>>>>>>> b6c8dd010651492c90fd5e7fef25fee553046c11
   "metadata": {},
   "outputs": [],
   "source": [
    "# model_ckpt = 'Helsinki-NLP/opus-mt-ko-en'\n",
    "model_ckpt2= 'circulus/kobart-trans-ko-en-v2' #bart`\n",
    "# model_ckpt3 = 'alphahg/opus-mt-ko-en-finetuned-ko-to-en100'\n",
    "# pipe2 = pipeline('translation', model=model_ckpt2, device=0)"
   ]
  },
  {
   "cell_type": "code",
<<<<<<< HEAD
   "execution_count": 3,
   "id": "07ab51a6",
=======
   "execution_count": 6,
   "id": "f71beee4",
>>>>>>> b6c8dd010651492c90fd5e7fef25fee553046c11
   "metadata": {},
   "outputs": [
    {
     "data": {
      "application/vnd.jupyter.widget-view+json": {
       "model_id": "590ffeb396104b1db43aeb9fc564325a",
       "version_major": 2,
       "version_minor": 0
      },
      "text/plain": [
       "Downloading:   0%|          | 0.00/1.41k [00:00<?, ?B/s]"
      ]
     },
     "metadata": {},
     "output_type": "display_data"
    },
    {
     "data": {
      "application/vnd.jupyter.widget-view+json": {
       "model_id": "ce512fcca1b740158b6cb1b58f9ff683",
       "version_major": 2,
       "version_minor": 0
      },
      "text/plain": [
       "Downloading:   0%|          | 0.00/473M [00:00<?, ?B/s]"
      ]
     },
     "metadata": {},
     "output_type": "display_data"
    },
    {
     "data": {
      "application/vnd.jupyter.widget-view+json": {
       "model_id": "9d8dc7f101e0466aa1d1c7773da336c2",
       "version_major": 2,
       "version_minor": 0
      },
      "text/plain": [
       "Downloading:   0%|          | 0.00/304 [00:00<?, ?B/s]"
      ]
     },
     "metadata": {},
     "output_type": "display_data"
    },
    {
     "data": {
      "application/vnd.jupyter.widget-view+json": {
       "model_id": "40c9cffae0d64e10a9e56a4fa3abf3e6",
       "version_major": 2,
       "version_minor": 0
      },
      "text/plain": [
       "Downloading:   0%|          | 0.00/123 [00:00<?, ?B/s]"
      ]
     },
     "metadata": {},
     "output_type": "display_data"
    },
    {
     "data": {
      "application/vnd.jupyter.widget-view+json": {
       "model_id": "9b52a6bfa0474dbe93fdba498d81e085",
       "version_major": 2,
       "version_minor": 0
      },
      "text/plain": [
       "Downloading:   0%|          | 0.00/1.00M [00:00<?, ?B/s]"
      ]
     },
     "metadata": {},
     "output_type": "display_data"
    }
   ],
   "source": [
    "pipe = pipeline('translation', model = model_ckpt2, device=0,max_length=256)"
   ]
  },
  {
   "cell_type": "code",
<<<<<<< HEAD
   "execution_count": 4,
   "id": "db27da88",
=======
   "execution_count": 7,
   "id": "3f620883",
>>>>>>> b6c8dd010651492c90fd5e7fef25fee553046c11
   "metadata": {},
   "outputs": [
    {
     "data": {
      "text/plain": [
       "[{'translation_text': 'The reason why human Go players were able to win artificial intelligence was because they inherited tactics directly from artificial intelligence'}]"
      ]
     },
     "execution_count": 4,
     "metadata": {},
     "output_type": "execute_result"
    }
   ],
   "source": [
    "# test\n",
    "pipe('인간 바둑기사가 인공지능에 승리할 수 있었던 이유는 인공지능으로부터 전술을 직접 물려 받았기 때문이다.')"
   ]
  },
  {
   "cell_type": "markdown",
<<<<<<< HEAD
   "id": "207ce0f9",
=======
   "id": "93658da6",
>>>>>>> b6c8dd010651492c90fd5e7fef25fee553046c11
   "metadata": {},
   "source": [
    "---\n",
    "# kor -> eng backtranslation 작업 순서\n",
    "\n",
    "### 작업 할당 :\n",
    "\n",
    "- `김시혁` :  'jd' 전라도\n",
    "- `정선아` :  'kw' 강원도\n",
    "- `임종인` :  'gs' 경상도\n",
    "- `이승용` :  'jj' 제주도\n",
    "- `신덕식` :  'cc' 충청도\n",
    "\n",
    "---\n",
    "\n",
    "### `data_save(dataset, pipe, '지역', 작업크기, 시작index)`\n",
    ">1. ### `dataset` : 데이터 셋 [dataframe : pandas dataframe]\n",
    ">2. ### `pipe` : hugging face pipeline [func : huggingface pipeline function]\n",
    ">3. ### `지역` : 사투리 지역 [str : 'jj', 'gs', 'kw', 'cc', 'jd']\n",
    ">4. ### `작업크기` : num of rows [int]\n",
    ">5. ### `directory` : 저장 경로 [str : directory]\n",
    ">>예) data_save(df,pipe,'jj',5000,0,'/aiffel/aiffelthon/') -> '지역', 시작index만 변경해주시면 됩니다."
   ]
  },
  {
   "cell_type": "code",
<<<<<<< HEAD
   "execution_count": 5,
   "id": "a70acebd",
=======
   "execution_count": 64,
   "id": "94a925c9",
>>>>>>> b6c8dd010651492c90fd5e7fef25fee553046c11
   "metadata": {},
   "outputs": [],
   "source": [
    "directory = os.getenv('HOME') + '/aiffel/aiffelthon/' # 데이터 경로 지정"
   ]
  },
  {
   "cell_type": "code",
<<<<<<< HEAD
   "execution_count": 6,
   "id": "7a3c0bc2",
=======
   "execution_count": 127,
   "id": "ec59a9e1",
>>>>>>> b6c8dd010651492c90fd5e7fef25fee553046c11
   "metadata": {},
   "outputs": [
    {
     "data": {
      "text/html": [
       "<div>\n",
       "<style scoped>\n",
       "    .dataframe tbody tr th:only-of-type {\n",
       "        vertical-align: middle;\n",
       "    }\n",
       "\n",
       "    .dataframe tbody tr th {\n",
       "        vertical-align: top;\n",
       "    }\n",
       "\n",
       "    .dataframe thead th {\n",
       "        text-align: right;\n",
       "    }\n",
       "</style>\n",
       "<table border=\"1\" class=\"dataframe\">\n",
       "  <thead>\n",
       "    <tr style=\"text-align: right;\">\n",
       "      <th></th>\n",
       "      <th>text</th>\n",
       "      <th>dial</th>\n",
       "      <th>reg</th>\n",
       "      <th>pair</th>\n",
       "    </tr>\n",
       "  </thead>\n",
       "  <tbody>\n",
       "    <tr>\n",
       "      <th>276826</th>\n",
<<<<<<< HEAD
       "      <td>이런 생각이 제가 인제 그게 박혀있던 거 같애요</td>\n",
       "      <td>이런 생각이 제가 이제 그게 박혀있던 거 같애요</td>\n",
       "      <td>jd</td>\n",
       "      <td>(이제)/(인제)</td>\n",
       "    </tr>\n",
       "    <tr>\n",
       "      <th>849425</th>\n",
       "      <td>이렇게 똥그란 거 뭐지 그거 넣는 거처럼 그거 먹는 것처럼</td>\n",
       "      <td>이릏게 똥그란 거 뭐지 그거 넣는 거처럼 그거 먹는 것처럼</td>\n",
       "      <td>cc</td>\n",
       "      <td>(이릏게)/(이렇게)</td>\n",
       "    </tr>\n",
       "    <tr>\n",
       "      <th>504499</th>\n",
       "      <td>자기 취미 활동 하는 데에 조금  나도 거기서 레시피 같은 거 많이 얻기도 했고</td>\n",
       "      <td>자기 취미 활동 하는 데에 쫌  나도 거기서 레시피 같은 거 많이 얻기도 했고</td>\n",
       "      <td>gs</td>\n",
       "      <td>(쫌)/(조금)</td>\n",
       "    </tr>\n",
       "    <tr>\n",
       "      <th>601054</th>\n",
       "      <td>아 진짜 짜증나게 아 진짜 하여튼지 너희들 짜증나 알지?</td>\n",
       "      <td>아 진짜 짜증나게 아 진짜 하이탄지 니들 짜증나 알지?</td>\n",
       "      <td>kw</td>\n",
       "      <td>(하이탄지)/(하여튼지) (니들)/(너희들)</td>\n",
       "    </tr>\n",
       "    <tr>\n",
       "      <th>980221</th>\n",
       "      <td>여기는 구천 오백 원밖에 안 했단 말이야 그래가지고</td>\n",
       "      <td>여기는 구천 오백 원밖에 안 했단 말이여 그래가지고</td>\n",
       "      <td>cc</td>\n",
       "      <td>(말이여)/(말이야)</td>\n",
=======
       "      <td>영화에서 보면 뒷발 차기 해 가지고 이게</td>\n",
       "      <td>영화에서 보면 뒷발 차기 해 가지고잉 이게</td>\n",
       "      <td>jd</td>\n",
       "      <td>(가지고잉)/(가지고)</td>\n",
       "    </tr>\n",
       "    <tr>\n",
       "      <th>849425</th>\n",
       "      <td>이게 나이별 나이에 따라서 이게 옷 입는 것도 바뀌는 거 같애.</td>\n",
       "      <td>이게 나이별 나이에 따라서 이게 옷 입는 것도 바껴지는 거 같애.</td>\n",
       "      <td>cc</td>\n",
       "      <td>(바껴지는)/(바뀌는)</td>\n",
       "    </tr>\n",
       "    <tr>\n",
       "      <th>504499</th>\n",
       "      <td>일단 뭐하는 연애혁명이나</td>\n",
       "      <td>일단 머하는 연애혁명이나</td>\n",
       "      <td>gs</td>\n",
       "      <td>(머하는)/(뭐하는)</td>\n",
       "    </tr>\n",
       "    <tr>\n",
       "      <th>601054</th>\n",
       "      <td>뭔가 잘못됐어.</td>\n",
       "      <td>뭔가 잔못됐어.</td>\n",
       "      <td>kw</td>\n",
       "      <td>(잔못됐어.)/(잘못됐어.)</td>\n",
       "    </tr>\n",
       "    <tr>\n",
       "      <th>980221</th>\n",
       "      <td>그래서 그거를 그냥 썩혀 두기에는 너무 그러니까 당근 마켓이나</td>\n",
       "      <td>그래서 그거를 그냥 썩혀 두기에는 너무 그르니까 당근 마켓이나</td>\n",
       "      <td>cc</td>\n",
       "      <td>(그르니까)/(그러니까)</td>\n",
>>>>>>> b6c8dd010651492c90fd5e7fef25fee553046c11
       "    </tr>\n",
       "  </tbody>\n",
       "</table>\n",
       "</div>"
      ],
      "text/plain": [
<<<<<<< HEAD
       "                                                text  \\\n",
       "276826                    이런 생각이 제가 인제 그게 박혀있던 거 같애요   \n",
       "849425              이렇게 똥그란 거 뭐지 그거 넣는 거처럼 그거 먹는 것처럼   \n",
       "504499  자기 취미 활동 하는 데에 조금  나도 거기서 레시피 같은 거 많이 얻기도 했고   \n",
       "601054               아 진짜 짜증나게 아 진짜 하여튼지 너희들 짜증나 알지?   \n",
       "980221                  여기는 구천 오백 원밖에 안 했단 말이야 그래가지고   \n",
       "\n",
       "                                               dial reg  \\\n",
       "276826                   이런 생각이 제가 이제 그게 박혀있던 거 같애요  jd   \n",
       "849425             이릏게 똥그란 거 뭐지 그거 넣는 거처럼 그거 먹는 것처럼  cc   \n",
       "504499  자기 취미 활동 하는 데에 쫌  나도 거기서 레시피 같은 거 많이 얻기도 했고  gs   \n",
       "601054               아 진짜 짜증나게 아 진짜 하이탄지 니들 짜증나 알지?  kw   \n",
       "980221                 여기는 구천 오백 원밖에 안 했단 말이여 그래가지고  cc   \n",
       "\n",
       "                            pair  \n",
       "276826                 (이제)/(인제)  \n",
       "849425               (이릏게)/(이렇게)  \n",
       "504499                  (쫌)/(조금)  \n",
       "601054  (하이탄지)/(하여튼지) (니들)/(너희들)  \n",
       "980221               (말이여)/(말이야)  "
      ]
     },
     "execution_count": 6,
=======
       "                                       text  \\\n",
       "276826               영화에서 보면 뒷발 차기 해 가지고 이게   \n",
       "849425  이게 나이별 나이에 따라서 이게 옷 입는 것도 바뀌는 거 같애.   \n",
       "504499                        일단 뭐하는 연애혁명이나   \n",
       "601054                             뭔가 잘못됐어.   \n",
       "980221   그래서 그거를 그냥 썩혀 두기에는 너무 그러니까 당근 마켓이나   \n",
       "\n",
       "                                        dial reg             pair  \n",
       "276826               영화에서 보면 뒷발 차기 해 가지고잉 이게  jd     (가지고잉)/(가지고)  \n",
       "849425  이게 나이별 나이에 따라서 이게 옷 입는 것도 바껴지는 거 같애.  cc     (바껴지는)/(바뀌는)  \n",
       "504499                         일단 머하는 연애혁명이나  gs      (머하는)/(뭐하는)  \n",
       "601054                              뭔가 잔못됐어.  kw  (잔못됐어.)/(잘못됐어.)  \n",
       "980221    그래서 그거를 그냥 썩혀 두기에는 너무 그르니까 당근 마켓이나  cc    (그르니까)/(그러니까)  "
      ]
     },
     "execution_count": 127,
>>>>>>> b6c8dd010651492c90fd5e7fef25fee553046c11
     "metadata": {},
     "output_type": "execute_result"
    }
   ],
   "source": [
    "df = pd.read_csv(directory+'datset_full_raw_needs_translation_0221_v2.csv') # 데이터 파일 불러오기\n",
    "df.drop_duplicates(inplace=True)\n",
    "del df['Unnamed: 0']\n",
    "df['text'] = df['text'].str.replace('[\\(\\)]','',regex=True)\n",
    "df['dial'] = df['dial'].str.replace('[\\(\\)]','',regex=True)\n",
    "reg=['jj','jd','gs','kw','cc']\n",
    "df = df.sample(frac=1)\n",
    "dfs = pd.DataFrame(columns=['text', 'dial', 'reg', 'pair'])\n",
    "for i in reg :\n",
    "    temp = df.loc[df['reg']==i]\n",
    "    dfs = dfs.merge(temp[:200000],how='outer')\n",
    "dfs = dfs.sample(frac=1,random_state=1)\n",
    "dfs.dropna(inplace=True)\n",
    "dfs.head()"
   ]
  },
  {
   "cell_type": "code",
<<<<<<< HEAD
   "execution_count": 9,
   "id": "f4ad1922",
=======
   "execution_count": 151,
   "id": "ceded317",
>>>>>>> b6c8dd010651492c90fd5e7fef25fee553046c11
   "metadata": {},
   "outputs": [],
   "source": [
    "def data_save(data, pipe, prefix, num_rows,start, directory) :\n",
    "    \n",
    "    '''\n",
    "    \n",
    "    1. `dataset` : 데이터 셋 [dataframe : pandas dataframe]\n",
    "    2. `pipe` : hugging face pipeline [func : huggingface pipeline function]\n",
    "    3. `지역` : 사투리 지역 [str : 'jj', 'gs', 'kw', 'cc', 'jd']\n",
    "    4. `작업크기` : num of rows [int]\n",
    "    5. `directory` : 저장 경로 [str : directory]\n",
    "    \n",
    "        예) data_save(df,pipe,'jj',5000,0,'/aiffel/aiffelthon/') -> '지역', 시작index만 변경해주시면 됩니다.\n",
    "        \n",
    "    '''\n",
    "    \n",
    "    df_final = pd.DataFrame(columns=['text', 'dial', 'reg', 'pair','eng'])\n",
    "\n",
    "    for i in range(start,len(data), num_rows) :\n",
    "        dataset = data[i : i +num_rows].reset_index()\n",
    "        dataset = datasets.Dataset.from_pandas(dataset)\n",
    "        dataset = dataset.map(lambda ds : {'eng' : pipe(ds['text'])[0]['translation_text']})\n",
    "        dataset.set_format('pandas')\n",
    "        df_final = df_final.merge(dataset[:], how='outer')\n",
    "        df_final.to_csv(directory + f'dataset_en_ko_{prefix}_{i}_{i+num_rows}.csv', index=False)\n",
    "        print(f'작업 완료 : {prefix}_{i}_{i+num_rows}' )\n",
    "        print(f'저장 경로 : {directory}dataset_ko_en_{prefix}_{i}_{i+num_rows}.csv')"
   ]
  },
  {
   "cell_type": "markdown",
<<<<<<< HEAD
   "id": "65ee39b1",
=======
   "id": "727ce8b0",
>>>>>>> b6c8dd010651492c90fd5e7fef25fee553046c11
   "metadata": {},
   "source": [
    "### 본인이 해당하는 부분만 주석 풀고 데이터 만들어주세요~"
   ]
  },
  {
   "cell_type": "code",
<<<<<<< HEAD
   "execution_count": 18,
   "id": "406a703f",
=======
   "execution_count": 132,
   "id": "c9556761",
>>>>>>> b6c8dd010651492c90fd5e7fef25fee553046c11
   "metadata": {},
   "outputs": [
    {
     "data": {
      "text/plain": [
       "cc    40279\n",
       "jj    40031\n",
       "gs    39926\n",
       "jd    39912\n",
       "kw    39851\n",
       "Name: reg, dtype: int64"
      ]
     },
     "execution_count": 132,
     "metadata": {},
     "output_type": "execute_result"
    }
   ],
   "source": [
<<<<<<< HEAD
    "dfs = dfs[145000:200000].copy() # 김시혁\n",
    "# dfs = dfs[200000:400000].copy() # 정선아\n",
    "# dfs = dfs[400000:600000].copy() # 임종인\n",
    "# dfs = dfs[600000:800000].copy() # 이승용\n",
    "# dfs = dfs[800000:].copy() # 이승용"
=======
    "# dfs1 = dfs[:200000].copy() # 김시혁\n",
    "# dfs1 = dfs[200000:400000].copy() # 정선아\n",
    "# dfs1 = dfs[400000:600000].copy() # 임종인\n",
    "# dfs1 = dfs[600000:800000].copy() # 이승용\n",
    "# dfs1 = dfs[800000:].copy() # 이승용"
>>>>>>> b6c8dd010651492c90fd5e7fef25fee553046c11
   ]
  },
  {
   "cell_type": "code",
<<<<<<< HEAD
   "execution_count": 14,
   "id": "796177fb",
=======
   "execution_count": null,
   "id": "028efdb7",
>>>>>>> b6c8dd010651492c90fd5e7fef25fee553046c11
   "metadata": {},
   "outputs": [],
   "source": [
    "name = 'sihyeok'# <<<<<<--------이름 꼭 바꿔주세요------------------------------------<<<<<<<<<<<<<<\n",
    "date = '0221' # <<<<<<--------작업 일자로 바꿔주세요------------------------------------<<<<<<<<<<<<<<\n",
    "\n",
    "prefix = f'translated_{name}' # 지역\n",
    "num_rows = 5000\n",
    "data_save(dfs1,pipe,prefix,num_rows,0,directory)"
   ]
  },
  {
   "cell_type": "code",
<<<<<<< HEAD
   "execution_count": 15,
   "id": "bfd0eaa2",
=======
   "execution_count": 91,
   "id": "ed590320",
>>>>>>> b6c8dd010651492c90fd5e7fef25fee553046c11
   "metadata": {},
   "outputs": [
    {
     "data": {
      "text/plain": [
<<<<<<< HEAD
       "['/aiffel/aiffel/aiffelthon/dataset_en_ko_translated_sihyeok_100000_105000.csv',\n",
       " '/aiffel/aiffel/aiffelthon/dataset_en_ko_translated_sihyeok_85000_90000.csv',\n",
       " '/aiffel/aiffel/aiffelthon/dataset_en_ko_translated_sihyeok_10000_15000.csv',\n",
       " '/aiffel/aiffel/aiffelthon/dataset_en_ko_translated_sihyeok_70000_75000.csv',\n",
       " '/aiffel/aiffel/aiffelthon/dataset_en_ko_translated_sihyeok_140000_145000.csv',\n",
       " '/aiffel/aiffel/aiffelthon/dataset_en_ko_translated_sihyeok_30000_35000.csv',\n",
       " '/aiffel/aiffel/aiffelthon/dataset_en_ko_translated_sihyeok_60000_65000.csv',\n",
       " '/aiffel/aiffel/aiffelthon/dataset_en_ko_translated_sihyeok_0_5000.csv',\n",
       " '/aiffel/aiffel/aiffelthon/dataset_en_ko_translated_sihyeok_120000_125000.csv',\n",
       " '/aiffel/aiffel/aiffelthon/dataset_en_ko_translated_sihyeok_110000_115000.csv',\n",
       " '/aiffel/aiffel/aiffelthon/dataset_en_ko_translated_sihyeok_115000_120000.csv',\n",
       " '/aiffel/aiffel/aiffelthon/dataset_en_ko_translated_sihyeok_90000_95000.csv',\n",
       " '/aiffel/aiffel/aiffelthon/dataset_en_ko_translated_sihyeok_95000_100000.csv',\n",
       " '/aiffel/aiffel/aiffelthon/dataset_en_ko_translated_sihyeok_50000_55000.csv',\n",
       " '/aiffel/aiffel/aiffelthon/dataset_en_ko_translated_sihyeok_40000_45000.csv',\n",
       " '/aiffel/aiffel/aiffelthon/dataset_en_ko_translated_sihyeok_25000_30000.csv',\n",
       " '/aiffel/aiffel/aiffelthon/dataset_en_ko_translated_sihyeok_55000_60000.csv',\n",
       " '/aiffel/aiffel/aiffelthon/dataset_en_ko_translated_sihyeok_15000_20000.csv',\n",
       " '/aiffel/aiffel/aiffelthon/dataset_en_ko_translated_sihyeok_80000_85000.csv',\n",
       " '/aiffel/aiffel/aiffelthon/dataset_en_ko_translated_sihyeok_45000_50000.csv',\n",
       " '/aiffel/aiffel/aiffelthon/dataset_en_ko_translated_sihyeok_35000_40000.csv',\n",
       " '/aiffel/aiffel/aiffelthon/dataset_en_ko_translated_sihyeok_5000_10000.csv',\n",
       " '/aiffel/aiffel/aiffelthon/dataset_en_ko_translated_sihyeok_65000_70000.csv',\n",
       " '/aiffel/aiffel/aiffelthon/dataset_en_ko_translated_sihyeok_125000_130000.csv',\n",
       " '/aiffel/aiffel/aiffelthon/dataset_en_ko_translated_sihyeok_20000_25000.csv',\n",
       " '/aiffel/aiffel/aiffelthon/dataset_en_ko_translated_sihyeok_135000_140000.csv',\n",
       " '/aiffel/aiffel/aiffelthon/dataset_en_ko_translated_sihyeok_105000_110000.csv',\n",
       " '/aiffel/aiffel/aiffelthon/dataset_en_ko_translated_sihyeok_130000_135000.csv',\n",
       " '/aiffel/aiffel/aiffelthon/dataset_en_ko_translated_sihyeok_75000_80000.csv']"
      ]
     },
     "execution_count": 15,
=======
       "['/aiffel/aiffel/aiffelthon/dataset_en_ko_jd_30000_40000.csv',\n",
       " '/aiffel/aiffel/aiffelthon/dataset_en_ko_jd_80000_90000.csv',\n",
       " '/aiffel/aiffel/aiffelthon/dataset_en_ko_jd_20000_30000.csv',\n",
       " '/aiffel/aiffel/aiffelthon/dataset_en_ko_jd_0_10000.csv',\n",
       " '/aiffel/aiffel/aiffelthon/dataset_en_ko_jd_90000_100000.csv',\n",
       " '/aiffel/aiffel/aiffelthon/dataset_en_ko_jd_10000_20000.csv',\n",
       " '/aiffel/aiffel/aiffelthon/dataset_en_ko_jd_70000_80000.csv',\n",
       " '/aiffel/aiffel/aiffelthon/dataset_en_ko_jd_50000_60000.csv',\n",
       " '/aiffel/aiffel/aiffelthon/dataset_en_ko_jd_40000_50000.csv']"
      ]
     },
     "execution_count": 91,
>>>>>>> b6c8dd010651492c90fd5e7fef25fee553046c11
     "metadata": {},
     "output_type": "execute_result"
    }
   ],
   "source": [
    "import glob\n",
    "files = glob.glob(directory+f'*jd*.csv')\n",
    "files"
   ]
  },
  {
   "cell_type": "code",
<<<<<<< HEAD
   "execution_count": 17,
   "id": "90efa564",
   "metadata": {},
   "outputs": [
    {
     "ename": "TypeError",
     "evalue": "read_csv() got an unexpected keyword argument 'columns'",
     "output_type": "error",
     "traceback": [
      "\u001b[0;31m---------------------------------------------------------------------------\u001b[0m",
      "\u001b[0;31mTypeError\u001b[0m                                 Traceback (most recent call last)",
      "\u001b[0;32m/tmp/ipykernel_31/2645688145.py\u001b[0m in \u001b[0;36m<module>\u001b[0;34m\u001b[0m\n\u001b[1;32m      2\u001b[0m \u001b[0mdf_final\u001b[0m \u001b[0;34m=\u001b[0m \u001b[0mpd\u001b[0m\u001b[0;34m.\u001b[0m\u001b[0mDataFrame\u001b[0m\u001b[0;34m(\u001b[0m\u001b[0mcolumns\u001b[0m\u001b[0;34m=\u001b[0m\u001b[0;34m[\u001b[0m\u001b[0;34m'text'\u001b[0m\u001b[0;34m,\u001b[0m \u001b[0;34m'dial'\u001b[0m\u001b[0;34m,\u001b[0m \u001b[0;34m'reg'\u001b[0m\u001b[0;34m,\u001b[0m \u001b[0;34m'pair'\u001b[0m\u001b[0;34m,\u001b[0m\u001b[0;34m'eng'\u001b[0m\u001b[0;34m]\u001b[0m\u001b[0;34m)\u001b[0m\u001b[0;34m\u001b[0m\u001b[0;34m\u001b[0m\u001b[0m\n\u001b[1;32m      3\u001b[0m \u001b[0;32mfor\u001b[0m \u001b[0mi\u001b[0m \u001b[0;32min\u001b[0m \u001b[0mfiles\u001b[0m \u001b[0;34m:\u001b[0m\u001b[0;34m\u001b[0m\u001b[0;34m\u001b[0m\u001b[0m\n\u001b[0;32m----> 4\u001b[0;31m     \u001b[0mdf_new\u001b[0m \u001b[0;34m=\u001b[0m \u001b[0mpd\u001b[0m\u001b[0;34m.\u001b[0m\u001b[0mread_csv\u001b[0m\u001b[0;34m(\u001b[0m\u001b[0mi\u001b[0m\u001b[0;34m,\u001b[0m \u001b[0mcolumns\u001b[0m \u001b[0;34m=\u001b[0m\u001b[0;34m[\u001b[0m\u001b[0;34m'text'\u001b[0m\u001b[0;34m,\u001b[0m \u001b[0;34m'dial'\u001b[0m\u001b[0;34m,\u001b[0m \u001b[0;34m'reg'\u001b[0m\u001b[0;34m,\u001b[0m \u001b[0;34m'pair'\u001b[0m\u001b[0;34m,\u001b[0m \u001b[0;34m'eng'\u001b[0m\u001b[0;34m]\u001b[0m\u001b[0;34m)\u001b[0m\u001b[0;34m\u001b[0m\u001b[0;34m\u001b[0m\u001b[0m\n\u001b[0m\u001b[1;32m      5\u001b[0m     \u001b[0mdf_final\u001b[0m \u001b[0;34m=\u001b[0m \u001b[0mdf_final\u001b[0m\u001b[0;34m.\u001b[0m\u001b[0mmerge\u001b[0m\u001b[0;34m(\u001b[0m\u001b[0mdf_new\u001b[0m\u001b[0;34m,\u001b[0m \u001b[0mhow\u001b[0m\u001b[0;34m=\u001b[0m\u001b[0;34m'outer'\u001b[0m\u001b[0;34m)\u001b[0m\u001b[0;34m\u001b[0m\u001b[0;34m\u001b[0m\u001b[0m\n\u001b[1;32m      6\u001b[0m \u001b[0mdf_final\u001b[0m\u001b[0;34m.\u001b[0m\u001b[0mhead\u001b[0m\u001b[0;34m(\u001b[0m\u001b[0;34m)\u001b[0m\u001b[0;34m\u001b[0m\u001b[0;34m\u001b[0m\u001b[0m\n",
      "\u001b[0;32m/opt/conda/lib/python3.9/site-packages/pandas/util/_decorators.py\u001b[0m in \u001b[0;36mwrapper\u001b[0;34m(*args, **kwargs)\u001b[0m\n\u001b[1;32m    309\u001b[0m                     \u001b[0mstacklevel\u001b[0m\u001b[0;34m=\u001b[0m\u001b[0mstacklevel\u001b[0m\u001b[0;34m,\u001b[0m\u001b[0;34m\u001b[0m\u001b[0;34m\u001b[0m\u001b[0m\n\u001b[1;32m    310\u001b[0m                 )\n\u001b[0;32m--> 311\u001b[0;31m             \u001b[0;32mreturn\u001b[0m \u001b[0mfunc\u001b[0m\u001b[0;34m(\u001b[0m\u001b[0;34m*\u001b[0m\u001b[0margs\u001b[0m\u001b[0;34m,\u001b[0m \u001b[0;34m**\u001b[0m\u001b[0mkwargs\u001b[0m\u001b[0;34m)\u001b[0m\u001b[0;34m\u001b[0m\u001b[0;34m\u001b[0m\u001b[0m\n\u001b[0m\u001b[1;32m    312\u001b[0m \u001b[0;34m\u001b[0m\u001b[0m\n\u001b[1;32m    313\u001b[0m         \u001b[0;32mreturn\u001b[0m \u001b[0mwrapper\u001b[0m\u001b[0;34m\u001b[0m\u001b[0;34m\u001b[0m\u001b[0m\n",
      "\u001b[0;31mTypeError\u001b[0m: read_csv() got an unexpected keyword argument 'columns'"
=======
   "execution_count": 94,
   "id": "9b065e71",
   "metadata": {},
   "outputs": [
    {
     "name": "stdout",
     "output_type": "stream",
     "text": [
      "<class 'pandas.core.frame.DataFrame'>\n",
      "Int64Index: 100002 entries, 0 to 100001\n",
      "Data columns (total 5 columns):\n",
      " #   Column  Non-Null Count   Dtype \n",
      "---  ------  --------------   ----- \n",
      " 0   text    100002 non-null  object\n",
      " 1   dial    100002 non-null  object\n",
      " 2   reg     100002 non-null  object\n",
      " 3   pair    100002 non-null  object\n",
      " 4   eng     100002 non-null  object\n",
      "dtypes: object(5)\n",
      "memory usage: 4.6+ MB\n"
>>>>>>> b6c8dd010651492c90fd5e7fef25fee553046c11
     ]
    }
   ],
   "source": [
    "# data merge하기\n",
    "df_final = pd.DataFrame(columns=['text', 'dial', 'reg', 'pair','eng'])\n",
    "for i in files :\n",
<<<<<<< HEAD
    "    df_new = pd.read_csv(i, columns =['text', 'dial', 'reg', 'pair', 'eng'])\n",
=======
    "    df_new = pd.read_csv(i, usecols =['text', 'dial', 'reg', 'pair','eng'])\n",
>>>>>>> b6c8dd010651492c90fd5e7fef25fee553046c11
    "    df_final = df_final.merge(df_new, how='outer')\n",
    "df_final.head()\n",
    "df_final.info()"
   ]
  },
  {
   "cell_type": "markdown",
<<<<<<< HEAD
   "id": "f402f4bb",
=======
   "id": "ce5969fc",
>>>>>>> b6c8dd010651492c90fd5e7fef25fee553046c11
   "metadata": {},
   "source": [
    "# 통합 파일 'added' 경로의 저장하기"
   ]
  },
  {
   "cell_type": "code",
   "execution_count": 61,
<<<<<<< HEAD
   "id": "9e0f3959",
=======
   "id": "2576f4c6",
>>>>>>> b6c8dd010651492c90fd5e7fef25fee553046c11
   "metadata": {},
   "outputs": [],
   "source": [
    "import shutil"
   ]
  },
  {
   "cell_type": "code",
<<<<<<< HEAD
   "execution_count": 27,
   "id": "19c23db4",
=======
   "execution_count": 95,
   "id": "cd3a5288",
>>>>>>> b6c8dd010651492c90fd5e7fef25fee553046c11
   "metadata": {},
   "outputs": [],
   "source": [
    "df_final.to_csv(directory + f'dataset_full_ko_en_added_{date}_{name}.csv' , index=False)\n",
    "\n",
    "src= directory\n",
    "dest = directory + 'added/'\n",
    "\n",
    "os.makedirs(dest,exist_ok=True)\n",
    "\n",
    "new_file = [i[26:] for i in glob.glob(directory+'*added*.csv')]\n",
    "for i in new_file :\n",
    "    shutil.move(src + i, dest + i)"
   ]
  },
  {
   "cell_type": "code",
<<<<<<< HEAD
   "execution_count": 60,
   "id": "b78e3ede",
=======
   "execution_count": 96,
   "id": "d23c34d5",
>>>>>>> b6c8dd010651492c90fd5e7fef25fee553046c11
   "metadata": {},
   "outputs": [],
   "source": [
    "# 통합 전 파일 별도 저장\n",
    "\n",
    "old_files = [i[26:] for i in glob.glob(directory+'*translated*.csv')]\n",
    "\n",
    "dest = diretory + 'past_files/'\n",
    "\n",
    "os.makedirs(dest,exist_ok=True)\n",
    "\n",
    "for i in old_files :\n",
    "    shutil.move(src + i, dest + i)"
   ]
  }
 ],
 "metadata": {
  "kernelspec": {
   "display_name": "Python 3 (ipykernel)",
   "language": "python",
   "name": "python3"
  },
  "language_info": {
   "codemirror_mode": {
    "name": "ipython",
    "version": 3
   },
   "file_extension": ".py",
   "mimetype": "text/x-python",
   "name": "python",
   "nbconvert_exporter": "python",
   "pygments_lexer": "ipython3",
   "version": "3.9.7"
  }
 },
 "nbformat": 4,
 "nbformat_minor": 5
}
