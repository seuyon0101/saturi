{
 "cells": [
  {
   "cell_type": "code",
   "execution_count": 5,
   "id": "def49c8d",
   "metadata": {},
   "outputs": [],
   "source": [
    "import pandas as pd\n",
    "import sentencepiece as spm\n",
    "import numpy as np\n",
    "import os\n",
    "from konlpy.tag import Mecab"
   ]
  },
  {
   "cell_type": "code",
   "execution_count": 6,
   "id": "1f006cc1",
   "metadata": {},
   "outputs": [],
   "source": [
    "mecab = Mecab()"
   ]
  },
  {
   "cell_type": "code",
   "execution_count": 9,
   "id": "6111e9a5",
   "metadata": {},
   "outputs": [],
   "source": [
    "dir_path = os.getenv(\"HOME\") +'/aiffel/DATA'"
   ]
  },
  {
   "cell_type": "code",
   "execution_count": 11,
   "id": "5394d0b3",
   "metadata": {},
   "outputs": [],
   "source": [
    "df_train=pd.read_csv(dir_path + '/train_v_final_0317.csv')\n",
    "df_test=pd.read_csv(dir_path + '/test_v_final_0317.csv')"
   ]
  },
  {
   "cell_type": "code",
   "execution_count": 12,
   "id": "9967d622",
   "metadata": {},
   "outputs": [
    {
     "name": "stderr",
     "output_type": "stream",
     "text": [
      "100%|███████████████████████████████| 1340262/1340262 [02:19<00:00, 9576.75it/s]\n"
     ]
    }
   ],
   "source": [
    "import tqdm\n",
    "m_dial = []\n",
    "dial_text = df_train.dial.values\n",
    "for i in tqdm.tqdm(dial_text) :\n",
    "    temp_ = mecab.morphs(i)\n",
    "    m_dial.append(' '.join(temp_))"
   ]
  },
  {
   "cell_type": "code",
   "execution_count": 13,
   "id": "3df635f6",
   "metadata": {},
   "outputs": [],
   "source": [
    "def generate_tokenizer(corpus, vocab_size, lang=\"en\", pad_id=0, bos_id=1, eos_id=2, unk_id=3):\n",
    "\n",
    "    temp_file = os.getenv('HOME') + f'/aiffel/DATA/corpus_{lang}.txt'     # corpus를 받아 txt파일로 저장\n",
    "    \n",
    "    with open(temp_file, 'w') as f:\n",
    "        for row in corpus:\n",
    "            f.write(str(row) + '\\n')\n",
    "    \n",
    "    # Sentencepiece를 이용해 \n",
    "    spm.SentencePieceTrainer.Train(\n",
    "        f'--input={temp_file} --pad_id={pad_id} --bos_id={bos_id} --eos_id={eos_id} \\\n",
    "        --unk_id={unk_id} --model_prefix=spm_{lang} --vocab_size={vocab_size} --model_type=bpe \\\n",
    "        --user_defined_symbols=<jj>,<jd>,<gs>,<cc>,<kw>'   # model_r1\n",
    "    )\n",
    "    tokenizer = spm.SentencePieceProcessor()\n",
    "    tokenizer.Load(f'spm_{lang}.model') # model_r1\n",
    "\n",
    "    return tokenizer"
   ]
  },
  {
   "cell_type": "code",
   "execution_count": 14,
   "id": "4b05bed9",
   "metadata": {},
   "outputs": [
    {
     "name": "stderr",
     "output_type": "stream",
     "text": [
      "sentencepiece_trainer.cc(177) LOG(INFO) Running command: --input=/home/seuyon0101/aiffel/DATA/corpus_dec_custom_msp8009.txt --pad_id=0 --bos_id=1 --eos_id=2         --unk_id=3 --model_prefix=spm_dec_custom_msp8009 --vocab_size=8009 --model_type=bpe         --user_defined_symbols=<jj>,<jd>,<gs>,<cc>,<kw>\n",
      "sentencepiece_trainer.cc(77) LOG(INFO) Starts training with : \n",
      "trainer_spec {\n",
      "  input: /home/seuyon0101/aiffel/DATA/corpus_dec_custom_msp8009.txt\n",
      "  input_format: \n",
      "  model_prefix: spm_dec_custom_msp8009\n",
      "  model_type: BPE\n",
      "  vocab_size: 8009\n",
      "  self_test_sample_size: 0\n",
      "  character_coverage: 0.9995\n",
      "  input_sentence_size: 0\n",
      "  shuffle_input_sentence: 1\n",
      "  seed_sentencepiece_size: 1000000\n",
      "  shrinking_factor: 0.75\n",
      "  max_sentence_length: 4192\n",
      "  num_threads: 16\n",
      "  num_sub_iterations: 2\n",
      "  max_sentencepiece_length: 16\n",
      "  split_by_unicode_script: 1\n",
      "  split_by_number: 1\n",
      "  split_by_whitespace: 1\n",
      "  split_digits: 0\n",
      "  treat_whitespace_as_suffix: 0\n",
      "  allow_whitespace_only_pieces: 0\n",
      "  user_defined_symbols: <jj>\n",
      "  user_defined_symbols: <jd>\n",
      "  user_defined_symbols: <gs>\n",
      "  user_defined_symbols: <cc>\n",
      "  user_defined_symbols: <kw>\n",
      "  required_chars: \n",
      "  byte_fallback: 0\n",
      "  vocabulary_output_piece_score: 1\n",
      "  train_extremely_large_corpus: 0\n",
      "  hard_vocab_limit: 1\n",
      "  use_all_vocab: 0\n",
      "  unk_id: 3\n",
      "  bos_id: 1\n",
      "  eos_id: 2\n",
      "  pad_id: 0\n",
      "  unk_piece: <unk>\n",
      "  bos_piece: <s>\n",
      "  eos_piece: </s>\n",
      "  pad_piece: <pad>\n",
      "  unk_surface:  ⁇ \n",
      "  enable_differential_privacy: 0\n",
      "  differential_privacy_noise_level: 0\n",
      "  differential_privacy_clipping_threshold: 0\n",
      "}\n",
      "normalizer_spec {\n",
      "  name: nmt_nfkc\n",
      "  add_dummy_prefix: 1\n",
      "  remove_extra_whitespaces: 1\n",
      "  escape_whitespaces: 1\n",
      "  normalization_rule_tsv: \n",
      "}\n",
      "denormalizer_spec {}\n",
      "trainer_interface.cc(350) LOG(INFO) SentenceIterator is not specified. Using MultiFileSentenceIterator.\n",
      "trainer_interface.cc(181) LOG(INFO) Loading corpus: /home/seuyon0101/aiffel/DATA/corpus_dec_custom_msp8009.txt\n",
      "trainer_interface.cc(143) LOG(INFO) Loaded 1000000 lines\n",
      "trainer_interface.cc(120) LOG(WARNING) Too many sentences are loaded! (1340262), which may slow down training.\n",
      "trainer_interface.cc(122) LOG(WARNING) Consider using --input_sentence_size=<size> and --shuffle_input_sentence=true.\n",
      "trainer_interface.cc(125) LOG(WARNING) They allow to randomly sample <size> sentences from the entire corpus.\n",
      "trainer_interface.cc(406) LOG(INFO) Loaded all 1340262 sentences\n",
      "trainer_interface.cc(422) LOG(INFO) Adding meta_piece: <pad>\n",
      "trainer_interface.cc(422) LOG(INFO) Adding meta_piece: <s>\n",
      "trainer_interface.cc(422) LOG(INFO) Adding meta_piece: </s>\n",
      "trainer_interface.cc(422) LOG(INFO) Adding meta_piece: <unk>\n",
      "trainer_interface.cc(422) LOG(INFO) Adding meta_piece: <jj>\n",
      "trainer_interface.cc(422) LOG(INFO) Adding meta_piece: <jd>\n",
      "trainer_interface.cc(422) LOG(INFO) Adding meta_piece: <gs>\n",
      "trainer_interface.cc(422) LOG(INFO) Adding meta_piece: <cc>\n",
      "trainer_interface.cc(422) LOG(INFO) Adding meta_piece: <kw>\n",
      "trainer_interface.cc(427) LOG(INFO) Normalizing sentences...\n",
      "trainer_interface.cc(536) LOG(INFO) all chars count=101618193\n",
      "trainer_interface.cc(547) LOG(INFO) Done: 99.9501% characters are covered.\n",
      "trainer_interface.cc(557) LOG(INFO) Alphabet size=1539\n",
      "trainer_interface.cc(558) LOG(INFO) Final character coverage=0.999501\n",
      "trainer_interface.cc(590) LOG(INFO) Done! preprocessed 1340262 sentences.\n",
      "trainer_interface.cc(596) LOG(INFO) Tokenizing input sentences with whitespace: 1340262\n",
      "trainer_interface.cc(607) LOG(INFO) Done! 136054\n",
      "bpe_model_trainer.cc(167) LOG(INFO) Updating active symbols. max_freq=1749594 min_freq=1039\n",
      "bpe_model_trainer.cc(258) LOG(INFO) Added: freq=407329 size=20 all=84780 active=7941 piece=▁도\n",
      "bpe_model_trainer.cc(258) LOG(INFO) Added: freq=218276 size=40 all=88524 active=11685 piece=▁니\n",
      "bpe_model_trainer.cc(258) LOG(INFO) Added: freq=145810 size=60 all=91795 active=14956 piece=▁좋\n",
      "bpe_model_trainer.cc(258) LOG(INFO) Added: freq=113842 size=80 all=94131 active=17292 piece=▁긍\n",
      "bpe_model_trainer.cc(258) LOG(INFO) Added: freq=92176 size=100 all=95497 active=18658 piece=▁인자\n",
      "bpe_model_trainer.cc(167) LOG(INFO) Updating active symbols. max_freq=92080 min_freq=813\n",
      "bpe_model_trainer.cc(258) LOG(INFO) Added: freq=74911 size=120 all=96925 active=6197 piece=▁께\n",
      "bpe_model_trainer.cc(258) LOG(INFO) Added: freq=62922 size=140 all=99060 active=8332 piece=▁싶\n",
      "bpe_model_trainer.cc(258) LOG(INFO) Added: freq=55570 size=160 all=100916 active=10188 piece=▁헌\n",
      "bpe_model_trainer.cc(258) LOG(INFO) Added: freq=48371 size=180 all=102516 active=11788 piece=▁싸\n",
      "bpe_model_trainer.cc(258) LOG(INFO) Added: freq=44150 size=200 all=104751 active=14023 piece=▁받\n",
      "bpe_model_trainer.cc(167) LOG(INFO) Updating active symbols. max_freq=44133 min_freq=693\n",
      "bpe_model_trainer.cc(258) LOG(INFO) Added: freq=39336 size=220 all=106372 active=6815 piece=▁묵\n",
      "bpe_model_trainer.cc(258) LOG(INFO) Added: freq=36429 size=240 all=107271 active=7714 piece=▁운\n",
      "bpe_model_trainer.cc(258) LOG(INFO) Added: freq=33133 size=260 all=108425 active=8868 piece=▁긍께\n",
      "bpe_model_trainer.cc(258) LOG(INFO) Added: freq=30188 size=280 all=109822 active=10265 piece=▁레\n",
      "bpe_model_trainer.cc(258) LOG(INFO) Added: freq=27847 size=300 all=110818 active=11261 piece=가꼬\n",
      "bpe_model_trainer.cc(167) LOG(INFO) Updating active symbols. max_freq=27845 min_freq=626\n",
      "bpe_model_trainer.cc(258) LOG(INFO) Added: freq=26686 size=320 all=112110 active=6790 piece=▁래\n",
      "bpe_model_trainer.cc(258) LOG(INFO) Added: freq=25201 size=340 all=113098 active=7778 piece=▁너머\n",
      "bpe_model_trainer.cc(258) LOG(INFO) Added: freq=23639 size=360 all=114103 active=8783 piece=▁발\n",
      "bpe_model_trainer.cc(258) LOG(INFO) Added: freq=21143 size=380 all=115018 active=9698 piece=▁아요\n",
      "bpe_model_trainer.cc(258) LOG(INFO) Added: freq=19430 size=400 all=115767 active=10447 piece=▁열\n",
      "bpe_model_trainer.cc(167) LOG(INFO) Updating active symbols. max_freq=19429 min_freq=582\n",
      "bpe_model_trainer.cc(258) LOG(INFO) Added: freq=18421 size=420 all=116301 active=6220 piece=▁드라구\n",
      "bpe_model_trainer.cc(258) LOG(INFO) Added: freq=17505 size=440 all=117112 active=7031 piece=▁어뜨\n",
      "bpe_model_trainer.cc(258) LOG(INFO) Added: freq=16826 size=460 all=117690 active=7609 piece=▁어뜨케\n",
      "bpe_model_trainer.cc(258) LOG(INFO) Added: freq=15937 size=480 all=118325 active=8244 piece=▁이케잉\n",
      "bpe_model_trainer.cc(258) LOG(INFO) Added: freq=15118 size=500 all=119085 active=9004 piece=▁더라\n",
      "bpe_model_trainer.cc(167) LOG(INFO) Updating active symbols. max_freq=15069 min_freq=548\n",
      "bpe_model_trainer.cc(258) LOG(INFO) Added: freq=14187 size=520 all=119678 active=6537 piece=▁오라\n",
      "bpe_model_trainer.cc(258) LOG(INFO) Added: freq=13500 size=540 all=120340 active=7199 piece=▁어뜬\n",
      "bpe_model_trainer.cc(258) LOG(INFO) Added: freq=12795 size=560 all=120740 active=7599 piece=▁여행\n",
      "bpe_model_trainer.cc(258) LOG(INFO) Added: freq=12322 size=580 all=121372 active=8231 piece=▁논\n",
      "bpe_model_trainer.cc(258) LOG(INFO) Added: freq=11964 size=600 all=121914 active=8773 piece=▁했었\n",
      "bpe_model_trainer.cc(167) LOG(INFO) Updating active symbols. max_freq=11961 min_freq=521\n",
      "bpe_model_trainer.cc(258) LOG(INFO) Added: freq=11642 size=620 all=122570 active=6740 piece=▁청\n",
      "bpe_model_trainer.cc(258) LOG(INFO) Added: freq=11365 size=640 all=123087 active=7257 piece=▁자녀\n",
      "bpe_model_trainer.cc(258) LOG(INFO) Added: freq=11038 size=660 all=124076 active=8246 piece=▁튼\n",
      "bpe_model_trainer.cc(258) LOG(INFO) Added: freq=10617 size=680 all=124681 active=8851 piece=▁그리구\n",
      "bpe_model_trainer.cc(258) LOG(INFO) Added: freq=10286 size=700 all=125313 active=9483 piece=▁웜\n",
      "bpe_model_trainer.cc(167) LOG(INFO) Updating active symbols. max_freq=10262 min_freq=494\n",
      "bpe_model_trainer.cc(258) LOG(INFO) Added: freq=10012 size=720 all=125988 active=6939 piece=▁그믄\n",
      "bpe_model_trainer.cc(258) LOG(INFO) Added: freq=9593 size=740 all=126370 active=7321 piece=▁붙\n",
      "bpe_model_trainer.cc(258) LOG(INFO) Added: freq=9052 size=760 all=126704 active=7655 piece=▁매치\n",
      "bpe_model_trainer.cc(258) LOG(INFO) Added: freq=8753 size=780 all=127545 active=8496 piece=▁허여\n",
      "bpe_model_trainer.cc(258) LOG(INFO) Added: freq=8420 size=800 all=127997 active=8948 piece=▁여름\n",
      "bpe_model_trainer.cc(167) LOG(INFO) Updating active symbols. max_freq=8418 min_freq=470\n",
      "bpe_model_trainer.cc(258) LOG(INFO) Added: freq=8126 size=820 all=128253 active=6645 piece=▁가주구\n",
      "bpe_model_trainer.cc(258) LOG(INFO) Added: freq=7846 size=840 all=128831 active=7223 piece=▁마시\n",
      "bpe_model_trainer.cc(258) LOG(INFO) Added: freq=7620 size=860 all=129245 active=7637 piece=▁이렇\n",
      "bpe_model_trainer.cc(258) LOG(INFO) Added: freq=7353 size=880 all=129914 active=8306 piece=▁거디\n",
      "bpe_model_trainer.cc(258) LOG(INFO) Added: freq=7114 size=900 all=130301 active=8693 piece=▁이서\n",
      "bpe_model_trainer.cc(167) LOG(INFO) Updating active symbols. max_freq=7108 min_freq=448\n",
      "bpe_model_trainer.cc(258) LOG(INFO) Added: freq=6941 size=920 all=131013 active=7209 piece=▁다음\n",
      "bpe_model_trainer.cc(258) LOG(INFO) Added: freq=6760 size=940 all=131292 active=7488 piece=▁시키\n",
      "bpe_model_trainer.cc(258) LOG(INFO) Added: freq=6578 size=960 all=131880 active=8076 piece=으믄\n",
      "bpe_model_trainer.cc(258) LOG(INFO) Added: freq=6461 size=980 all=132340 active=8536 piece=▁표\n",
      "bpe_model_trainer.cc(258) LOG(INFO) Added: freq=6312 size=1000 all=132732 active=8928 piece=▁운전\n",
      "bpe_model_trainer.cc(167) LOG(INFO) Updating active symbols. max_freq=6298 min_freq=428\n",
      "bpe_model_trainer.cc(258) LOG(INFO) Added: freq=6111 size=1020 all=133383 active=7272 piece=▁생기\n",
      "bpe_model_trainer.cc(258) LOG(INFO) Added: freq=6009 size=1040 all=134002 active=7891 piece=다구\n",
      "bpe_model_trainer.cc(258) LOG(INFO) Added: freq=5850 size=1060 all=134662 active=8551 piece=▁짤\n",
      "bpe_model_trainer.cc(258) LOG(INFO) Added: freq=5726 size=1080 all=134943 active=8832 piece=▁서울\n",
      "bpe_model_trainer.cc(258) LOG(INFO) Added: freq=5579 size=1100 all=135419 active=9308 piece=▁벼\n",
      "bpe_model_trainer.cc(167) LOG(INFO) Updating active symbols. max_freq=5578 min_freq=410\n",
      "bpe_model_trainer.cc(258) LOG(INFO) Added: freq=5410 size=1120 all=135653 active=6992 piece=▁넘어\n",
      "bpe_model_trainer.cc(258) LOG(INFO) Added: freq=5244 size=1140 all=135989 active=7328 piece=▁들어오\n",
      "bpe_model_trainer.cc(258) LOG(INFO) Added: freq=5137 size=1160 all=136337 active=7676 piece=려구\n",
      "bpe_model_trainer.cc(258) LOG(INFO) Added: freq=5017 size=1180 all=136665 active=8004 piece=▁아라\n",
      "bpe_model_trainer.cc(258) LOG(INFO) Added: freq=4914 size=1200 all=137017 active=8356 piece=▁솔찬히\n",
      "bpe_model_trainer.cc(167) LOG(INFO) Updating active symbols. max_freq=4912 min_freq=395\n",
      "bpe_model_trainer.cc(258) LOG(INFO) Added: freq=4780 size=1220 all=137257 active=7091 piece=▁슨\n",
      "bpe_model_trainer.cc(258) LOG(INFO) Added: freq=4700 size=1240 all=137634 active=7468 piece=▁아침\n",
      "bpe_model_trainer.cc(258) LOG(INFO) Added: freq=4610 size=1260 all=137798 active=7632 piece=▁불편\n",
      "bpe_model_trainer.cc(258) LOG(INFO) Added: freq=4484 size=1280 all=137992 active=7826 piece=▁사나\n",
      "bpe_model_trainer.cc(258) LOG(INFO) Added: freq=4414 size=1300 all=138283 active=8117 piece=▁업\n",
      "bpe_model_trainer.cc(167) LOG(INFO) Updating active symbols. max_freq=4411 min_freq=383\n",
      "bpe_model_trainer.cc(258) LOG(INFO) Added: freq=4341 size=1320 all=138652 active=7245 piece=▁크다\n",
      "bpe_model_trainer.cc(258) LOG(INFO) Added: freq=4275 size=1340 all=139095 active=7688 piece=▁창\n",
      "bpe_model_trainer.cc(258) LOG(INFO) Added: freq=4201 size=1360 all=139514 active=8107 piece=▁이란\n",
      "bpe_model_trainer.cc(258) LOG(INFO) Added: freq=4133 size=1380 all=139702 active=8295 piece=▁맴\n",
      "bpe_model_trainer.cc(258) LOG(INFO) Added: freq=4046 size=1400 all=140056 active=8649 piece=▁래요\n",
      "bpe_model_trainer.cc(167) LOG(INFO) Updating active symbols. max_freq=4044 min_freq=370\n",
      "bpe_model_trainer.cc(258) LOG(INFO) Added: freq=3946 size=1420 all=140441 active=7388 piece=▁곤\n",
      "bpe_model_trainer.cc(258) LOG(INFO) Added: freq=3891 size=1440 all=140786 active=7733 piece=▁야가\n",
      "bpe_model_trainer.cc(258) LOG(INFO) Added: freq=3831 size=1460 all=141025 active=7972 piece=뎅이\n",
      "bpe_model_trainer.cc(258) LOG(INFO) Added: freq=3761 size=1480 all=141363 active=8310 piece=▁사회\n",
      "bpe_model_trainer.cc(258) LOG(INFO) Added: freq=3691 size=1500 all=141554 ac"
     ]
    }
   ],
   "source": [
    "# enc_tokenizer = generate_tokenizer(df_train.eng.values, 8009, lang ='enc_8009')\n",
    "dec_tokenizer = generate_tokenizer(m_dial, 8009, lang ='dec_custom_msp8009')"
   ]
  },
  {
   "cell_type": "code",
   "execution_count": 15,
   "id": "17a52342",
   "metadata": {},
   "outputs": [
    {
     "data": {
      "text/plain": [
       "True"
      ]
     },
     "execution_count": 15,
     "metadata": {},
     "output_type": "execute_result"
    }
   ],
   "source": [
    "# dir_path = os.getenv(\"HOME\") + '/aiffel/saturi/notebook/Model/'\n",
    "\n",
    "enc_tokenizer = spm.SentencePieceProcessor()\n",
    "enc_tokenizer.Load('spm_enc_8009.model')\n",
    "\n",
    "# dec_tokenizer = spm.SentencePieceProcessor()\n",
    "# dec_tokenizer.Load('spm_dec_8009.model')\n",
    "\n",
    "# # dec_tokenizer_msp = spm.SentencePieceProcessor()\n",
    "# # dec_tokenizer_msp.Load('spm_dec_mecab_4009.model')\n",
    "\n",
    "dec_tokenizer.set_encode_extra_options(\"bos:eos\")"
   ]
  },
  {
   "cell_type": "code",
   "execution_count": 16,
   "id": "8dc84523",
   "metadata": {},
   "outputs": [],
   "source": [
    "df_train['eng'] = '<'+df_train['reg']+'> ' + df_train['eng']\n",
    "df_test['eng'] = '<'+df_test['reg']+'> ' + df_test['eng']"
   ]
  },
  {
   "cell_type": "code",
   "execution_count": 17,
   "id": "203d2ace",
   "metadata": {},
   "outputs": [
    {
     "data": {
      "text/html": [
       "<div>\n",
       "<style scoped>\n",
       "    .dataframe tbody tr th:only-of-type {\n",
       "        vertical-align: middle;\n",
       "    }\n",
       "\n",
       "    .dataframe tbody tr th {\n",
       "        vertical-align: top;\n",
       "    }\n",
       "\n",
       "    .dataframe thead th {\n",
       "        text-align: right;\n",
       "    }\n",
       "</style>\n",
       "<table border=\"1\" class=\"dataframe\">\n",
       "  <thead>\n",
       "    <tr style=\"text-align: right;\">\n",
       "      <th></th>\n",
       "      <th>reg</th>\n",
       "      <th>topic</th>\n",
       "      <th>eng</th>\n",
       "      <th>dial</th>\n",
       "      <th>tok_len</th>\n",
       "      <th>tok_cat</th>\n",
       "    </tr>\n",
       "  </thead>\n",
       "  <tbody>\n",
       "    <tr>\n",
       "      <th>0</th>\n",
       "      <td>jd</td>\n",
       "      <td>역사</td>\n",
       "      <td>&lt;jd&gt; I've changed my mind a little bit.</td>\n",
       "      <td>생각이 쪼금씩 바뀌드라고</td>\n",
       "      <td>10</td>\n",
       "      <td>1</td>\n",
       "    </tr>\n",
       "    <tr>\n",
       "      <th>1</th>\n",
       "      <td>jd</td>\n",
       "      <td>가족</td>\n",
       "      <td>&lt;jd&gt; You know what? Foreigners still get used ...</td>\n",
       "      <td>웜마 알겄는가 애국인들이 그또 달 적응하고</td>\n",
       "      <td>17</td>\n",
       "      <td>1</td>\n",
       "    </tr>\n",
       "    <tr>\n",
       "      <th>2</th>\n",
       "      <td>jd</td>\n",
       "      <td>건강</td>\n",
       "      <td>&lt;jd&gt; All of a sudden, I think I've ripped off ...</td>\n",
       "      <td>아으 갑자기 에전에 맹장 뜯은 게잉 생각난디야.</td>\n",
       "      <td>22</td>\n",
       "      <td>1</td>\n",
       "    </tr>\n",
       "    <tr>\n",
       "      <th>3</th>\n",
       "      <td>jd</td>\n",
       "      <td>스타일</td>\n",
       "      <td>&lt;jd&gt; I have a lot of ideas about getting older...</td>\n",
       "      <td>보먼은 좀 품위 있게 나이 들어가야 되겠단 싱각을 참 마이 해요잉.</td>\n",
       "      <td>18</td>\n",
       "      <td>1</td>\n",
       "    </tr>\n",
       "    <tr>\n",
       "      <th>4</th>\n",
       "      <td>jd</td>\n",
       "      <td>먹거리</td>\n",
       "      <td>&lt;jd&gt; It's a little bit of a tastey, but still...</td>\n",
       "      <td>약깐 좀 약깐 맛이가 쪼까 머시기 카긴 한디 그또</td>\n",
       "      <td>18</td>\n",
       "      <td>1</td>\n",
       "    </tr>\n",
       "  </tbody>\n",
       "</table>\n",
       "</div>"
      ],
      "text/plain": [
       "  reg topic                                                eng  \\\n",
       "0  jd    역사            <jd> I've changed my mind a little bit.   \n",
       "1  jd    가족  <jd> You know what? Foreigners still get used ...   \n",
       "2  jd    건강  <jd> All of a sudden, I think I've ripped off ...   \n",
       "3  jd   스타일  <jd> I have a lot of ideas about getting older...   \n",
       "4  jd   먹거리   <jd> It's a little bit of a tastey, but still...   \n",
       "\n",
       "                                     dial  tok_len  tok_cat  \n",
       "0                          생각이 쪼금씩 바뀌드라고        10        1  \n",
       "1                웜마 알겄는가 애국인들이 그또 달 적응하고        17        1  \n",
       "2             아으 갑자기 에전에 맹장 뜯은 게잉 생각난디야.        22        1  \n",
       "3  보먼은 좀 품위 있게 나이 들어가야 되겠단 싱각을 참 마이 해요잉.        18        1  \n",
       "4            약깐 좀 약깐 맛이가 쪼까 머시기 카긴 한디 그또        18        1  "
      ]
     },
     "execution_count": 17,
     "metadata": {},
     "output_type": "execute_result"
    }
   ],
   "source": [
    "df_train.head()"
   ]
  },
  {
   "cell_type": "markdown",
   "id": "2d28ebe7",
   "metadata": {},
   "source": [
    " 0.   toks_en     \n",
    " 1.   toks_dec    \n",
    " 2.   source_txt  \n",
    " 3.   target_txt  \n",
    " 4.   topic       \n",
    " 5.   reg         "
   ]
  },
  {
   "cell_type": "code",
   "execution_count": 18,
   "id": "30de9f44",
   "metadata": {},
   "outputs": [
    {
     "data": {
      "text/plain": [
       "'생각이 쪼금씩 바뀌드라고 '"
      ]
     },
     "execution_count": 18,
     "metadata": {},
     "output_type": "execute_result"
    }
   ],
   "source": [
    "df_train.dial.values[0]"
   ]
  },
  {
   "cell_type": "code",
   "execution_count": 19,
   "id": "f1bc28b8",
   "metadata": {},
   "outputs": [
    {
     "data": {
      "text/plain": [
       "['<s>', '▁생각', '이', '▁쪼금', '씩', '▁바뀌', '드라고', '</s>']"
      ]
     },
     "execution_count": 19,
     "metadata": {},
     "output_type": "execute_result"
    }
   ],
   "source": [
    "# spm\n",
    "dec_tokenizer.encode_as_pieces(df_train.dial.values[0])"
   ]
  },
  {
   "cell_type": "code",
   "execution_count": 13,
   "id": "12576cfc",
   "metadata": {},
   "outputs": [],
   "source": [
    "# # msp\n",
    "# dec_tokenizer_msp.encode_as_pieces(df_train.dial.values[0])"
   ]
  },
  {
   "cell_type": "code",
   "execution_count": 14,
   "id": "dc5a47dd",
   "metadata": {},
   "outputs": [],
   "source": [
    "# # custom msp\n",
    "# dec_tokenizer.encode_as_pieces(df_train.dial.values[0])"
   ]
  },
  {
   "cell_type": "code",
   "execution_count": 20,
   "id": "30e3469f",
   "metadata": {},
   "outputs": [],
   "source": [
    "import tqdm\n",
    "def tokenize_data(df) :\n",
    "    dial_text = df['dial'].values\n",
    "    eng_text = df['eng'].values\n",
    "\n",
    "    toks_en = []\n",
    "    toks_dec = []\n",
    "\n",
    "    for i in tqdm.tqdm(range(len(df))) :\n",
    "        \n",
    "        en_tokenized = enc_tokenizer.encode(eng_text[i])\n",
    "        dial_tokenized = dec_tokenizer.encode(dial_text[i])\n",
    "        toks_en.append(en_tokenized)\n",
    "        toks_dec.append(dial_tokenized)\n",
    "    \n",
    "    df['toks_en'] = toks_en\n",
    "    df['toks_dec'] = toks_dec"
   ]
  },
  {
   "cell_type": "code",
   "execution_count": 21,
   "id": "39af5f68",
   "metadata": {},
   "outputs": [
    {
     "name": "stderr",
     "output_type": "stream",
     "text": [
      "100%|█████████████████████████████████████| 1500/1500 [00:00<00:00, 2840.65it/s]\n",
      "100%|███████████████████████████████| 1340262/1340262 [03:02<00:00, 7336.21it/s]\n"
     ]
    }
   ],
   "source": [
    "for i in [df_test, df_train]:\n",
    "    tokenize_data(i)"
   ]
  },
  {
   "cell_type": "code",
   "execution_count": 22,
   "id": "39605bbf",
   "metadata": {},
   "outputs": [
    {
     "data": {
      "text/html": [
       "<div>\n",
       "<style scoped>\n",
       "    .dataframe tbody tr th:only-of-type {\n",
       "        vertical-align: middle;\n",
       "    }\n",
       "\n",
       "    .dataframe tbody tr th {\n",
       "        vertical-align: top;\n",
       "    }\n",
       "\n",
       "    .dataframe thead th {\n",
       "        text-align: right;\n",
       "    }\n",
       "</style>\n",
       "<table border=\"1\" class=\"dataframe\">\n",
       "  <thead>\n",
       "    <tr style=\"text-align: right;\">\n",
       "      <th></th>\n",
       "      <th>reg</th>\n",
       "      <th>topic</th>\n",
       "      <th>eng</th>\n",
       "      <th>dial</th>\n",
       "      <th>tok_len</th>\n",
       "      <th>tok_cat</th>\n",
       "      <th>toks_en</th>\n",
       "      <th>toks_dec</th>\n",
       "    </tr>\n",
       "  </thead>\n",
       "  <tbody>\n",
       "    <tr>\n",
       "      <th>0</th>\n",
       "      <td>jd</td>\n",
       "      <td>역사</td>\n",
       "      <td>&lt;jd&gt; I've changed my mind a little bit.</td>\n",
       "      <td>생각이 쪼금씩 바뀌드라고</td>\n",
       "      <td>10</td>\n",
       "      <td>1</td>\n",
       "      <td>[7951, 5, 12, 7973, 35, 934, 104, 866, 10, 77,...</td>\n",
       "      <td>[1, 95, 6471, 2442, 6854, 2315, 913, 2]</td>\n",
       "    </tr>\n",
       "    <tr>\n",
       "      <th>1</th>\n",
       "      <td>jd</td>\n",
       "      <td>가족</td>\n",
       "      <td>&lt;jd&gt; You know what? Foreigners still get used ...</td>\n",
       "      <td>웜마 알겄는가 애국인들이 그또 달 적응하고</td>\n",
       "      <td>17</td>\n",
       "      <td>1</td>\n",
       "      <td>[7951, 5, 115, 141, 162, 7978, 6239, 851, 259,...</td>\n",
       "      <td>[1, 708, 6495, 61, 6787, 6474, 6472, 5875, 649...</td>\n",
       "    </tr>\n",
       "  </tbody>\n",
       "</table>\n",
       "</div>"
      ],
      "text/plain": [
       "  reg topic                                                eng  \\\n",
       "0  jd    역사            <jd> I've changed my mind a little bit.   \n",
       "1  jd    가족  <jd> You know what? Foreigners still get used ...   \n",
       "\n",
       "                       dial  tok_len  tok_cat  \\\n",
       "0            생각이 쪼금씩 바뀌드라고        10        1   \n",
       "1  웜마 알겄는가 애국인들이 그또 달 적응하고        17        1   \n",
       "\n",
       "                                             toks_en  \\\n",
       "0  [7951, 5, 12, 7973, 35, 934, 104, 866, 10, 77,...   \n",
       "1  [7951, 5, 115, 141, 162, 7978, 6239, 851, 259,...   \n",
       "\n",
       "                                            toks_dec  \n",
       "0            [1, 95, 6471, 2442, 6854, 2315, 913, 2]  \n",
       "1  [1, 708, 6495, 61, 6787, 6474, 6472, 5875, 649...  "
      ]
     },
     "execution_count": 22,
     "metadata": {},
     "output_type": "execute_result"
    }
   ],
   "source": [
    "df_train.head(2)"
   ]
  },
  {
   "cell_type": "code",
   "execution_count": 23,
   "id": "e5ea2446",
   "metadata": {},
   "outputs": [],
   "source": [
    "dir_path = os.getenv(\"HOME\") +'/aiffel/DATA'\n",
    "df_train.to_pickle(dir_path + '/data_train_custom_msp_8000_0322.pkl','gzip')\n",
    "df_test.to_pickle(dir_path + '/data_test_custom_msp_8000_0322.pkl','gzip')"
   ]
  }
 ],
 "metadata": {
  "kernelspec": {
   "display_name": "Python 3 (ipykernel)",
   "language": "python",
   "name": "python3"
  },
  "language_info": {
   "codemirror_mode": {
    "name": "ipython",
    "version": 3
   },
   "file_extension": ".py",
   "mimetype": "text/x-python",
   "name": "python",
   "nbconvert_exporter": "python",
   "pygments_lexer": "ipython3",
   "version": "3.9.16"
  }
 },
 "nbformat": 4,
 "nbformat_minor": 5
}
