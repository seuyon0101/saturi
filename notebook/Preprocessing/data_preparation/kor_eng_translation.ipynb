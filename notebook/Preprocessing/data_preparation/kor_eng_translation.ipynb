{
 "cells": [
  {
   "cell_type": "code",
   "execution_count": 1,
   "id": "2c7f75d2",
   "metadata": {},
   "outputs": [],
   "source": [
    "from transformers import pipeline\n",
    "import os\n",
    "import pandas as pd\n",
    "import datasets\n",
    "import gc\n",
    "from tqdm import tqdm"
   ]
  },
  {
   "cell_type": "code",
   "execution_count": 2,
   "id": "e280c734",
   "metadata": {},
   "outputs": [],
   "source": [
    "model_ckpt2= 'circulus/kobart-trans-ko-en-v2' #bart`\n",
    "pipe = pipeline('translation', model = model_ckpt2, device=0,max_length=256)"
   ]
  },
  {
   "cell_type": "code",
   "execution_count": 7,
   "id": "27bc300f",
   "metadata": {},
   "outputs": [
    {
     "data": {
      "text/plain": [
       "[{'translation_text': 'The reason why human Go players were able to win artificial intelligence was because they inherited tactics directly from artificial intelligence'}]"
      ]
     },
     "execution_count": 7,
     "metadata": {},
     "output_type": "execute_result"
    }
   ],
   "source": [
    "# test\n",
    "pipe('인간 바둑기사가 인공지능에 승리할 수 있었던 이유는 인공지능으로부터 전술을 직접 물려 받았기 때문이다.')"
   ]
  },
  {
   "cell_type": "code",
   "execution_count": 64,
   "id": "9d870825",
   "metadata": {},
   "outputs": [],
   "source": [
    "# load data\n",
    "data_path = './data/'\n",
    "df = pd.read_csv(data_path) # 데이터 파일 불러오기\n",
    "df.drop_duplicates(inplace=True)"
   ]
  },
  {
   "cell_type": "code",
   "execution_count": 151,
   "id": "a0bc8364",
   "metadata": {},
   "outputs": [],
   "source": [
    "# translate data and save\n",
    "def data_save(data, pipe, prefix, num_rows,start, directory) :\n",
    "    \n",
    "    '''\n",
    "    \n",
    "    1. `dataset` : 데이터 셋 [dataframe : pandas dataframe]\n",
    "    2. `pipe` : hugging face pipeline [func : huggingface pipeline function]\n",
    "    3. `지역` : 사투리 지역 [str : 'jj', 'gs', 'kw', 'cc', 'jd']\n",
    "    4. `작업크기` : num of rows [int]\n",
    "    5. `directory` : 저장 경로 [str : directory]\n",
    "    \n",
    "        예) data_save(df,pipe,'jj',5000,0,'/aiffel/aiffelthon/') -> '지역', 시작index만 변경해주시면 됩니다.\n",
    "        \n",
    "    '''\n",
    "    \n",
    "    df_final = pd.DataFrame(columns=['text', 'dial', 'reg', 'pair','eng'])\n",
    "\n",
    "    for i in range(start,len(data), num_rows) :\n",
    "        dataset = data[i : i +num_rows].reset_index()\n",
    "        dataset = datasets.Dataset.from_pandas(dataset)\n",
    "        dataset = dataset.map(lambda ds : {'eng' : pipe(ds['text'])[0]['translation_text']})\n",
    "        dataset.set_format('pandas')\n",
    "        df_final = df_final.merge(dataset[:], how='outer')\n",
    "        df_final.to_csv(directory + f'dataset_en_ko_{prefix}_{i}_{i+num_rows}.csv', index=False)\n",
    "        print(f'작업 완료 : {prefix}_{i}_{i+num_rows}' )\n",
    "        print(f'저장 경로 : {directory}dataset_ko_en_{prefix}_{i}_{i+num_rows}.csv')"
   ]
  }
 ],
 "metadata": {
  "kernelspec": {
   "display_name": "Python 3 (ipykernel)",
   "language": "python",
   "name": "python3"
  },
  "language_info": {
   "codemirror_mode": {
    "name": "ipython",
    "version": 3
   },
   "file_extension": ".py",
   "mimetype": "text/x-python",
   "name": "python",
   "nbconvert_exporter": "python",
   "pygments_lexer": "ipython3",
   "version": "3.9.7"
  }
 },
 "nbformat": 4,
 "nbformat_minor": 5
}
