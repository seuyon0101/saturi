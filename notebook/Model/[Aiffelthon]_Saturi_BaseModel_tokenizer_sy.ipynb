{
 "cells": [
  {
   "cell_type": "code",
   "execution_count": 1,
   "id": "55d87760",
   "metadata": {},
   "outputs": [
    {
     "name": "stdout",
     "output_type": "stream",
     "text": [
      "2.8.0\n",
      "1.5.3\n",
      "1.24.2\n"
     ]
    }
   ],
   "source": [
    "import warnings\n",
    "warnings.filterwarnings('ignore')\n",
    "\n",
    "import tensorflow as tf\n",
    "import numpy as np\n",
    "import pandas as pd\n",
    "\n",
    "import matplotlib as mpl\n",
    "import matplotlib.ticker as ticker\n",
    "import matplotlib.pyplot as plt\n",
    "\n",
    "import time\n",
    "import re\n",
    "import os\n",
    "import io\n",
    "\n",
    "\n",
    "# from tqdm import tqdm_notebook \n",
    "from tqdm import tqdm \n",
    "import random\n",
    "\n",
    "import sentencepiece as spm\n",
    "from konlpy.tag import Mecab\n",
    "\n",
    "print(tf.__version__)\n",
    "print(pd.__version__)\n",
    "print(np.__version__)"
   ]
  },
  {
   "cell_type": "markdown",
   "id": "4b2e8c9a",
   "metadata": {},
   "source": [
    "# Step 1. 데이터 불러오기\n",
    "   "
   ]
  },
  {
   "cell_type": "code",
   "execution_count": 2,
   "id": "6b5c700d",
   "metadata": {},
   "outputs": [],
   "source": [
    "data_dir = os.getenv(\"HOME\") + '/aiffel/DATA'"
   ]
  },
  {
   "cell_type": "code",
   "execution_count": 3,
   "id": "d071582c",
   "metadata": {},
   "outputs": [],
   "source": [
    "data_test_path = data_dir+\"/data_test_spm_4000_0317.pkl\"\n",
    "full_data_test = pd.read_pickle(data_test_path, 'gzip')\n",
    "full_data_test['weight'] = full_data_test['tok_cat'].apply(lambda x : 14 - x)\n",
    "full_data_test = full_data_test.loc[full_data_test['tok_cat'] < 6].sample(n=250, weights = 'weight' ,random_state=6) # validation 시간이 너무 오래 걸림\n",
    "test_idx = full_data_test.index"
   ]
  },
  {
   "cell_type": "code",
   "execution_count": 4,
   "id": "c0bbbb0b",
   "metadata": {},
   "outputs": [],
   "source": [
    "# # train data load\n",
    "data_dir = os.getenv('HOME')+'/aiffel/DATA' # 파일 경로 지정\n",
    "data_train_path = data_dir+\"/data_train_custom_msp_8000_0322.pkl\"\n",
    "data_test_path = data_dir+\"/data_test_custom_msp_8000_0322.pkl\"\n",
    "full_data = pd.read_pickle(data_train_path, 'gzip')\n",
    "full_data_test = pd.read_pickle(data_test_path, 'gzip')\n",
    "full_data_test = full_data_test.iloc[test_idx].copy()"
   ]
  },
  {
   "cell_type": "code",
   "execution_count": 5,
   "id": "5eb745ca",
   "metadata": {},
   "outputs": [
    {
     "name": "stdout",
     "output_type": "stream",
     "text": [
      "<class 'pandas.core.frame.DataFrame'>\n",
      "RangeIndex: 1340262 entries, 0 to 1340261\n",
      "Data columns (total 8 columns):\n",
      " #   Column    Non-Null Count    Dtype \n",
      "---  ------    --------------    ----- \n",
      " 0   reg       1340262 non-null  object\n",
      " 1   topic     1340262 non-null  object\n",
      " 2   eng       1340262 non-null  object\n",
      " 3   dial      1340262 non-null  object\n",
      " 4   tok_len   1340262 non-null  int64 \n",
      " 5   tok_cat   1340262 non-null  int64 \n",
      " 6   toks_en   1340262 non-null  object\n",
      " 7   toks_dec  1340262 non-null  object\n",
      "dtypes: int64(2), object(6)\n",
      "memory usage: 81.8+ MB\n"
     ]
    }
   ],
   "source": [
    "full_data.info()"
   ]
  },
  {
   "cell_type": "code",
   "execution_count": 6,
   "id": "cd26c268",
   "metadata": {},
   "outputs": [
    {
     "data": {
      "text/html": [
       "<div>\n",
       "<style scoped>\n",
       "    .dataframe tbody tr th:only-of-type {\n",
       "        vertical-align: middle;\n",
       "    }\n",
       "\n",
       "    .dataframe tbody tr th {\n",
       "        vertical-align: top;\n",
       "    }\n",
       "\n",
       "    .dataframe thead th {\n",
       "        text-align: right;\n",
       "    }\n",
       "</style>\n",
       "<table border=\"1\" class=\"dataframe\">\n",
       "  <thead>\n",
       "    <tr style=\"text-align: right;\">\n",
       "      <th></th>\n",
       "      <th>reg</th>\n",
       "      <th>topic</th>\n",
       "      <th>eng</th>\n",
       "      <th>dial</th>\n",
       "      <th>tok_len</th>\n",
       "      <th>tok_cat</th>\n",
       "      <th>toks_en</th>\n",
       "      <th>toks_dec</th>\n",
       "    </tr>\n",
       "  </thead>\n",
       "  <tbody>\n",
       "    <tr>\n",
       "      <th>0</th>\n",
       "      <td>jd</td>\n",
       "      <td>역사</td>\n",
       "      <td>&lt;jd&gt; I've changed my mind a little bit.</td>\n",
       "      <td>생각이 쪼금씩 바뀌드라고</td>\n",
       "      <td>10</td>\n",
       "      <td>1</td>\n",
       "      <td>[7951, 5, 12, 7973, 35, 934, 104, 866, 10, 77,...</td>\n",
       "      <td>[1, 95, 6471, 2442, 6854, 2315, 913, 2]</td>\n",
       "    </tr>\n",
       "    <tr>\n",
       "      <th>1</th>\n",
       "      <td>jd</td>\n",
       "      <td>가족</td>\n",
       "      <td>&lt;jd&gt; You know what? Foreigners still get used ...</td>\n",
       "      <td>웜마 알겄는가 애국인들이 그또 달 적응하고</td>\n",
       "      <td>17</td>\n",
       "      <td>1</td>\n",
       "      <td>[7951, 5, 115, 141, 162, 7978, 6239, 851, 259,...</td>\n",
       "      <td>[1, 708, 6495, 61, 6787, 6474, 6472, 5875, 649...</td>\n",
       "    </tr>\n",
       "  </tbody>\n",
       "</table>\n",
       "</div>"
      ],
      "text/plain": [
       "  reg topic                                                eng  \\\n",
       "0  jd    역사            <jd> I've changed my mind a little bit.   \n",
       "1  jd    가족  <jd> You know what? Foreigners still get used ...   \n",
       "\n",
       "                       dial  tok_len  tok_cat  \\\n",
       "0            생각이 쪼금씩 바뀌드라고        10        1   \n",
       "1  웜마 알겄는가 애국인들이 그또 달 적응하고        17        1   \n",
       "\n",
       "                                             toks_en  \\\n",
       "0  [7951, 5, 12, 7973, 35, 934, 104, 866, 10, 77,...   \n",
       "1  [7951, 5, 115, 141, 162, 7978, 6239, 851, 259,...   \n",
       "\n",
       "                                            toks_dec  \n",
       "0            [1, 95, 6471, 2442, 6854, 2315, 913, 2]  \n",
       "1  [1, 708, 6495, 61, 6787, 6474, 6472, 5875, 649...  "
      ]
     },
     "execution_count": 6,
     "metadata": {},
     "output_type": "execute_result"
    }
   ],
   "source": [
    "full_data.head(2)"
   ]
  },
  {
   "cell_type": "code",
   "execution_count": 7,
   "id": "104b7edb",
   "metadata": {},
   "outputs": [
    {
     "name": "stdout",
     "output_type": "stream",
     "text": [
      "<class 'pandas.core.frame.DataFrame'>\n",
      "Int64Index: 250 entries, 1362 to 893\n",
      "Data columns (total 8 columns):\n",
      " #   Column    Non-Null Count  Dtype \n",
      "---  ------    --------------  ----- \n",
      " 0   reg       250 non-null    object\n",
      " 1   topic     250 non-null    object\n",
      " 2   eng       250 non-null    object\n",
      " 3   dial      250 non-null    object\n",
      " 4   tok_len   250 non-null    int64 \n",
      " 5   tok_cat   250 non-null    int64 \n",
      " 6   toks_en   250 non-null    object\n",
      " 7   toks_dec  250 non-null    object\n",
      "dtypes: int64(2), object(6)\n",
      "memory usage: 17.6+ KB\n"
     ]
    }
   ],
   "source": [
    "full_data_test.info()"
   ]
  },
  {
   "cell_type": "code",
   "execution_count": 8,
   "id": "18cb69b5",
   "metadata": {},
   "outputs": [],
   "source": [
    "regs = full_data.reg.unique()"
   ]
  },
  {
   "cell_type": "code",
   "execution_count": 9,
   "id": "50d62e87",
   "metadata": {},
   "outputs": [
    {
     "data": {
      "image/png": "[encoded data removed]",
      "text/plain": [
       "<Figure size 640x480 with 1 Axes>"
      ]
     },
     "metadata": {},
     "output_type": "display_data"
    }
   ],
   "source": [
    "import seaborn as sns\n",
    "full_data['tok_len'] = full_data['toks_dec'].apply(lambda x : len(x))\n",
    "sns.histplot(x='tok_len',data = full_data, bins= 50,stat='probability' )\n",
    "plt.show()"
   ]
  },
  {
   "cell_type": "code",
   "execution_count": 10,
   "id": "c7343821",
   "metadata": {},
   "outputs": [
    {
     "data": {
      "text/plain": [
       "reg\n",
       "cc    44.048479\n",
       "gs    42.905380\n",
       "jd    39.006957\n",
       "jj    28.895504\n",
       "kw    30.739265\n",
       "Name: tok_len, dtype: float64"
      ]
     },
     "execution_count": 10,
     "metadata": {},
     "output_type": "execute_result"
    }
   ],
   "source": [
    "full_data.groupby(full_data['reg'])['tok_len'].mean()"
   ]
  },
  {
   "cell_type": "code",
   "execution_count": 11,
   "id": "372d27c7",
   "metadata": {},
   "outputs": [],
   "source": [
    "full_data['tok_cat'] = pd.qcut(full_data['tok_len'], [0,0.7,0.8,0.85,0.9,0.92,0.94,0.96,0.98,0.985,0.986,0.994,0.999,1],labels =[1,2,3,4,5,6,7,8,9,10,11,12,13])"
   ]
  },
  {
   "cell_type": "code",
   "execution_count": 12,
   "id": "8215d204",
   "metadata": {},
   "outputs": [
    {
     "data": {
      "text/plain": [
       "min    120\n",
       "max    143\n",
       "Name: tok_len, dtype: int64"
      ]
     },
     "execution_count": 12,
     "metadata": {},
     "output_type": "execute_result"
    }
   ],
   "source": [
    "full_data.loc[full_data['tok_cat']==7,'tok_len'].agg([min,max])"
   ]
  },
  {
   "cell_type": "code",
   "execution_count": 13,
   "id": "d817acf0",
   "metadata": {},
   "outputs": [
    {
     "data": {
      "text/plain": [
       "True"
      ]
     },
     "execution_count": 13,
     "metadata": {},
     "output_type": "execute_result"
    }
   ],
   "source": [
    "data_path = os.getenv('HOME') + '/aiffel/saturi/notebook/Preprocessing/'\n",
    "SRC_VOCAB_SIZE = 8009\n",
    "TGT_VOCAB_SIZE = 8009\n",
    "\n",
    "enc_tokenizer = spm.SentencePieceProcessor()\n",
    "enc_tokenizer.Load(data_path+'spm_enc_8009.model')\n",
    "\n",
    "dec_tokenizer = spm.SentencePieceProcessor()\n",
    "dec_tokenizer.Load(data_path+'/spm_dec_custom_msp8009.model')\n",
    "\n",
    "dec_tokenizer.set_encode_extra_options(\"bos:eos\")"
   ]
  },
  {
   "cell_type": "markdown",
   "id": "b68adf64",
   "metadata": {},
   "source": [
    "# Step 2. 모델불러오기"
   ]
  },
  {
   "cell_type": "code",
   "execution_count": 14,
   "id": "cf9adca2",
   "metadata": {},
   "outputs": [
    {
     "name": "stderr",
     "output_type": "stream",
     "text": [
      "\u001b[34m\u001b[1mwandb\u001b[0m: Currently logged in as: \u001b[33mseuyon0101\u001b[0m. Use \u001b[1m`wandb login --relogin`\u001b[0m to force relogin\n"
     ]
    },
    {
     "data": {
      "text/plain": [
       "True"
      ]
     },
     "execution_count": 14,
     "metadata": {},
     "output_type": "execute_result"
    }
   ],
   "source": [
    "import wandb\n",
    "wandb.login()"
   ]
  },
  {
   "cell_type": "code",
   "execution_count": 15,
   "id": "8fca30f1",
   "metadata": {},
   "outputs": [
    {
     "name": "stderr",
     "output_type": "stream",
     "text": [
      "\u001b[34m\u001b[1mwandb\u001b[0m: Currently logged in as: \u001b[33mseuyon0101\u001b[0m (\u001b[33msaturi\u001b[0m). Use \u001b[1m`wandb login --relogin`\u001b[0m to force relogin\n"
     ]
    },
    {
     "data": {
      "text/html": [
       "Tracking run with wandb version 0.14.0"
      ],
      "text/plain": [
       "<IPython.core.display.HTML object>"
      ]
     },
     "metadata": {},
     "output_type": "display_data"
    },
    {
     "data": {
      "text/html": [
       "Run data is saved locally in <code>/home/seuyon0101/aiffel/saturi/notebook/Model/wandb/run-20230323_013719-rorhfpfw</code>"
      ],
      "text/plain": [
       "<IPython.core.display.HTML object>"
      ]
     },
     "metadata": {},
     "output_type": "display_data"
    },
    {
     "data": {
      "text/html": [
       "Syncing run <strong><a href='https://wandb.ai/saturi/model_exp_custom_msp_8009_0322v_test_max/runs/rorhfpfw' target=\"_blank\">driven-dream-3</a></strong> to <a href='https://wandb.ai/saturi/model_exp_custom_msp_8009_0322v_test_max' target=\"_blank\">Weights & Biases</a> (<a href='https://wandb.me/run' target=\"_blank\">docs</a>)<br/>"
      ],
      "text/plain": [
       "<IPython.core.display.HTML object>"
      ]
     },
     "metadata": {},
     "output_type": "display_data"
    },
    {
     "data": {
      "text/html": [
       " View project at <a href='https://wandb.ai/saturi/model_exp_custom_msp_8009_0322v_test_max' target=\"_blank\">https://wandb.ai/saturi/model_exp_custom_msp_8009_0322v_test_max</a>"
      ],
      "text/plain": [
       "<IPython.core.display.HTML object>"
      ]
     },
     "metadata": {},
     "output_type": "display_data"
    },
    {
     "data": {
      "text/html": [
       " View run at <a href='https://wandb.ai/saturi/model_exp_custom_msp_8009_0322v_test_max/runs/rorhfpfw' target=\"_blank\">https://wandb.ai/saturi/model_exp_custom_msp_8009_0322v_test_max/runs/rorhfpfw</a>"
      ],
      "text/plain": [
       "<IPython.core.display.HTML object>"
      ]
     },
     "metadata": {},
     "output_type": "display_data"
    }
   ],
   "source": [
    "#wandb 설정\n",
    "run  = wandb.init(project = 'model_exp_custom_msp_8009_0322v_test_max',\n",
    "                 entity = 'saturi',\n",
    "                 config = {\n",
    "                     'model_name':'Vanilla_Transformer',\n",
    "                     'n_layers':6,\n",
    "                     'd_model':512,\n",
    "                     'n_heads':8,\n",
    "                     'd_ff':2048,\n",
    "                     'src_vocab_size':SRC_VOCAB_SIZE,\n",
    "                     'tgt_vocab_size':TGT_VOCAB_SIZE,\n",
    "                     'pos_len': 512,\n",
    "                     'dropout':0.2,\n",
    "                     'shared':True,\n",
    "                     'warmups' : 4000,\n",
    "                     'epochs':1,\n",
    "                     'optimizer' :'ADAM',\n",
    "                     'loss' : 'SparseCategoricalCrossentropy',\n",
    "                     'metric' : 'bleu'\n",
    "                 })\n",
    "config = wandb.config"
   ]
  },
  {
   "cell_type": "code",
   "execution_count": 16,
   "id": "c948ef42",
   "metadata": {},
   "outputs": [],
   "source": [
    "import sys\n",
    "sys.path.insert(0,os.getenv('HOME') + '/aiffel/saturi/MODEL/') # vanilla transformer 파일경로에서 불러오기 위해 설정\n",
    "sys.path.insert(0,os.getenv('HOME') + '/aiffel/saturi/PRE/')\n",
    "sys.path.insert(0,os.getenv('HOME') + '/aiffel/saturi/POST/')"
   ]
  },
  {
   "cell_type": "code",
   "execution_count": 17,
   "id": "dc718fdd",
   "metadata": {},
   "outputs": [
    {
     "name": "stderr",
     "output_type": "stream",
     "text": [
      "2023-03-23 01:37:24.072874: I tensorflow/core/platform/cpu_feature_guard.cc:151] This TensorFlow binary is optimized with oneAPI Deep Neural Network Library (oneDNN) to use the following CPU instructions in performance-critical operations:  AVX2 FMA\n",
      "To enable them in other operations, rebuild TensorFlow with the appropriate compiler flags.\n",
      "2023-03-23 01:37:24.886221: I tensorflow/core/common_runtime/gpu/gpu_device.cc:1525] Created device /job:localhost/replica:0/task:0/device:GPU:0 with 14628 MB memory:  -> device: 0, name: Tesla V100-SXM2-16GB, pci bus id: 0000:00:04.0, compute capability: 7.0\n"
     ]
    }
   ],
   "source": [
    "from vanilla_transformer import Transformer, generate_masks\n",
    "\n",
    "transformer = Transformer(\n",
    "    n_layers=config.n_layers,\n",
    "    d_model=config.d_model,\n",
    "    n_heads=config.n_heads,\n",
    "    d_ff=config.d_ff,\n",
    "    src_vocab_size=config.src_vocab_size,\n",
    "    tgt_vocab_size=config.tgt_vocab_size,\n",
    "    pos_len=config.pos_len,\n",
    "    dropout=config.dropout,\n",
    "    shared=config.shared\n",
    ")"
   ]
  },
  {
   "cell_type": "markdown",
   "id": "f342277c",
   "metadata": {},
   "source": [
    "##  Learning Rate Scheduler를 선언하고, 이를 포함하는 Adam Optimizer를 선언"
   ]
  },
  {
   "cell_type": "code",
   "execution_count": 18,
   "id": "206e432d",
   "metadata": {},
   "outputs": [],
   "source": [
    "class LearningRateScheduler(tf.keras.optimizers.schedules.LearningRateSchedule):\n",
    "    def __init__(self, d_model, warmup_steps=config.warmups):\n",
    "        super(LearningRateScheduler, self).__init__()\n",
    "        self.d_model = d_model\n",
    "        self.warmup_steps = warmup_steps\n",
    "    \n",
    "    def __call__(self, step):\n",
    "        arg1 = step ** np.array(-0.5)\n",
    "        arg2 = step * np.array(self.warmup_steps ** -1.5)\n",
    "        \n",
    "        return np.array(self.d_model ** -0.5) * tf.math.minimum(arg1, arg2)"
   ]
  },
  {
   "cell_type": "code",
   "execution_count": 19,
   "id": "ea6594ae",
   "metadata": {},
   "outputs": [],
   "source": [
    "learningrate = LearningRateScheduler(512)"
   ]
  },
  {
   "cell_type": "code",
   "execution_count": 20,
   "id": "8786194f",
   "metadata": {},
   "outputs": [],
   "source": [
    "optimizer = tf.keras.optimizers.Adam(learningrate, beta_1=0.9, beta_2=0.98, epsilon=1e-9)"
   ]
  },
  {
   "cell_type": "markdown",
   "id": "acb5db58",
   "metadata": {},
   "source": [
    "## Loss 함수를 정의\n"
   ]
  },
  {
   "cell_type": "code",
   "execution_count": 21,
   "id": "2a8f5f9e",
   "metadata": {},
   "outputs": [],
   "source": [
    "# Loss 함수 정의\n",
    "loss_object = tf.keras.losses.SparseCategoricalCrossentropy(from_logits=True, reduction='none')\n",
    "\n",
    "def loss_function(real, pred):\n",
    "    mask = tf.math.logical_not(tf.math.equal(real, 0))\n",
    "    loss_ = loss_object(real, pred)\n",
    "\n",
    "    # Masking 되지 않은 입력의 개수로 Scaling하는 과정\n",
    "    mask = tf.cast(mask, dtype=loss_.dtype)\n",
    "    loss_ *= mask\n",
    "\n",
    "    return tf.reduce_sum(loss_)/tf.reduce_sum(mask)"
   ]
  },
  {
   "cell_type": "markdown",
   "id": "c3145902",
   "metadata": {},
   "source": [
    "## train_step 함수를 정의\n"
   ]
  },
  {
   "cell_type": "code",
   "execution_count": 22,
   "id": "6a1078f5",
   "metadata": {},
   "outputs": [],
   "source": [
    "@tf.function()\n",
    "def train_step(src, tgt, model, optimizer):\n",
    "    gold = tgt[:, 1:]\n",
    "        \n",
    "    enc_mask, dec_enc_mask, dec_mask = generate_masks(src, tgt)\n",
    "\n",
    "    # 계산된 loss에 tf.GradientTape()를 적용해 학습을 진행합니다.\n",
    "    with tf.GradientTape() as tape:\n",
    "        predictions, enc_attns, dec_attns, dec_enc_attns = model(src, tgt, enc_mask, dec_enc_mask, dec_mask)\n",
    "        loss = loss_function(gold, predictions[:, :-1])\n",
    "\n",
    "    # 최종적으로 optimizer.apply_gradients()가 사용됩니다. \n",
    "    gradients = tape.gradient(loss, model.trainable_variables)    \n",
    "    optimizer.apply_gradients(zip(gradients, model.trainable_variables))\n",
    "    \n",
    "    \n",
    "    return loss, enc_attns, dec_attns, dec_enc_attns, predictions"
   ]
  },
  {
   "cell_type": "code",
   "execution_count": 23,
   "id": "59985e0a",
   "metadata": {},
   "outputs": [],
   "source": [
    "# Validating the model\n",
    "@tf.function\n",
    "def model_validate(src, tgt, model):\n",
    "    gold = tgt[:, 1:]\n",
    "        \n",
    "    enc_mask, dec_enc_mask, dec_mask = generate_masks(src, tgt)\n",
    "    predictions, enc_attns, dec_attns, dec_enc_attns = model(src, tgt, enc_mask, dec_enc_mask, dec_mask)\n",
    "    v_loss = loss_function(gold, predictions[:, :-1])\n",
    "    \n",
    "    return v_loss, predictions"
   ]
  },
  {
   "cell_type": "code",
   "execution_count": 24,
   "id": "4bb0f8eb",
   "metadata": {
    "scrolled": true
   },
   "outputs": [],
   "source": [
    "# 학습 매니저 설정\n",
    "from evaluation import evaluate, compute_metric\n",
    "\n",
    "def train_and_checkpoint(transformer, manager, EPOCHS):\n",
    "    ckpt.restore(manager.latest_checkpoint)\n",
    "    if manager.latest_checkpoint:\n",
    "        print(\"Restored from {}\".format(manager.latest_checkpoint))\n",
    "    \n",
    "    else:\n",
    "        print(\"Initializing from scratch.\")\n",
    "\n",
    "\n",
    "    for epoch in range(EPOCHS):\n",
    "        total_loss = 0\n",
    "        total_loss_val = 0\n",
    "        bleu_train = 0\n",
    "        bleu_valid = 0\n",
    "        \n",
    "\n",
    "        idx_list = list(range(0, enc_train.shape[0], batch_size))\n",
    "        random.shuffle(idx_list)\n",
    "        t = tqdm(idx_list)\n",
    "        for (batch, idx) in enumerate(t):\n",
    "            batch_loss, enc_attns, dec_attns, dec_enc_attns, preds = train_step(enc_train[idx:idx+batch_size],\n",
    "                                                                         dec_train[idx:idx+batch_size],\n",
    "                                                                         transformer,\n",
    "                                                                         optimizer)\n",
    "\n",
    "            total_loss += batch_loss\n",
    "            \n",
    "            t.set_description_str('Epoch %2d' % (epoch + 1))\n",
    "            t.set_postfix_str('Loss %.4f' % (total_loss.numpy() / (batch + 1)))\n",
    "            \n",
    "            \n",
    "        #validation\n",
    "        for test_idx in range(0,enc_test.shape[0], batch_size) :\n",
    "            val_loss, val_preds = model_validate(enc_test[test_idx : test_idx + batch_size],\n",
    "                                      dec_test[test_idx : test_idx + batch_size],\n",
    "                                      transformer)\n",
    "            total_loss_val += val_loss\n",
    "\n",
    "        wandb.log({\n",
    "                   \"train_loss\": total_loss.numpy() / (len(t) + 1),\n",
    "                   \"valid_loss\" : total_loss_val.numpy() / (enc_test.shape[0]//batch_size),\n",
    "                   })\n",
    "\n",
    "        save_path = manager.save()\n",
    "        print(\"Saved checkpoint for step {}: {}\".format(int(ckpt.step), save_path))\n",
    "        \n",
    "directory = os.getenv('HOME') + '/aiffel/MODEL/'\n",
    "ckpt = tf.train.Checkpoint(step = tf.Variable(1), optimizer = optimizer , transformer = transformer)\n",
    "manager = tf.train.CheckpointManager(ckpt, directory +'tf_custom_msp8000_ckpt_0322v_max',max_to_keep=3)"
   ]
  },
  {
   "cell_type": "markdown",
   "id": "73a3045a",
   "metadata": {},
   "source": [
    "## 학습"
   ]
  },
  {
   "cell_type": "code",
   "execution_count": null,
   "id": "c99c9d4d",
   "metadata": {
    "scrolled": false
   },
   "outputs": [
    {
     "name": "stdout",
     "output_type": "stream",
     "text": [
      "(944749, 29)\n",
      "(944749, 29)\n",
      "(250, 29)\n",
      "(250, 29)\n",
      "Restored from /home/seuyon0101/aiffel/MODEL/tf_custom_msp8000_ckpt_0322v_max/ckpt-5\n"
     ]
    },
    {
     "name": "stderr",
     "output_type": "stream",
     "text": [
      "Epoch  1:  17%|██▌            | 5042/29524 [04:05<18:38, 21.88it/s, Loss 2.8651]"
     ]
    }
   ],
   "source": [
    "#bucketing and training\n",
    "\n",
    "batch_size = 32\n",
    "buckets = iter(full_data['tok_cat'].unique().tolist()[:4])\n",
    "\n",
    "for bucket in buckets :\n",
    "\n",
    "    src_corpus = full_data.loc[full_data['tok_cat']==bucket,'toks_en'].values\n",
    "    tgt_corpus = full_data.loc[full_data['tok_cat']==bucket,'toks_dec'].values\n",
    "    src_valid_corpus = full_data_test['toks_en'].values\n",
    "    tgt_valid_corpus = full_data_test['toks_dec'].values\n",
    "    max_len = full_data.loc[full_data['tok_cat']==bucket,'tok_len'].max()\n",
    "    \n",
    "    if max_len > 380 :\n",
    "        batch_size = 8\n",
    "        \n",
    "    if max_len > 512 : \n",
    "        max_len = 512\n",
    "        \n",
    "    enc_train = tf.keras.preprocessing.sequence.pad_sequences(src_corpus, padding='post', maxlen=max_len)\n",
    "    dec_train = tf.keras.preprocessing.sequence.pad_sequences(tgt_corpus, padding='post', maxlen=max_len)\n",
    "    enc_test = tf.keras.preprocessing.sequence.pad_sequences(src_valid_corpus, padding='post', maxlen=max_len)\n",
    "    dec_test = tf.keras.preprocessing.sequence.pad_sequences(tgt_valid_corpus, padding='post', maxlen=max_len)\n",
    "\n",
    "    print(enc_train.shape)\n",
    "    print(dec_train.shape)\n",
    "    print(enc_test.shape)\n",
    "    print(dec_test.shape)\n",
    "    \n",
    "    \n",
    "    #Train\n",
    "    train_and_checkpoint(transformer, manager, config.epochs)"
   ]
  },
  {
   "cell_type": "markdown",
   "id": "9d1bcdd0",
   "metadata": {},
   "source": [
    "# Step 3. 평가"
   ]
  },
  {
   "cell_type": "code",
   "execution_count": 162,
   "id": "40876e03",
   "metadata": {},
   "outputs": [],
   "source": [
    "from evaluation import translate\n",
    "from time import perf_counter"
   ]
  },
  {
   "cell_type": "code",
   "execution_count": 186,
   "id": "c6ee7ee6",
   "metadata": {},
   "outputs": [],
   "source": [
    "# eval\n",
    "\n",
    "import seaborn\n",
    "import tensorflow as tf\n",
    "import matplotlib.pyplot as plt\n",
    "import re\n",
    "from preprocess import preprocess_sentence\n",
    "from vanilla_transformer import Transformer, generate_masks\n",
    "\n",
    "def visualize_attention(src, tgt, enc_attns, dec_attns, dec_enc_attns):\n",
    "    def draw(data, ax, x=\"auto\", y=\"auto\"):\n",
    "        seaborn.heatmap(data, \n",
    "                        square=True,\n",
    "                        vmin=0.0, vmax=1.0, \n",
    "                        cbar=False, ax=ax,\n",
    "                        xticklabels=x,\n",
    "                        yticklabels=y)\n",
    "        \n",
    "    for layer in range(0, 2, 1):\n",
    "        fig, axs = plt.subplots(1, 4, figsize=(20, 10))\n",
    "        print(\"Encoder Layer\", layer + 1)\n",
    "        for h in range(4):\n",
    "            draw(enc_attns[layer][0, h, :len(src), :len(src)], axs[h], src, src)\n",
    "        plt.show()\n",
    "        \n",
    "    for layer in range(0, 2, 1):\n",
    "        fig, axs = plt.subplots(1, 4, figsize=(20, 10))\n",
    "        print(\"Decoder Self Layer\", layer+1)\n",
    "        for h in range(4):\n",
    "            draw(dec_attns[layer][0, h, :len(tgt), :len(tgt)], axs[h], tgt, tgt)\n",
    "        plt.show()\n",
    "\n",
    "        print(\"Decoder Src Layer\", layer+1)\n",
    "        fig, axs = plt.subplots(1, 4, figsize=(20, 10))\n",
    "        for h in range(4):\n",
    "            draw(dec_enc_attns[layer][0, h, :len(tgt), :len(src)], axs[h], src, tgt)\n",
    "        plt.show()\n",
    "\n",
    "# 번역 생성 함수\n",
    "def evaluate(sentence, model, src_tokenizer, tgt_tokenizer):\n",
    "    sentence = preprocess_sentence(sentence)\n",
    "    pieces = src_tokenizer.encode_as_pieces(sentence)\n",
    "    tokens = src_tokenizer.encode_as_ids(sentence)\n",
    "    max_len = len(tokens)\n",
    "    if max_len > 512 :\n",
    "        max_len = 512\n",
    "\n",
    "    _input = tf.keras.preprocessing.sequence.pad_sequences([tokens], maxlen=max_len, padding='post')\n",
    "\n",
    "    ids = []\n",
    "\n",
    "    output = tf.expand_dims([tgt_tokenizer.bos_id()], 0)\n",
    "    for i in range(max_len):\n",
    "        enc_padding_mask, combined_mask, dec_padding_mask = generate_masks(_input, output)\n",
    "        \n",
    "\n",
    "        predictions, enc_attns, dec_attns, dec_enc_attns = model(_input, output, enc_padding_mask, combined_mask, dec_padding_mask)\n",
    "        \n",
    "        predicted_id = tf.argmax(tf.math.softmax(predictions, axis=-1)[0, -1]).numpy().item()\n",
    "        if tgt_tokenizer.eos_id() == predicted_id:\n",
    "            result = tgt_tokenizer.decode_ids(ids)\n",
    "            return pieces, result, enc_attns, dec_attns, dec_enc_attns\n",
    "\n",
    "        ids.append(predicted_id)\n",
    "        output = tf.concat([output, tf.expand_dims([predicted_id], 0)], axis=-1)\n",
    "    result = tgt_tokenizer.decode_ids(ids)\n",
    "    return ids, result, enc_attns, dec_attns, dec_enc_attns\n",
    "\n",
    "# 번역 생성 및 Attention 시각화 결합\n",
    "def translate(sentence, model, src_tokenizer, tgt_tokenizer, verbose =False , plot_attention=False):\n",
    "    pieces, result, enc_attns, dec_attns, dec_enc_attns = evaluate(sentence, model, src_tokenizer, tgt_tokenizer)\n",
    "    \n",
    "    if verbose :\n",
    "        print('Input: %s' % (sentence))\n",
    "        print('Predicted translation: {}'.format(result))\n",
    "\n",
    "    if plot_attention:\n",
    "        visualize_attention(pieces, result.split(), enc_attns, dec_attns, dec_enc_attns)\n",
    "  \n",
    "    return result\n",
    "\n",
    "from datasets import load_metric\n",
    "\n",
    "def compute_metric(pred, gold, dec_tokenizer) :\n",
    "    bleu = load_metric(\"sacrebleu\")\n",
    "    preds = dec_tokenizer.decode_pieces(tf.argmax(pred, axis=-1).numpy().tolist())\n",
    "    labels = dec_tokenizer.decode_pieces(gold.tolist())\n",
    "    result = bleu.compute(predictions=[preds], references=[labels], smooth_method='add-k')['score']\n",
    "    return result"
   ]
  },
  {
   "cell_type": "code",
   "execution_count": 187,
   "id": "65f6300e",
   "metadata": {},
   "outputs": [],
   "source": [
    "examples = [\"<jj> what are you doing?\",'<cc> what are you doing?','<gs> what are you doing?','<jd> what are you doing?','<kw> what are you doing?']"
   ]
  },
  {
   "cell_type": "code",
   "execution_count": 188,
   "id": "d991f6b4",
   "metadata": {},
   "outputs": [
    {
     "name": "stdout",
     "output_type": "stream",
     "text": [
      "Input: <jj> what are you doing?\n",
      "Predicted translation: 거 뭐허는 짓인가? 거\n",
      "Input: <cc> what are you doing?\n",
      "Predicted translation: 어~ 그~ 뭐시기냐\n",
      "Input: <gs> what are you doing?\n",
      "Predicted translation: 그~ 뭐꼬 카민시 막 그~\n",
      "Input: <jd> what are you doing?\n",
      "Predicted translation: 그~ 뭐~ 그~ 뭐~\n",
      "Input: <kw> what are you doing?\n",
      "Predicted translation: 뭐러 카는 짓이냐? 그\n",
      "5.96141362599883\n"
     ]
    }
   ],
   "source": [
    "start = perf_counter()\n",
    "for example in examples :\n",
    "    translate(example, transformer, enc_tokenizer, dec_tokenizer, verbose =True)\n",
    "print(perf_counter() - start)"
   ]
  },
  {
   "cell_type": "code",
   "execution_count": 189,
   "id": "82d3192e",
   "metadata": {},
   "outputs": [],
   "source": [
    "full_data_test.sort_values(by='tok_cat', inplace=True)"
   ]
  },
  {
   "cell_type": "code",
   "execution_count": 190,
   "id": "9d0412bb",
   "metadata": {},
   "outputs": [],
   "source": [
    "test_text = full_data_test.eng.values\n",
    "test_tgt = full_data_test.dial.values"
   ]
  },
  {
   "cell_type": "code",
   "execution_count": 191,
   "id": "d14253e1",
   "metadata": {},
   "outputs": [
    {
     "name": "stderr",
     "output_type": "stream",
     "text": [
      "100%|█████████████████████████████████████████| 250/250 [20:32<00:00,  4.93s/it]\n"
     ]
    }
   ],
   "source": [
    "from datasets import load_metric\n",
    "bleu = load_metric(\"sacrebleu\")\n",
    "test_translate = []\n",
    "bleu_valid_score = []\n",
    "for i in tqdm(range(len(test_text))) :\n",
    "    trans = translate(test_text[i], transformer, enc_tokenizer, dec_tokenizer, verbose =False)\n",
    "    test_translate.append(trans)\n",
    "    label = dec_tokenizer.decode(test_tgt[i])\n",
    "    result = bleu.compute(predictions=[trans], references=[[label]], smooth_method='add-k')['score']\n",
    "    bleu_valid_score.append(result)"
   ]
  },
  {
   "cell_type": "code",
   "execution_count": 192,
   "id": "72652f42",
   "metadata": {},
   "outputs": [
    {
     "data": {
      "text/plain": [
       "6.7830565808438905"
      ]
     },
     "execution_count": 192,
     "metadata": {},
     "output_type": "execute_result"
    }
   ],
   "source": [
    "sum(bleu_valid_score)/len(test_text)"
   ]
  },
  {
   "cell_type": "code",
   "execution_count": 193,
   "id": "03021526",
   "metadata": {},
   "outputs": [],
   "source": [
    "wandb.log({\"bleu\": sum(bleu_valid_score)/len(test_text)})"
   ]
  },
  {
   "cell_type": "code",
   "execution_count": 194,
   "id": "34107c50",
   "metadata": {},
   "outputs": [],
   "source": [
    "full_data_test['bleu'] = np.array(bleu_valid_score)\n",
    "full_data_test['pred'] = test_translate"
   ]
  },
  {
   "cell_type": "code",
   "execution_count": 195,
   "id": "90a43c07",
   "metadata": {},
   "outputs": [
    {
     "data": {
      "text/html": [
       "<div>\n",
       "<style scoped>\n",
       "    .dataframe tbody tr th:only-of-type {\n",
       "        vertical-align: middle;\n",
       "    }\n",
       "\n",
       "    .dataframe tbody tr th {\n",
       "        vertical-align: top;\n",
       "    }\n",
       "\n",
       "    .dataframe thead th {\n",
       "        text-align: right;\n",
       "    }\n",
       "</style>\n",
       "<table border=\"1\" class=\"dataframe\">\n",
       "  <thead>\n",
       "    <tr style=\"text-align: right;\">\n",
       "      <th></th>\n",
       "      <th>tok_cat</th>\n",
       "      <th>topic</th>\n",
       "      <th>reg</th>\n",
       "      <th>dial</th>\n",
       "      <th>pred</th>\n",
       "      <th>bleu</th>\n",
       "    </tr>\n",
       "  </thead>\n",
       "  <tbody>\n",
       "    <tr>\n",
       "      <th>1297</th>\n",
       "      <td>1</td>\n",
       "      <td>취미</td>\n",
       "      <td>kw</td>\n",
       "      <td>어멍이 뭐러 마수웅 거 쫌 주시오야.</td>\n",
       "      <td>어머이가 뭐~ 좋았던 게 뭐~ 이딴</td>\n",
       "      <td>0.000000</td>\n",
       "    </tr>\n",
       "    <tr>\n",
       "      <th>1266</th>\n",
       "      <td>1</td>\n",
       "      <td>가족</td>\n",
       "      <td>kw</td>\n",
       "      <td>인제 외박까지 허구 아무래두 이상해요.  요중간은 마이 멀쩡해졌어.</td>\n",
       "      <td>이상하케 그이 이상하케 그이 이상하케 이상하케 받았는</td>\n",
       "      <td>0.000000</td>\n",
       "    </tr>\n",
       "    <tr>\n",
       "      <th>211</th>\n",
       "      <td>1</td>\n",
       "      <td>반려동물</td>\n",
       "      <td>jd</td>\n",
       "      <td>그라믄 갱아지 말고잉 똑또간 동물 모 있제 침팬지가 쩰 똑똑 똑똑 할라나</td>\n",
       "      <td>고 담에 또잉 스마트 그~ 스마트 그~ 스마트 그~ 스마트 그~ 동물이라고 있는디 ...</td>\n",
       "      <td>0.000000</td>\n",
       "    </tr>\n",
       "    <tr>\n",
       "      <th>100</th>\n",
       "      <td>1</td>\n",
       "      <td>선물</td>\n",
       "      <td>jd</td>\n",
       "      <td>봉사멘치 요게 선물을 준 싸람이 기쁨이 있드라고.</td>\n",
       "      <td>그~ 뭐~ 봉사활동 깥은 거이 있는 거이 뭐~</td>\n",
       "      <td>0.000000</td>\n",
       "    </tr>\n",
       "    <tr>\n",
       "      <th>506</th>\n",
       "      <td>1</td>\n",
       "      <td>역사</td>\n",
       "      <td>jj</td>\n",
       "      <td>좋아그넹 해난 게 알아져.</td>\n",
       "      <td>아이 나맨 거 거 거 거 거 거 거 거 거 거</td>\n",
       "      <td>0.000000</td>\n",
       "    </tr>\n",
       "    <tr>\n",
       "      <th>...</th>\n",
       "      <td>...</td>\n",
       "      <td>...</td>\n",
       "      <td>...</td>\n",
       "      <td>...</td>\n",
       "      <td>...</td>\n",
       "      <td>...</td>\n",
       "    </tr>\n",
       "    <tr>\n",
       "      <th>1206</th>\n",
       "      <td>1</td>\n",
       "      <td>드라마</td>\n",
       "      <td>kw</td>\n",
       "      <td>즌화 자주 하라우.</td>\n",
       "      <td>즌화 자주 하시구요 자주 자주</td>\n",
       "      <td>33.980885</td>\n",
       "    </tr>\n",
       "    <tr>\n",
       "      <th>1218</th>\n",
       "      <td>1</td>\n",
       "      <td>성격</td>\n",
       "      <td>kw</td>\n",
       "      <td>아~ 도박이 참말애 우혐한데</td>\n",
       "      <td>아따 도박이 참말애 우염하라</td>\n",
       "      <td>35.186297</td>\n",
       "    </tr>\n",
       "    <tr>\n",
       "      <th>1293</th>\n",
       "      <td>1</td>\n",
       "      <td>드라마</td>\n",
       "      <td>kw</td>\n",
       "      <td>아나운서가 뭐러 즈 꺼냐고.</td>\n",
       "      <td>아나운서가 뭐러 아나운서가 뭐</td>\n",
       "      <td>35.186297</td>\n",
       "    </tr>\n",
       "    <tr>\n",
       "      <th>1437</th>\n",
       "      <td>1</td>\n",
       "      <td>쇼핑</td>\n",
       "      <td>kw</td>\n",
       "      <td>올제 잊지 마고 오나 주게나.</td>\n",
       "      <td>올제 잊지 마고 오시갸우 내리은 잊</td>\n",
       "      <td>39.763536</td>\n",
       "    </tr>\n",
       "    <tr>\n",
       "      <th>756</th>\n",
       "      <td>1</td>\n",
       "      <td>연애/결혼</td>\n",
       "      <td>cc</td>\n",
       "      <td>내도 짝구 울 신랑도 짝구 긍까 애덜이 짝아가주구 긍까</td>\n",
       "      <td>울 신랑도 짝구 울 신랑도 짝구 긍까 아들</td>\n",
       "      <td>51.007752</td>\n",
       "    </tr>\n",
       "  </tbody>\n",
       "</table>\n",
       "<p>250 rows × 6 columns</p>\n",
       "</div>"
      ],
      "text/plain": [
       "      tok_cat  topic reg                                       dial  \\\n",
       "1297        1     취미  kw                      어멍이 뭐러 마수웅 거 쫌 주시오야.    \n",
       "1266        1     가족  kw     인제 외박까지 허구 아무래두 이상해요.  요중간은 마이 멀쩡해졌어.    \n",
       "211         1   반려동물  jd  그라믄 갱아지 말고잉 똑또간 동물 모 있제 침팬지가 쩰 똑똑 똑똑 할라나    \n",
       "100         1     선물  jd               봉사멘치 요게 선물을 준 싸람이 기쁨이 있드라고.    \n",
       "506         1     역사  jj                            좋아그넹 해난 게 알아져.    \n",
       "...       ...    ...  ..                                        ...   \n",
       "1206        1    드라마  kw                                즌화 자주 하라우.    \n",
       "1218        1     성격  kw                           아~ 도박이 참말애 우혐한데    \n",
       "1293        1    드라마  kw                           아나운서가 뭐러 즈 꺼냐고.    \n",
       "1437        1     쇼핑  kw                          올제 잊지 마고 오나 주게나.    \n",
       "756         1  연애/결혼  cc            내도 짝구 울 신랑도 짝구 긍까 애덜이 짝아가주구 긍까    \n",
       "\n",
       "                                                   pred       bleu  \n",
       "1297                                어머이가 뭐~ 좋았던 게 뭐~ 이딴   0.000000  \n",
       "1266                      이상하케 그이 이상하케 그이 이상하케 이상하케 받았는   0.000000  \n",
       "211   고 담에 또잉 스마트 그~ 스마트 그~ 스마트 그~ 스마트 그~ 동물이라고 있는디 ...   0.000000  \n",
       "100                           그~ 뭐~ 봉사활동 깥은 거이 있는 거이 뭐~   0.000000  \n",
       "506                           아이 나맨 거 거 거 거 거 거 거 거 거 거   0.000000  \n",
       "...                                                 ...        ...  \n",
       "1206                                   즌화 자주 하시구요 자주 자주  33.980885  \n",
       "1218                                    아따 도박이 참말애 우염하라  35.186297  \n",
       "1293                                   아나운서가 뭐러 아나운서가 뭐  35.186297  \n",
       "1437                                올제 잊지 마고 오시갸우 내리은 잊  39.763536  \n",
       "756                             울 신랑도 짝구 울 신랑도 짝구 긍까 아들  51.007752  \n",
       "\n",
       "[250 rows x 6 columns]"
      ]
     },
     "execution_count": 195,
     "metadata": {},
     "output_type": "execute_result"
    }
   ],
   "source": [
    "full_data_test.loc[:,['tok_cat','topic','reg','dial','pred','bleu']].sort_values('bleu')"
   ]
  },
  {
   "cell_type": "code",
   "execution_count": 196,
   "id": "c1c7abd5",
   "metadata": {},
   "outputs": [],
   "source": [
    "data_dir = os.getenv('HOME')+'/aiffel/DATA' # 파일 경로 지정\n",
    "full_data_test.to_csv(data_dir + '/test_results_custom_msp8000.csv')"
   ]
  },
  {
   "cell_type": "code",
   "execution_count": 197,
   "id": "d6b591e9",
   "metadata": {},
   "outputs": [
    {
     "data": {
      "text/html": [
       "Waiting for W&B process to finish... <strong style=\"color:green\">(success).</strong>"
      ],
      "text/plain": [
       "<IPython.core.display.HTML object>"
      ]
     },
     "metadata": {},
     "output_type": "display_data"
    },
    {
     "data": {
      "text/html": [
       "<style>\n",
       "    table.wandb td:nth-child(1) { padding: 0 10px; text-align: left ; width: auto;} td:nth-child(2) {text-align: left ; width: 100%}\n",
       "    .wandb-row { display: flex; flex-direction: row; flex-wrap: wrap; justify-content: flex-start; width: 100% }\n",
       "    .wandb-col { display: flex; flex-direction: column; flex-basis: 100%; flex: 1; padding: 10px; }\n",
       "    </style>\n",
       "<div class=\"wandb-row\"><div class=\"wandb-col\"><h3>Run history:</h3><br/><table class=\"wandb\"><tr><td>bleu</td><td>▁</td></tr><tr><td>train_loss</td><td>█▆▃▂▁▁▄▄▄▃▂▃▁</td></tr><tr><td>valid_loss</td><td>▄▃▂▁▃▃▃▄▆▇██▅</td></tr></table><br/></div><div class=\"wandb-col\"><h3>Run summary:</h3><br/><table class=\"wandb\"><tr><td>bleu</td><td>6.78306</td></tr><tr><td>train_loss</td><td>2.60463</td></tr><tr><td>valid_loss</td><td>3.74251</td></tr></table><br/></div></div>"
      ],
      "text/plain": [
       "<IPython.core.display.HTML object>"
      ]
     },
     "metadata": {},
     "output_type": "display_data"
    },
    {
     "data": {
      "text/html": [
       " View run <strong style=\"color:#cdcd00\">lucky-aardvark-3</strong> at: <a href='https://wandb.ai/saturi/model_exp_custom_msp_8009_0322v2/runs/i8nq0ubh' target=\"_blank\">https://wandb.ai/saturi/model_exp_custom_msp_8009_0322v2/runs/i8nq0ubh</a><br/>Synced 6 W&B file(s), 0 media file(s), 0 artifact file(s) and 0 other file(s)"
      ],
      "text/plain": [
       "<IPython.core.display.HTML object>"
      ]
     },
     "metadata": {},
     "output_type": "display_data"
    },
    {
     "data": {
      "text/html": [
       "Find logs at: <code>./wandb/run-20230322_123622-i8nq0ubh/logs</code>"
      ],
      "text/plain": [
       "<IPython.core.display.HTML object>"
      ]
     },
     "metadata": {},
     "output_type": "display_data"
    }
   ],
   "source": [
    "wandb.finish()"
   ]
  },
  {
   "cell_type": "code",
   "execution_count": null,
   "id": "9dea15ca",
   "metadata": {},
   "outputs": [],
   "source": []
  }
 ],
 "metadata": {
  "hide_input": false,
  "kernelspec": {
   "display_name": "Python 3 (ipykernel)",
   "language": "python",
   "name": "python3"
  },
  "language_info": {
   "codemirror_mode": {
    "name": "ipython",
    "version": 3
   },
   "file_extension": ".py",
   "mimetype": "text/x-python",
   "name": "python",
   "nbconvert_exporter": "python",
   "pygments_lexer": "ipython3",
   "version": "3.9.16"
  },
  "toc": {
   "base_numbering": 1,
   "nav_menu": {},
   "number_sections": true,
   "sideBar": true,
   "skip_h1_title": false,
   "title_cell": "Table of Contents",
   "title_sidebar": "Contents",
   "toc_cell": true,
   "toc_position": {
    "height": "670px",
    "left": "54px",
    "top": "208px",
    "width": "336px"
   },
   "toc_section_display": true,
   "toc_window_display": true
  },
  "varInspector": {
   "cols": {
    "lenName": 16,
    "lenType": 16,
    "lenVar": 40
   },
   "kernels_config": {
    "python": {
     "delete_cmd_postfix": "",
     "delete_cmd_prefix": "del ",
     "library": "var_list.py",
     "varRefreshCmd": "print(var_dic_list())"
    },
    "r": {
     "delete_cmd_postfix": ") ",
     "delete_cmd_prefix": "rm(",
     "library": "var_list.r",
     "varRefreshCmd": "cat(var_dic_list()) "
    }
   },
   "types_to_exclude": [
    "module",
    "function",
    "builtin_function_or_method",
    "instance",
    "_Feature"
   ],
   "window_display": false
  }
 },
 "nbformat": 4,
 "nbformat_minor": 5
}
