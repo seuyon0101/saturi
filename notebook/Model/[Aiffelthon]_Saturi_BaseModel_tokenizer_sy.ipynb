{
 "cells": [
  {
   "cell_type": "code",
   "execution_count": 39,
   "id": "55d87760",
   "metadata": {},
   "outputs": [
    {
     "name": "stdout",
     "output_type": "stream",
     "text": [
      "2.8.0\n",
      "1.5.3\n",
      "1.24.2\n"
     ]
    }
   ],
   "source": [
    "import warnings\n",
    "warnings.filterwarnings('ignore')\n",
    "\n",
    "import tensorflow as tf\n",
    "import numpy as np\n",
    "import pandas as pd\n",
    "\n",
    "import matplotlib as mpl\n",
    "import matplotlib.ticker as ticker\n",
    "import matplotlib.pyplot as plt\n",
    "from sklearn.model_selection import train_test_split\n",
    "import time\n",
    "import re\n",
    "import os\n",
    "import io\n",
    "\n",
    "\n",
    "# from tqdm import tqdm_notebook \n",
    "from tqdm import tqdm \n",
    "import random\n",
    "\n",
    "import sentencepiece as spm\n",
    "from konlpy.tag import Mecab\n",
    "\n",
    "print(tf.__version__)\n",
    "print(pd.__version__)\n",
    "print(np.__version__)"
   ]
  },
  {
   "cell_type": "markdown",
   "id": "4b2e8c9a",
   "metadata": {},
   "source": [
    "# Step 1. 데이터 불러오기\n",
    "   "
   ]
  },
  {
   "cell_type": "code",
   "execution_count": 44,
   "id": "6b5c700d",
   "metadata": {},
   "outputs": [],
   "source": [
    "data_dir = os.getenv(\"HOME\") + '/aiffel/DATA'\n",
    "tokenizer_name = 'cmsp'"
   ]
  },
  {
   "cell_type": "code",
   "execution_count": 45,
   "id": "c0bbbb0b",
   "metadata": {},
   "outputs": [],
   "source": [
    "# # train data load\n",
    "data_dir = os.getenv('HOME')+'/aiffel/DATA/pickle' # 파일 경로 지정\n",
    "data_train_path = data_dir+f\"/data_train_{tokenizer_name}_16000_0324.pkl\"\n",
    "data_test_path = data_dir+f\"/data_test_{tokenizer_name}_16000_0324.pkl\"\n",
    "full_data = pd.read_pickle(data_train_path, 'gzip')\n",
    "full_data_test = pd.read_pickle(data_test_path, 'gzip')"
   ]
  },
  {
   "cell_type": "code",
   "execution_count": 46,
   "id": "19760f15",
   "metadata": {},
   "outputs": [
    {
     "name": "stdout",
     "output_type": "stream",
     "text": [
      "<class 'pandas.core.frame.DataFrame'>\n",
      "Int64Index: 948219 entries, 0 to 949887\n",
      "Data columns (total 7 columns):\n",
      " #   Column    Non-Null Count   Dtype \n",
      "---  ------    --------------   ----- \n",
      " 0   reg       948219 non-null  object\n",
      " 1   topic     948219 non-null  object\n",
      " 2   stdn      948219 non-null  object\n",
      " 3   dial      948219 non-null  object\n",
      " 4   eng       948219 non-null  object\n",
      " 5   toks_en   948219 non-null  object\n",
      " 6   toks_dec  948219 non-null  object\n",
      "dtypes: object(7)\n",
      "memory usage: 57.9+ MB\n"
     ]
    }
   ],
   "source": [
    "full_data.info()"
   ]
  },
  {
   "cell_type": "code",
   "execution_count": 47,
   "id": "104b7edb",
   "metadata": {},
   "outputs": [
    {
     "name": "stdout",
     "output_type": "stream",
     "text": [
      "<class 'pandas.core.frame.DataFrame'>\n",
      "Int64Index: 125 entries, 39379 to 297204\n",
      "Data columns (total 7 columns):\n",
      " #   Column    Non-Null Count  Dtype \n",
      "---  ------    --------------  ----- \n",
      " 0   reg       125 non-null    object\n",
      " 1   topic     125 non-null    object\n",
      " 2   stdn      125 non-null    object\n",
      " 3   dial      125 non-null    object\n",
      " 4   eng       125 non-null    object\n",
      " 5   toks_en   125 non-null    object\n",
      " 6   toks_dec  125 non-null    object\n",
      "dtypes: object(7)\n",
      "memory usage: 7.8+ KB\n"
     ]
    }
   ],
   "source": [
    "full_data_test.info()"
   ]
  },
  {
   "cell_type": "code",
   "execution_count": 48,
   "id": "18cb69b5",
   "metadata": {},
   "outputs": [],
   "source": [
    "regs = full_data.reg.unique()"
   ]
  },
  {
   "cell_type": "code",
   "execution_count": 49,
   "id": "50d62e87",
   "metadata": {},
   "outputs": [
    {
     "data": {
      "image/png": "[encoded data removed]",
      "text/plain": [
       "<Figure size 640x480 with 1 Axes>"
      ]
     },
     "metadata": {},
     "output_type": "display_data"
    }
   ],
   "source": [
    "import seaborn as sns\n",
    "full_data['tok_len'] = full_data['toks_en'].apply(lambda x : len(x))\n",
    "sns.histplot(x='tok_len',data = full_data, bins= 50,stat='probability' )\n",
    "plt.show()"
   ]
  },
  {
   "cell_type": "code",
   "execution_count": 50,
   "id": "c7343821",
   "metadata": {},
   "outputs": [
    {
     "data": {
      "text/plain": [
       "reg\n",
       "cc    19.258820\n",
       "gs    18.009518\n",
       "jd    18.796067\n",
       "jj    15.125946\n",
       "kw    15.556690\n",
       "Name: tok_len, dtype: float64"
      ]
     },
     "execution_count": 50,
     "metadata": {},
     "output_type": "execute_result"
    }
   ],
   "source": [
    "full_data.groupby(full_data['reg'])['tok_len'].mean()"
   ]
  },
  {
   "cell_type": "code",
   "execution_count": 51,
   "id": "9491cbf9",
   "metadata": {},
   "outputs": [],
   "source": [
    "full_data['tok_cat'] = pd.qcut(full_data['tok_len'], [0,0.9,0.9999,1],labels =[1,2,3])"
   ]
  },
  {
   "cell_type": "code",
   "execution_count": 52,
   "id": "e8565ca2",
   "metadata": {},
   "outputs": [
    {
     "data": {
      "text/plain": [
       "90"
      ]
     },
     "execution_count": 52,
     "metadata": {},
     "output_type": "execute_result"
    }
   ],
   "source": [
    "len(full_data.loc[full_data['tok_cat']==3,'tok_len'])"
   ]
  },
  {
   "cell_type": "code",
   "execution_count": 53,
   "id": "8215d204",
   "metadata": {},
   "outputs": [
    {
     "data": {
      "text/plain": [
       "min     68\n",
       "max    169\n",
       "Name: tok_len, dtype: int64"
      ]
     },
     "execution_count": 53,
     "metadata": {},
     "output_type": "execute_result"
    }
   ],
   "source": [
    "full_data.loc[full_data['tok_cat']==3,'tok_len'].agg([min,max])"
   ]
  },
  {
   "cell_type": "code",
   "execution_count": 54,
   "id": "d817acf0",
   "metadata": {},
   "outputs": [
    {
     "data": {
      "text/plain": [
       "True"
      ]
     },
     "execution_count": 54,
     "metadata": {},
     "output_type": "execute_result"
    }
   ],
   "source": [
    "data_path = os.getenv('HOME') + '/aiffel/saturi/notebook/Preprocessing/'\n",
    "sizes = 16009\n",
    "SRC_VOCAB_SIZE = sizes\n",
    "TGT_VOCAB_SIZE = sizes\n",
    "\n",
    "enc_tokenizer = spm.SentencePieceProcessor()\n",
    "enc_tokenizer.Load(data_path+'spm_enc_spm16000.model')\n",
    "\n",
    "dec_tokenizer = spm.SentencePieceProcessor()\n",
    "dec_tokenizer.Load(data_path+f'spm_dec_{tokenizer_name}16000.model')\n",
    "\n",
    "dec_tokenizer.set_encode_extra_options(\"bos:eos\")"
   ]
  },
  {
   "cell_type": "markdown",
   "id": "b68adf64",
   "metadata": {},
   "source": [
    "# Step 2. 모델불러오기"
   ]
  },
  {
   "cell_type": "code",
   "execution_count": 55,
   "id": "cf9adca2",
   "metadata": {},
   "outputs": [
    {
     "name": "stderr",
     "output_type": "stream",
     "text": [
      "\u001b[34m\u001b[1mwandb\u001b[0m: \u001b[33mWARNING\u001b[0m Calling wandb.login() after wandb.init() has no effect.\n"
     ]
    },
    {
     "data": {
      "text/plain": [
       "True"
      ]
     },
     "execution_count": 55,
     "metadata": {},
     "output_type": "execute_result"
    }
   ],
   "source": [
    "import wandb\n",
    "wandb.login()"
   ]
  },
  {
   "cell_type": "code",
   "execution_count": 56,
   "id": "8fca30f1",
   "metadata": {},
   "outputs": [
    {
     "data": {
      "text/html": [
       "Finishing last run (ID:2lne7mkb) before initializing another..."
      ],
      "text/plain": [
       "<IPython.core.display.HTML object>"
      ]
     },
     "metadata": {},
     "output_type": "display_data"
    },
    {
     "data": {
      "text/html": [
       "Waiting for W&B process to finish... <strong style=\"color:green\">(success).</strong>"
      ],
      "text/plain": [
       "<IPython.core.display.HTML object>"
      ]
     },
     "metadata": {},
     "output_type": "display_data"
    },
    {
     "data": {
      "text/html": [
       "<style>\n",
       "    table.wandb td:nth-child(1) { padding: 0 10px; text-align: left ; width: auto;} td:nth-child(2) {text-align: left ; width: 100%}\n",
       "    .wandb-row { display: flex; flex-direction: row; flex-wrap: wrap; justify-content: flex-start; width: 100% }\n",
       "    .wandb-col { display: flex; flex-direction: column; flex-basis: 100%; flex: 1; padding: 10px; }\n",
       "    </style>\n",
       "<div class=\"wandb-row\"><div class=\"wandb-col\"><h3>Run history:</h3><br/><table class=\"wandb\"><tr><td>bleu</td><td>▁</td></tr><tr><td>train_loss</td><td>█▇▇▆▁▁▁▁▁▁▁▁▁▂▂▂▂▂▂▂▂▂▂▂▂▂▂▂▂▂▂▂▂▂▂▂▂▂▂▂</td></tr><tr><td>valid_loss</td><td>▄▅▅▄▃▁▂▂▂▁█▆▇▇▅</td></tr></table><br/></div><div class=\"wandb-col\"><h3>Run summary:</h3><br/><table class=\"wandb\"><tr><td>bleu</td><td>15.45343</td></tr><tr><td>train_loss</td><td>2.84169</td></tr><tr><td>valid_loss</td><td>3.85542</td></tr></table><br/></div></div>"
      ],
      "text/plain": [
       "<IPython.core.display.HTML object>"
      ]
     },
     "metadata": {},
     "output_type": "display_data"
    },
    {
     "data": {
      "text/html": [
       " View run <strong style=\"color:#cdcd00\">skilled-fire-8</strong> at: <a href='https://wandb.ai/saturi/model_exp_spm_16000_0329_final_%EC%B5%9C%EC%A2%85/runs/2lne7mkb' target=\"_blank\">https://wandb.ai/saturi/model_exp_spm_16000_0329_final_%EC%B5%9C%EC%A2%85/runs/2lne7mkb</a><br/>Synced 6 W&B file(s), 0 media file(s), 0 artifact file(s) and 0 other file(s)"
      ],
      "text/plain": [
       "<IPython.core.display.HTML object>"
      ]
     },
     "metadata": {},
     "output_type": "display_data"
    },
    {
     "data": {
      "text/html": [
       "Find logs at: <code>./wandb/run-20230329_145607-2lne7mkb/logs</code>"
      ],
      "text/plain": [
       "<IPython.core.display.HTML object>"
      ]
     },
     "metadata": {},
     "output_type": "display_data"
    },
    {
     "data": {
      "text/html": [
       "Successfully finished last run (ID:2lne7mkb). Initializing new run:<br/>"
      ],
      "text/plain": [
       "<IPython.core.display.HTML object>"
      ]
     },
     "metadata": {},
     "output_type": "display_data"
    },
    {
     "data": {
      "application/vnd.jupyter.widget-view+json": {
       "model_id": "2692697603da4d0da4c27fe034e4dbb2",
       "version_major": 2,
       "version_minor": 0
      },
      "text/plain": [
       "VBox(children=(Label(value='Waiting for wandb.init()...\\r'), FloatProgress(value=0.016669729183346742, max=1.0…"
      ]
     },
     "metadata": {},
     "output_type": "display_data"
    },
    {
     "data": {
      "text/html": [
       "Tracking run with wandb version 0.14.0"
      ],
      "text/plain": [
       "<IPython.core.display.HTML object>"
      ]
     },
     "metadata": {},
     "output_type": "display_data"
    },
    {
     "data": {
      "text/html": [
       "Run data is saved locally in <code>/home/seuyon0101/aiffel/saturi/notebook/Model/wandb/run-20230329_152806-76m9sk6m</code>"
      ],
      "text/plain": [
       "<IPython.core.display.HTML object>"
      ]
     },
     "metadata": {},
     "output_type": "display_data"
    },
    {
     "data": {
      "text/html": [
       "Syncing run <strong><a href='https://wandb.ai/saturi/model_exp_cmsp_16000_0329_final_%EC%B5%9C%EC%A2%85/runs/76m9sk6m' target=\"_blank\">visionary-cloud-1</a></strong> to <a href='https://wandb.ai/saturi/model_exp_cmsp_16000_0329_final_%EC%B5%9C%EC%A2%85' target=\"_blank\">Weights & Biases</a> (<a href='https://wandb.me/run' target=\"_blank\">docs</a>)<br/>"
      ],
      "text/plain": [
       "<IPython.core.display.HTML object>"
      ]
     },
     "metadata": {},
     "output_type": "display_data"
    },
    {
     "data": {
      "text/html": [
       " View project at <a href='https://wandb.ai/saturi/model_exp_cmsp_16000_0329_final_%EC%B5%9C%EC%A2%85' target=\"_blank\">https://wandb.ai/saturi/model_exp_cmsp_16000_0329_final_%EC%B5%9C%EC%A2%85</a>"
      ],
      "text/plain": [
       "<IPython.core.display.HTML object>"
      ]
     },
     "metadata": {},
     "output_type": "display_data"
    },
    {
     "data": {
      "text/html": [
       " View run at <a href='https://wandb.ai/saturi/model_exp_cmsp_16000_0329_final_%EC%B5%9C%EC%A2%85/runs/76m9sk6m' target=\"_blank\">https://wandb.ai/saturi/model_exp_cmsp_16000_0329_final_%EC%B5%9C%EC%A2%85/runs/76m9sk6m</a>"
      ],
      "text/plain": [
       "<IPython.core.display.HTML object>"
      ]
     },
     "metadata": {},
     "output_type": "display_data"
    }
   ],
   "source": [
    "#wandb 설정\n",
    "warmups = 8500\n",
    "project_name = f'model_exp_{tokenizer_name}_16000_0329_final_최종'\n",
    "run  = wandb.init(project = project_name ,\n",
    "                 entity = 'saturi',\n",
    "                 config = {\n",
    "                     'model_name':'Vanilla_Transformer',\n",
    "                     'n_layers':6,\n",
    "                     'd_model':512,\n",
    "                     'n_heads':8,\n",
    "                     'd_ff':2048,\n",
    "                     'src_vocab_size':SRC_VOCAB_SIZE,\n",
    "                     'tgt_vocab_size':TGT_VOCAB_SIZE,\n",
    "                     'pos_len': 512,\n",
    "                     'dropout':0.2,\n",
    "                     'shared':True,\n",
    "                     'warmups' : warmups,\n",
    "                     'epochs':1,\n",
    "                     'optimizer' :'ADAM',\n",
    "                     'loss' : 'SparseCategoricalCrossentropy',\n",
    "                     'metric' : 'bleu'\n",
    "                 })\n",
    "config = wandb.config"
   ]
  },
  {
   "cell_type": "code",
   "execution_count": 57,
   "id": "c948ef42",
   "metadata": {},
   "outputs": [],
   "source": [
    "import sys\n",
    "sys.path.insert(0,os.getenv('HOME') + '/aiffel/saturi/MODEL/') # vanilla transformer 파일경로에서 불러오기 위해 설정\n",
    "sys.path.insert(0,os.getenv('HOME') + '/aiffel/saturi/PRE/')\n",
    "sys.path.insert(0,os.getenv('HOME') + '/aiffel/saturi/POST/')"
   ]
  },
  {
   "cell_type": "code",
   "execution_count": 58,
   "id": "dc718fdd",
   "metadata": {},
   "outputs": [],
   "source": [
    "from vanilla_transformer import Transformer, generate_masks\n",
    "\n",
    "transformer = Transformer(\n",
    "    n_layers=config.n_layers,\n",
    "    d_model=config.d_model,\n",
    "    n_heads=config.n_heads,\n",
    "    d_ff=config.d_ff,\n",
    "    src_vocab_size=config.src_vocab_size,\n",
    "    tgt_vocab_size=config.tgt_vocab_size,\n",
    "    pos_len=config.pos_len,\n",
    "    dropout=config.dropout,\n",
    "    shared=config.shared\n",
    ")"
   ]
  },
  {
   "cell_type": "markdown",
   "id": "f342277c",
   "metadata": {},
   "source": [
    "##  Learning Rate Scheduler를 선언하고, 이를 포함하는 Adam Optimizer를 선언"
   ]
  },
  {
   "cell_type": "code",
   "execution_count": 59,
   "id": "206e432d",
   "metadata": {},
   "outputs": [],
   "source": [
    "class LearningRateScheduler(tf.keras.optimizers.schedules.LearningRateSchedule):\n",
    "    def __init__(self, d_model, warmup_steps=config.warmups):\n",
    "        super(LearningRateScheduler, self).__init__()\n",
    "        self.d_model = d_model\n",
    "        self.warmup_steps = warmup_steps\n",
    "    \n",
    "    def __call__(self, step):\n",
    "        arg1 = step ** np.array(-0.5)\n",
    "        arg2 = step * np.array(self.warmup_steps ** -1.5)\n",
    "        \n",
    "        return np.array(self.d_model ** -0.5) * tf.math.minimum(arg1, arg2)"
   ]
  },
  {
   "cell_type": "code",
   "execution_count": 60,
   "id": "ea6594ae",
   "metadata": {},
   "outputs": [],
   "source": [
    "learningrate = LearningRateScheduler(512)"
   ]
  },
  {
   "cell_type": "code",
   "execution_count": 61,
   "id": "8786194f",
   "metadata": {},
   "outputs": [],
   "source": [
    "optimizer = tf.keras.optimizers.Adam(learningrate, beta_1=0.9, beta_2=0.98, epsilon=1e-9)"
   ]
  },
  {
   "cell_type": "markdown",
   "id": "acb5db58",
   "metadata": {},
   "source": [
    "## Loss 함수를 정의\n"
   ]
  },
  {
   "cell_type": "code",
   "execution_count": 62,
   "id": "2a8f5f9e",
   "metadata": {},
   "outputs": [],
   "source": [
    "# Loss 함수 정의\n",
    "loss_object = tf.keras.losses.SparseCategoricalCrossentropy(from_logits=True, reduction='none')\n",
    "\n",
    "def loss_function(real, pred):\n",
    "    mask = tf.math.logical_not(tf.math.equal(real, 0))\n",
    "    loss_ = loss_object(real, pred)\n",
    "\n",
    "    # Masking 되지 않은 입력의 개수로 Scaling하는 과정\n",
    "    mask = tf.cast(mask, dtype=loss_.dtype)\n",
    "    loss_ *= mask\n",
    "\n",
    "    return tf.reduce_sum(loss_)/tf.reduce_sum(mask)"
   ]
  },
  {
   "cell_type": "markdown",
   "id": "c3145902",
   "metadata": {},
   "source": [
    "## train_step 함수를 정의\n"
   ]
  },
  {
   "cell_type": "code",
   "execution_count": 63,
   "id": "6a1078f5",
   "metadata": {},
   "outputs": [],
   "source": [
    "@tf.function()\n",
    "def train_step(src, tgt, model, optimizer):\n",
    "    gold = tgt[:, 1:]\n",
    "        \n",
    "    enc_mask, dec_enc_mask, dec_mask = generate_masks(src, tgt)\n",
    "\n",
    "    # 계산된 loss에 tf.GradientTape()를 적용해 학습을 진행합니다.\n",
    "    with tf.GradientTape() as tape:\n",
    "        predictions, enc_attns, dec_attns, dec_enc_attns = model(src, tgt, enc_mask, dec_enc_mask, dec_mask)\n",
    "        loss = loss_function(gold, predictions[:, :-1])\n",
    "\n",
    "    # 최종적으로 optimizer.apply_gradients()가 사용됩니다. \n",
    "    gradients = tape.gradient(loss, model.trainable_variables)    \n",
    "    optimizer.apply_gradients(zip(gradients, model.trainable_variables))\n",
    "    \n",
    "    \n",
    "    return loss, enc_attns, dec_attns, dec_enc_attns, predictions"
   ]
  },
  {
   "cell_type": "code",
   "execution_count": 64,
   "id": "59985e0a",
   "metadata": {},
   "outputs": [],
   "source": [
    "# Validating the model\n",
    "@tf.function\n",
    "def model_validate(src, tgt, model):\n",
    "    gold = tgt[:, 1:]\n",
    "        \n",
    "    enc_mask, dec_enc_mask, dec_mask = generate_masks(src, tgt)\n",
    "    predictions, enc_attns, dec_attns, dec_enc_attns = model(src, tgt, enc_mask, dec_enc_mask, dec_mask)\n",
    "    v_loss = loss_function(gold, predictions[:, :-1])\n",
    "    \n",
    "    return v_loss, predictions"
   ]
  },
  {
   "cell_type": "code",
   "execution_count": 65,
   "id": "2c47c6ab",
   "metadata": {},
   "outputs": [],
   "source": [
    "# 학습 매니저 설정\n",
    "from evaluation import evaluate, compute_metric, translate\n",
    "full_data = full_data.sample(frac=1).copy()\n",
    "\n",
    "def train_and_checkpoint(transformer, manager, EPOCHS):\n",
    "    ckpt.restore(manager.latest_checkpoint)\n",
    "    if manager.latest_checkpoint:\n",
    "        print(\"Restored from {}\".format(manager.latest_checkpoint))\n",
    "    \n",
    "    else:\n",
    "        print(\"Initializing from scratch.\")\n",
    "\n",
    "\n",
    "    for epoch in range(EPOCHS):\n",
    "        \n",
    "        batch_size = 64\n",
    "        buckets = iter(reversed(full_data['tok_cat'].unique().tolist()))\n",
    "\n",
    "        for bucket in buckets :\n",
    "            total_loss = 0     \n",
    "            \n",
    "            src_corpus = full_data.loc[full_data['tok_cat']==bucket,'toks_en'].values\n",
    "            tgt_corpus = full_data.loc[full_data['tok_cat']==bucket,'toks_dec'].values\n",
    "            src_valid_corpus = full_data_test['toks_en'].values\n",
    "            tgt_valid_corpus = full_data_test['toks_dec'].values\n",
    "            max_len = full_data.loc[full_data['tok_cat']==bucket,'tok_len'].max()\n",
    "\n",
    "            if max_len > 380 :\n",
    "                batch_size = 8\n",
    "\n",
    "            if max_len > 512 : \n",
    "                max_len = 512\n",
    "\n",
    "\n",
    "            enc_train = tf.keras.preprocessing.sequence.pad_sequences(src_corpus, padding='post', maxlen=max_len)\n",
    "            dec_train = tf.keras.preprocessing.sequence.pad_sequences(tgt_corpus, padding='post', maxlen=max_len)\n",
    "            enc_test = tf.keras.preprocessing.sequence.pad_sequences(src_valid_corpus, padding='post', maxlen=max_len)\n",
    "            dec_test = tf.keras.preprocessing.sequence.pad_sequences(tgt_valid_corpus, padding='post', maxlen=max_len)\n",
    "            \n",
    "            idx_list = list(range(0, enc_train.shape[0], batch_size))\n",
    "            random.shuffle(idx_list)\n",
    "\n",
    "            t = tqdm(idx_list)\n",
    "            \n",
    "            for (batch, idx) in enumerate(t):\n",
    "                batch_loss, enc_attns, dec_attns, dec_enc_attns, preds = train_step(enc_train[idx:idx+batch_size],\n",
    "                                                                             dec_train[idx:idx+batch_size],\n",
    "                                                                             transformer,\n",
    "                                                                             optimizer)\n",
    "\n",
    "                total_loss += batch_loss\n",
    "\n",
    "                t.set_description_str('Bucket %2d' % (bucket))\n",
    "                t.set_postfix_str('Loss %.4f' % (total_loss.numpy() / (batch + 1)))\n",
    "            \n",
    "                wandb.log({\n",
    "                       \"train_loss\": (total_loss.numpy() / (batch + 1)),\n",
    "                       })\n",
    "            \n",
    "            #validation\n",
    "            total_loss_val = 0\n",
    "            val_size=25\n",
    "            tv = tqdm(range(0,enc_test.shape[0], val_size))\n",
    "            \n",
    "            for (batch_val,test_idx) in enumerate(tv) :\n",
    "                val_loss, val_preds = model_validate(enc_test[test_idx : test_idx + val_size],\n",
    "                                          dec_test[test_idx : test_idx + val_size],\n",
    "                                          transformer)\n",
    "                total_loss_val += val_loss\n",
    "                tv.set_postfix_str('val_Loss %.4f' % (total_loss_val.numpy() / (batch_val + 1)))\n",
    "                \n",
    "                wandb.log({\n",
    "                           \"valid_loss\" : (total_loss_val.numpy() / (batch_val + 1))\n",
    "                           })\n",
    "\n",
    "            save_path = manager.save()\n",
    "            print(\"Saved checkpoint for step {}: {}\".format(int(ckpt.step), save_path))\n",
    "            \n",
    "        # bleu score\n",
    "        from datasets import load_metric\n",
    "\n",
    "        bleu = load_metric(\"sacrebleu\")\n",
    "        test_translate = []\n",
    "        bleu_valid_score = []\n",
    "        \n",
    "        test_text = full_data_test.eng.values\n",
    "        test_tgt = full_data_test.dial.values\n",
    "        \n",
    "        for i in tqdm(range(len(test_text))) :\n",
    "            trans = translate(test_text[i], transformer, enc_tokenizer, dec_tokenizer, verbose =False)\n",
    "            test_translate.append(trans)\n",
    "            label = dec_tokenizer.decode(test_tgt[i])\n",
    "            result = bleu.compute(predictions=[trans], references=[[label]], smooth_method='add-k')['score']\n",
    "            bleu_valid_score.append(result)\n",
    "\n",
    "        sum(bleu_valid_score)/len(test_text)\n",
    "        wandb.log({\"bleu\": sum(bleu_valid_score)/len(test_text)})\n",
    "\n",
    "        full_data_test['bleu'] = np.array(bleu_valid_score)\n",
    "        full_data_test['pred'] = test_translate\n",
    "            \n",
    "directory = os.getenv('HOME') + '/aiffel/MODEL/'\n",
    "ckpt = tf.train.Checkpoint(step = tf.Variable(1), optimizer = optimizer , transformer = transformer)\n",
    "manager = tf.train.CheckpointManager(ckpt, directory +f'tf_{tokenizer_name}16000_ckpt_final_0329_최종',max_to_keep=6)"
   ]
  },
  {
   "cell_type": "code",
   "execution_count": 66,
   "id": "17e48b2e",
   "metadata": {},
   "outputs": [],
   "source": [
    "# import shutil\n",
    "# dir_mo = os.getenv(\"HOME\") + '/aiffel/MODEL'\n",
    "# os.listdir(dir_mo)"
   ]
  },
  {
   "cell_type": "code",
   "execution_count": 67,
   "id": "48de87f6",
   "metadata": {},
   "outputs": [],
   "source": [
    "# shutil.rmtree(dir_mo + '/##')"
   ]
  },
  {
   "cell_type": "markdown",
   "id": "73a3045a",
   "metadata": {},
   "source": [
    "## 학습"
   ]
  },
  {
   "cell_type": "code",
   "execution_count": 68,
   "id": "70834cb0",
   "metadata": {},
   "outputs": [
    {
     "data": {
      "text/html": [
       "Finishing last run (ID:76m9sk6m) before initializing another..."
      ],
      "text/plain": [
       "<IPython.core.display.HTML object>"
      ]
     },
     "metadata": {},
     "output_type": "display_data"
    },
    {
     "data": {
      "text/html": [
       "Waiting for W&B process to finish... <strong style=\"color:green\">(success).</strong>"
      ],
      "text/plain": [
       "<IPython.core.display.HTML object>"
      ]
     },
     "metadata": {},
     "output_type": "display_data"
    },
    {
     "data": {
      "text/html": [
       " View run <strong style=\"color:#cdcd00\">visionary-cloud-1</strong> at: <a href='https://wandb.ai/saturi/model_exp_cmsp_16000_0329_final_%EC%B5%9C%EC%A2%85/runs/76m9sk6m' target=\"_blank\">https://wandb.ai/saturi/model_exp_cmsp_16000_0329_final_%EC%B5%9C%EC%A2%85/runs/76m9sk6m</a><br/>Synced 5 W&B file(s), 0 media file(s), 0 artifact file(s) and 0 other file(s)"
      ],
      "text/plain": [
       "<IPython.core.display.HTML object>"
      ]
     },
     "metadata": {},
     "output_type": "display_data"
    },
    {
     "data": {
      "text/html": [
       "Find logs at: <code>./wandb/run-20230329_152806-76m9sk6m/logs</code>"
      ],
      "text/plain": [
       "<IPython.core.display.HTML object>"
      ]
     },
     "metadata": {},
     "output_type": "display_data"
    },
    {
     "data": {
      "text/html": [
       "Successfully finished last run (ID:76m9sk6m). Initializing new run:<br/>"
      ],
      "text/plain": [
       "<IPython.core.display.HTML object>"
      ]
     },
     "metadata": {},
     "output_type": "display_data"
    },
    {
     "data": {
      "application/vnd.jupyter.widget-view+json": {
       "model_id": "929785d71430463598a3d8159401b498",
       "version_major": 2,
       "version_minor": 0
      },
      "text/plain": [
       "VBox(children=(Label(value='Waiting for wandb.init()...\\r'), FloatProgress(value=0.016669905116668816, max=1.0…"
      ]
     },
     "metadata": {},
     "output_type": "display_data"
    },
    {
     "data": {
      "text/html": [
       "Tracking run with wandb version 0.14.0"
      ],
      "text/plain": [
       "<IPython.core.display.HTML object>"
      ]
     },
     "metadata": {},
     "output_type": "display_data"
    },
    {
     "data": {
      "text/html": [
       "Run data is saved locally in <code>/home/seuyon0101/aiffel/saturi/notebook/Model/wandb/run-20230329_152820-d7c3sflh</code>"
      ],
      "text/plain": [
       "<IPython.core.display.HTML object>"
      ]
     },
     "metadata": {},
     "output_type": "display_data"
    },
    {
     "data": {
      "text/html": [
       "Syncing run <strong><a href='https://wandb.ai/saturi/model_exp_cmsp_16000_0329_final_%EC%B5%9C%EC%A2%85/runs/d7c3sflh' target=\"_blank\">deft-terrain-2</a></strong> to <a href='https://wandb.ai/saturi/model_exp_cmsp_16000_0329_final_%EC%B5%9C%EC%A2%85' target=\"_blank\">Weights & Biases</a> (<a href='https://wandb.me/run' target=\"_blank\">docs</a>)<br/>"
      ],
      "text/plain": [
       "<IPython.core.display.HTML object>"
      ]
     },
     "metadata": {},
     "output_type": "display_data"
    },
    {
     "data": {
      "text/html": [
       " View project at <a href='https://wandb.ai/saturi/model_exp_cmsp_16000_0329_final_%EC%B5%9C%EC%A2%85' target=\"_blank\">https://wandb.ai/saturi/model_exp_cmsp_16000_0329_final_%EC%B5%9C%EC%A2%85</a>"
      ],
      "text/plain": [
       "<IPython.core.display.HTML object>"
      ]
     },
     "metadata": {},
     "output_type": "display_data"
    },
    {
     "data": {
      "text/html": [
       " View run at <a href='https://wandb.ai/saturi/model_exp_cmsp_16000_0329_final_%EC%B5%9C%EC%A2%85/runs/d7c3sflh' target=\"_blank\">https://wandb.ai/saturi/model_exp_cmsp_16000_0329_final_%EC%B5%9C%EC%A2%85/runs/d7c3sflh</a>"
      ],
      "text/plain": [
       "<IPython.core.display.HTML object>"
      ]
     },
     "metadata": {},
     "output_type": "display_data"
    },
    {
     "name": "stdout",
     "output_type": "stream",
     "text": [
      "Initializing from scratch.\n"
     ]
    },
    {
     "name": "stderr",
     "output_type": "stream",
     "text": [
      "Bucket  3: 100%|████████████████████| 2/2 [00:14<00:00,  7.09s/it, Loss 10.8646]\n",
      "100%|███████████████████████████| 5/5 [00:02<00:00,  2.47it/s, val_Loss 11.0509]\n"
     ]
    },
    {
     "name": "stdout",
     "output_type": "stream",
     "text": [
      "Saved checkpoint for step 1: /home/seuyon0101/aiffel/MODEL/tf_cmsp16000_ckpt_final_0329_최종/ckpt-1\n"
     ]
    },
    {
     "name": "stderr",
     "output_type": "stream",
     "text": [
      "Bucket  2: 100%|███████████████| 1455/1455 [04:26<00:00,  5.45it/s, Loss 6.7737]\n",
      "100%|████████████████████████████| 5/5 [00:01<00:00,  2.78it/s, val_Loss 5.5661]\n"
     ]
    },
    {
     "name": "stdout",
     "output_type": "stream",
     "text": [
      "Saved checkpoint for step 1: /home/seuyon0101/aiffel/MODEL/tf_cmsp16000_ckpt_final_0329_최종/ckpt-2\n"
     ]
    },
    {
     "name": "stderr",
     "output_type": "stream",
     "text": [
      "Bucket  1: 100%|█████████████| 13360/13360 [16:55<00:00, 13.16it/s, Loss 4.3687]\n",
      "100%|████████████████████████████| 5/5 [00:01<00:00,  2.94it/s, val_Loss 3.8252]\n"
     ]
    },
    {
     "name": "stdout",
     "output_type": "stream",
     "text": [
      "Saved checkpoint for step 1: /home/seuyon0101/aiffel/MODEL/tf_cmsp16000_ckpt_final_0329_최종/ckpt-3\n"
     ]
    },
    {
     "name": "stderr",
     "output_type": "stream",
     "text": [
      "100%|█████████████████████████████████████████| 125/125 [04:12<00:00,  2.02s/it]\n"
     ]
    },
    {
     "data": {
      "text/html": [
       "Finishing last run (ID:d7c3sflh) before initializing another..."
      ],
      "text/plain": [
       "<IPython.core.display.HTML object>"
      ]
     },
     "metadata": {},
     "output_type": "display_data"
    },
    {
     "data": {
      "text/html": [
       "Waiting for W&B process to finish... <strong style=\"color:green\">(success).</strong>"
      ],
      "text/plain": [
       "<IPython.core.display.HTML object>"
      ]
     },
     "metadata": {},
     "output_type": "display_data"
    },
    {
     "data": {
      "text/html": [
       "<style>\n",
       "    table.wandb td:nth-child(1) { padding: 0 10px; text-align: left ; width: auto;} td:nth-child(2) {text-align: left ; width: 100%}\n",
       "    .wandb-row { display: flex; flex-direction: row; flex-wrap: wrap; justify-content: flex-start; width: 100% }\n",
       "    .wandb-col { display: flex; flex-direction: column; flex-basis: 100%; flex: 1; padding: 10px; }\n",
       "    </style>\n",
       "<div class=\"wandb-row\"><div class=\"wandb-col\"><h3>Run history:</h3><br/><table class=\"wandb\"><tr><td>bleu</td><td>▁</td></tr><tr><td>train_loss</td><td>█▆▅▅▃▃▂▂▂▂▂▂▂▂▂▂▂▂▂▂▂▁▁▁▁▁▁▁▁▁▁▁▁▁▁▁▁▁▁▁</td></tr><tr><td>valid_loss</td><td>█████▂▃▃▃▃▁▁▁▁▁</td></tr></table><br/></div><div class=\"wandb-col\"><h3>Run summary:</h3><br/><table class=\"wandb\"><tr><td>bleu</td><td>12.79462</td></tr><tr><td>train_loss</td><td>4.36869</td></tr><tr><td>valid_loss</td><td>3.82516</td></tr></table><br/></div></div>"
      ],
      "text/plain": [
       "<IPython.core.display.HTML object>"
      ]
     },
     "metadata": {},
     "output_type": "display_data"
    },
    {
     "data": {
      "text/html": [
       " View run <strong style=\"color:#cdcd00\">deft-terrain-2</strong> at: <a href='https://wandb.ai/saturi/model_exp_cmsp_16000_0329_final_%EC%B5%9C%EC%A2%85/runs/d7c3sflh' target=\"_blank\">https://wandb.ai/saturi/model_exp_cmsp_16000_0329_final_%EC%B5%9C%EC%A2%85/runs/d7c3sflh</a><br/>Synced 6 W&B file(s), 0 media file(s), 0 artifact file(s) and 0 other file(s)"
      ],
      "text/plain": [
       "<IPython.core.display.HTML object>"
      ]
     },
     "metadata": {},
     "output_type": "display_data"
    },
    {
     "data": {
      "text/html": [
       "Find logs at: <code>./wandb/run-20230329_152820-d7c3sflh/logs</code>"
      ],
      "text/plain": [
       "<IPython.core.display.HTML object>"
      ]
     },
     "metadata": {},
     "output_type": "display_data"
    },
    {
     "data": {
      "text/html": [
       "Successfully finished last run (ID:d7c3sflh). Initializing new run:<br/>"
      ],
      "text/plain": [
       "<IPython.core.display.HTML object>"
      ]
     },
     "metadata": {},
     "output_type": "display_data"
    },
    {
     "data": {
      "text/html": [
       "Tracking run with wandb version 0.14.0"
      ],
      "text/plain": [
       "<IPython.core.display.HTML object>"
      ]
     },
     "metadata": {},
     "output_type": "display_data"
    },
    {
     "data": {
      "text/html": [
       "Run data is saved locally in <code>/home/seuyon0101/aiffel/saturi/notebook/Model/wandb/run-20230329_155432-botfrkt3</code>"
      ],
      "text/plain": [
       "<IPython.core.display.HTML object>"
      ]
     },
     "metadata": {},
     "output_type": "display_data"
    },
    {
     "data": {
      "text/html": [
       "Syncing run <strong><a href='https://wandb.ai/saturi/model_exp_cmsp_16000_0329_final_%EC%B5%9C%EC%A2%85/runs/botfrkt3' target=\"_blank\">northern-totem-3</a></strong> to <a href='https://wandb.ai/saturi/model_exp_cmsp_16000_0329_final_%EC%B5%9C%EC%A2%85' target=\"_blank\">Weights & Biases</a> (<a href='https://wandb.me/run' target=\"_blank\">docs</a>)<br/>"
      ],
      "text/plain": [
       "<IPython.core.display.HTML object>"
      ]
     },
     "metadata": {},
     "output_type": "display_data"
    },
    {
     "data": {
      "text/html": [
       " View project at <a href='https://wandb.ai/saturi/model_exp_cmsp_16000_0329_final_%EC%B5%9C%EC%A2%85' target=\"_blank\">https://wandb.ai/saturi/model_exp_cmsp_16000_0329_final_%EC%B5%9C%EC%A2%85</a>"
      ],
      "text/plain": [
       "<IPython.core.display.HTML object>"
      ]
     },
     "metadata": {},
     "output_type": "display_data"
    },
    {
     "data": {
      "text/html": [
       " View run at <a href='https://wandb.ai/saturi/model_exp_cmsp_16000_0329_final_%EC%B5%9C%EC%A2%85/runs/botfrkt3' target=\"_blank\">https://wandb.ai/saturi/model_exp_cmsp_16000_0329_final_%EC%B5%9C%EC%A2%85/runs/botfrkt3</a>"
      ],
      "text/plain": [
       "<IPython.core.display.HTML object>"
      ]
     },
     "metadata": {},
     "output_type": "display_data"
    },
    {
     "name": "stdout",
     "output_type": "stream",
     "text": [
      "Restored from /home/seuyon0101/aiffel/MODEL/tf_cmsp16000_ckpt_final_0329_최종/ckpt-3\n"
     ]
    },
    {
     "name": "stderr",
     "output_type": "stream",
     "text": [
      "Bucket  3: 100%|█████████████████████| 2/2 [00:00<00:00,  3.25it/s, Loss 5.7748]\n",
      "100%|████████████████████████████| 5/5 [00:00<00:00, 16.09it/s, val_Loss 3.8405]\n"
     ]
    },
    {
     "name": "stdout",
     "output_type": "stream",
     "text": [
      "Saved checkpoint for step 1: /home/seuyon0101/aiffel/MODEL/tf_cmsp16000_ckpt_final_0329_최종/ckpt-4\n"
     ]
    },
    {
     "name": "stderr",
     "output_type": "stream",
     "text": [
      "Bucket  2: 100%|███████████████| 1455/1455 [04:15<00:00,  5.70it/s, Loss 3.9670]\n",
      "100%|████████████████████████████| 5/5 [00:00<00:00, 37.27it/s, val_Loss 3.5566]\n"
     ]
    },
    {
     "name": "stdout",
     "output_type": "stream",
     "text": [
      "Saved checkpoint for step 1: /home/seuyon0101/aiffel/MODEL/tf_cmsp16000_ckpt_final_0329_최종/ckpt-5\n"
     ]
    },
    {
     "name": "stderr",
     "output_type": "stream",
     "text": [
      "Bucket  1: 100%|█████████████| 13360/13360 [16:45<00:00, 13.29it/s, Loss 3.4374]\n",
      "100%|████████████████████████████| 5/5 [00:00<00:00, 74.76it/s, val_Loss 3.4133]\n"
     ]
    },
    {
     "name": "stdout",
     "output_type": "stream",
     "text": [
      "Saved checkpoint for step 1: /home/seuyon0101/aiffel/MODEL/tf_cmsp16000_ckpt_final_0329_최종/ckpt-6\n"
     ]
    },
    {
     "name": "stderr",
     "output_type": "stream",
     "text": [
      "100%|█████████████████████████████████████████| 125/125 [03:57<00:00,  1.90s/it]\n"
     ]
    },
    {
     "data": {
      "text/html": [
       "Finishing last run (ID:botfrkt3) before initializing another..."
      ],
      "text/plain": [
       "<IPython.core.display.HTML object>"
      ]
     },
     "metadata": {},
     "output_type": "display_data"
    },
    {
     "data": {
      "text/html": [
       "Waiting for W&B process to finish... <strong style=\"color:green\">(success).</strong>"
      ],
      "text/plain": [
       "<IPython.core.display.HTML object>"
      ]
     },
     "metadata": {},
     "output_type": "display_data"
    },
    {
     "data": {
      "application/vnd.jupyter.widget-view+json": {
       "model_id": "7ffa04f5c315404bab806063ee6ee4a7",
       "version_major": 2,
       "version_minor": 0
      },
      "text/plain": [
       "VBox(children=(Label(value='0.002 MB of 0.002 MB uploaded (0.000 MB deduped)\\r'), FloatProgress(value=1.0, max…"
      ]
     },
     "metadata": {},
     "output_type": "display_data"
    },
    {
     "data": {
      "text/html": [
       "<style>\n",
       "    table.wandb td:nth-child(1) { padding: 0 10px; text-align: left ; width: auto;} td:nth-child(2) {text-align: left ; width: 100%}\n",
       "    .wandb-row { display: flex; flex-direction: row; flex-wrap: wrap; justify-content: flex-start; width: 100% }\n",
       "    .wandb-col { display: flex; flex-direction: column; flex-basis: 100%; flex: 1; padding: 10px; }\n",
       "    </style>\n",
       "<div class=\"wandb-row\"><div class=\"wandb-col\"><h3>Run history:</h3><br/><table class=\"wandb\"><tr><td>bleu</td><td>▁</td></tr><tr><td>train_loss</td><td>█▇▇▆▂▂▂▂▂▂▂▂▂▂▂▂▂▂▂▂▂▂▁▁▁▁▁▁▁▁▁▁▁▁▁▁▁▁▁▁</td></tr><tr><td>valid_loss</td><td>▇██▇▆▂▅▅▃▃▁▃▄▃▂</td></tr></table><br/></div><div class=\"wandb-col\"><h3>Run summary:</h3><br/><table class=\"wandb\"><tr><td>bleu</td><td>14.31149</td></tr><tr><td>train_loss</td><td>3.43737</td></tr><tr><td>valid_loss</td><td>3.4133</td></tr></table><br/></div></div>"
      ],
      "text/plain": [
       "<IPython.core.display.HTML object>"
      ]
     },
     "metadata": {},
     "output_type": "display_data"
    },
    {
     "data": {
      "text/html": [
       " View run <strong style=\"color:#cdcd00\">northern-totem-3</strong> at: <a href='https://wandb.ai/saturi/model_exp_cmsp_16000_0329_final_%EC%B5%9C%EC%A2%85/runs/botfrkt3' target=\"_blank\">https://wandb.ai/saturi/model_exp_cmsp_16000_0329_final_%EC%B5%9C%EC%A2%85/runs/botfrkt3</a><br/>Synced 6 W&B file(s), 0 media file(s), 0 artifact file(s) and 0 other file(s)"
      ],
      "text/plain": [
       "<IPython.core.display.HTML object>"
      ]
     },
     "metadata": {},
     "output_type": "display_data"
    },
    {
     "data": {
      "text/html": [
       "Find logs at: <code>./wandb/run-20230329_155432-botfrkt3/logs</code>"
      ],
      "text/plain": [
       "<IPython.core.display.HTML object>"
      ]
     },
     "metadata": {},
     "output_type": "display_data"
    },
    {
     "data": {
      "text/html": [
       "Successfully finished last run (ID:botfrkt3). Initializing new run:<br/>"
      ],
      "text/plain": [
       "<IPython.core.display.HTML object>"
      ]
     },
     "metadata": {},
     "output_type": "display_data"
    },
    {
     "data": {
      "text/html": [
       "Tracking run with wandb version 0.14.0"
      ],
      "text/plain": [
       "<IPython.core.display.HTML object>"
      ]
     },
     "metadata": {},
     "output_type": "display_data"
    },
    {
     "data": {
      "text/html": [
       "Run data is saved locally in <code>/home/seuyon0101/aiffel/saturi/notebook/Model/wandb/run-20230329_161951-hy12wech</code>"
      ],
      "text/plain": [
       "<IPython.core.display.HTML object>"
      ]
     },
     "metadata": {},
     "output_type": "display_data"
    },
    {
     "data": {
      "text/html": [
       "Syncing run <strong><a href='https://wandb.ai/saturi/model_exp_cmsp_16000_0329_final_%EC%B5%9C%EC%A2%85/runs/hy12wech' target=\"_blank\">bright-paper-4</a></strong> to <a href='https://wandb.ai/saturi/model_exp_cmsp_16000_0329_final_%EC%B5%9C%EC%A2%85' target=\"_blank\">Weights & Biases</a> (<a href='https://wandb.me/run' target=\"_blank\">docs</a>)<br/>"
      ],
      "text/plain": [
       "<IPython.core.display.HTML object>"
      ]
     },
     "metadata": {},
     "output_type": "display_data"
    },
    {
     "data": {
      "text/html": [
       " View project at <a href='https://wandb.ai/saturi/model_exp_cmsp_16000_0329_final_%EC%B5%9C%EC%A2%85' target=\"_blank\">https://wandb.ai/saturi/model_exp_cmsp_16000_0329_final_%EC%B5%9C%EC%A2%85</a>"
      ],
      "text/plain": [
       "<IPython.core.display.HTML object>"
      ]
     },
     "metadata": {},
     "output_type": "display_data"
    },
    {
     "data": {
      "text/html": [
       " View run at <a href='https://wandb.ai/saturi/model_exp_cmsp_16000_0329_final_%EC%B5%9C%EC%A2%85/runs/hy12wech' target=\"_blank\">https://wandb.ai/saturi/model_exp_cmsp_16000_0329_final_%EC%B5%9C%EC%A2%85/runs/hy12wech</a>"
      ],
      "text/plain": [
       "<IPython.core.display.HTML object>"
      ]
     },
     "metadata": {},
     "output_type": "display_data"
    },
    {
     "name": "stdout",
     "output_type": "stream",
     "text": [
      "Restored from /home/seuyon0101/aiffel/MODEL/tf_cmsp16000_ckpt_final_0329_최종/ckpt-6\n"
     ]
    },
    {
     "name": "stderr",
     "output_type": "stream",
     "text": [
      "Bucket  3: 100%|█████████████████████| 2/2 [00:00<00:00,  3.20it/s, Loss 5.0696]\n",
      "100%|████████████████████████████| 5/5 [00:00<00:00, 16.01it/s, val_Loss 3.3459]\n"
     ]
    },
    {
     "name": "stdout",
     "output_type": "stream",
     "text": [
      "Saved checkpoint for step 1: /home/seuyon0101/aiffel/MODEL/tf_cmsp16000_ckpt_final_0329_최종/ckpt-7\n"
     ]
    },
    {
     "name": "stderr",
     "output_type": "stream",
     "text": [
      "Bucket  2: 100%|███████████████| 1455/1455 [04:15<00:00,  5.70it/s, Loss 3.5197]\n",
      "100%|████████████████████████████| 5/5 [00:00<00:00, 36.58it/s, val_Loss 3.2003]\n"
     ]
    },
    {
     "name": "stdout",
     "output_type": "stream",
     "text": [
      "Saved checkpoint for step 1: /home/seuyon0101/aiffel/MODEL/tf_cmsp16000_ckpt_final_0329_최종/ckpt-8\n"
     ]
    },
    {
     "name": "stderr",
     "output_type": "stream",
     "text": [
      "Bucket  1: 100%|█████████████| 13360/13360 [16:45<00:00, 13.28it/s, Loss 3.0987]\n",
      "100%|████████████████████████████| 5/5 [00:00<00:00, 74.84it/s, val_Loss 3.2970]\n"
     ]
    },
    {
     "name": "stdout",
     "output_type": "stream",
     "text": [
      "Saved checkpoint for step 1: /home/seuyon0101/aiffel/MODEL/tf_cmsp16000_ckpt_final_0329_최종/ckpt-9\n"
     ]
    },
    {
     "name": "stderr",
     "output_type": "stream",
     "text": [
      "100%|█████████████████████████████████████████| 125/125 [04:07<00:00,  1.98s/it]\n"
     ]
    },
    {
     "data": {
      "text/html": [
       "Finishing last run (ID:hy12wech) before initializing another..."
      ],
      "text/plain": [
       "<IPython.core.display.HTML object>"
      ]
     },
     "metadata": {},
     "output_type": "display_data"
    },
    {
     "data": {
      "text/html": [
       "Waiting for W&B process to finish... <strong style=\"color:green\">(success).</strong>"
      ],
      "text/plain": [
       "<IPython.core.display.HTML object>"
      ]
     },
     "metadata": {},
     "output_type": "display_data"
    },
    {
     "data": {
      "application/vnd.jupyter.widget-view+json": {
       "model_id": "06a125dc08b9492d91d3f269a500953a",
       "version_major": 2,
       "version_minor": 0
      },
      "text/plain": [
       "VBox(children=(Label(value='0.002 MB of 0.002 MB uploaded (0.000 MB deduped)\\r'), FloatProgress(value=1.0, max…"
      ]
     },
     "metadata": {},
     "output_type": "display_data"
    },
    {
     "data": {
      "text/html": [
       "<style>\n",
       "    table.wandb td:nth-child(1) { padding: 0 10px; text-align: left ; width: auto;} td:nth-child(2) {text-align: left ; width: 100%}\n",
       "    .wandb-row { display: flex; flex-direction: row; flex-wrap: wrap; justify-content: flex-start; width: 100% }\n",
       "    .wandb-col { display: flex; flex-direction: column; flex-basis: 100%; flex: 1; padding: 10px; }\n",
       "    </style>\n",
       "<div class=\"wandb-row\"><div class=\"wandb-col\"><h3>Run history:</h3><br/><table class=\"wandb\"><tr><td>bleu</td><td>▁</td></tr><tr><td>train_loss</td><td>█▇▆▆▁▁▁▁▁▁▁▁▁▁▁▁▁▁▁▁▁▁▁▁▂▂▂▂▂▂▂▂▂▂▂▂▂▂▂▂</td></tr><tr><td>valid_loss</td><td>▃▇█▆▅▁▆▅▃▃▅▇█▆▄</td></tr></table><br/></div><div class=\"wandb-col\"><h3>Run summary:</h3><br/><table class=\"wandb\"><tr><td>bleu</td><td>16.76736</td></tr><tr><td>train_loss</td><td>3.09869</td></tr><tr><td>valid_loss</td><td>3.29702</td></tr></table><br/></div></div>"
      ],
      "text/plain": [
       "<IPython.core.display.HTML object>"
      ]
     },
     "metadata": {},
     "output_type": "display_data"
    },
    {
     "data": {
      "text/html": [
       " View run <strong style=\"color:#cdcd00\">bright-paper-4</strong> at: <a href='https://wandb.ai/saturi/model_exp_cmsp_16000_0329_final_%EC%B5%9C%EC%A2%85/runs/hy12wech' target=\"_blank\">https://wandb.ai/saturi/model_exp_cmsp_16000_0329_final_%EC%B5%9C%EC%A2%85/runs/hy12wech</a><br/>Synced 6 W&B file(s), 0 media file(s), 0 artifact file(s) and 0 other file(s)"
      ],
      "text/plain": [
       "<IPython.core.display.HTML object>"
      ]
     },
     "metadata": {},
     "output_type": "display_data"
    },
    {
     "data": {
      "text/html": [
       "Find logs at: <code>./wandb/run-20230329_161951-hy12wech/logs</code>"
      ],
      "text/plain": [
       "<IPython.core.display.HTML object>"
      ]
     },
     "metadata": {},
     "output_type": "display_data"
    },
    {
     "data": {
      "text/html": [
       "Successfully finished last run (ID:hy12wech). Initializing new run:<br/>"
      ],
      "text/plain": [
       "<IPython.core.display.HTML object>"
      ]
     },
     "metadata": {},
     "output_type": "display_data"
    },
    {
     "data": {
      "application/vnd.jupyter.widget-view+json": {
       "model_id": "17c305cee6e74fb18fe6505c09b3b516",
       "version_major": 2,
       "version_minor": 0
      },
      "text/plain": [
       "VBox(children=(Label(value='Waiting for wandb.init()...\\r'), FloatProgress(value=0.016669609866645865, max=1.0…"
      ]
     },
     "metadata": {},
     "output_type": "display_data"
    },
    {
     "data": {
      "text/html": [
       "Tracking run with wandb version 0.14.0"
      ],
      "text/plain": [
       "<IPython.core.display.HTML object>"
      ]
     },
     "metadata": {},
     "output_type": "display_data"
    },
    {
     "data": {
      "text/html": [
       "Run data is saved locally in <code>/home/seuyon0101/aiffel/saturi/notebook/Model/wandb/run-20230329_164522-6muz7l4g</code>"
      ],
      "text/plain": [
       "<IPython.core.display.HTML object>"
      ]
     },
     "metadata": {},
     "output_type": "display_data"
    },
    {
     "data": {
      "text/html": [
       "Syncing run <strong><a href='https://wandb.ai/saturi/model_exp_cmsp_16000_0329_final_%EC%B5%9C%EC%A2%85/runs/6muz7l4g' target=\"_blank\">lilac-firebrand-5</a></strong> to <a href='https://wandb.ai/saturi/model_exp_cmsp_16000_0329_final_%EC%B5%9C%EC%A2%85' target=\"_blank\">Weights & Biases</a> (<a href='https://wandb.me/run' target=\"_blank\">docs</a>)<br/>"
      ],
      "text/plain": [
       "<IPython.core.display.HTML object>"
      ]
     },
     "metadata": {},
     "output_type": "display_data"
    },
    {
     "data": {
      "text/html": [
       " View project at <a href='https://wandb.ai/saturi/model_exp_cmsp_16000_0329_final_%EC%B5%9C%EC%A2%85' target=\"_blank\">https://wandb.ai/saturi/model_exp_cmsp_16000_0329_final_%EC%B5%9C%EC%A2%85</a>"
      ],
      "text/plain": [
       "<IPython.core.display.HTML object>"
      ]
     },
     "metadata": {},
     "output_type": "display_data"
    },
    {
     "data": {
      "text/html": [
       " View run at <a href='https://wandb.ai/saturi/model_exp_cmsp_16000_0329_final_%EC%B5%9C%EC%A2%85/runs/6muz7l4g' target=\"_blank\">https://wandb.ai/saturi/model_exp_cmsp_16000_0329_final_%EC%B5%9C%EC%A2%85/runs/6muz7l4g</a>"
      ],
      "text/plain": [
       "<IPython.core.display.HTML object>"
      ]
     },
     "metadata": {},
     "output_type": "display_data"
    },
    {
     "name": "stdout",
     "output_type": "stream",
     "text": [
      "Restored from /home/seuyon0101/aiffel/MODEL/tf_cmsp16000_ckpt_final_0329_최종/ckpt-9\n"
     ]
    },
    {
     "name": "stderr",
     "output_type": "stream",
     "text": [
      "Bucket  3: 100%|█████████████████████| 2/2 [00:00<00:00,  3.19it/s, Loss 4.7238]\n",
      "100%|████████████████████████████| 5/5 [00:00<00:00, 15.95it/s, val_Loss 3.2000]\n"
     ]
    },
    {
     "name": "stdout",
     "output_type": "stream",
     "text": [
      "Saved checkpoint for step 1: /home/seuyon0101/aiffel/MODEL/tf_cmsp16000_ckpt_final_0329_최종/ckpt-10\n"
     ]
    },
    {
     "name": "stderr",
     "output_type": "stream",
     "text": [
      "Bucket  2: 100%|███████████████| 1455/1455 [04:15<00:00,  5.70it/s, Loss 3.2876]\n",
      "100%|████████████████████████████| 5/5 [00:00<00:00, 35.78it/s, val_Loss 3.0374]\n"
     ]
    },
    {
     "name": "stdout",
     "output_type": "stream",
     "text": [
      "Saved checkpoint for step 1: /home/seuyon0101/aiffel/MODEL/tf_cmsp16000_ckpt_final_0329_최종/ckpt-11\n"
     ]
    },
    {
     "name": "stderr",
     "output_type": "stream",
     "text": [
      "Bucket  1: 100%|█████████████| 13360/13360 [16:45<00:00, 13.29it/s, Loss 2.8859]\n",
      "100%|████████████████████████████| 5/5 [00:00<00:00, 75.76it/s, val_Loss 3.2239]\n"
     ]
    },
    {
     "name": "stdout",
     "output_type": "stream",
     "text": [
      "Saved checkpoint for step 1: /home/seuyon0101/aiffel/MODEL/tf_cmsp16000_ckpt_final_0329_최종/ckpt-12\n"
     ]
    },
    {
     "name": "stderr",
     "output_type": "stream",
     "text": [
      "100%|█████████████████████████████████████████| 125/125 [04:16<00:00,  2.05s/it]\n"
     ]
    },
    {
     "data": {
      "text/html": [
       "Finishing last run (ID:6muz7l4g) before initializing another..."
      ],
      "text/plain": [
       "<IPython.core.display.HTML object>"
      ]
     },
     "metadata": {},
     "output_type": "display_data"
    },
    {
     "data": {
      "text/html": [
       "Waiting for W&B process to finish... <strong style=\"color:green\">(success).</strong>"
      ],
      "text/plain": [
       "<IPython.core.display.HTML object>"
      ]
     },
     "metadata": {},
     "output_type": "display_data"
    },
    {
     "data": {
      "application/vnd.jupyter.widget-view+json": {
       "model_id": "2f3585dd47614675bc075078cfac7533",
       "version_major": 2,
       "version_minor": 0
      },
      "text/plain": [
       "VBox(children=(Label(value='0.002 MB of 0.012 MB uploaded (0.000 MB deduped)\\r'), FloatProgress(value=0.158944…"
      ]
     },
     "metadata": {},
     "output_type": "display_data"
    },
    {
     "data": {
      "text/html": [
       "<style>\n",
       "    table.wandb td:nth-child(1) { padding: 0 10px; text-align: left ; width: auto;} td:nth-child(2) {text-align: left ; width: 100%}\n",
       "    .wandb-row { display: flex; flex-direction: row; flex-wrap: wrap; justify-content: flex-start; width: 100% }\n",
       "    .wandb-col { display: flex; flex-direction: column; flex-basis: 100%; flex: 1; padding: 10px; }\n",
       "    </style>\n",
       "<div class=\"wandb-row\"><div class=\"wandb-col\"><h3>Run history:</h3><br/><table class=\"wandb\"><tr><td>bleu</td><td>▁</td></tr><tr><td>train_loss</td><td>█▇▇▆▁▁▁▁▁▁▂▂▂▂▂▂▂▂▂▂▂▂▂▂▂▂▂▂▂▂▂▂▂▂▂▂▂▂▂▂</td></tr><tr><td>valid_loss</td><td>▃▆▇▅▄▁▅▄▂▁▅██▆▄</td></tr></table><br/></div><div class=\"wandb-col\"><h3>Run summary:</h3><br/><table class=\"wandb\"><tr><td>bleu</td><td>15.33441</td></tr><tr><td>train_loss</td><td>2.88594</td></tr><tr><td>valid_loss</td><td>3.22392</td></tr></table><br/></div></div>"
      ],
      "text/plain": [
       "<IPython.core.display.HTML object>"
      ]
     },
     "metadata": {},
     "output_type": "display_data"
    },
    {
     "data": {
      "text/html": [
       " View run <strong style=\"color:#cdcd00\">lilac-firebrand-5</strong> at: <a href='https://wandb.ai/saturi/model_exp_cmsp_16000_0329_final_%EC%B5%9C%EC%A2%85/runs/6muz7l4g' target=\"_blank\">https://wandb.ai/saturi/model_exp_cmsp_16000_0329_final_%EC%B5%9C%EC%A2%85/runs/6muz7l4g</a><br/>Synced 6 W&B file(s), 0 media file(s), 0 artifact file(s) and 0 other file(s)"
      ],
      "text/plain": [
       "<IPython.core.display.HTML object>"
      ]
     },
     "metadata": {},
     "output_type": "display_data"
    },
    {
     "data": {
      "text/html": [
       "Find logs at: <code>./wandb/run-20230329_164522-6muz7l4g/logs</code>"
      ],
      "text/plain": [
       "<IPython.core.display.HTML object>"
      ]
     },
     "metadata": {},
     "output_type": "display_data"
    },
    {
     "data": {
      "text/html": [
       "Successfully finished last run (ID:6muz7l4g). Initializing new run:<br/>"
      ],
      "text/plain": [
       "<IPython.core.display.HTML object>"
      ]
     },
     "metadata": {},
     "output_type": "display_data"
    },
    {
     "data": {
      "text/html": [
       "Tracking run with wandb version 0.14.0"
      ],
      "text/plain": [
       "<IPython.core.display.HTML object>"
      ]
     },
     "metadata": {},
     "output_type": "display_data"
    },
    {
     "data": {
      "text/html": [
       "Run data is saved locally in <code>/home/seuyon0101/aiffel/saturi/notebook/Model/wandb/run-20230329_171101-jql1xl69</code>"
      ],
      "text/plain": [
       "<IPython.core.display.HTML object>"
      ]
     },
     "metadata": {},
     "output_type": "display_data"
    },
    {
     "data": {
      "text/html": [
       "Syncing run <strong><a href='https://wandb.ai/saturi/model_exp_cmsp_16000_0329_final_%EC%B5%9C%EC%A2%85/runs/jql1xl69' target=\"_blank\">dry-bee-6</a></strong> to <a href='https://wandb.ai/saturi/model_exp_cmsp_16000_0329_final_%EC%B5%9C%EC%A2%85' target=\"_blank\">Weights & Biases</a> (<a href='https://wandb.me/run' target=\"_blank\">docs</a>)<br/>"
      ],
      "text/plain": [
       "<IPython.core.display.HTML object>"
      ]
     },
     "metadata": {},
     "output_type": "display_data"
    },
    {
     "data": {
      "text/html": [
       " View project at <a href='https://wandb.ai/saturi/model_exp_cmsp_16000_0329_final_%EC%B5%9C%EC%A2%85' target=\"_blank\">https://wandb.ai/saturi/model_exp_cmsp_16000_0329_final_%EC%B5%9C%EC%A2%85</a>"
      ],
      "text/plain": [
       "<IPython.core.display.HTML object>"
      ]
     },
     "metadata": {},
     "output_type": "display_data"
    },
    {
     "data": {
      "text/html": [
       " View run at <a href='https://wandb.ai/saturi/model_exp_cmsp_16000_0329_final_%EC%B5%9C%EC%A2%85/runs/jql1xl69' target=\"_blank\">https://wandb.ai/saturi/model_exp_cmsp_16000_0329_final_%EC%B5%9C%EC%A2%85/runs/jql1xl69</a>"
      ],
      "text/plain": [
       "<IPython.core.display.HTML object>"
      ]
     },
     "metadata": {},
     "output_type": "display_data"
    },
    {
     "name": "stdout",
     "output_type": "stream",
     "text": [
      "Restored from /home/seuyon0101/aiffel/MODEL/tf_cmsp16000_ckpt_final_0329_최종/ckpt-12\n"
     ]
    },
    {
     "name": "stderr",
     "output_type": "stream",
     "text": [
      "Bucket  3: 100%|█████████████████████| 2/2 [00:00<00:00,  3.25it/s, Loss 4.4745]\n",
      "100%|████████████████████████████| 5/5 [00:00<00:00, 16.05it/s, val_Loss 3.1203]\n"
     ]
    },
    {
     "name": "stdout",
     "output_type": "stream",
     "text": [
      "Saved checkpoint for step 1: /home/seuyon0101/aiffel/MODEL/tf_cmsp16000_ckpt_final_0329_최종/ckpt-13\n"
     ]
    },
    {
     "name": "stderr",
     "output_type": "stream",
     "text": [
      "Bucket  2: 100%|███████████████| 1455/1455 [04:15<00:00,  5.70it/s, Loss 3.1227]\n",
      "100%|████████████████████████████| 5/5 [00:00<00:00, 36.87it/s, val_Loss 3.0135]\n"
     ]
    },
    {
     "name": "stdout",
     "output_type": "stream",
     "text": [
      "Saved checkpoint for step 1: /home/seuyon0101/aiffel/MODEL/tf_cmsp16000_ckpt_final_0329_최종/ckpt-14\n"
     ]
    },
    {
     "name": "stderr",
     "output_type": "stream",
     "text": [
      "Bucket  1: 100%|█████████████| 13360/13360 [16:49<00:00, 13.23it/s, Loss 2.7163]\n",
      "100%|████████████████████████████| 5/5 [00:00<00:00, 73.97it/s, val_Loss 3.2737]\n"
     ]
    },
    {
     "name": "stdout",
     "output_type": "stream",
     "text": [
      "Saved checkpoint for step 1: /home/seuyon0101/aiffel/MODEL/tf_cmsp16000_ckpt_final_0329_최종/ckpt-15\n"
     ]
    },
    {
     "name": "stderr",
     "output_type": "stream",
     "text": [
      "100%|█████████████████████████████████████████| 125/125 [04:20<00:00,  2.08s/it]\n"
     ]
    },
    {
     "data": {
      "text/html": [
       "Finishing last run (ID:jql1xl69) before initializing another..."
      ],
      "text/plain": [
       "<IPython.core.display.HTML object>"
      ]
     },
     "metadata": {},
     "output_type": "display_data"
    },
    {
     "data": {
      "text/html": [
       "Waiting for W&B process to finish... <strong style=\"color:green\">(success).</strong>"
      ],
      "text/plain": [
       "<IPython.core.display.HTML object>"
      ]
     },
     "metadata": {},
     "output_type": "display_data"
    },
    {
     "data": {
      "text/html": [
       "<style>\n",
       "    table.wandb td:nth-child(1) { padding: 0 10px; text-align: left ; width: auto;} td:nth-child(2) {text-align: left ; width: 100%}\n",
       "    .wandb-row { display: flex; flex-direction: row; flex-wrap: wrap; justify-content: flex-start; width: 100% }\n",
       "    .wandb-col { display: flex; flex-direction: column; flex-basis: 100%; flex: 1; padding: 10px; }\n",
       "    </style>\n",
       "<div class=\"wandb-row\"><div class=\"wandb-col\"><h3>Run history:</h3><br/><table class=\"wandb\"><tr><td>bleu</td><td>▁</td></tr><tr><td>train_loss</td><td>█▇▇▆▁▁▁▁▁▁▁▁▁▁▁▁▂▂▂▂▂▂▂▂▂▂▂▂▂▂▂▂▂▂▂▂▂▂▂▂</td></tr><tr><td>valid_loss</td><td>▃▆▆▅▃▁▅▄▃▂▅▇█▆▅</td></tr></table><br/></div><div class=\"wandb-col\"><h3>Run summary:</h3><br/><table class=\"wandb\"><tr><td>bleu</td><td>14.79769</td></tr><tr><td>train_loss</td><td>2.71628</td></tr><tr><td>valid_loss</td><td>3.27373</td></tr></table><br/></div></div>"
      ],
      "text/plain": [
       "<IPython.core.display.HTML object>"
      ]
     },
     "metadata": {},
     "output_type": "display_data"
    },
    {
     "data": {
      "text/html": [
       " View run <strong style=\"color:#cdcd00\">dry-bee-6</strong> at: <a href='https://wandb.ai/saturi/model_exp_cmsp_16000_0329_final_%EC%B5%9C%EC%A2%85/runs/jql1xl69' target=\"_blank\">https://wandb.ai/saturi/model_exp_cmsp_16000_0329_final_%EC%B5%9C%EC%A2%85/runs/jql1xl69</a><br/>Synced 6 W&B file(s), 0 media file(s), 0 artifact file(s) and 0 other file(s)"
      ],
      "text/plain": [
       "<IPython.core.display.HTML object>"
      ]
     },
     "metadata": {},
     "output_type": "display_data"
    },
    {
     "data": {
      "text/html": [
       "Find logs at: <code>./wandb/run-20230329_171101-jql1xl69/logs</code>"
      ],
      "text/plain": [
       "<IPython.core.display.HTML object>"
      ]
     },
     "metadata": {},
     "output_type": "display_data"
    },
    {
     "data": {
      "text/html": [
       "Successfully finished last run (ID:jql1xl69). Initializing new run:<br/>"
      ],
      "text/plain": [
       "<IPython.core.display.HTML object>"
      ]
     },
     "metadata": {},
     "output_type": "display_data"
    },
    {
     "data": {
      "text/html": [
       "Tracking run with wandb version 0.14.0"
      ],
      "text/plain": [
       "<IPython.core.display.HTML object>"
      ]
     },
     "metadata": {},
     "output_type": "display_data"
    },
    {
     "data": {
      "text/html": [
       "Run data is saved locally in <code>/home/seuyon0101/aiffel/saturi/notebook/Model/wandb/run-20230329_173648-6yolfa35</code>"
      ],
      "text/plain": [
       "<IPython.core.display.HTML object>"
      ]
     },
     "metadata": {},
     "output_type": "display_data"
    },
    {
     "data": {
      "text/html": [
       "Syncing run <strong><a href='https://wandb.ai/saturi/model_exp_cmsp_16000_0329_final_%EC%B5%9C%EC%A2%85/runs/6yolfa35' target=\"_blank\">comfy-energy-7</a></strong> to <a href='https://wandb.ai/saturi/model_exp_cmsp_16000_0329_final_%EC%B5%9C%EC%A2%85' target=\"_blank\">Weights & Biases</a> (<a href='https://wandb.me/run' target=\"_blank\">docs</a>)<br/>"
      ],
      "text/plain": [
       "<IPython.core.display.HTML object>"
      ]
     },
     "metadata": {},
     "output_type": "display_data"
    },
    {
     "data": {
      "text/html": [
       " View project at <a href='https://wandb.ai/saturi/model_exp_cmsp_16000_0329_final_%EC%B5%9C%EC%A2%85' target=\"_blank\">https://wandb.ai/saturi/model_exp_cmsp_16000_0329_final_%EC%B5%9C%EC%A2%85</a>"
      ],
      "text/plain": [
       "<IPython.core.display.HTML object>"
      ]
     },
     "metadata": {},
     "output_type": "display_data"
    },
    {
     "data": {
      "text/html": [
       " View run at <a href='https://wandb.ai/saturi/model_exp_cmsp_16000_0329_final_%EC%B5%9C%EC%A2%85/runs/6yolfa35' target=\"_blank\">https://wandb.ai/saturi/model_exp_cmsp_16000_0329_final_%EC%B5%9C%EC%A2%85/runs/6yolfa35</a>"
      ],
      "text/plain": [
       "<IPython.core.display.HTML object>"
      ]
     },
     "metadata": {},
     "output_type": "display_data"
    },
    {
     "name": "stdout",
     "output_type": "stream",
     "text": [
      "Restored from /home/seuyon0101/aiffel/MODEL/tf_cmsp16000_ckpt_final_0329_최종/ckpt-15\n"
     ]
    },
    {
     "name": "stderr",
     "output_type": "stream",
     "text": [
      "Bucket  3: 100%|█████████████████████| 2/2 [00:00<00:00,  3.17it/s, Loss 4.2345]\n",
      "100%|████████████████████████████| 5/5 [00:00<00:00, 15.82it/s, val_Loss 3.1792]\n"
     ]
    },
    {
     "name": "stdout",
     "output_type": "stream",
     "text": [
      "Saved checkpoint for step 1: /home/seuyon0101/aiffel/MODEL/tf_cmsp16000_ckpt_final_0329_최종/ckpt-16\n"
     ]
    },
    {
     "name": "stderr",
     "output_type": "stream",
     "text": [
      "Bucket  2: 100%|███████████████| 1455/1455 [04:16<00:00,  5.68it/s, Loss 2.9897]\n",
      "100%|████████████████████████████| 5/5 [00:00<00:00, 36.54it/s, val_Loss 3.0220]\n"
     ]
    },
    {
     "name": "stdout",
     "output_type": "stream",
     "text": [
      "Saved checkpoint for step 1: /home/seuyon0101/aiffel/MODEL/tf_cmsp16000_ckpt_final_0329_최종/ckpt-17\n"
     ]
    },
    {
     "name": "stderr",
     "output_type": "stream",
     "text": [
      "Bucket  1: 100%|█████████████| 13360/13360 [16:52<00:00, 13.20it/s, Loss 2.5669]\n",
      "100%|████████████████████████████| 5/5 [00:00<00:00, 75.62it/s, val_Loss 3.2857]\n"
     ]
    },
    {
     "name": "stdout",
     "output_type": "stream",
     "text": [
      "Saved checkpoint for step 1: /home/seuyon0101/aiffel/MODEL/tf_cmsp16000_ckpt_final_0329_최종/ckpt-18\n"
     ]
    },
    {
     "name": "stderr",
     "output_type": "stream",
     "text": [
      "100%|█████████████████████████████████████████| 125/125 [04:19<00:00,  2.08s/it]\n"
     ]
    },
    {
     "data": {
      "text/html": [
       "Finishing last run (ID:6yolfa35) before initializing another..."
      ],
      "text/plain": [
       "<IPython.core.display.HTML object>"
      ]
     },
     "metadata": {},
     "output_type": "display_data"
    },
    {
     "data": {
      "text/html": [
       "Waiting for W&B process to finish... <strong style=\"color:green\">(success).</strong>"
      ],
      "text/plain": [
       "<IPython.core.display.HTML object>"
      ]
     },
     "metadata": {},
     "output_type": "display_data"
    },
    {
     "data": {
      "application/vnd.jupyter.widget-view+json": {
       "model_id": "409589b6c8a94d209ee3b7bde2c482eb",
       "version_major": 2,
       "version_minor": 0
      },
      "text/plain": [
       "VBox(children=(Label(value='0.002 MB of 0.002 MB uploaded (0.000 MB deduped)\\r'), FloatProgress(value=1.0, max…"
      ]
     },
     "metadata": {},
     "output_type": "display_data"
    },
    {
     "data": {
      "text/html": [
       "<style>\n",
       "    table.wandb td:nth-child(1) { padding: 0 10px; text-align: left ; width: auto;} td:nth-child(2) {text-align: left ; width: 100%}\n",
       "    .wandb-row { display: flex; flex-direction: row; flex-wrap: wrap; justify-content: flex-start; width: 100% }\n",
       "    .wandb-col { display: flex; flex-direction: column; flex-basis: 100%; flex: 1; padding: 10px; }\n",
       "    </style>\n",
       "<div class=\"wandb-row\"><div class=\"wandb-col\"><h3>Run history:</h3><br/><table class=\"wandb\"><tr><td>bleu</td><td>▁</td></tr><tr><td>train_loss</td><td>█▇▇▆▁▁▁▁▁▁▁▂▂▂▂▂▂▂▂▂▂▂▂▂▂▂▂▂▂▂▂▂▂▂▂▂▂▂▂▂</td></tr><tr><td>valid_loss</td><td>▃▆▆▅▄▁▅▄▃▂▅▇█▇▅</td></tr></table><br/></div><div class=\"wandb-col\"><h3>Run summary:</h3><br/><table class=\"wandb\"><tr><td>bleu</td><td>15.15691</td></tr><tr><td>train_loss</td><td>2.56694</td></tr><tr><td>valid_loss</td><td>3.28568</td></tr></table><br/></div></div>"
      ],
      "text/plain": [
       "<IPython.core.display.HTML object>"
      ]
     },
     "metadata": {},
     "output_type": "display_data"
    },
    {
     "data": {
      "text/html": [
       " View run <strong style=\"color:#cdcd00\">comfy-energy-7</strong> at: <a href='https://wandb.ai/saturi/model_exp_cmsp_16000_0329_final_%EC%B5%9C%EC%A2%85/runs/6yolfa35' target=\"_blank\">https://wandb.ai/saturi/model_exp_cmsp_16000_0329_final_%EC%B5%9C%EC%A2%85/runs/6yolfa35</a><br/>Synced 6 W&B file(s), 0 media file(s), 0 artifact file(s) and 0 other file(s)"
      ],
      "text/plain": [
       "<IPython.core.display.HTML object>"
      ]
     },
     "metadata": {},
     "output_type": "display_data"
    },
    {
     "data": {
      "text/html": [
       "Find logs at: <code>./wandb/run-20230329_173648-6yolfa35/logs</code>"
      ],
      "text/plain": [
       "<IPython.core.display.HTML object>"
      ]
     },
     "metadata": {},
     "output_type": "display_data"
    },
    {
     "data": {
      "text/html": [
       "Successfully finished last run (ID:6yolfa35). Initializing new run:<br/>"
      ],
      "text/plain": [
       "<IPython.core.display.HTML object>"
      ]
     },
     "metadata": {},
     "output_type": "display_data"
    },
    {
     "data": {
      "application/vnd.jupyter.widget-view+json": {
       "model_id": "e12772203f0e4992bfb4fd88fa2845d2",
       "version_major": 2,
       "version_minor": 0
      },
      "text/plain": [
       "VBox(children=(Label(value='Waiting for wandb.init()...\\r'), FloatProgress(value=0.016669534200021492, max=1.0…"
      ]
     },
     "metadata": {},
     "output_type": "display_data"
    },
    {
     "data": {
      "text/html": [
       "Tracking run with wandb version 0.14.0"
      ],
      "text/plain": [
       "<IPython.core.display.HTML object>"
      ]
     },
     "metadata": {},
     "output_type": "display_data"
    },
    {
     "data": {
      "text/html": [
       "Run data is saved locally in <code>/home/seuyon0101/aiffel/saturi/notebook/Model/wandb/run-20230329_180239-0yfmc6go</code>"
      ],
      "text/plain": [
       "<IPython.core.display.HTML object>"
      ]
     },
     "metadata": {},
     "output_type": "display_data"
    },
    {
     "data": {
      "text/html": [
       "Syncing run <strong><a href='https://wandb.ai/saturi/model_exp_cmsp_16000_0329_final_%EC%B5%9C%EC%A2%85/runs/0yfmc6go' target=\"_blank\">iconic-cloud-8</a></strong> to <a href='https://wandb.ai/saturi/model_exp_cmsp_16000_0329_final_%EC%B5%9C%EC%A2%85' target=\"_blank\">Weights & Biases</a> (<a href='https://wandb.me/run' target=\"_blank\">docs</a>)<br/>"
      ],
      "text/plain": [
       "<IPython.core.display.HTML object>"
      ]
     },
     "metadata": {},
     "output_type": "display_data"
    },
    {
     "data": {
      "text/html": [
       " View project at <a href='https://wandb.ai/saturi/model_exp_cmsp_16000_0329_final_%EC%B5%9C%EC%A2%85' target=\"_blank\">https://wandb.ai/saturi/model_exp_cmsp_16000_0329_final_%EC%B5%9C%EC%A2%85</a>"
      ],
      "text/plain": [
       "<IPython.core.display.HTML object>"
      ]
     },
     "metadata": {},
     "output_type": "display_data"
    },
    {
     "data": {
      "text/html": [
       " View run at <a href='https://wandb.ai/saturi/model_exp_cmsp_16000_0329_final_%EC%B5%9C%EC%A2%85/runs/0yfmc6go' target=\"_blank\">https://wandb.ai/saturi/model_exp_cmsp_16000_0329_final_%EC%B5%9C%EC%A2%85/runs/0yfmc6go</a>"
      ],
      "text/plain": [
       "<IPython.core.display.HTML object>"
      ]
     },
     "metadata": {},
     "output_type": "display_data"
    },
    {
     "name": "stdout",
     "output_type": "stream",
     "text": [
      "Restored from /home/seuyon0101/aiffel/MODEL/tf_cmsp16000_ckpt_final_0329_최종/ckpt-18\n"
     ]
    },
    {
     "name": "stderr",
     "output_type": "stream",
     "text": [
      "Bucket  3: 100%|█████████████████████| 2/2 [00:00<00:00,  3.23it/s, Loss 4.1130]\n",
      "100%|████████████████████████████| 5/5 [00:00<00:00, 15.83it/s, val_Loss 3.1690]\n"
     ]
    },
    {
     "name": "stdout",
     "output_type": "stream",
     "text": [
      "Saved checkpoint for step 1: /home/seuyon0101/aiffel/MODEL/tf_cmsp16000_ckpt_final_0329_최종/ckpt-19\n"
     ]
    },
    {
     "name": "stderr",
     "output_type": "stream",
     "text": [
      "Bucket  2: 100%|███████████████| 1455/1455 [04:16<00:00,  5.68it/s, Loss 2.8752]\n",
      "100%|████████████████████████████| 5/5 [00:00<00:00, 36.23it/s, val_Loss 3.0273]\n"
     ]
    },
    {
     "name": "stdout",
     "output_type": "stream",
     "text": [
      "Saved checkpoint for step 1: /home/seuyon0101/aiffel/MODEL/tf_cmsp16000_ckpt_final_0329_최종/ckpt-20\n"
     ]
    },
    {
     "name": "stderr",
     "output_type": "stream",
     "text": [
      "Bucket  1: 100%|█████████████| 13360/13360 [16:53<00:00, 13.18it/s, Loss 2.4311]\n",
      "100%|████████████████████████████| 5/5 [00:00<00:00, 73.90it/s, val_Loss 3.3426]\n"
     ]
    },
    {
     "name": "stdout",
     "output_type": "stream",
     "text": [
      "Saved checkpoint for step 1: /home/seuyon0101/aiffel/MODEL/tf_cmsp16000_ckpt_final_0329_최종/ckpt-21\n"
     ]
    },
    {
     "name": "stderr",
     "output_type": "stream",
     "text": [
      "100%|█████████████████████████████████████████| 125/125 [04:30<00:00,  2.16s/it]\n"
     ]
    }
   ],
   "source": [
    "for _ in range(7):\n",
    "    run  = wandb.init(project = project_name,\n",
    "                     entity = 'saturi',\n",
    "                     config = {\n",
    "                         'model_name':'Vanilla_Transformer',\n",
    "                         'n_layers':6,\n",
    "                         'd_model':512,\n",
    "                         'n_heads':8,\n",
    "                         'd_ff':2048,\n",
    "                         'src_vocab_size':SRC_VOCAB_SIZE,\n",
    "                         'tgt_vocab_size':TGT_VOCAB_SIZE,\n",
    "                         'pos_len': 512,\n",
    "                         'dropout':0.2,\n",
    "                         'shared':True,\n",
    "                         'warmups' : warmups,\n",
    "                         'epochs':1,\n",
    "                         'optimizer' :'ADAM',\n",
    "                         'loss' : 'SparseCategoricalCrossentropy',\n",
    "                         'metric' : 'bleu'\n",
    "                     })\n",
    "    train_and_checkpoint(transformer, manager, config.epochs)"
   ]
  },
  {
   "cell_type": "markdown",
   "id": "9d1bcdd0",
   "metadata": {},
   "source": [
    "# Step 3. 평가"
   ]
  },
  {
   "cell_type": "code",
   "execution_count": 58,
   "id": "33b95666",
   "metadata": {},
   "outputs": [
    {
     "data": {
      "text/plain": [
       "Text(0.5, 0, 'Train Step')"
      ]
     },
     "execution_count": 58,
     "metadata": {},
     "output_type": "execute_result"
    },
    {
     "data": {
      "image/png": "[encoded data removed]",
      "text/plain": [
       "<Figure size 640x480 with 1 Axes>"
      ]
     },
     "metadata": {},
     "output_type": "display_data"
    }
   ],
   "source": [
    "plt.plot(learningrate(tf.range(15412, dtype=tf.float32)))\n",
    "plt.ylabel('Learning Rate')\n",
    "plt.xlabel('Train Step')"
   ]
  },
  {
   "cell_type": "code",
   "execution_count": 59,
   "id": "40876e03",
   "metadata": {},
   "outputs": [],
   "source": [
    "from time import perf_counter"
   ]
  },
  {
   "cell_type": "code",
   "execution_count": 112,
   "id": "65f6300e",
   "metadata": {},
   "outputs": [],
   "source": [
    "examples = [\"<jj> what are you doing ?\",'<cc> what are you doing ?','<gs> what are you doing ?','<jd> what are you doing ?','<kw> what are you doing ?']"
   ]
  },
  {
   "cell_type": "code",
   "execution_count": 110,
   "id": "d7af72c0",
   "metadata": {},
   "outputs": [],
   "source": [
    "examples = [\"<jj> i like this song .\",'<cc> i like this song . ','<gs> i like this song . ','<jd> i like this song . ','<kw> i like this song . ']"
   ]
  },
  {
   "cell_type": "code",
   "execution_count": 64,
   "id": "4e413630",
   "metadata": {},
   "outputs": [],
   "source": [
    "examples = [\"<jj> Let's do homework together .\",\"<cc> Let's do homework together .\",\"<gs> Let's do homework together .\",\"<jd> Let's do homework together .\",\"<kw> Let's do homework together .\"]"
   ]
  },
  {
   "cell_type": "code",
   "execution_count": 108,
   "id": "cfe748a5",
   "metadata": {},
   "outputs": [],
   "source": [
    "examples = [\"<jj> Are you going to sleep ?\",\"<cc> Are you going to sleep ?\",\"<gs> Are you going to sleep ?\",\"<jd> Are you going to sleep ?\",\"<kw> Are you going to sleep ?\"]"
   ]
  },
  {
   "cell_type": "code",
   "execution_count": 114,
   "id": "1ece3c94",
   "metadata": {},
   "outputs": [],
   "source": [
    "examples = [\"<jj> I want to go out to eat .\",\"<cc> I want to go out to eat .\",\"<gs> I want to go out to eat .\",\"<jd> I want to go out to eat .\",\"<kw> I want to go out to eat .\"]"
   ]
  },
  {
   "cell_type": "code",
   "execution_count": 115,
   "id": "d991f6b4",
   "metadata": {},
   "outputs": [
    {
     "name": "stdout",
     "output_type": "stream",
     "text": [
      "Input: <jj> I want to go out to eat .\n",
      "Predicted translation: 아이 먹고정 하는 게 이.\n",
      "Input: <cc> I want to go out to eat .\n",
      "Predicted translation: 아이 아이 아이 아이 아이 아이 아이 아이 아이 밥\n",
      "Input: <gs> I want to go out to eat .\n",
      "Predicted translation: 아이 아이 아이 아이 아이 아이 아이 아이 아이 아이\n",
      "Input: <jd> I want to go out to eat .\n",
      "Predicted translation: 아이 먹고 나가고잉 싶은 게 아이지.\n",
      "Input: <kw> I want to go out to eat .\n",
      "Predicted translation: 아이 밥 먹으러 나갈려고 하는 게 꿈이었\n",
      "7.8454682329902425\n"
     ]
    }
   ],
   "source": [
    "start = perf_counter()\n",
    "for example in examples :\n",
    "    translate(example, transformer, enc_tokenizer, dec_tokenizer, verbose =True)\n",
    "print(perf_counter() - start)"
   ]
  },
  {
   "cell_type": "code",
   "execution_count": null,
   "id": "6e3c1e0f",
   "metadata": {},
   "outputs": [],
   "source": [
    "from datasets import load_metric\n",
    "\n",
    "bleu = load_metric(\"sacrebleu\")\n",
    "test_translate = []\n",
    "bleu_valid_score = []\n",
    "\n",
    "test_text = full_data_test.eng.values\n",
    "test_tgt = full_data_test.dial.values\n",
    "\n",
    "for i in tqdm(range(len(test_text))) :\n",
    "    trans = translate(test_text[i], transformer, enc_tokenizer, dec_tokenizer, verbose =False)\n",
    "    test_translate.append(trans)\n",
    "    label = dec_tokenizer.decode(test_tgt[i])\n",
    "    result = bleu.compute(predictions=[trans], references=[[label]], smooth_method='floor', smooth_value=0.25)['score']\n",
    "    bleu_valid_score.append(result)\n",
    "\n",
    "full_data_test['bleu'] = np.array(bleu_valid_score)\n",
    "full_data_test['pred'] = test_translate"
   ]
  },
  {
   "cell_type": "code",
   "execution_count": 116,
   "id": "ea5c2a4b",
   "metadata": {},
   "outputs": [
    {
     "data": {
      "text/plain": [
       "15.353147485390716"
      ]
     },
     "execution_count": 116,
     "metadata": {},
     "output_type": "execute_result"
    }
   ],
   "source": [
    "full_data_test.bleu.mean()"
   ]
  },
  {
   "cell_type": "code",
   "execution_count": 117,
   "id": "90a43c07",
   "metadata": {},
   "outputs": [
    {
     "data": {
      "text/html": [
       "<div>\n",
       "<style scoped>\n",
       "    .dataframe tbody tr th:only-of-type {\n",
       "        vertical-align: middle;\n",
       "    }\n",
       "\n",
       "    .dataframe tbody tr th {\n",
       "        vertical-align: top;\n",
       "    }\n",
       "\n",
       "    .dataframe thead th {\n",
       "        text-align: right;\n",
       "    }\n",
       "</style>\n",
       "<table border=\"1\" class=\"dataframe\">\n",
       "  <thead>\n",
       "    <tr style=\"text-align: right;\">\n",
       "      <th></th>\n",
       "      <th>topic</th>\n",
       "      <th>eng</th>\n",
       "      <th>reg</th>\n",
       "      <th>dial</th>\n",
       "      <th>pred</th>\n",
       "      <th>bleu</th>\n",
       "    </tr>\n",
       "  </thead>\n",
       "  <tbody>\n",
       "    <tr>\n",
       "      <th>75397</th>\n",
       "      <td>회사/학교</td>\n",
       "      <td>&lt;jd&gt; So I just wanted to apologize and get goo...</td>\n",
       "      <td>jd</td>\n",
       "      <td>긍께 그냥 죄송하고 좋은 성적 받자 이런 맴으로 했는디 짐 신프도 그러네이</td>\n",
       "      <td>긍게 그냥 성적도 좋고 성적도 좋고 인제 같은 거 하고 싶은 거지.</td>\n",
       "      <td>8.182478</td>\n",
       "    </tr>\n",
       "    <tr>\n",
       "      <th>87483</th>\n",
       "      <td>영화</td>\n",
       "      <td>&lt;jd&gt; I'm just waiting for time to come, and I ...</td>\n",
       "      <td>jd</td>\n",
       "      <td>그 영화 시간이 오기빨을 기다리고이런게 쫌 시간이 아깝다고 생각에서 영화관을 잘 안...</td>\n",
       "      <td>영화 올 때까지 막 와블 기달렸던 시간이 영화 영화 영화로 가면 시간이 지나가는 거...</td>\n",
       "      <td>8.109667</td>\n",
       "    </tr>\n",
       "    <tr>\n",
       "      <th>679063</th>\n",
       "      <td>재테크</td>\n",
       "      <td>&lt;gs&gt; So how long does the US government print ...</td>\n",
       "      <td>gs</td>\n",
       "      <td>그서 미국 정부가 언제까징 돈 찍어주꼬 빚있으머 대신 사주꼬 그르께 안 돼.</td>\n",
       "      <td>우리 언제부터 돈 얼마씩 돈 모아 가주꼬 돈 버느 거 있대이 아가 데뷔가 있으믄은</td>\n",
       "      <td>7.562316</td>\n",
       "    </tr>\n",
       "    <tr>\n",
       "      <th>869009</th>\n",
       "      <td>건강</td>\n",
       "      <td>&lt;gs&gt; My back was weak and I had surgery and tr...</td>\n",
       "      <td>gs</td>\n",
       "      <td>허리가 약해가지꼬 막 쫌 수술도 하꼬 치료도 받꼬 막 이런 상태여 가주꼬</td>\n",
       "      <td>허리가 약했꼬 또 아이까도 수술하꼬</td>\n",
       "      <td>5.925260</td>\n",
       "    </tr>\n",
       "    <tr>\n",
       "      <th>719816</th>\n",
       "      <td>가족</td>\n",
       "      <td>&lt;cc&gt; If you break your back you dont know wher...</td>\n",
       "      <td>cc</td>\n",
       "      <td>허리라도 뿌러지면은 앞으론 언니가 나가가꼬 어디 가서 설거지라도 해여 될지 몰르니께...</td>\n",
       "      <td>그~ 허리이 그 어 ⁇ 게  ⁇ 지 몰르는 겨 어 ⁇ 거나 하이튼 간이 잘해유.</td>\n",
       "      <td>5.803921</td>\n",
       "    </tr>\n",
       "    <tr>\n",
       "      <th>921810</th>\n",
       "      <td>회사/학교</td>\n",
       "      <td>&lt;cc&gt; When I changed my mind I went over you we...</td>\n",
       "      <td>cc</td>\n",
       "      <td>그른거 내 생각을 바뀌니께 확 넘어갔지 너넨 그런 거 있었어 사춘기 넌 아까 뭐 지...</td>\n",
       "      <td>아이패드가 바꼈어 아이패드를 우리가 사춘기를 갔을 때 이제 사춘기가 오잖아.</td>\n",
       "      <td>5.180525</td>\n",
       "    </tr>\n",
       "    <tr>\n",
       "      <th>855826</th>\n",
       "      <td>만화</td>\n",
       "      <td>&lt;cc&gt; So the commander in the Navy dispatches b...</td>\n",
       "      <td>cc</td>\n",
       "      <td>그서 해군이 있는 대장이 출동을 혀 근데 대장의 그런 전투력은 그냥 루피이 한 천 ...</td>\n",
       "      <td>긍까 대작군이 관한 처지가 처분했는디 전투적인 파워포는 그냥 파손</td>\n",
       "      <td>4.011274</td>\n",
       "    </tr>\n",
       "    <tr>\n",
       "      <th>898457</th>\n",
       "      <td>먹거리</td>\n",
       "      <td>&lt;gs&gt;  That~ 600 grams, what~ 500 grams?</td>\n",
       "      <td>gs</td>\n",
       "      <td>그~ 육백 그람에 오백 그람인가 그래 육마 원인데 지가 반은 먹거든.</td>\n",
       "      <td>그램 그램에 그램 그</td>\n",
       "      <td>3.367205</td>\n",
       "    </tr>\n",
       "    <tr>\n",
       "      <th>41305</th>\n",
       "      <td>연애/결혼</td>\n",
       "      <td>&lt;jd&gt; I've got it in the early 200 millionth ce...</td>\n",
       "      <td>jd</td>\n",
       "      <td>원래 이억 초반이면 얻었었거덩 근디 그렇고 많이 올라가갖고</td>\n",
       "      <td>아이패드라느 백칠십만 원짜리를 잡아갔댜</td>\n",
       "      <td>0.000000</td>\n",
       "    </tr>\n",
       "    <tr>\n",
       "      <th>406028</th>\n",
       "      <td>가족</td>\n",
       "      <td>&lt;kw&gt; That's why I have to give up on you.</td>\n",
       "      <td>kw</td>\n",
       "      <td>그래이 되이까 널 퍽데기할 수 밖에 없을 테이까</td>\n",
       "      <td>아이그 아즈매는 왜 퍽데기해야 하는가.</td>\n",
       "      <td>0.000000</td>\n",
       "    </tr>\n",
       "    <tr>\n",
       "      <th>386895</th>\n",
       "      <td>연애/결혼</td>\n",
       "      <td>&lt;kw&gt; How could you ignore the old days?</td>\n",
       "      <td>kw</td>\n",
       "      <td>너 같으문 아문리 인날일이라두 무시하고 보겠어?</td>\n",
       "      <td>옛말 무시 못 할 놈이 어태 되돌아가.</td>\n",
       "      <td>0.000000</td>\n",
       "    </tr>\n",
       "    <tr>\n",
       "      <th>248793</th>\n",
       "      <td>가족</td>\n",
       "      <td>&lt;jj&gt; He's down. He's got street lights. He's g...</td>\n",
       "      <td>jj</td>\n",
       "      <td>쓰러져부난 가로등이 있수과 뭐가 있수과</td>\n",
       "      <td>그 불빛 불빛 불 꺼져 갖고 이</td>\n",
       "      <td>0.000000</td>\n",
       "    </tr>\n",
       "    <tr>\n",
       "      <th>580318</th>\n",
       "      <td>가족</td>\n",
       "      <td>&lt;kw&gt; That's why you've been running for me?</td>\n",
       "      <td>kw</td>\n",
       "      <td>아깨 나 때미에 그래 뛰어온 거예요?</td>\n",
       "      <td>그 채고이 내가 왜 수작을 질래 뛰었냐</td>\n",
       "      <td>0.000000</td>\n",
       "    </tr>\n",
       "    <tr>\n",
       "      <th>896135</th>\n",
       "      <td>먹거리</td>\n",
       "      <td>&lt;cc&gt; In b but I dont like meat.</td>\n",
       "      <td>cc</td>\n",
       "      <td>잉~ 근디 나는 괴기는 안 좋아혀.</td>\n",
       "      <td>근데 고기이 근데 아이유는 괴기가 싫어</td>\n",
       "      <td>0.000000</td>\n",
       "    </tr>\n",
       "    <tr>\n",
       "      <th>806339</th>\n",
       "      <td>먹거리</td>\n",
       "      <td>&lt;jj&gt; Oh mix it</td>\n",
       "      <td>jj</td>\n",
       "      <td>아 속아알령</td>\n",
       "      <td>어 섞엉</td>\n",
       "      <td>0.000000</td>\n",
       "    </tr>\n",
       "    <tr>\n",
       "      <th>218719</th>\n",
       "      <td>문학</td>\n",
       "      <td>&lt;jj&gt; I wrote it even when there was war</td>\n",
       "      <td>jj</td>\n",
       "      <td>전쟁이 나도 탕 댕겼주</td>\n",
       "      <td>전쟁 때 써봐신디</td>\n",
       "      <td>0.000000</td>\n",
       "    </tr>\n",
       "    <tr>\n",
       "      <th>449683</th>\n",
       "      <td>회사/학교</td>\n",
       "      <td>&lt;kw&gt; I'm not worried about him because he's go...</td>\n",
       "      <td>kw</td>\n",
       "      <td>원캉 알속이 있는 사램이라서 극정이 음싸 없어.</td>\n",
       "      <td>머릴 머릴  ⁇ 아사 달이 알을 떠서 걱정하는 게 아이구</td>\n",
       "      <td>0.000000</td>\n",
       "    </tr>\n",
       "    <tr>\n",
       "      <th>291775</th>\n",
       "      <td>군대</td>\n",
       "      <td>&lt;jd&gt; So people with cars are required to have ...</td>\n",
       "      <td>jd</td>\n",
       "      <td>긍까 차 있는 자가용이 있는 사람들은잉</td>\n",
       "      <td>긍게 자동차는 차가 있으야 차가 있으야</td>\n",
       "      <td>0.000000</td>\n",
       "    </tr>\n",
       "    <tr>\n",
       "      <th>517303</th>\n",
       "      <td>성격</td>\n",
       "      <td>&lt;kw&gt; I'm scratching my suit because my back's ...</td>\n",
       "      <td>kw</td>\n",
       "      <td>등이 개르워서 복복 긁고 있사.</td>\n",
       "      <td>등떼기를 싸사 등애 패는 것이 나의 은복이야</td>\n",
       "      <td>0.000000</td>\n",
       "    </tr>\n",
       "    <tr>\n",
       "      <th>53200</th>\n",
       "      <td>드라마</td>\n",
       "      <td>&lt;jd&gt; What's a startup?</td>\n",
       "      <td>jd</td>\n",
       "      <td>나 몰라서잉 한번 물어본 거여 스타트업이 뭐여</td>\n",
       "      <td>스타트업 어쩌냐?</td>\n",
       "      <td>0.000000</td>\n",
       "    </tr>\n",
       "    <tr>\n",
       "      <th>808387</th>\n",
       "      <td>먹거리</td>\n",
       "      <td>&lt;jj&gt; Then in the past</td>\n",
       "      <td>jj</td>\n",
       "      <td>게믄 우리 그 옛날신디</td>\n",
       "      <td>옛날엔게 경허민</td>\n",
       "      <td>0.000000</td>\n",
       "    </tr>\n",
       "    <tr>\n",
       "      <th>653808</th>\n",
       "      <td>회사/학교</td>\n",
       "      <td>&lt;gs&gt; When youre in college or social life</td>\n",
       "      <td>gs</td>\n",
       "      <td>어~ 어떤 보통 이케 대학이든 아니믄은 사회생활하대이 보믄은</td>\n",
       "      <td>니느 대학 생활할 때 사회생활</td>\n",
       "      <td>0.000000</td>\n",
       "    </tr>\n",
       "    <tr>\n",
       "      <th>216555</th>\n",
       "      <td>먹거리</td>\n",
       "      <td>&lt;jj&gt; I heard youre recording it too</td>\n",
       "      <td>jj</td>\n",
       "      <td>성님도 녹음헌댄 허니까</td>\n",
       "      <td>아이 녹음한댄 햄시녜</td>\n",
       "      <td>0.000000</td>\n",
       "    </tr>\n",
       "    <tr>\n",
       "      <th>286387</th>\n",
       "      <td>스포츠/레저</td>\n",
       "      <td>&lt;jd&gt; Itas selected</td>\n",
       "      <td>jd</td>\n",
       "      <td>선정되었는디</td>\n",
       "      <td>선태개서</td>\n",
       "      <td>0.000000</td>\n",
       "    </tr>\n",
       "    <tr>\n",
       "      <th>214058</th>\n",
       "      <td>건강</td>\n",
       "      <td>&lt;jj&gt; Thats why they say theyre coming</td>\n",
       "      <td>jj</td>\n",
       "      <td>게난 왐짼 허는디</td>\n",
       "      <td>겐 온댄 하는거라</td>\n",
       "      <td>0.000000</td>\n",
       "    </tr>\n",
       "    <tr>\n",
       "      <th>781527</th>\n",
       "      <td>자동차/오토바이</td>\n",
       "      <td>&lt;cc&gt; I drive as a beginner but I tried it and ...</td>\n",
       "      <td>cc</td>\n",
       "      <td>내가 운전을 초보운전이긴 하지만은 운전을 해봤는디 재밌드라구.</td>\n",
       "      <td>초딩학교 차를 타구 가는디 아이 아이 아이 아이 아이엔에프피가 재밌어졌잖아</td>\n",
       "      <td>0.000000</td>\n",
       "    </tr>\n",
       "    <tr>\n",
       "      <th>6353</th>\n",
       "      <td>먹거리</td>\n",
       "      <td>&lt;jd&gt; Well, if you look at people who are very ...</td>\n",
       "      <td>jd</td>\n",
       "      <td>음~ 겁내 애기 입맛인 싸람들 보먼은 진짜 내 동생이랑 똔똔이 먹어요잉 또</td>\n",
       "      <td>엄청 애기들은 빨아먹는 애들 보면 우리 언니랑 똑같애 똑같애.</td>\n",
       "      <td>0.000000</td>\n",
       "    </tr>\n",
       "    <tr>\n",
       "      <th>16040</th>\n",
       "      <td>쇼핑</td>\n",
       "      <td>&lt;jd&gt; I wish I could get back together.</td>\n",
       "      <td>jd</td>\n",
       "      <td>나는 재결합 했으믄 좋겄드만</td>\n",
       "      <td>아이 아이패드가 다시 합쳐졌으면 좋겄다</td>\n",
       "      <td>0.000000</td>\n",
       "    </tr>\n",
       "    <tr>\n",
       "      <th>868799</th>\n",
       "      <td>먹거리</td>\n",
       "      <td>&lt;gs&gt; What should I do after I put green onion ...</td>\n",
       "      <td>gs</td>\n",
       "      <td>파기름 내꼬 나서 뭐 해야 겠노?</td>\n",
       "      <td>아이유 파이브 기름을 넣꼬 아이 엔만하머 니느 뭐가</td>\n",
       "      <td>0.000000</td>\n",
       "    </tr>\n",
       "    <tr>\n",
       "      <th>177256</th>\n",
       "      <td>취미</td>\n",
       "      <td>&lt;jj&gt; That's off.</td>\n",
       "      <td>jj</td>\n",
       "      <td>그거 뜬거주게</td>\n",
       "      <td>그 쉰디.</td>\n",
       "      <td>0.000000</td>\n",
       "    </tr>\n",
       "  </tbody>\n",
       "</table>\n",
       "</div>"
      ],
      "text/plain": [
       "           topic                                                eng reg  \\\n",
       "75397      회사/학교  <jd> So I just wanted to apologize and get goo...  jd   \n",
       "87483         영화  <jd> I'm just waiting for time to come, and I ...  jd   \n",
       "679063       재테크  <gs> So how long does the US government print ...  gs   \n",
       "869009        건강  <gs> My back was weak and I had surgery and tr...  gs   \n",
       "719816        가족  <cc> If you break your back you dont know wher...  cc   \n",
       "921810     회사/학교  <cc> When I changed my mind I went over you we...  cc   \n",
       "855826        만화  <cc> So the commander in the Navy dispatches b...  cc   \n",
       "898457       먹거리            <gs>  That~ 600 grams, what~ 500 grams?  gs   \n",
       "41305      연애/결혼  <jd> I've got it in the early 200 millionth ce...  jd   \n",
       "406028        가족          <kw> That's why I have to give up on you.  kw   \n",
       "386895     연애/결혼            <kw> How could you ignore the old days?  kw   \n",
       "248793        가족  <jj> He's down. He's got street lights. He's g...  jj   \n",
       "580318        가족        <kw> That's why you've been running for me?  kw   \n",
       "896135       먹거리                    <cc> In b but I dont like meat.  cc   \n",
       "806339       먹거리                                     <jj> Oh mix it  jj   \n",
       "218719        문학            <jj> I wrote it even when there was war  jj   \n",
       "449683     회사/학교  <kw> I'm not worried about him because he's go...  kw   \n",
       "291775        군대  <jd> So people with cars are required to have ...  jd   \n",
       "517303        성격  <kw> I'm scratching my suit because my back's ...  kw   \n",
       "53200        드라마                             <jd> What's a startup?  jd   \n",
       "808387       먹거리                              <jj> Then in the past  jj   \n",
       "653808     회사/학교          <gs> When youre in college or social life  gs   \n",
       "216555       먹거리                <jj> I heard youre recording it too  jj   \n",
       "286387    스포츠/레저                                 <jd> Itas selected  jd   \n",
       "214058        건강              <jj> Thats why they say theyre coming  jj   \n",
       "781527  자동차/오토바이  <cc> I drive as a beginner but I tried it and ...  cc   \n",
       "6353         먹거리  <jd> Well, if you look at people who are very ...  jd   \n",
       "16040         쇼핑             <jd> I wish I could get back together.  jd   \n",
       "868799       먹거리  <gs> What should I do after I put green onion ...  gs   \n",
       "177256        취미                                   <jj> That's off.  jj   \n",
       "\n",
       "                                                     dial  \\\n",
       "75397          긍께 그냥 죄송하고 좋은 성적 받자 이런 맴으로 했는디 짐 신프도 그러네이    \n",
       "87483   그 영화 시간이 오기빨을 기다리고이런게 쫌 시간이 아깝다고 생각에서 영화관을 잘 안...   \n",
       "679063        그서 미국 정부가 언제까징 돈 찍어주꼬 빚있으머 대신 사주꼬 그르께 안 돼.    \n",
       "869009          허리가 약해가지꼬 막 쫌 수술도 하꼬 치료도 받꼬 막 이런 상태여 가주꼬    \n",
       "719816  허리라도 뿌러지면은 앞으론 언니가 나가가꼬 어디 가서 설거지라도 해여 될지 몰르니께...   \n",
       "921810  그른거 내 생각을 바뀌니께 확 넘어갔지 너넨 그런 거 있었어 사춘기 넌 아까 뭐 지...   \n",
       "855826  그서 해군이 있는 대장이 출동을 혀 근데 대장의 그런 전투력은 그냥 루피이 한 천 ...   \n",
       "898457            그~ 육백 그람에 오백 그람인가 그래 육마 원인데 지가 반은 먹거든.    \n",
       "41305                   원래 이억 초반이면 얻었었거덩 근디 그렇고 많이 올라가갖고    \n",
       "406028                        그래이 되이까 널 퍽데기할 수 밖에 없을 테이까    \n",
       "386895                        너 같으문 아문리 인날일이라두 무시하고 보겠어?    \n",
       "248793                             쓰러져부난 가로등이 있수과 뭐가 있수과    \n",
       "580318                              아깨 나 때미에 그래 뛰어온 거예요?    \n",
       "896135                               잉~ 근디 나는 괴기는 안 좋아혀.    \n",
       "806339                                            아 속아알령    \n",
       "218719                                      전쟁이 나도 탕 댕겼주    \n",
       "449683                        원캉 알속이 있는 사램이라서 극정이 음싸 없어.    \n",
       "291775                             긍까 차 있는 자가용이 있는 사람들은잉    \n",
       "517303                                 등이 개르워서 복복 긁고 있사.    \n",
       "53200                          나 몰라서잉 한번 물어본 거여 스타트업이 뭐여    \n",
       "808387                                      게믄 우리 그 옛날신디    \n",
       "653808                 어~ 어떤 보통 이케 대학이든 아니믄은 사회생활하대이 보믄은    \n",
       "216555                                      성님도 녹음헌댄 허니까    \n",
       "286387                                            선정되었는디    \n",
       "214058                                         게난 왐짼 허는디    \n",
       "781527                내가 운전을 초보운전이긴 하지만은 운전을 해봤는디 재밌드라구.    \n",
       "6353           음~ 겁내 애기 입맛인 싸람들 보먼은 진짜 내 동생이랑 똔똔이 먹어요잉 또    \n",
       "16040                                    나는 재결합 했으믄 좋겄드만    \n",
       "868799                                파기름 내꼬 나서 뭐 해야 겠노?    \n",
       "177256                                           그거 뜬거주게    \n",
       "\n",
       "                                                     pred      bleu  \n",
       "75397               긍게 그냥 성적도 좋고 성적도 좋고 인제 같은 거 하고 싶은 거지.  8.182478  \n",
       "87483   영화 올 때까지 막 와블 기달렸던 시간이 영화 영화 영화로 가면 시간이 지나가는 거...  8.109667  \n",
       "679063      우리 언제부터 돈 얼마씩 돈 모아 가주꼬 돈 버느 거 있대이 아가 데뷔가 있으믄은  7.562316  \n",
       "869009                                허리가 약했꼬 또 아이까도 수술하꼬  5.925260  \n",
       "719816       그~ 허리이 그 어 ⁇ 게  ⁇ 지 몰르는 겨 어 ⁇ 거나 하이튼 간이 잘해유.  5.803921  \n",
       "921810         아이패드가 바꼈어 아이패드를 우리가 사춘기를 갔을 때 이제 사춘기가 오잖아.  5.180525  \n",
       "855826               긍까 대작군이 관한 처지가 처분했는디 전투적인 파워포는 그냥 파손  4.011274  \n",
       "898457                                        그램 그램에 그램 그  3.367205  \n",
       "41305                               아이패드라느 백칠십만 원짜리를 잡아갔댜  0.000000  \n",
       "406028                              아이그 아즈매는 왜 퍽데기해야 하는가.  0.000000  \n",
       "386895                              옛말 무시 못 할 놈이 어태 되돌아가.  0.000000  \n",
       "248793                                  그 불빛 불빛 불 꺼져 갖고 이  0.000000  \n",
       "580318                              그 채고이 내가 왜 수작을 질래 뛰었냐  0.000000  \n",
       "896135                              근데 고기이 근데 아이유는 괴기가 싫어  0.000000  \n",
       "806339                                               어 섞엉  0.000000  \n",
       "218719                                          전쟁 때 써봐신디  0.000000  \n",
       "449683                    머릴 머릴  ⁇ 아사 달이 알을 떠서 걱정하는 게 아이구  0.000000  \n",
       "291775                              긍게 자동차는 차가 있으야 차가 있으야  0.000000  \n",
       "517303                           등떼기를 싸사 등애 패는 것이 나의 은복이야  0.000000  \n",
       "53200                                           스타트업 어쩌냐?  0.000000  \n",
       "808387                                           옛날엔게 경허민  0.000000  \n",
       "653808                                   니느 대학 생활할 때 사회생활  0.000000  \n",
       "216555                                        아이 녹음한댄 햄시녜  0.000000  \n",
       "286387                                               선태개서  0.000000  \n",
       "214058                                          겐 온댄 하는거라  0.000000  \n",
       "781527          초딩학교 차를 타구 가는디 아이 아이 아이 아이 아이엔에프피가 재밌어졌잖아  0.000000  \n",
       "6353                   엄청 애기들은 빨아먹는 애들 보면 우리 언니랑 똑같애 똑같애.  0.000000  \n",
       "16040                               아이 아이패드가 다시 합쳐졌으면 좋겄다  0.000000  \n",
       "868799                       아이유 파이브 기름을 넣꼬 아이 엔만하머 니느 뭐가  0.000000  \n",
       "177256                                              그 쉰디.  0.000000  "
      ]
     },
     "execution_count": 117,
     "metadata": {},
     "output_type": "execute_result"
    }
   ],
   "source": [
    "full_data_test.loc[:,['topic','eng','reg','dial','pred','bleu']].sort_values('bleu', ascending=False).tail(30)"
   ]
  },
  {
   "cell_type": "code",
   "execution_count": null,
   "id": "c1c7abd5",
   "metadata": {},
   "outputs": [],
   "source": [
    "data_dir = os.getenv('HOME')+'/aiffel/DATA' # 파일 경로 지정\n",
    "full_data_test.to_csv(data_dir + f'/test_results_{tokenizer_name}8000_final_needs_merge_327_stdn.csv')"
   ]
  },
  {
   "cell_type": "code",
   "execution_count": null,
   "id": "d6b591e9",
   "metadata": {},
   "outputs": [],
   "source": [
    "wandb.finish()"
   ]
  },
  {
   "cell_type": "code",
   "execution_count": null,
   "id": "9dea15ca",
   "metadata": {},
   "outputs": [],
   "source": []
  }
 ],
 "metadata": {
  "hide_input": false,
  "kernelspec": {
   "display_name": "Python 3 (ipykernel)",
   "language": "python",
   "name": "python3"
  },
  "language_info": {
   "codemirror_mode": {
    "name": "ipython",
    "version": 3
   },
   "file_extension": ".py",
   "mimetype": "text/x-python",
   "name": "python",
   "nbconvert_exporter": "python",
   "pygments_lexer": "ipython3",
   "version": "3.9.16"
  },
  "toc": {
   "base_numbering": 1,
   "nav_menu": {},
   "number_sections": true,
   "sideBar": true,
   "skip_h1_title": false,
   "title_cell": "Table of Contents",
   "title_sidebar": "Contents",
   "toc_cell": true,
   "toc_position": {
    "height": "670px",
    "left": "54px",
    "top": "208px",
    "width": "336px"
   },
   "toc_section_display": true,
   "toc_window_display": true
  },
  "varInspector": {
   "cols": {
    "lenName": 16,
    "lenType": 16,
    "lenVar": 40
   },
   "kernels_config": {
    "python": {
     "delete_cmd_postfix": "",
     "delete_cmd_prefix": "del ",
     "library": "var_list.py",
     "varRefreshCmd": "print(var_dic_list())"
    },
    "r": {
     "delete_cmd_postfix": ") ",
     "delete_cmd_prefix": "rm(",
     "library": "var_list.r",
     "varRefreshCmd": "cat(var_dic_list()) "
    }
   },
   "types_to_exclude": [
    "module",
    "function",
    "builtin_function_or_method",
    "instance",
    "_Feature"
   ],
   "window_display": false
  }
 },
 "nbformat": 4,
 "nbformat_minor": 5
}
