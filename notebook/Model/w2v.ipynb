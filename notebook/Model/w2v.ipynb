{
 "cells": [
  {
   "cell_type": "code",
   "execution_count": 473,
   "id": "4f250024",
   "metadata": {},
   "outputs": [],
   "source": [
    "import pandas as pd"
   ]
  },
  {
   "cell_type": "code",
   "execution_count": 474,
   "id": "ed30914c",
   "metadata": {},
   "outputs": [],
   "source": [
    "import os\n",
    "directory = os.getenv('HOME') + '/aiffel/aiffelthon/'\n",
    "file_path = os.getenv('HOME') + '/aiffel/saturi/MODEL'"
   ]
  },
  {
   "cell_type": "code",
   "execution_count": 475,
   "id": "6740fc3a",
   "metadata": {},
   "outputs": [
    {
     "data": {
      "text/plain": [
       "['MODELtf_ckpts_gd12_r1',\n",
       " 'reg_2',\n",
       " 'past_files',\n",
       " '.ipynb_checkpoints',\n",
       " '[라벨]제주도_학습용데이터_1.zip',\n",
       " 'corpus_ko.txt',\n",
       " '[라벨]전라도_학습데이터_1.zip',\n",
       " 'added',\n",
       " 'final',\n",
       " '[라벨]경상도_학습데이터_1.zip',\n",
       " 'reg_1',\n",
       " 'reg_4',\n",
       " 'datset_full_raw_needs_translation_0221_v2.csv',\n",
       " '[라벨]충청도_학습데이터_1.zip',\n",
       " 'reg_5',\n",
       " 'saturi_crawling_thesaurus_0223.csv',\n",
       " 'final_dataset.zip',\n",
       " '[라벨]강원도_학습데이터_1.zip',\n",
       " 'reg_3',\n",
       " 'corpus_en.txt']"
      ]
     },
     "execution_count": 475,
     "metadata": {},
     "output_type": "execute_result"
    }
   ],
   "source": [
    "os.listdir(directory)"
   ]
  },
  {
   "cell_type": "code",
   "execution_count": 476,
   "id": "8a9c8e79",
   "metadata": {},
   "outputs": [],
   "source": [
    "df = pd.read_csv(directory + 'saturi_crawling_thesaurus_0223.csv')"
   ]
  },
  {
   "cell_type": "code",
   "execution_count": 477,
   "id": "b2b511dd",
   "metadata": {},
   "outputs": [
    {
     "name": "stdout",
     "output_type": "stream",
     "text": [
      "<class 'pandas.core.frame.DataFrame'>\n",
      "RangeIndex: 82401 entries, 0 to 82400\n",
      "Data columns (total 4 columns):\n",
      " #   Column    Non-Null Count  Dtype \n",
      "---  ------    --------------  ----- \n",
      " 0   dial      82401 non-null  object\n",
      " 1   original  82401 non-null  object\n",
      " 2   meaning   82401 non-null  object\n",
      " 3   reg       82401 non-null  object\n",
      "dtypes: object(4)\n",
      "memory usage: 2.5+ MB\n"
     ]
    }
   ],
   "source": [
    "df.info()"
   ]
  },
  {
   "cell_type": "code",
   "execution_count": 478,
   "id": "c93c0563",
   "metadata": {},
   "outputs": [],
   "source": [
    "df = df.loc[df['reg'] == 'jj']"
   ]
  },
  {
   "cell_type": "code",
   "execution_count": 479,
   "id": "d5d69a80",
   "metadata": {},
   "outputs": [],
   "source": [
    "import gensim"
   ]
  },
  {
   "cell_type": "code",
   "execution_count": 480,
   "id": "43ac09ee",
   "metadata": {},
   "outputs": [
    {
     "data": {
      "text/plain": [
       "jj    16794\n",
       "Name: reg, dtype: int64"
      ]
     },
     "execution_count": 480,
     "metadata": {},
     "output_type": "execute_result"
    }
   ],
   "source": [
    "df.reg.value_counts()"
   ]
  },
  {
   "cell_type": "code",
   "execution_count": 492,
   "id": "043df3a6",
   "metadata": {},
   "outputs": [],
   "source": [
    "df['all'] = df['original'] +' '+ df['dial']"
   ]
  },
  {
   "cell_type": "code",
   "execution_count": 493,
   "id": "9e854737",
   "metadata": {},
   "outputs": [
    {
     "data": {
      "text/plain": [
       "dial                                                     붉가시낭\n",
       "original                                                붉가시나무\n",
       "meaning      붉가시나무의 방언, 참나뭇과의 상록 활엽 교목. 높이는 20미터 정도이며, 잎은 ...\n",
       "reg                                                        jj\n",
       "all                                                붉가시나무 붉가시낭\n",
       "Name: 89, dtype: object"
      ]
     },
     "execution_count": 493,
     "metadata": {},
     "output_type": "execute_result"
    }
   ],
   "source": [
    "df.iloc[89]"
   ]
  },
  {
   "cell_type": "code",
   "execution_count": 494,
   "id": "424c040a",
   "metadata": {},
   "outputs": [],
   "source": [
    "rev = df['all'].apply(gensim.utils.simple_preprocess) * 3"
   ]
  },
  {
   "cell_type": "code",
   "execution_count": 495,
   "id": "e0f88ba2",
   "metadata": {},
   "outputs": [
    {
     "data": {
      "text/plain": [
       "['분수', '분쉬', '분수', '분쉬', '분수', '분쉬']"
      ]
     },
     "execution_count": 495,
     "metadata": {},
     "output_type": "execute_result"
    }
   ],
   "source": [
    "rev[0]"
   ]
  },
  {
   "cell_type": "code",
   "execution_count": 496,
   "id": "dae4635c",
   "metadata": {},
   "outputs": [],
   "source": [
    "model = gensim.models.Word2Vec(\n",
    "    window = 4,\n",
    "    min_count=2,\n",
    "    workers=4\n",
    ")"
   ]
  },
  {
   "cell_type": "code",
   "execution_count": 497,
   "id": "8d6aca4c",
   "metadata": {},
   "outputs": [],
   "source": [
    "model.build_vocab(rev)"
   ]
  },
  {
   "cell_type": "code",
   "execution_count": 498,
   "id": "99937c4c",
   "metadata": {},
   "outputs": [
    {
     "data": {
      "text/plain": [
       "5"
      ]
     },
     "execution_count": 498,
     "metadata": {},
     "output_type": "execute_result"
    }
   ],
   "source": [
    "model.epochs"
   ]
  },
  {
   "cell_type": "code",
   "execution_count": 499,
   "id": "8b91b59a",
   "metadata": {},
   "outputs": [
    {
     "data": {
      "text/html": [
       "<div>\n",
       "<style scoped>\n",
       "    .dataframe tbody tr th:only-of-type {\n",
       "        vertical-align: middle;\n",
       "    }\n",
       "\n",
       "    .dataframe tbody tr th {\n",
       "        vertical-align: top;\n",
       "    }\n",
       "\n",
       "    .dataframe thead th {\n",
       "        text-align: right;\n",
       "    }\n",
       "</style>\n",
       "<table border=\"1\" class=\"dataframe\">\n",
       "  <thead>\n",
       "    <tr style=\"text-align: right;\">\n",
       "      <th></th>\n",
       "      <th>dial</th>\n",
       "      <th>original</th>\n",
       "      <th>meaning</th>\n",
       "      <th>reg</th>\n",
       "      <th>all</th>\n",
       "    </tr>\n",
       "  </thead>\n",
       "  <tbody>\n",
       "    <tr>\n",
       "      <th>1790</th>\n",
       "      <td>술주시</td>\n",
       "      <td>지게미</td>\n",
       "      <td>지게미의 방언, 재강에 물을 타서 모주를 짜내고 남은 찌꺼기.</td>\n",
       "      <td>jj</td>\n",
       "      <td>지게미 술주시</td>\n",
       "    </tr>\n",
       "  </tbody>\n",
       "</table>\n",
       "</div>"
      ],
      "text/plain": [
       "     dial original                              meaning reg       all\n",
       "1790  술주시      지게미   지게미의 방언, 재강에 물을 타서 모주를 짜내고 남은 찌꺼기.  jj   지게미 술주시"
      ]
     },
     "execution_count": 499,
     "metadata": {},
     "output_type": "execute_result"
    }
   ],
   "source": [
    "df.loc[df['dial'] == '술주시']"
   ]
  },
  {
   "cell_type": "code",
   "execution_count": 500,
   "id": "314e6aa4",
   "metadata": {},
   "outputs": [
    {
     "data": {
      "text/plain": [
       "0                                 [분수, 분쉬, 분수, 분쉬, 분수, 분쉬]\n",
       "1                                 [분수, 분시, 분수, 분시, 분수, 분시]\n",
       "2                                 [분결, 분절, 분결, 분절, 분결, 분절]\n",
       "3                                 [부채, 분채, 부채, 분채, 부채, 분채]\n",
       "4                           [부채질, 분채질, 부채질, 분채질, 부채질, 분채질]\n",
       "                               ...                        \n",
       "16789                             [마흔, 마은, 마흔, 마은, 마흔, 마은]\n",
       "16790    [서른이, 조금, 넘는, 또는, 그런, 수의, 설남은, 서른이, 조금, 넘는, 또는...\n",
       "16791                             [서른, 설룬, 서른, 설룬, 서른, 설룬]\n",
       "16792                             [서른, 설흔, 서른, 설흔, 서른, 설흔]\n",
       "16793                       [대여섯, 대요슷, 대여섯, 대요슷, 대여섯, 대요슷]\n",
       "Name: all, Length: 16794, dtype: object"
      ]
     },
     "execution_count": 500,
     "metadata": {},
     "output_type": "execute_result"
    }
   ],
   "source": [
    "rev"
   ]
  },
  {
   "cell_type": "code",
   "execution_count": 501,
   "id": "0dce5c27",
   "metadata": {},
   "outputs": [],
   "source": [
    "model.train(rev, total_examples=model.corpus_count, epochs = model.epochs * 10)\n",
    "model.save(file_path +'/w2v_meaning.model')"
   ]
  },
  {
   "cell_type": "code",
   "execution_count": 504,
   "id": "bf265901",
   "metadata": {},
   "outputs": [
    {
     "data": {
      "text/plain": [
       "[('마은', 0.9962345361709595),\n",
       " ('모루', 0.9646968245506287),\n",
       " ('반날갈이', 0.9636173844337463),\n",
       " ('혼령', 0.9627216458320618),\n",
       " ('구리', 0.9620144963264465),\n",
       " ('고사떡', 0.9612826704978943),\n",
       " ('낫젼밧', 0.9602319002151489),\n",
       " ('췌서', 0.960150420665741),\n",
       " ('초서', 0.9596132636070251),\n",
       " ('혼정', 0.9594459533691406)]"
      ]
     },
     "execution_count": 504,
     "metadata": {},
     "output_type": "execute_result"
    }
   ],
   "source": [
    "model.wv.most_similar('마흔')"
   ]
  },
  {
   "cell_type": "code",
   "execution_count": 403,
   "id": "489de20f",
   "metadata": {},
   "outputs": [
    {
     "data": {
      "text/plain": [
       "0.78596276"
      ]
     },
     "execution_count": 403,
     "metadata": {},
     "output_type": "execute_result"
    }
   ],
   "source": [
    "model.wv.similarity(w1='분수',w2='분시')"
   ]
  },
  {
   "cell_type": "code",
   "execution_count": null,
   "id": "be902aab",
   "metadata": {},
   "outputs": [],
   "source": []
  }
 ],
 "metadata": {
  "kernelspec": {
   "display_name": "Python 3 (ipykernel)",
   "language": "python",
   "name": "python3"
  },
  "language_info": {
   "codemirror_mode": {
    "name": "ipython",
    "version": 3
   },
   "file_extension": ".py",
   "mimetype": "text/x-python",
   "name": "python",
   "nbconvert_exporter": "python",
   "pygments_lexer": "ipython3",
   "version": "3.9.7"
  }
 },
 "nbformat": 4,
 "nbformat_minor": 5
}
