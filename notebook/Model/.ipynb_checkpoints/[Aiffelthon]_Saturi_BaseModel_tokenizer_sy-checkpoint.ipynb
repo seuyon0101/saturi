{
 "cells": [
  {
   "cell_type": "code",
   "execution_count": 10,
   "id": "55d87760",
   "metadata": {},
   "outputs": [
    {
     "name": "stdout",
     "output_type": "stream",
     "text": [
      "2.8.0\n",
      "1.5.3\n",
      "1.24.2\n"
     ]
    }
   ],
   "source": [
    "import warnings\n",
    "warnings.filterwarnings('ignore')\n",
    "\n",
    "import tensorflow as tf\n",
    "import numpy as np\n",
    "import pandas as pd\n",
    "\n",
    "import matplotlib as mpl\n",
    "import matplotlib.ticker as ticker\n",
    "import matplotlib.pyplot as plt\n",
    "\n",
    "import time\n",
    "import re\n",
    "import os\n",
    "import io\n",
    "\n",
    "\n",
    "# from tqdm import tqdm_notebook \n",
    "from tqdm import tqdm \n",
    "import random\n",
    "\n",
    "import sentencepiece as spm\n",
    "from konlpy.tag import Mecab\n",
    "\n",
    "print(tf.__version__)\n",
    "print(pd.__version__)\n",
    "print(np.__version__)"
   ]
  },
  {
   "cell_type": "markdown",
   "id": "4b2e8c9a",
   "metadata": {},
   "source": [
    "# Step 1. 데이터 불러오기\n",
    "   "
   ]
  },
  {
   "cell_type": "code",
   "execution_count": 11,
   "id": "6b5c700d",
   "metadata": {},
   "outputs": [],
   "source": [
    "data_dir = os.getenv(\"HOME\") + '/aiffel/DATA'"
   ]
  },
  {
   "cell_type": "code",
   "execution_count": 12,
   "id": "d071582c",
   "metadata": {},
   "outputs": [],
   "source": [
    "data_test_path = data_dir+\"/data_test_spm_4000_0317.pkl\"\n",
    "full_data_test = pd.read_pickle(data_test_path, 'gzip')\n",
    "full_data_test['weight'] = full_data_test['tok_cat'].apply(lambda x : 14 - x)\n",
    "full_data_test = full_data_test.loc[full_data_test['tok_cat'] < 6].sample(n=250, weights = 'weight' ,random_state=6) # validation 시간이 너무 오래 걸림\n",
    "test_idx = full_data_test.index"
   ]
  },
  {
   "cell_type": "code",
   "execution_count": 13,
   "id": "c0bbbb0b",
   "metadata": {},
   "outputs": [],
   "source": [
    "# # train data load\n",
    "data_dir = os.getenv('HOME')+'/aiffel/DATA' # 파일 경로 지정\n",
    "data_train_path = data_dir+\"/data_train_custom_msp_4000_0321.pkl\"\n",
    "data_test_path = data_dir+\"/data_test_custom_msp_4000_0321.pkl\"\n",
    "full_data = pd.read_pickle(data_train_path, 'gzip')\n",
    "full_data_test = pd.read_pickle(data_test_path, 'gzip')\n",
    "full_data_test = full_data_test.iloc[test_idx].copy()"
   ]
  },
  {
   "cell_type": "code",
   "execution_count": 14,
   "id": "5eb745ca",
   "metadata": {},
   "outputs": [
    {
     "name": "stdout",
     "output_type": "stream",
     "text": [
      "<class 'pandas.core.frame.DataFrame'>\n",
      "RangeIndex: 1340262 entries, 0 to 1340261\n",
      "Data columns (total 8 columns):\n",
      " #   Column    Non-Null Count    Dtype \n",
      "---  ------    --------------    ----- \n",
      " 0   reg       1340262 non-null  object\n",
      " 1   topic     1340262 non-null  object\n",
      " 2   eng       1340262 non-null  object\n",
      " 3   dial      1340262 non-null  object\n",
      " 4   tok_len   1340262 non-null  int64 \n",
      " 5   tok_cat   1340262 non-null  int64 \n",
      " 6   toks_en   1340262 non-null  object\n",
      " 7   toks_dec  1340262 non-null  object\n",
      "dtypes: int64(2), object(6)\n",
      "memory usage: 81.8+ MB\n"
     ]
    }
   ],
   "source": [
    "full_data.info()"
   ]
  },
  {
   "cell_type": "code",
   "execution_count": 15,
   "id": "104b7edb",
   "metadata": {},
   "outputs": [
    {
     "name": "stdout",
     "output_type": "stream",
     "text": [
      "<class 'pandas.core.frame.DataFrame'>\n",
      "Int64Index: 250 entries, 1362 to 893\n",
      "Data columns (total 8 columns):\n",
      " #   Column    Non-Null Count  Dtype \n",
      "---  ------    --------------  ----- \n",
      " 0   reg       250 non-null    object\n",
      " 1   topic     250 non-null    object\n",
      " 2   eng       250 non-null    object\n",
      " 3   dial      250 non-null    object\n",
      " 4   tok_len   250 non-null    int64 \n",
      " 5   tok_cat   250 non-null    int64 \n",
      " 6   toks_en   250 non-null    object\n",
      " 7   toks_dec  250 non-null    object\n",
      "dtypes: int64(2), object(6)\n",
      "memory usage: 17.6+ KB\n"
     ]
    }
   ],
   "source": [
    "full_data_test.info()"
   ]
  },
  {
   "cell_type": "code",
   "execution_count": 16,
   "id": "18cb69b5",
   "metadata": {},
   "outputs": [],
   "source": [
    "regs = full_data.reg.unique()"
   ]
  },
  {
   "cell_type": "code",
   "execution_count": 20,
   "id": "50d62e87",
   "metadata": {},
   "outputs": [
    {
     "data": {
      "image/png": "[encoded data removed]",
      "text/plain": [
       "<Figure size 640x480 with 1 Axes>"
      ]
     },
     "metadata": {},
     "output_type": "display_data"
    }
   ],
   "source": [
    "import seaborn as sns\n",
    "sns.histplot(x='tok_len',data = full_data, bins= 50,stat='probability' )\n",
    "plt.show()"
   ]
  },
  {
   "cell_type": "code",
   "execution_count": 21,
   "id": "c7343821",
   "metadata": {},
   "outputs": [
    {
     "data": {
      "text/plain": [
       "reg\n",
       "cc    43.703436\n",
       "gs    40.892672\n",
       "jd    41.953760\n",
       "jj    34.078127\n",
       "kw    34.169373\n",
       "Name: tok_len, dtype: float64"
      ]
     },
     "execution_count": 21,
     "metadata": {},
     "output_type": "execute_result"
    }
   ],
   "source": [
    "full_data.groupby(full_data['reg'])['tok_len'].mean()"
   ]
  },
  {
   "cell_type": "code",
   "execution_count": 22,
   "id": "372d27c7",
   "metadata": {},
   "outputs": [],
   "source": [
    "# full_data['len_cat'] = pd.qcut(full_data['tok_len'], [0,0.7,0.8,0.85,0.9,0.92,0.94,0.96,0.98,0.985,0.986,0.994,0.999,1],labels =[1,2,3,4,5,6,7,8,9,10,11,12,13])"
   ]
  },
  {
   "cell_type": "code",
   "execution_count": 23,
   "id": "8215d204",
   "metadata": {},
   "outputs": [
    {
     "data": {
      "text/plain": [
       "min     97\n",
       "max    109\n",
       "Name: tok_len, dtype: int64"
      ]
     },
     "execution_count": 23,
     "metadata": {},
     "output_type": "execute_result"
    }
   ],
   "source": [
    "full_data.loc[full_data['tok_cat']==5,'tok_len'].agg([min,max])"
   ]
  },
  {
   "cell_type": "code",
   "execution_count": 24,
   "id": "d817acf0",
   "metadata": {},
   "outputs": [
    {
     "data": {
      "text/plain": [
       "True"
      ]
     },
     "execution_count": 24,
     "metadata": {},
     "output_type": "execute_result"
    }
   ],
   "source": [
    "data_path = os.getenv('HOME') + '/aiffel/saturi/notebook/Preprocessing/'\n",
    "SRC_VOCAB_SIZE = 4009\n",
    "TGT_VOCAB_SIZE = 4009\n",
    "\n",
    "enc_tokenizer = spm.SentencePieceProcessor()\n",
    "enc_tokenizer.Load('spm_enc_v.model')\n",
    "\n",
    "dec_tokenizer = spm.SentencePieceProcessor()\n",
    "dec_tokenizer.Load(data_path+'/spm_dec_custom_mecab_4009.model')\n",
    "\n",
    "dec_tokenizer.set_encode_extra_options(\"bos:eos\")"
   ]
  },
  {
   "cell_type": "markdown",
   "id": "b68adf64",
   "metadata": {},
   "source": [
    "# Step 2. 모델불러오기"
   ]
  },
  {
   "cell_type": "code",
   "execution_count": 25,
   "id": "cf9adca2",
   "metadata": {},
   "outputs": [
    {
     "name": "stderr",
     "output_type": "stream",
     "text": [
      "\u001b[34m\u001b[1mwandb\u001b[0m: Currently logged in as: \u001b[33mseuyon0101\u001b[0m. Use \u001b[1m`wandb login --relogin`\u001b[0m to force relogin\n"
     ]
    },
    {
     "data": {
      "text/plain": [
       "True"
      ]
     },
     "execution_count": 25,
     "metadata": {},
     "output_type": "execute_result"
    }
   ],
   "source": [
    "import wandb\n",
    "wandb.login()"
   ]
  },
  {
   "cell_type": "code",
   "execution_count": 26,
   "id": "8fca30f1",
   "metadata": {},
   "outputs": [
    {
     "name": "stderr",
     "output_type": "stream",
     "text": [
      "\u001b[34m\u001b[1mwandb\u001b[0m: Currently logged in as: \u001b[33mseuyon0101\u001b[0m (\u001b[33msaturi\u001b[0m). Use \u001b[1m`wandb login --relogin`\u001b[0m to force relogin\n"
     ]
    },
    {
     "data": {
      "text/html": [
       "Tracking run with wandb version 0.14.0"
      ],
      "text/plain": [
       "<IPython.core.display.HTML object>"
      ]
     },
     "metadata": {},
     "output_type": "display_data"
    },
    {
     "data": {
      "text/html": [
       "Run data is saved locally in <code>/home/seuyon0101/aiffel/saturi/notebook/Model/wandb/run-20230321_160122-pdlmbc22</code>"
      ],
      "text/plain": [
       "<IPython.core.display.HTML object>"
      ]
     },
     "metadata": {},
     "output_type": "display_data"
    },
    {
     "data": {
      "text/html": [
       "Syncing run <strong><a href='https://wandb.ai/saturi/model_exp_custom_msp4009_0321/runs/pdlmbc22' target=\"_blank\">summer-rain-9</a></strong> to <a href='https://wandb.ai/saturi/model_exp_custom_msp4009_0321' target=\"_blank\">Weights & Biases</a> (<a href='https://wandb.me/run' target=\"_blank\">docs</a>)<br/>"
      ],
      "text/plain": [
       "<IPython.core.display.HTML object>"
      ]
     },
     "metadata": {},
     "output_type": "display_data"
    },
    {
     "data": {
      "text/html": [
       " View project at <a href='https://wandb.ai/saturi/model_exp_custom_msp4009_0321' target=\"_blank\">https://wandb.ai/saturi/model_exp_custom_msp4009_0321</a>"
      ],
      "text/plain": [
       "<IPython.core.display.HTML object>"
      ]
     },
     "metadata": {},
     "output_type": "display_data"
    },
    {
     "data": {
      "text/html": [
       " View run at <a href='https://wandb.ai/saturi/model_exp_custom_msp4009_0321/runs/pdlmbc22' target=\"_blank\">https://wandb.ai/saturi/model_exp_custom_msp4009_0321/runs/pdlmbc22</a>"
      ],
      "text/plain": [
       "<IPython.core.display.HTML object>"
      ]
     },
     "metadata": {},
     "output_type": "display_data"
    }
   ],
   "source": [
    "#wandb 설정\n",
    "run  = wandb.init(project = 'model_exp_custom_msp4009_0321',\n",
    "                 entity = 'saturi',\n",
    "                 config = {\n",
    "                     'model_name':'Vanilla_Transformer',\n",
    "                     'n_layers':6,\n",
    "                     'd_model':512,\n",
    "                     'n_heads':8,\n",
    "                     'd_ff':2048,\n",
    "                     'src_vocab_size':SRC_VOCAB_SIZE,\n",
    "                     'tgt_vocab_size':TGT_VOCAB_SIZE,\n",
    "                     'pos_len': 512,\n",
    "                     'dropout':0.2,\n",
    "                     'shared':True,\n",
    "                     'warmups' : 4000,\n",
    "                     'epochs':1,\n",
    "                     'optimizer' :'ADAM',\n",
    "                     'loss' : 'SparseCategoricalCrossentropy',\n",
    "                     'metric' : 'bleu'\n",
    "                 })\n",
    "config = wandb.config"
   ]
  },
  {
   "cell_type": "code",
   "execution_count": 27,
   "id": "c948ef42",
   "metadata": {},
   "outputs": [],
   "source": [
    "import sys\n",
    "sys.path.insert(0,os.getenv('HOME') + '/aiffel/saturi/MODEL/') # vanilla transformer 파일경로에서 불러오기 위해 설정\n",
    "sys.path.insert(0,os.getenv('HOME') + '/aiffel/saturi/PRE/')\n",
    "sys.path.insert(0,os.getenv('HOME') + '/aiffel/saturi/POST/')"
   ]
  },
  {
   "cell_type": "code",
   "execution_count": 28,
   "id": "dc718fdd",
   "metadata": {},
   "outputs": [
    {
     "name": "stderr",
     "output_type": "stream",
     "text": [
      "2023-03-21 16:01:27.326301: I tensorflow/core/platform/cpu_feature_guard.cc:151] This TensorFlow binary is optimized with oneAPI Deep Neural Network Library (oneDNN) to use the following CPU instructions in performance-critical operations:  AVX2 FMA\n",
      "To enable them in other operations, rebuild TensorFlow with the appropriate compiler flags.\n",
      "2023-03-21 16:01:28.176093: I tensorflow/core/common_runtime/gpu/gpu_device.cc:1525] Created device /job:localhost/replica:0/task:0/device:GPU:0 with 14628 MB memory:  -> device: 0, name: Tesla V100-SXM2-16GB, pci bus id: 0000:00:04.0, compute capability: 7.0\n"
     ]
    }
   ],
   "source": [
    "from vanilla_transformer import Transformer, generate_masks\n",
    "\n",
    "transformer = Transformer(\n",
    "    n_layers=config.n_layers,\n",
    "    d_model=config.d_model,\n",
    "    n_heads=config.n_heads,\n",
    "    d_ff=config.d_ff,\n",
    "    src_vocab_size=config.src_vocab_size,\n",
    "    tgt_vocab_size=config.tgt_vocab_size,\n",
    "    pos_len=config.pos_len,\n",
    "    dropout=config.dropout,\n",
    "    shared=config.shared\n",
    ")"
   ]
  },
  {
   "cell_type": "markdown",
   "id": "f342277c",
   "metadata": {},
   "source": [
    "##  Learning Rate Scheduler를 선언하고, 이를 포함하는 Adam Optimizer를 선언"
   ]
  },
  {
   "cell_type": "code",
   "execution_count": 29,
   "id": "206e432d",
   "metadata": {},
   "outputs": [],
   "source": [
    "class LearningRateScheduler(tf.keras.optimizers.schedules.LearningRateSchedule):\n",
    "    def __init__(self, d_model, warmup_steps=config.warmups):\n",
    "        super(LearningRateScheduler, self).__init__()\n",
    "        self.d_model = d_model\n",
    "        self.warmup_steps = warmup_steps\n",
    "    \n",
    "    def __call__(self, step):\n",
    "        arg1 = step ** np.array(-0.5)\n",
    "        arg2 = step * np.array(self.warmup_steps ** -1.5)\n",
    "        \n",
    "        return np.array(self.d_model ** -0.5) * tf.math.minimum(arg1, arg2)"
   ]
  },
  {
   "cell_type": "code",
   "execution_count": 30,
   "id": "ea6594ae",
   "metadata": {},
   "outputs": [],
   "source": [
    "learningrate = LearningRateScheduler(512)"
   ]
  },
  {
   "cell_type": "code",
   "execution_count": 31,
   "id": "8786194f",
   "metadata": {},
   "outputs": [],
   "source": [
    "optimizer = tf.keras.optimizers.Adam(learningrate, beta_1=0.9, beta_2=0.98, epsilon=1e-9)"
   ]
  },
  {
   "cell_type": "markdown",
   "id": "acb5db58",
   "metadata": {},
   "source": [
    "## Loss 함수를 정의\n"
   ]
  },
  {
   "cell_type": "code",
   "execution_count": 32,
   "id": "2a8f5f9e",
   "metadata": {},
   "outputs": [],
   "source": [
    "# Loss 함수 정의\n",
    "loss_object = tf.keras.losses.SparseCategoricalCrossentropy(from_logits=True, reduction='none')\n",
    "\n",
    "def loss_function(real, pred):\n",
    "    mask = tf.math.logical_not(tf.math.equal(real, 0))\n",
    "    loss_ = loss_object(real, pred)\n",
    "\n",
    "    # Masking 되지 않은 입력의 개수로 Scaling하는 과정\n",
    "    mask = tf.cast(mask, dtype=loss_.dtype)\n",
    "    loss_ *= mask\n",
    "\n",
    "    return tf.reduce_sum(loss_)/tf.reduce_sum(mask)"
   ]
  },
  {
   "cell_type": "markdown",
   "id": "c3145902",
   "metadata": {},
   "source": [
    "## train_step 함수를 정의\n"
   ]
  },
  {
   "cell_type": "code",
   "execution_count": 33,
   "id": "6a1078f5",
   "metadata": {},
   "outputs": [],
   "source": [
    "@tf.function()\n",
    "def train_step(src, tgt, model, optimizer):\n",
    "    gold = tgt[:, 1:]\n",
    "        \n",
    "    enc_mask, dec_enc_mask, dec_mask = generate_masks(src, tgt)\n",
    "\n",
    "    # 계산된 loss에 tf.GradientTape()를 적용해 학습을 진행합니다.\n",
    "    with tf.GradientTape() as tape:\n",
    "        predictions, enc_attns, dec_attns, dec_enc_attns = model(src, tgt, enc_mask, dec_enc_mask, dec_mask)\n",
    "        loss = loss_function(gold, predictions[:, :-1])\n",
    "\n",
    "    # 최종적으로 optimizer.apply_gradients()가 사용됩니다. \n",
    "    gradients = tape.gradient(loss, model.trainable_variables)    \n",
    "    optimizer.apply_gradients(zip(gradients, model.trainable_variables))\n",
    "    \n",
    "    \n",
    "    return loss, enc_attns, dec_attns, dec_enc_attns, predictions"
   ]
  },
  {
   "cell_type": "code",
   "execution_count": 34,
   "id": "59985e0a",
   "metadata": {},
   "outputs": [],
   "source": [
    "# Validating the model\n",
    "@tf.function\n",
    "def model_validate(src, tgt, model):\n",
    "    gold = tgt[:, 1:]\n",
    "        \n",
    "    enc_mask, dec_enc_mask, dec_mask = generate_masks(src, tgt)\n",
    "    predictions, enc_attns, dec_attns, dec_enc_attns = model(src, tgt, enc_mask, dec_enc_mask, dec_mask)\n",
    "    v_loss = loss_function(gold, predictions[:, :-1])\n",
    "    \n",
    "    return v_loss, predictions"
   ]
  },
  {
   "cell_type": "code",
   "execution_count": 37,
   "id": "4bb0f8eb",
   "metadata": {
    "scrolled": true
   },
   "outputs": [],
   "source": [
    "# 학습 매니저 설정\n",
    "from evaluation import evaluate, compute_metric\n",
    "\n",
    "def train_and_checkpoint(transformer, manager, EPOCHS):\n",
    "    ckpt.restore(manager.latest_checkpoint)\n",
    "    if manager.latest_checkpoint:\n",
    "        print(\"Restored from {}\".format(manager.latest_checkpoint))\n",
    "    \n",
    "    else:\n",
    "        print(\"Initializing from scratch.\")\n",
    "\n",
    "\n",
    "    for epoch in range(EPOCHS):\n",
    "        total_loss = 0\n",
    "        total_loss_val = 0\n",
    "        bleu_train = 0\n",
    "        bleu_valid = 0\n",
    "        \n",
    "\n",
    "        idx_list = list(range(0, enc_train.shape[0], batch_size))\n",
    "        random.shuffle(idx_list)\n",
    "        t = tqdm(idx_list)\n",
    "        for (batch, idx) in enumerate(t):\n",
    "            batch_loss, enc_attns, dec_attns, dec_enc_attns, preds = train_step(enc_train[idx:idx+batch_size],\n",
    "                                                                         dec_train[idx:idx+batch_size],\n",
    "                                                                         transformer,\n",
    "                                                                         optimizer)\n",
    "\n",
    "            total_loss += batch_loss\n",
    "            \n",
    "            t.set_description_str('Epoch %2d' % (epoch + 1))\n",
    "            t.set_postfix_str('Loss %.4f' % (total_loss.numpy() / (batch + 1)))\n",
    "            \n",
    "            \n",
    "        #validation\n",
    "        for test_idx in range(0,enc_test.shape[0], batch_size) :\n",
    "            val_loss, val_preds = model_validate(enc_test[test_idx : test_idx + batch_size],\n",
    "                                      dec_test[test_idx : test_idx + batch_size],\n",
    "                                      transformer)\n",
    "            total_loss_val += val_loss\n",
    "\n",
    "        wandb.log({\n",
    "                   \"train_loss\": total_loss.numpy() / (len(t) + 1),\n",
    "                   \"valid_loss\" : total_loss_val.numpy() / (enc_test.shape[0]//batch_size),\n",
    "                   })\n",
    "\n",
    "        save_path = manager.save()\n",
    "        print(\"Saved checkpoint for step {}: {}\".format(int(ckpt.step), save_path))\n",
    "        \n",
    "directory = os.getenv('HOME') + '/aiffel/MODEL/'\n",
    "ckpt = tf.train.Checkpoint(step = tf.Variable(1), optimizer = optimizer , transformer = transformer)\n",
    "manager = tf.train.CheckpointManager(ckpt, directory +'tf_custom_msp4000_ckpt_0321v1',max_to_keep=3)"
   ]
  },
  {
   "cell_type": "markdown",
   "id": "73a3045a",
   "metadata": {},
   "source": [
    "## 학습"
   ]
  },
  {
   "cell_type": "code",
   "execution_count": 38,
   "id": "c99c9d4d",
   "metadata": {
    "scrolled": false
   },
   "outputs": [
    {
     "name": "stdout",
     "output_type": "stream",
     "text": [
      "(945858, 31)\n",
      "(945858, 31)\n",
      "(250, 31)\n",
      "(250, 31)\n",
      "Restored from /home/seuyon0101/aiffel/MODEL/tf_custom_msp4000_ckpt_0321v1/ckpt-26\n"
     ]
    },
    {
     "name": "stderr",
     "output_type": "stream",
     "text": [
      "Epoch  1:  86%|████████████  | 25551/29559 [20:29<03:09, 21.13it/s, Loss 2.4055]"
     ]
    }
   ],
   "source": [
    "#bucketing and training\n",
    "\n",
    "batch_size = 32\n",
    "buckets = iter(full_data['tok_cat'].unique().tolist())\n",
    "\n",
    "for bucket in buckets :\n",
    "\n",
    "    src_corpus = full_data.loc[full_data['tok_cat']==bucket,'toks_en'].values\n",
    "    tgt_corpus = full_data.loc[full_data['tok_cat']==bucket,'toks_dec'].values\n",
    "    src_valid_corpus = full_data_test['toks_en'].values\n",
    "    tgt_valid_corpus = full_data_test['toks_dec'].values\n",
    "    max_len = full_data.loc[full_data['tok_cat']==bucket,'tok_len'].max()\n",
    "    \n",
    "    if max_len > 380 :\n",
    "        batch_size = 8\n",
    "        \n",
    "    if max_len > 512 : \n",
    "        max_len = 512\n",
    "        \n",
    "    enc_train = tf.keras.preprocessing.sequence.pad_sequences(src_corpus, padding='post', maxlen=max_len)\n",
    "    dec_train = tf.keras.preprocessing.sequence.pad_sequences(tgt_corpus, padding='post', maxlen=max_len)\n",
    "    enc_test = tf.keras.preprocessing.sequence.pad_sequences(src_valid_corpus, padding='post', maxlen=max_len)\n",
    "    dec_test = tf.keras.preprocessing.sequence.pad_sequences(tgt_valid_corpus, padding='post', maxlen=max_len)\n",
    "\n",
    "    print(enc_train.shape)\n",
    "    print(dec_train.shape)\n",
    "    print(enc_test.shape)\n",
    "    print(dec_test.shape)\n",
    "    \n",
    "    \n",
    "    #Train\n",
    "    train_and_checkpoint(transformer, manager, config.epochs)"
   ]
  },
  {
   "cell_type": "markdown",
   "id": "a35c2006",
   "metadata": {},
   "source": [
    "# Step 3. 평가"
   ]
  },
  {
   "cell_type": "code",
   "execution_count": 47,
   "id": "40876e03",
   "metadata": {},
   "outputs": [],
   "source": [
    "from evaluation import translate\n",
    "from time import perf_counter"
   ]
  },
  {
   "cell_type": "code",
   "execution_count": 48,
   "id": "65f6300e",
   "metadata": {},
   "outputs": [],
   "source": [
    "examples = [\"<jj> what are you doing?\",'<cc> what are you doing?','<gs> what are you doing?','<jd> what are you doing?','<kw> what are you doing?']"
   ]
  },
  {
   "cell_type": "code",
   "execution_count": 49,
   "id": "d991f6b4",
   "metadata": {},
   "outputs": [
    {
     "name": "stdout",
     "output_type": "stream",
     "text": [
      "Input: <jj> what are you doing?\n",
      "Predicted translation: 거 거 거 거 거 거 거\n",
      "Input: <cc> what are you doing?\n",
      "Predicted translation: 냐 뭐~ 냐 뭐~ 뭐\n",
      "Input: <gs> what are you doing?\n",
      "Predicted translation: 니느 뭐~ 니느 뭐\n",
      "Input: <jd> what are you doing?\n",
      "Predicted translation: 모 모빠 모빠 모빠\n",
      "Input: <kw> what are you doing?\n",
      "Predicted translation: 지굼 뭐러 하시는 말씸\n",
      "5.327321469998424\n"
     ]
    }
   ],
   "source": [
    "start = perf_counter()\n",
    "for example in examples :\n",
    "    translate(example, transformer, enc_tokenizer, dec_tokenizer, verbose =True)\n",
    "print(perf_counter() - start)"
   ]
  },
  {
   "cell_type": "code",
   "execution_count": 50,
   "id": "82d3192e",
   "metadata": {},
   "outputs": [],
   "source": [
    "full_data_test.sort_values(by='tok_cat', inplace=True)"
   ]
  },
  {
   "cell_type": "code",
   "execution_count": 51,
   "id": "9d0412bb",
   "metadata": {},
   "outputs": [],
   "source": [
    "test_text = full_data_test.eng.values\n",
    "test_tgt = full_data_test.dial.values"
   ]
  },
  {
   "cell_type": "code",
   "execution_count": 52,
   "id": "d14253e1",
   "metadata": {},
   "outputs": [
    {
     "name": "stderr",
     "output_type": "stream",
     "text": [
      "100%|█████████████████████████████████████████| 250/250 [19:44<00:00,  4.74s/it]\n"
     ]
    }
   ],
   "source": [
    "from datasets import load_metric\n",
    "bleu = load_metric(\"sacrebleu\")\n",
    "test_translate = []\n",
    "bleu_valid_score = []\n",
    "for i in tqdm(range(len(test_text))) :\n",
    "    trans = translate(test_text[i], transformer, enc_tokenizer, dec_tokenizer, verbose =False)\n",
    "    test_translate.append(trans)\n",
    "    label = dec_tokenizer.decode(test_tgt[i])\n",
    "    result = bleu.compute(predictions=[trans], references=[[label]], smooth_method='add-k')['score']\n",
    "    bleu_valid_score.append(result)"
   ]
  },
  {
   "cell_type": "code",
   "execution_count": 53,
   "id": "72652f42",
   "metadata": {},
   "outputs": [
    {
     "data": {
      "text/plain": [
       "7.2810210688685775"
      ]
     },
     "execution_count": 53,
     "metadata": {},
     "output_type": "execute_result"
    }
   ],
   "source": [
    "sum(bleu_valid_score)/len(test_text)"
   ]
  },
  {
   "cell_type": "code",
   "execution_count": 54,
   "id": "03021526",
   "metadata": {},
   "outputs": [],
   "source": [
    "wandb.log({\"bleu\": sum(bleu_valid_score)/len(test_text)})"
   ]
  },
  {
   "cell_type": "code",
   "execution_count": 55,
   "id": "34107c50",
   "metadata": {},
   "outputs": [],
   "source": [
    "full_data_test['bleu'] = np.array(bleu_valid_score)\n",
    "full_data_test['pred'] = test_translate"
   ]
  },
  {
   "cell_type": "code",
   "execution_count": 56,
   "id": "90a43c07",
   "metadata": {},
   "outputs": [
    {
     "data": {
      "text/html": [
       "<div>\n",
       "<style scoped>\n",
       "    .dataframe tbody tr th:only-of-type {\n",
       "        vertical-align: middle;\n",
       "    }\n",
       "\n",
       "    .dataframe tbody tr th {\n",
       "        vertical-align: top;\n",
       "    }\n",
       "\n",
       "    .dataframe thead th {\n",
       "        text-align: right;\n",
       "    }\n",
       "</style>\n",
       "<table border=\"1\" class=\"dataframe\">\n",
       "  <thead>\n",
       "    <tr style=\"text-align: right;\">\n",
       "      <th></th>\n",
       "      <th>tok_cat</th>\n",
       "      <th>topic</th>\n",
       "      <th>reg</th>\n",
       "      <th>dial</th>\n",
       "      <th>pred</th>\n",
       "      <th>bleu</th>\n",
       "    </tr>\n",
       "  </thead>\n",
       "  <tbody>\n",
       "    <tr>\n",
       "      <th>711</th>\n",
       "      <td>1</td>\n",
       "      <td>방송/연예</td>\n",
       "      <td>cc</td>\n",
       "      <td>마저 만나믄 내도 아마 구 말부통 나올 꺼 같어.</td>\n",
       "      <td>아마도 쫌 약깐 쫌 윤아래가 아마도 아마도 쫌 핬을</td>\n",
       "      <td>0.000000</td>\n",
       "    </tr>\n",
       "    <tr>\n",
       "      <th>876</th>\n",
       "      <td>1</td>\n",
       "      <td>게임</td>\n",
       "      <td>cc</td>\n",
       "      <td>에서 최근이 허는 께임 구 쩡도 있는디 혹시 최근이 따른 께임 하신 껀 드 없으슈 ...</td>\n",
       "      <td>거서 인자 쪼끼 쪼끼 쪼끼 쪼끼가 있으 가주구 최근에는 또 뭐~ 니가 뭐</td>\n",
       "      <td>0.000000</td>\n",
       "    </tr>\n",
       "    <tr>\n",
       "      <th>972</th>\n",
       "      <td>1</td>\n",
       "      <td>SNS</td>\n",
       "      <td>gs</td>\n",
       "      <td>니 드가서 봔 적 있나?</td>\n",
       "      <td>니느 뭐~ 니느 뭐~</td>\n",
       "      <td>0.000000</td>\n",
       "    </tr>\n",
       "    <tr>\n",
       "      <th>1097</th>\n",
       "      <td>1</td>\n",
       "      <td>건강</td>\n",
       "      <td>gs</td>\n",
       "      <td>어뜬 분은 또 힘든데 랑 하느노 이르케 하디마</td>\n",
       "      <td>그~ 뭐~ 그~ 뭐~ 그~ 뭐~ 뭐~</td>\n",
       "      <td>0.000000</td>\n",
       "    </tr>\n",
       "    <tr>\n",
       "      <th>1026</th>\n",
       "      <td>1</td>\n",
       "      <td>가족</td>\n",
       "      <td>gs</td>\n",
       "      <td>그서 걍</td>\n",
       "      <td>-그- 그~ -그- 그</td>\n",
       "      <td>0.000000</td>\n",
       "    </tr>\n",
       "    <tr>\n",
       "      <th>...</th>\n",
       "      <td>...</td>\n",
       "      <td>...</td>\n",
       "      <td>...</td>\n",
       "      <td>...</td>\n",
       "      <td>...</td>\n",
       "      <td>...</td>\n",
       "    </tr>\n",
       "    <tr>\n",
       "      <th>530</th>\n",
       "      <td>1</td>\n",
       "      <td>가족</td>\n",
       "      <td>jj</td>\n",
       "      <td>하르방 얘기를 골믄 인제 거 하르방이</td>\n",
       "      <td>인제 거 하르방신디 골아라게 말</td>\n",
       "      <td>27.821195</td>\n",
       "    </tr>\n",
       "    <tr>\n",
       "      <th>1163</th>\n",
       "      <td>1</td>\n",
       "      <td>경제</td>\n",
       "      <td>gs</td>\n",
       "      <td>사람이서 어뜨케 보믄 쫌 꼼꼼하거나</td>\n",
       "      <td>어뜨케 보믄 사람이서 쫌 꼼꼼하꼬 고런</td>\n",
       "      <td>32.466792</td>\n",
       "    </tr>\n",
       "    <tr>\n",
       "      <th>482</th>\n",
       "      <td>1</td>\n",
       "      <td>자동차/오토바이</td>\n",
       "      <td>jj</td>\n",
       "      <td>거 거 주술 생각이랑마랑</td>\n",
       "      <td>거 거 거 거 거</td>\n",
       "      <td>33.980885</td>\n",
       "    </tr>\n",
       "    <tr>\n",
       "      <th>1206</th>\n",
       "      <td>1</td>\n",
       "      <td>드라마</td>\n",
       "      <td>kw</td>\n",
       "      <td>즌화 자주 하라우.</td>\n",
       "      <td>자주 전화하셨사. 지</td>\n",
       "      <td>37.991784</td>\n",
       "    </tr>\n",
       "    <tr>\n",
       "      <th>1416</th>\n",
       "      <td>1</td>\n",
       "      <td>가족</td>\n",
       "      <td>kw</td>\n",
       "      <td>이그 쫌 먹어봐.</td>\n",
       "      <td>이그 입어봐.</td>\n",
       "      <td>41.368955</td>\n",
       "    </tr>\n",
       "  </tbody>\n",
       "</table>\n",
       "<p>250 rows × 6 columns</p>\n",
       "</div>"
      ],
      "text/plain": [
       "      tok_cat     topic reg  \\\n",
       "711         1     방송/연예  cc   \n",
       "876         1        게임  cc   \n",
       "972         1       SNS  gs   \n",
       "1097        1        건강  gs   \n",
       "1026        1        가족  gs   \n",
       "...       ...       ...  ..   \n",
       "530         1        가족  jj   \n",
       "1163        1        경제  gs   \n",
       "482         1  자동차/오토바이  jj   \n",
       "1206        1       드라마  kw   \n",
       "1416        1        가족  kw   \n",
       "\n",
       "                                                   dial  \\\n",
       "711                        마저 만나믄 내도 아마 구 말부통 나올 꺼 같어.    \n",
       "876   에서 최근이 허는 께임 구 쩡도 있는디 혹시 최근이 따른 께임 하신 껀 드 없으슈 ...   \n",
       "972                                      니 드가서 봔 적 있나?    \n",
       "1097                         어뜬 분은 또 힘든데 랑 하느노 이르케 하디마    \n",
       "1026                                              그서 걍    \n",
       "...                                                 ...   \n",
       "530                               하르방 얘기를 골믄 인제 거 하르방이    \n",
       "1163                               사람이서 어뜨케 보믄 쫌 꼼꼼하거나    \n",
       "482                                      거 거 주술 생각이랑마랑    \n",
       "1206                                        즌화 자주 하라우.    \n",
       "1416                                         이그 쫌 먹어봐.    \n",
       "\n",
       "                                          pred       bleu  \n",
       "711               아마도 쫌 약깐 쫌 윤아래가 아마도 아마도 쫌 핬을   0.000000  \n",
       "876   거서 인자 쪼끼 쪼끼 쪼끼 쪼끼가 있으 가주구 최근에는 또 뭐~ 니가 뭐   0.000000  \n",
       "972                                니느 뭐~ 니느 뭐~   0.000000  \n",
       "1097                      그~ 뭐~ 그~ 뭐~ 그~ 뭐~ 뭐~   0.000000  \n",
       "1026                              -그- 그~ -그- 그   0.000000  \n",
       "...                                        ...        ...  \n",
       "530                          인제 거 하르방신디 골아라게 말  27.821195  \n",
       "1163                     어뜨케 보믄 사람이서 쫌 꼼꼼하꼬 고런  32.466792  \n",
       "482                                  거 거 거 거 거  33.980885  \n",
       "1206                               자주 전화하셨사. 지  37.991784  \n",
       "1416                                   이그 입어봐.  41.368955  \n",
       "\n",
       "[250 rows x 6 columns]"
      ]
     },
     "execution_count": 56,
     "metadata": {},
     "output_type": "execute_result"
    }
   ],
   "source": [
    "full_data_test.loc[:,['tok_cat','topic','reg','dial','pred','bleu']].sort_values('bleu')"
   ]
  },
  {
   "cell_type": "code",
   "execution_count": 121,
   "id": "c1c7abd5",
   "metadata": {},
   "outputs": [],
   "source": [
    "data_dir = os.getenv('HOME')+'/aiffel/DATA' # 파일 경로 지정\n",
    "full_data_test.to_csv(data_dir + '/test_results_custom_msp4000.csv')"
   ]
  },
  {
   "cell_type": "code",
   "execution_count": 57,
   "id": "d6b591e9",
   "metadata": {},
   "outputs": [
    {
     "data": {
      "text/html": [
       "Waiting for W&B process to finish... <strong style=\"color:green\">(success).</strong>"
      ],
      "text/plain": [
       "<IPython.core.display.HTML object>"
      ]
     },
     "metadata": {},
     "output_type": "display_data"
    },
    {
     "name": "stderr",
     "output_type": "stream",
     "text": [
      "Widget Javascript not detected.  It may not be installed or enabled properly.\n"
     ]
    },
    {
     "data": {
      "application/vnd.jupyter.widget-view+json": {
       "model_id": "ab2e82b3180d480ba4275c6032f8fa3a"
      }
     },
     "metadata": {},
     "output_type": "display_data"
    },
    {
     "data": {
      "text/html": [
       "<style>\n",
       "    table.wandb td:nth-child(1) { padding: 0 10px; text-align: left ; width: auto;} td:nth-child(2) {text-align: left ; width: 100%}\n",
       "    .wandb-row { display: flex; flex-direction: row; flex-wrap: wrap; justify-content: flex-start; width: 100% }\n",
       "    .wandb-col { display: flex; flex-direction: column; flex-basis: 100%; flex: 1; padding: 10px; }\n",
       "    </style>\n",
       "<div class=\"wandb-row\"><div class=\"wandb-col\"><h3>Run history:</h3><br/><table class=\"wandb\"><tr><td>bleu</td><td>▁</td></tr><tr><td>train_loss</td><td>▂▃▂█▁▃▂▁▄▃▂▃▆</td></tr><tr><td>valid_loss</td><td>█▅▃▄▂▃▃▂▄▄▄▄▁</td></tr></table><br/></div><div class=\"wandb-col\"><h3>Run summary:</h3><br/><table class=\"wandb\"><tr><td>bleu</td><td>7.28102</td></tr><tr><td>train_loss</td><td>2.84211</td></tr><tr><td>valid_loss</td><td>2.86343</td></tr></table><br/></div></div>"
      ],
      "text/plain": [
       "<IPython.core.display.HTML object>"
      ]
     },
     "metadata": {},
     "output_type": "display_data"
    },
    {
     "data": {
      "text/html": [
       " View run <strong style=\"color:#cdcd00\">spring-flower-5</strong> at: <a href='https://wandb.ai/saturi/model_exp_custom_msp4009_0321/runs/6c9xp57p' target=\"_blank\">https://wandb.ai/saturi/model_exp_custom_msp4009_0321/runs/6c9xp57p</a><br/>Synced 5 W&B file(s), 0 media file(s), 0 artifact file(s) and 0 other file(s)"
      ],
      "text/plain": [
       "<IPython.core.display.HTML object>"
      ]
     },
     "metadata": {},
     "output_type": "display_data"
    },
    {
     "data": {
      "text/html": [
       "Find logs at: <code>./wandb/run-20230321_092804-6c9xp57p/logs</code>"
      ],
      "text/plain": [
       "<IPython.core.display.HTML object>"
      ]
     },
     "metadata": {},
     "output_type": "display_data"
    }
   ],
   "source": [
    "wandb.finish()"
   ]
  },
  {
   "cell_type": "code",
   "execution_count": null,
   "id": "e7fbd7b0",
   "metadata": {},
   "outputs": [],
   "source": []
  }
 ],
 "metadata": {
  "hide_input": false,
  "kernelspec": {
   "display_name": "Python 3 (ipykernel)",
   "language": "python",
   "name": "python3"
  },
  "language_info": {
   "codemirror_mode": {
    "name": "ipython",
    "version": 3
   },
   "file_extension": ".py",
   "mimetype": "text/x-python",
   "name": "python",
   "nbconvert_exporter": "python",
   "pygments_lexer": "ipython3",
   "version": "3.9.16"
  },
  "toc": {
   "base_numbering": 1,
   "nav_menu": {},
   "number_sections": true,
   "sideBar": true,
   "skip_h1_title": false,
   "title_cell": "Table of Contents",
   "title_sidebar": "Contents",
   "toc_cell": true,
   "toc_position": {
    "height": "670px",
    "left": "54px",
    "top": "208px",
    "width": "336px"
   },
   "toc_section_display": true,
   "toc_window_display": true
  },
  "varInspector": {
   "cols": {
    "lenName": 16,
    "lenType": 16,
    "lenVar": 40
   },
   "kernels_config": {
    "python": {
     "delete_cmd_postfix": "",
     "delete_cmd_prefix": "del ",
     "library": "var_list.py",
     "varRefreshCmd": "print(var_dic_list())"
    },
    "r": {
     "delete_cmd_postfix": ") ",
     "delete_cmd_prefix": "rm(",
     "library": "var_list.r",
     "varRefreshCmd": "cat(var_dic_list()) "
    }
   },
   "types_to_exclude": [
    "module",
    "function",
    "builtin_function_or_method",
    "instance",
    "_Feature"
   ],
   "window_display": false
  }
 },
 "nbformat": 4,
 "nbformat_minor": 5
}
