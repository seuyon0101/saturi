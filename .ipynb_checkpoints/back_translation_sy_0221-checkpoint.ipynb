{
 "cells": [
  {
   "cell_type": "code",
   "execution_count": 1,
   "id": "55289f3a",
   "metadata": {},
   "outputs": [],
   "source": [
    "# !pip install transformers --upgrade\n",
    "from transformers import pipeline, AutoModelForSeq2SeqLM, AutoTokenizer\n",
    "import os\n",
    "import pandas as pd\n",
    "import datasets\n",
    "import gc\n",
    "from tqdm import tqdm"
   ]
  },
  {
   "cell_type": "code",
   "execution_count": 2,
   "id": "7c19aaf4",
   "metadata": {},
   "outputs": [],
   "source": [
    "# model_ckpt = 'Helsinki-NLP/opus-mt-ko-en'\n",
    "model_ckpt2= 'circulus/kobart-trans-ko-en-v2' #bart\n",
    "# model_ckpt3 = 'alphahg/opus-mt-ko-en-finetuned-ko-to-en100'\n",
    "# pipe2 = pipeline('translation', model=model_ckpt2, device=0)"
   ]
  },
  {
   "cell_type": "code",
   "execution_count": 3,
   "id": "883d6686",
   "metadata": {},
   "outputs": [
    {
     "data": {
      "application/vnd.jupyter.widget-view+json": {
       "model_id": "e2162c58c22545da9b820bbee1664b1d",
       "version_major": 2,
       "version_minor": 0
      },
      "text/plain": [
       "Downloading:   0%|          | 0.00/1.41k [00:00<?, ?B/s]"
      ]
     },
     "metadata": {},
     "output_type": "display_data"
    },
    {
     "data": {
      "application/vnd.jupyter.widget-view+json": {
       "model_id": "60aea4c86e7d43c1b7a6db8602186ceb",
       "version_major": 2,
       "version_minor": 0
      },
      "text/plain": [
       "Downloading:   0%|          | 0.00/473M [00:00<?, ?B/s]"
      ]
     },
     "metadata": {},
     "output_type": "display_data"
    },
    {
     "data": {
      "application/vnd.jupyter.widget-view+json": {
       "model_id": "830e0955f180407cae5f3abe2b0be051",
       "version_major": 2,
       "version_minor": 0
      },
      "text/plain": [
       "Downloading:   0%|          | 0.00/304 [00:00<?, ?B/s]"
      ]
     },
     "metadata": {},
     "output_type": "display_data"
    },
    {
     "data": {
      "application/vnd.jupyter.widget-view+json": {
       "model_id": "728cd163cce14d51953219ec3992cc8e",
       "version_major": 2,
       "version_minor": 0
      },
      "text/plain": [
       "Downloading:   0%|          | 0.00/123 [00:00<?, ?B/s]"
      ]
     },
     "metadata": {},
     "output_type": "display_data"
    },
    {
     "data": {
      "application/vnd.jupyter.widget-view+json": {
       "model_id": "dc155b67263d4bea89d69cbda88883d9",
       "version_major": 2,
       "version_minor": 0
      },
      "text/plain": [
       "Downloading:   0%|          | 0.00/1.00M [00:00<?, ?B/s]"
      ]
     },
     "metadata": {},
     "output_type": "display_data"
    }
   ],
   "source": [
    "pipe = pipeline('translation', model = model_ckpt2, device=0,max_length=256)"
   ]
  },
  {
   "cell_type": "code",
   "execution_count": 4,
   "id": "f07fe75e",
   "metadata": {},
   "outputs": [
    {
     "data": {
      "text/plain": [
       "[{'translation_text': 'The reason why human Go players were able to win artificial intelligence was because they inherited tactics directly from artificial intelligence'}]"
      ]
     },
     "execution_count": 4,
     "metadata": {},
     "output_type": "execute_result"
    }
   ],
   "source": [
    "# test\n",
    "pipe('인간 바둑기사가 인공지능에 승리할 수 있었던 이유는 인공지능으로부터 전술을 직접 물려 받았기 때문이다.')"
   ]
  },
  {
   "cell_type": "markdown",
   "id": "50e65d24",
   "metadata": {},
   "source": [
    "---\n",
    "# kor -> eng backtranslation 작업 순서\n",
    "\n",
    "### 작업 할당 :\n",
    "\n",
    "- `김시혁` :  'jd' 전라도\n",
    "- `정선아` :  'kw' 강원도\n",
    "- `임종인` :  'gs' 경상도\n",
    "- `이승용` :  'jj' 제주도\n",
    "- `신덕식` :  'cc' 충청도\n",
    "\n",
    "---\n",
    "\n",
    "### `data_save(dataset, pipe, '지역', 작업크기, 시작index)`\n",
    ">1. ### `dataset` : 데이터 셋 [dataframe : pandas dataframe]\n",
    ">2. ### `pipe` : hugging face pipeline [func : huggingface pipeline function]\n",
    ">3. ### `지역` : 사투리 지역 [str : 'jj', 'gs', 'kw', 'cc', 'jd']\n",
    ">4. ### `작업크기` : num of rows [int]\n",
    ">5. ### `directory` : 저장 경로 [str : directory]\n",
    ">>예) data_save(df,pipe,'jj',5000,0,'/aiffel/aiffelthon/') -> '지역', 시작index만 변경해주시면 됩니다."
   ]
  },
  {
   "cell_type": "code",
   "execution_count": 5,
   "id": "7d1d2325",
   "metadata": {},
   "outputs": [],
   "source": [
    "directory = os.getenv('HOME') + '/aiffel/aiffelthon/' # 데이터 경로 지정"
   ]
  },
  {
   "cell_type": "code",
   "execution_count": 6,
   "id": "3e1d5df2",
   "metadata": {},
   "outputs": [
    {
     "data": {
      "text/html": [
       "<div>\n",
       "<style scoped>\n",
       "    .dataframe tbody tr th:only-of-type {\n",
       "        vertical-align: middle;\n",
       "    }\n",
       "\n",
       "    .dataframe tbody tr th {\n",
       "        vertical-align: top;\n",
       "    }\n",
       "\n",
       "    .dataframe thead th {\n",
       "        text-align: right;\n",
       "    }\n",
       "</style>\n",
       "<table border=\"1\" class=\"dataframe\">\n",
       "  <thead>\n",
       "    <tr style=\"text-align: right;\">\n",
       "      <th></th>\n",
       "      <th>text</th>\n",
       "      <th>dial</th>\n",
       "      <th>reg</th>\n",
       "      <th>pair</th>\n",
       "    </tr>\n",
       "  </thead>\n",
       "  <tbody>\n",
       "    <tr>\n",
       "      <th>276826</th>\n",
       "      <td>나도 예전에 이제 애기들 조금 그래도 어릴 때다.</td>\n",
       "      <td>나도 예전에 인자 애기들 쪼끔 그래도 어릴 때다.</td>\n",
       "      <td>jd</td>\n",
       "      <td>(인자)/(이제) (쪼끔)/(조금)</td>\n",
       "    </tr>\n",
       "    <tr>\n",
       "      <th>849425</th>\n",
       "      <td>특히 좋아하는 거 생각을 해 봐도 뭐 딱히 없는 것 같아.</td>\n",
       "      <td>특히 좋아하는 거 생각을 해 봐도 뭐 딱히 없는 것 같여.</td>\n",
       "      <td>cc</td>\n",
       "      <td>(같여.)/(같아.)</td>\n",
       "    </tr>\n",
       "    <tr>\n",
       "      <th>504499</th>\n",
       "      <td>조금 맹신하는 편이거든요.</td>\n",
       "      <td>쫌 맹신하는 편이거든요.</td>\n",
       "      <td>gs</td>\n",
       "      <td>(쫌)/(조금)</td>\n",
       "    </tr>\n",
       "    <tr>\n",
       "      <th>601054</th>\n",
       "      <td>당신 하루라도 빨리 내 곁에 데려다놔야 정신 차리고 일 좀 할 수 있을 거 같아섭니다.</td>\n",
       "      <td>당신 하루라도 어푸 내 곁에 데려다놔야 정신 차리고 일 좀 할 수 있을 거 같아섭니다.</td>\n",
       "      <td>kw</td>\n",
       "      <td>(어푸)/(빨리)</td>\n",
       "    </tr>\n",
       "    <tr>\n",
       "      <th>980221</th>\n",
       "      <td>좀 대놓고 속 좁은 애처럼 되 보이기 싫으니까 보내주는데 대신에 조금 연락이 조금 ...</td>\n",
       "      <td>좀 대놓고 속 쫍은 애처럼 되 보이기 싫으니까 보내주는디 대신에 쫌 연락이 쫌 잘 ...</td>\n",
       "      <td>cc</td>\n",
       "      <td>(쫍은)/(좁은) (주는디)/(주는데) (쫌)/(조금) (쫌)/(조금)</td>\n",
       "    </tr>\n",
       "  </tbody>\n",
       "</table>\n",
       "</div>"
      ],
      "text/plain": [
       "                                                     text  \\\n",
       "276826                        나도 예전에 이제 애기들 조금 그래도 어릴 때다.   \n",
       "849425                   특히 좋아하는 거 생각을 해 봐도 뭐 딱히 없는 것 같아.   \n",
       "504499                                     조금 맹신하는 편이거든요.   \n",
       "601054   당신 하루라도 빨리 내 곁에 데려다놔야 정신 차리고 일 좀 할 수 있을 거 같아섭니다.   \n",
       "980221  좀 대놓고 속 좁은 애처럼 되 보이기 싫으니까 보내주는데 대신에 조금 연락이 조금 ...   \n",
       "\n",
       "                                                     dial reg  \\\n",
       "276826                        나도 예전에 인자 애기들 쪼끔 그래도 어릴 때다.  jd   \n",
       "849425                   특히 좋아하는 거 생각을 해 봐도 뭐 딱히 없는 것 같여.  cc   \n",
       "504499                                      쫌 맹신하는 편이거든요.  gs   \n",
       "601054   당신 하루라도 어푸 내 곁에 데려다놔야 정신 차리고 일 좀 할 수 있을 거 같아섭니다.  kw   \n",
       "980221  좀 대놓고 속 쫍은 애처럼 되 보이기 싫으니까 보내주는디 대신에 쫌 연락이 쫌 잘 ...  cc   \n",
       "\n",
       "                                           pair  \n",
       "276826                      (인자)/(이제) (쪼끔)/(조금)  \n",
       "849425                              (같여.)/(같아.)  \n",
       "504499                                 (쫌)/(조금)  \n",
       "601054                                (어푸)/(빨리)  \n",
       "980221  (쫍은)/(좁은) (주는디)/(주는데) (쫌)/(조금) (쫌)/(조금)  "
      ]
     },
     "execution_count": 6,
     "metadata": {},
     "output_type": "execute_result"
    }
   ],
   "source": [
    "df = pd.read_csv(directory+'datset_full_raw_needs_translation_0221_v2.csv') # 데이터 파일 불러오기\n",
    "df.drop_duplicates(inplace=True)\n",
    "del df['Unnamed: 0']\n",
    "df['text'] = df['text'].str.replace('[\\(\\)]','',regex=True)\n",
    "df['dial'] = df['dial'].str.replace('[\\(\\)]','',regex=True)\n",
    "reg=['jj','jd','gs','kw','cc']\n",
    "df = df.sample(frac=1)\n",
    "dfs = pd.DataFrame(columns=['text', 'dial', 'reg', 'pair'])\n",
    "for i in reg :\n",
    "    temp = df.loc[df['reg']==i]\n",
    "    dfs = dfs.merge(temp[:200000],how='outer')\n",
    "dfs = dfs.sample(frac=1,random_state=1)\n",
    "dfs.dropna(inplace=True)\n",
    "dfs.head()"
   ]
  },
  {
   "cell_type": "code",
   "execution_count": 7,
   "id": "699edfcb",
   "metadata": {},
   "outputs": [],
   "source": [
    "def data_save(data, pipe, prefix, num_rows,start, directory) :\n",
    "    \n",
    "    '''\n",
    "    \n",
    "    1. `dataset` : 데이터 셋 [dataframe : pandas dataframe]\n",
    "    2. `pipe` : hugging face pipeline [func : huggingface pipeline function]\n",
    "    3. `지역` : 사투리 지역 [str : 'jj', 'gs', 'kw', 'cc', 'jd']\n",
    "    4. `작업크기` : num of rows [int]\n",
    "    5. `directory` : 저장 경로 [str : directory]\n",
    "    \n",
    "        예) data_save(df,pipe,'jj',5000,0,'/aiffel/aiffelthon/') -> '지역', 시작index만 변경해주시면 됩니다.\n",
    "        \n",
    "    '''\n",
    "    \n",
    "    df_final = pd.DataFrame(columns=['text', 'dial', 'reg', 'pair','eng'])\n",
    "\n",
    "    for i in range(start,len(data), num_rows) :\n",
    "        dataset = data[i : i +num_rows].reset_index()\n",
    "        dataset = datasets.Dataset.from_pandas(dataset)\n",
    "        dataset = dataset.map(lambda ds : {'eng' : pipe(ds['text'])[0]['translation_text']})\n",
    "        dataset.set_format('pandas')\n",
    "        df_final = df_final.merge(dataset[:], how='outer')\n",
    "        df_final.to_csv(directory + f'dataset_en_ko_{prefix}_{i}_{i+num_rows}.csv', index=False)\n",
    "        print(f'작업 완료 : {prefix}_{i}_{i+num_rows}' )\n",
    "        print(f'저장 경로 : {directory}dataset_ko_en_{prefix}_{i}_{i+num_rows}.csv')"
   ]
  },
  {
   "cell_type": "markdown",
   "id": "1f98c19e",
   "metadata": {},
   "source": [
    "### 본인이 해당하는 부분만 주석 풀고 데이터 만들어주세요~"
   ]
  },
  {
   "cell_type": "code",
   "execution_count": 8,
   "id": "5d0a5c97",
   "metadata": {},
   "outputs": [],
   "source": [
    "dfs = dfs[:200000].copy() # 김시혁\n",
    "# dfs = dfs[200000:400000].copy() # 정선아\n",
    "# dfs = dfs[400000:600000].copy() # 임종인\n",
    "# dfs = dfs[600000:800000].copy() # 이승용\n",
    "# dfs = dfs[800000:].copy() # 이승용"
   ]
  },
  {
   "cell_type": "code",
   "execution_count": null,
   "id": "b346962c",
   "metadata": {},
   "outputs": [
    {
     "data": {
      "application/vnd.jupyter.widget-view+json": {
       "model_id": "2850df96d1f14e63a7a1194e66e16600",
       "version_major": 2,
       "version_minor": 0
      },
      "text/plain": [
       "  0%|          | 0/5000 [00:00<?, ?ex/s]"
      ]
     },
     "metadata": {},
     "output_type": "display_data"
    },
    {
     "name": "stderr",
     "output_type": "stream",
     "text": [
      "/opt/conda/lib/python3.9/site-packages/transformers/pipelines/base.py:899: UserWarning: You seem to be using the pipelines sequentially on GPU. In order to maximize efficiency please use a dataset\n",
      "  warnings.warn(\n"
     ]
    },
    {
     "name": "stdout",
     "output_type": "stream",
     "text": [
      "작업 완료 : translated_sihyeok_0_5000\n",
      "저장 경로 : /aiffel/aiffel/aiffelthon/dataset_ko_en_translated_sihyeok_0_5000.csv\n"
     ]
    },
    {
     "data": {
      "application/vnd.jupyter.widget-view+json": {
       "model_id": "6119d16317294afba2ecbd32882565db",
       "version_major": 2,
       "version_minor": 0
      },
      "text/plain": [
       "  0%|          | 0/5000 [00:00<?, ?ex/s]"
      ]
     },
     "metadata": {},
     "output_type": "display_data"
    },
    {
     "name": "stdout",
     "output_type": "stream",
     "text": [
      "작업 완료 : translated_sihyeok_5000_10000\n",
      "저장 경로 : /aiffel/aiffel/aiffelthon/dataset_ko_en_translated_sihyeok_5000_10000.csv\n"
     ]
    },
    {
     "data": {
      "application/vnd.jupyter.widget-view+json": {
       "model_id": "195fcc6e4e534ed6bdacd8823846ca00",
       "version_major": 2,
       "version_minor": 0
      },
      "text/plain": [
       "  0%|          | 0/5000 [00:00<?, ?ex/s]"
      ]
     },
     "metadata": {},
     "output_type": "display_data"
    },
    {
     "name": "stdout",
     "output_type": "stream",
     "text": [
      "작업 완료 : translated_sihyeok_10000_15000\n",
      "저장 경로 : /aiffel/aiffel/aiffelthon/dataset_ko_en_translated_sihyeok_10000_15000.csv\n"
     ]
    },
    {
     "data": {
      "application/vnd.jupyter.widget-view+json": {
       "model_id": "b7c8e254432d400fb58188e6b21d94e0",
       "version_major": 2,
       "version_minor": 0
      },
      "text/plain": [
       "  0%|          | 0/5000 [00:00<?, ?ex/s]"
      ]
     },
     "metadata": {},
     "output_type": "display_data"
    },
    {
     "name": "stdout",
     "output_type": "stream",
     "text": [
      "작업 완료 : translated_sihyeok_15000_20000\n",
      "저장 경로 : /aiffel/aiffel/aiffelthon/dataset_ko_en_translated_sihyeok_15000_20000.csv\n"
     ]
    },
    {
     "data": {
      "application/vnd.jupyter.widget-view+json": {
       "model_id": "66e0ab8b7419491ba1be265fb7381df3",
       "version_major": 2,
       "version_minor": 0
      },
      "text/plain": [
       "  0%|          | 0/5000 [00:00<?, ?ex/s]"
      ]
     },
     "metadata": {},
     "output_type": "display_data"
    },
    {
     "name": "stdout",
     "output_type": "stream",
     "text": [
      "작업 완료 : translated_sihyeok_20000_25000\n",
      "저장 경로 : /aiffel/aiffel/aiffelthon/dataset_ko_en_translated_sihyeok_20000_25000.csv\n"
     ]
    },
    {
     "data": {
      "application/vnd.jupyter.widget-view+json": {
       "model_id": "ecd4ce9646854de0aa1ec05b1092035e",
       "version_major": 2,
       "version_minor": 0
      },
      "text/plain": [
       "  0%|          | 0/5000 [00:00<?, ?ex/s]"
      ]
     },
     "metadata": {},
     "output_type": "display_data"
    },
    {
     "name": "stdout",
     "output_type": "stream",
     "text": [
      "작업 완료 : translated_sihyeok_25000_30000\n",
      "저장 경로 : /aiffel/aiffel/aiffelthon/dataset_ko_en_translated_sihyeok_25000_30000.csv\n"
     ]
    },
    {
     "data": {
      "application/vnd.jupyter.widget-view+json": {
       "model_id": "c78f76fc1bd241f19ab6c224f7d809e8",
       "version_major": 2,
       "version_minor": 0
      },
      "text/plain": [
       "  0%|          | 0/5000 [00:00<?, ?ex/s]"
      ]
     },
     "metadata": {},
     "output_type": "display_data"
    },
    {
     "name": "stdout",
     "output_type": "stream",
     "text": [
      "작업 완료 : translated_sihyeok_30000_35000\n",
      "저장 경로 : /aiffel/aiffel/aiffelthon/dataset_ko_en_translated_sihyeok_30000_35000.csv\n"
     ]
    },
    {
     "data": {
      "application/vnd.jupyter.widget-view+json": {
       "model_id": "f99f15cfa38f4119b97be1b5a5a2b0d8",
       "version_major": 2,
       "version_minor": 0
      },
      "text/plain": [
       "  0%|          | 0/5000 [00:00<?, ?ex/s]"
      ]
     },
     "metadata": {},
     "output_type": "display_data"
    },
    {
     "name": "stdout",
     "output_type": "stream",
     "text": [
      "작업 완료 : translated_sihyeok_35000_40000\n",
      "저장 경로 : /aiffel/aiffel/aiffelthon/dataset_ko_en_translated_sihyeok_35000_40000.csv\n"
     ]
    },
    {
     "data": {
      "application/vnd.jupyter.widget-view+json": {
       "model_id": "603f4bc55da44125bdf7b01679920bb6",
       "version_major": 2,
       "version_minor": 0
      },
      "text/plain": [
       "  0%|          | 0/5000 [00:00<?, ?ex/s]"
      ]
     },
     "metadata": {},
     "output_type": "display_data"
    },
    {
     "name": "stdout",
     "output_type": "stream",
     "text": [
      "작업 완료 : translated_sihyeok_40000_45000\n",
      "저장 경로 : /aiffel/aiffel/aiffelthon/dataset_ko_en_translated_sihyeok_40000_45000.csv\n"
     ]
    },
    {
     "data": {
      "application/vnd.jupyter.widget-view+json": {
       "model_id": "48ff050b15974ab98d7e3bfcf0542ecb",
       "version_major": 2,
       "version_minor": 0
      },
      "text/plain": [
       "  0%|          | 0/5000 [00:00<?, ?ex/s]"
      ]
     },
     "metadata": {},
     "output_type": "display_data"
    },
    {
     "name": "stdout",
     "output_type": "stream",
     "text": [
      "작업 완료 : translated_sihyeok_45000_50000\n",
      "저장 경로 : /aiffel/aiffel/aiffelthon/dataset_ko_en_translated_sihyeok_45000_50000.csv\n"
     ]
    },
    {
     "data": {
      "application/vnd.jupyter.widget-view+json": {
       "model_id": "33e8082343874894a15b7c302d1de209",
       "version_major": 2,
       "version_minor": 0
      },
      "text/plain": [
       "  0%|          | 0/5000 [00:00<?, ?ex/s]"
      ]
     },
     "metadata": {},
     "output_type": "display_data"
    },
    {
     "name": "stdout",
     "output_type": "stream",
     "text": [
      "작업 완료 : translated_sihyeok_50000_55000\n",
      "저장 경로 : /aiffel/aiffel/aiffelthon/dataset_ko_en_translated_sihyeok_50000_55000.csv\n"
     ]
    },
    {
     "data": {
      "application/vnd.jupyter.widget-view+json": {
       "model_id": "5c838bfa64864fc59dce5a6f3374b058",
       "version_major": 2,
       "version_minor": 0
      },
      "text/plain": [
       "  0%|          | 0/5000 [00:00<?, ?ex/s]"
      ]
     },
     "metadata": {},
     "output_type": "display_data"
    },
    {
     "name": "stdout",
     "output_type": "stream",
     "text": [
      "작업 완료 : translated_sihyeok_55000_60000\n",
      "저장 경로 : /aiffel/aiffel/aiffelthon/dataset_ko_en_translated_sihyeok_55000_60000.csv\n"
     ]
    },
    {
     "data": {
      "application/vnd.jupyter.widget-view+json": {
       "model_id": "654b928541ef4557b520daf6f78c8721",
       "version_major": 2,
       "version_minor": 0
      },
      "text/plain": [
       "  0%|          | 0/5000 [00:00<?, ?ex/s]"
      ]
     },
     "metadata": {},
     "output_type": "display_data"
    },
    {
     "name": "stdout",
     "output_type": "stream",
     "text": [
      "작업 완료 : translated_sihyeok_60000_65000\n",
      "저장 경로 : /aiffel/aiffel/aiffelthon/dataset_ko_en_translated_sihyeok_60000_65000.csv\n"
     ]
    },
    {
     "data": {
      "application/vnd.jupyter.widget-view+json": {
       "model_id": "a24e4f8eafcd45fca89fbbb265d740e0",
       "version_major": 2,
       "version_minor": 0
      },
      "text/plain": [
       "  0%|          | 0/5000 [00:00<?, ?ex/s]"
      ]
     },
     "metadata": {},
     "output_type": "display_data"
    },
    {
     "name": "stdout",
     "output_type": "stream",
     "text": [
      "작업 완료 : translated_sihyeok_65000_70000\n",
      "저장 경로 : /aiffel/aiffel/aiffelthon/dataset_ko_en_translated_sihyeok_65000_70000.csv\n"
     ]
    },
    {
     "data": {
      "application/vnd.jupyter.widget-view+json": {
       "model_id": "2d196f056e3b4d78b5792797a45aebef",
       "version_major": 2,
       "version_minor": 0
      },
      "text/plain": [
       "  0%|          | 0/5000 [00:00<?, ?ex/s]"
      ]
     },
     "metadata": {},
     "output_type": "display_data"
    },
    {
     "name": "stdout",
     "output_type": "stream",
     "text": [
      "작업 완료 : translated_sihyeok_70000_75000\n",
      "저장 경로 : /aiffel/aiffel/aiffelthon/dataset_ko_en_translated_sihyeok_70000_75000.csv\n"
     ]
    },
    {
     "data": {
      "application/vnd.jupyter.widget-view+json": {
       "model_id": "176e77e80fb64afdab479cb561cff736",
       "version_major": 2,
       "version_minor": 0
      },
      "text/plain": [
       "  0%|          | 0/5000 [00:00<?, ?ex/s]"
      ]
     },
     "metadata": {},
     "output_type": "display_data"
    },
    {
     "name": "stdout",
     "output_type": "stream",
     "text": [
      "작업 완료 : translated_sihyeok_75000_80000\n",
      "저장 경로 : /aiffel/aiffel/aiffelthon/dataset_ko_en_translated_sihyeok_75000_80000.csv\n"
     ]
    },
    {
     "data": {
      "application/vnd.jupyter.widget-view+json": {
       "model_id": "a0c269e26071452fbc71818866f14e80",
       "version_major": 2,
       "version_minor": 0
      },
      "text/plain": [
       "  0%|          | 0/5000 [00:00<?, ?ex/s]"
      ]
     },
     "metadata": {},
     "output_type": "display_data"
    },
    {
     "name": "stdout",
     "output_type": "stream",
     "text": [
      "작업 완료 : translated_sihyeok_80000_85000\n",
      "저장 경로 : /aiffel/aiffel/aiffelthon/dataset_ko_en_translated_sihyeok_80000_85000.csv\n"
     ]
    },
    {
     "data": {
      "application/vnd.jupyter.widget-view+json": {
       "model_id": "0bc0ff7379ca40e1acef9ccc6f420f14",
       "version_major": 2,
       "version_minor": 0
      },
      "text/plain": [
       "  0%|          | 0/5000 [00:00<?, ?ex/s]"
      ]
     },
     "metadata": {},
     "output_type": "display_data"
    },
    {
     "name": "stdout",
     "output_type": "stream",
     "text": [
      "작업 완료 : translated_sihyeok_85000_90000\n",
      "저장 경로 : /aiffel/aiffel/aiffelthon/dataset_ko_en_translated_sihyeok_85000_90000.csv\n"
     ]
    },
    {
     "data": {
      "application/vnd.jupyter.widget-view+json": {
       "model_id": "84523577fb0d43a3ad7c8bfa5f7eaff6",
       "version_major": 2,
       "version_minor": 0
      },
      "text/plain": [
       "  0%|          | 0/5000 [00:00<?, ?ex/s]"
      ]
     },
     "metadata": {},
     "output_type": "display_data"
    },
    {
     "name": "stdout",
     "output_type": "stream",
     "text": [
      "작업 완료 : translated_sihyeok_90000_95000\n",
      "저장 경로 : /aiffel/aiffel/aiffelthon/dataset_ko_en_translated_sihyeok_90000_95000.csv\n"
     ]
    },
    {
     "data": {
      "application/vnd.jupyter.widget-view+json": {
       "model_id": "8d4d2cf895a24575aa423cfd1ea14e84",
       "version_major": 2,
       "version_minor": 0
      },
      "text/plain": [
       "  0%|          | 0/5000 [00:00<?, ?ex/s]"
      ]
     },
     "metadata": {},
     "output_type": "display_data"
    },
    {
     "name": "stdout",
     "output_type": "stream",
     "text": [
      "작업 완료 : translated_sihyeok_95000_100000\n",
      "저장 경로 : /aiffel/aiffel/aiffelthon/dataset_ko_en_translated_sihyeok_95000_100000.csv\n"
     ]
    },
    {
     "data": {
      "application/vnd.jupyter.widget-view+json": {
       "model_id": "c26bff69c1e04a6b9cc0d638b5338831",
       "version_major": 2,
       "version_minor": 0
      },
      "text/plain": [
       "  0%|          | 0/5000 [00:00<?, ?ex/s]"
      ]
     },
     "metadata": {},
     "output_type": "display_data"
    },
    {
     "name": "stdout",
     "output_type": "stream",
     "text": [
      "작업 완료 : translated_sihyeok_100000_105000\n",
      "저장 경로 : /aiffel/aiffel/aiffelthon/dataset_ko_en_translated_sihyeok_100000_105000.csv\n"
     ]
    },
    {
     "data": {
      "application/vnd.jupyter.widget-view+json": {
       "model_id": "48c4222dbcb146a9bd0775fb5f2478f7",
       "version_major": 2,
       "version_minor": 0
      },
      "text/plain": [
       "  0%|          | 0/5000 [00:00<?, ?ex/s]"
      ]
     },
     "metadata": {},
     "output_type": "display_data"
    },
    {
     "name": "stdout",
     "output_type": "stream",
     "text": [
      "작업 완료 : translated_sihyeok_105000_110000\n",
      "저장 경로 : /aiffel/aiffel/aiffelthon/dataset_ko_en_translated_sihyeok_105000_110000.csv\n"
     ]
    },
    {
     "data": {
      "application/vnd.jupyter.widget-view+json": {
       "model_id": "dab01caecdb540009f0da0ed126d0d88",
       "version_major": 2,
       "version_minor": 0
      },
      "text/plain": [
       "  0%|          | 0/5000 [00:00<?, ?ex/s]"
      ]
     },
     "metadata": {},
     "output_type": "display_data"
    },
    {
     "name": "stdout",
     "output_type": "stream",
     "text": [
      "작업 완료 : translated_sihyeok_110000_115000\n",
      "저장 경로 : /aiffel/aiffel/aiffelthon/dataset_ko_en_translated_sihyeok_110000_115000.csv\n"
     ]
    },
    {
     "data": {
      "application/vnd.jupyter.widget-view+json": {
       "model_id": "7d8f6fc65889465886f418766b9d68f2",
       "version_major": 2,
       "version_minor": 0
      },
      "text/plain": [
       "  0%|          | 0/5000 [00:00<?, ?ex/s]"
      ]
     },
     "metadata": {},
     "output_type": "display_data"
    },
    {
     "name": "stdout",
     "output_type": "stream",
     "text": [
      "작업 완료 : translated_sihyeok_115000_120000\n",
      "저장 경로 : /aiffel/aiffel/aiffelthon/dataset_ko_en_translated_sihyeok_115000_120000.csv\n"
     ]
    },
    {
     "data": {
      "application/vnd.jupyter.widget-view+json": {
       "model_id": "9d6aca7d159242768dd79e5ce604fe6a",
       "version_major": 2,
       "version_minor": 0
      },
      "text/plain": [
       "  0%|          | 0/5000 [00:00<?, ?ex/s]"
      ]
     },
     "metadata": {},
     "output_type": "display_data"
    },
    {
     "name": "stdout",
     "output_type": "stream",
     "text": [
      "작업 완료 : translated_sihyeok_120000_125000\n",
      "저장 경로 : /aiffel/aiffel/aiffelthon/dataset_ko_en_translated_sihyeok_120000_125000.csv\n"
     ]
    },
    {
     "data": {
      "application/vnd.jupyter.widget-view+json": {
       "model_id": "290e2a2f24c042c3931452387395666d",
       "version_major": 2,
       "version_minor": 0
      },
      "text/plain": [
       "  0%|          | 0/5000 [00:00<?, ?ex/s]"
      ]
     },
     "metadata": {},
     "output_type": "display_data"
    },
    {
     "name": "stdout",
     "output_type": "stream",
     "text": [
      "작업 완료 : translated_sihyeok_125000_130000\n",
      "저장 경로 : /aiffel/aiffel/aiffelthon/dataset_ko_en_translated_sihyeok_125000_130000.csv\n"
     ]
    },
    {
     "data": {
      "application/vnd.jupyter.widget-view+json": {
       "model_id": "fbb01e6abcaf49a1b277772a93262673",
       "version_major": 2,
       "version_minor": 0
      },
      "text/plain": [
       "  0%|          | 0/5000 [00:00<?, ?ex/s]"
      ]
     },
     "metadata": {},
     "output_type": "display_data"
    }
   ],
   "source": [
    "name = 'sihyeok'# <<<<<<--------이름 꼭 바꿔주세요------------------------------------<<<<<<<<<<<<<<\n",
    "date = '0221' # <<<<<<--------작업 일자로 바꿔주세요------------------------------------<<<<<<<<<<<<<<\n",
    "\n",
    "prefix = f'translated_{name}' # 지역\n",
    "num_rows = 5000\n",
    "data_save(dfs,pipe,prefix,num_rows,0,directory)"
   ]
  },
  {
   "cell_type": "code",
   "execution_count": 62,
   "id": "7961e7d6",
   "metadata": {},
   "outputs": [
    {
     "data": {
      "text/plain": [
       "[]"
      ]
     },
     "execution_count": 62,
     "metadata": {},
     "output_type": "execute_result"
    }
   ],
   "source": [
    "import glob\n",
    "files = glob.glob(directory+f'*{prefix}*.csv')\n",
    "files"
   ]
  },
  {
   "cell_type": "code",
   "execution_count": 13,
   "id": "e34190ae",
   "metadata": {},
   "outputs": [
    {
     "name": "stdout",
     "output_type": "stream",
     "text": [
      "<class 'pandas.core.frame.DataFrame'>\n",
      "Int64Index: 155000 entries, 0 to 154999\n",
      "Data columns (total 6 columns):\n",
      " #   Column  Non-Null Count   Dtype \n",
      "---  ------  --------------   ----- \n",
      " 0   index   155000 non-null  int64 \n",
      " 1   text    155000 non-null  object\n",
      " 2   dial    155000 non-null  object\n",
      " 3   reg     155000 non-null  object\n",
      " 4   pair    155000 non-null  object\n",
      " 5   eng     155000 non-null  object\n",
      "dtypes: int64(1), object(5)\n",
      "memory usage: 8.3+ MB\n"
     ]
    }
   ],
   "source": [
    "# data merge하기\n",
    "df_final = pd.DataFrame(columns=['text', 'dial', 'reg', 'pair','eng'])\n",
    "for i in files :\n",
    "    df_new = pd.read_csv(i, columns =['text', 'dial', 'reg', 'pair','eng'])\n",
    "    df_final = df_final.merge(df_new, how='outer')\n",
    "df_final.head()\n",
    "df_final.info()"
   ]
  },
  {
   "cell_type": "markdown",
   "id": "9913dd9c",
   "metadata": {},
   "source": [
    "# 통합 파일 'added' 경로의 저장하기"
   ]
  },
  {
   "cell_type": "code",
   "execution_count": 61,
   "id": "1b46b6e5",
   "metadata": {},
   "outputs": [],
   "source": [
    "import shutil"
   ]
  },
  {
   "cell_type": "code",
   "execution_count": 27,
   "id": "d82c8307",
   "metadata": {},
   "outputs": [],
   "source": [
    "df_final.to_csv(directory + f'dataset_full_ko_en_added_{date}_{name}.csv' , index=False)\n",
    "\n",
    "src= '/aiffel/aiffel/aiffelthon/'\n",
    "dest = '/aiffel/aiffel/aiffelthon/added/'\n",
    "\n",
    "os.makedirs(dest,exist_ok=True)\n",
    "\n",
    "new_file = [i[26:] for i in glob.glob(directory+'*added*.csv')]\n",
    "for i in new_file :\n",
    "    shutil.move(src + i, dest + i)"
   ]
  },
  {
   "cell_type": "code",
   "execution_count": 60,
   "id": "c224991e",
   "metadata": {},
   "outputs": [],
   "source": [
    "# 통합 전 파일 별도 저장\n",
    "\n",
    "old_files = [i[26:] for i in glob.glob(directory+'*translated*.csv')]\n",
    "\n",
    "src= '/aiffel/aiffel/aiffelthon/'\n",
    "dest = '/aiffel/aiffel/aiffelthon/past_files/'\n",
    "\n",
    "os.makedirs(dest,exist_ok=True)\n",
    "\n",
    "for i in old_files :\n",
    "    shutil.move(src + i, dest + i)"
   ]
  }
 ],
 "metadata": {
  "kernelspec": {
   "display_name": "Python 3 (ipykernel)",
   "language": "python",
   "name": "python3"
  },
  "language_info": {
   "codemirror_mode": {
    "name": "ipython",
    "version": 3
   },
   "file_extension": ".py",
   "mimetype": "text/x-python",
   "name": "python",
   "nbconvert_exporter": "python",
   "pygments_lexer": "ipython3",
   "version": "3.9.7"
  }
 },
 "nbformat": 4,
 "nbformat_minor": 5
}
