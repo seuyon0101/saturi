{
 "cells": [
  {
   "cell_type": "code",
   "execution_count": 45,
   "id": "2c024be3",
   "metadata": {},
   "outputs": [],
   "source": [
    "import warnings\n",
    "warnings.filterwarnings('ignore')\n",
    "\n",
    "import tensorflow as tf\n",
    "import numpy as np\n",
    "\n",
    "import re\n",
    "import os\n",
    "\n",
    "import sys\n",
    "sys.path.insert(0,os.getenv('HOME') + '/aiffel/saturi/MODEL/') # vanilla transformer 파일경로에서 불러오기 위해 설정\n",
    "sys.path.insert(0,os.getenv('HOME') + '/aiffel/saturi/PRE/')\n",
    "sys.path.insert(0,os.getenv('HOME') + '/aiffel/saturi/POST/')\n",
    "\n",
    "from evaluation import evaluate"
   ]
  },
  {
   "cell_type": "code",
   "execution_count": 47,
   "id": "3691842a",
   "metadata": {},
   "outputs": [
    {
     "data": {
      "text/plain": [
       "'/aiffel/saturi'"
      ]
     },
     "execution_count": 47,
     "metadata": {},
     "output_type": "execute_result"
    }
   ],
   "source": [
    "os.getcwd()"
   ]
  },
  {
   "cell_type": "code",
   "execution_count": 55,
   "id": "e85bfd1a",
   "metadata": {},
   "outputs": [],
   "source": [
    "import sentencepiece as spm\n",
    "from vanilla_transformer import Transformer, generate_masks\n",
    "data_path = os.getcwd() + '/notebook/Preprocessing/'\n",
    "\n",
    "class trans_former_config :\n",
    "    def __init__(self,vocab_small=True) :\n",
    "        self.n_layers =6\n",
    "        self.d_model=512\n",
    "        self.n_heads=8\n",
    "        self.d_ff=2048\n",
    "        self.src_vocab_size=16009 if vocab_small else 8009\n",
    "        self.tgt_vocab_size=16009 if vocab_small else 8009\n",
    "        self.pos_len= 512\n",
    "        self.dropout=0.2\n",
    "        self.shared=True\n",
    "        \n",
    "class tokenizer_config(trans_former_config) :\n",
    "    def __init__(self, token_type = 'cmsp') :\n",
    "        super().__init__()\n",
    "        self.token_type = token_type\n",
    "        self.token_vocab_size = 16000 if self.src_vocab_size == 16009 else 8009\n",
    "        self.enc_token_load_model = data_path + f'spm_enc_spm{self.token_vocab_size}.model'\n",
    "        self.dec_token_load_model = data_path + f'spm_dec_{self.token_type}{self.token_vocab_size}.model'"
   ]
  },
  {
   "cell_type": "code",
   "execution_count": 56,
   "id": "c9c528cd",
   "metadata": {},
   "outputs": [],
   "source": [
    "class translator(tokenizer_config) :\n",
    "    \n",
    "    def __init__(self) :\n",
    "        super().__init__()\n",
    "        self.enc_tokenizer = spm.SentencePieceProcessor()\n",
    "        self.enc_tokenizer.Load(self.enc_token_load_model)\n",
    "        self.dec_tokenizer = spm.SentencePieceProcessor()\n",
    "        self.dec_tokenizer.Load(self.dec_token_load_model)\n",
    "        self.model = Transformer(self.n_layers,\n",
    "                                 self.d_model,\n",
    "                                 self.n_heads,\n",
    "                                 self.d_ff,\n",
    "                                 self.src_vocab_size,\n",
    "                                 self.tgt_vocab_size,\n",
    "                                 self.pos_len,\n",
    "                                 self.dropout,\n",
    "                                 self.shared)\n",
    "        self.model.load_weights()\n",
    "        \n",
    "    def translate(self, input_txt) :\n",
    "        ids, result, enc_attns, dec_attns, dec_enc_attns = evaluate(input_txt, self.model, self.enc_tokenizer, self.dec_tokenizer)\n",
    "        return result"
   ]
  },
  {
   "cell_type": "code",
   "execution_count": 57,
   "id": "f14d8e92",
   "metadata": {},
   "outputs": [],
   "source": [
    "dial_translate = translator()"
   ]
  },
  {
   "cell_type": "code",
   "execution_count": 59,
   "id": "8ca63b3f",
   "metadata": {},
   "outputs": [
    {
     "data": {
      "text/plain": [
       "'가족 약물 무서워 이랬 이랬 이랬 이랬 이랬'"
      ]
     },
     "execution_count": 59,
     "metadata": {},
     "output_type": "execute_result"
    }
   ],
   "source": [
    "dial_translate.translate('<jj> what are you doing?')"
   ]
  }
 ],
 "metadata": {
  "kernelspec": {
   "display_name": "Python 3 (ipykernel)",
   "language": "python",
   "name": "python3"
  },
  "language_info": {
   "codemirror_mode": {
    "name": "ipython",
    "version": 3
   },
   "file_extension": ".py",
   "mimetype": "text/x-python",
   "name": "python",
   "nbconvert_exporter": "python",
   "pygments_lexer": "ipython3",
   "version": "3.9.7"
  }
 },
 "nbformat": 4,
 "nbformat_minor": 5
}
