{
 "cells": [
  {
   "cell_type": "code",
   "execution_count": 1,
   "id": "78d95ecd",
   "metadata": {},
   "outputs": [],
   "source": [
    "import tensorflow as tf\n",
    "import numpy as np\n",
    "\n",
    "from sklearn.model_selection import train_test_split\n",
    "\n",
    "import matplotlib as mpl\n",
    "import matplotlib.ticker as ticker\n",
    "import matplotlib.pyplot as plt\n",
    "\n",
    "import time\n",
    "import re\n",
    "import os\n",
    "import io\n",
    "\n",
    "\n",
    "# from tqdm import tqdm_notebook \n",
    "from tqdm.notebook import tqdm \n",
    "import random\n",
    "\n",
    "import sentencepiece as spm\n",
    "from konlpy.tag import Mecab"
   ]
  },
  {
   "cell_type": "markdown",
   "id": "f356735b",
   "metadata": {},
   "source": [
    "# Step 1. 데이터 load\n",
    "   "
   ]
  },
  {
   "cell_type": "code",
   "execution_count": 30,
   "id": "da4ba3ed",
   "metadata": {},
   "outputs": [],
   "source": [
    "# train data load\n",
    "import pandas as pd\n",
    "data_dir = os.getenv('HOME')+'/aiffel/aiffelthon/added/dataset_full_translated_en_ko_0221_last_added_0221_12h.csv'\n",
    "full_data = pd.read_csv(data_dir)\n",
    "eng_dat = full_data['eng'].values\n",
    "dial_dat = list(zip(full_data['dial'].values, full_data['reg'].values))"
   ]
  },
  {
   "cell_type": "code",
   "execution_count": 31,
   "id": "57c02e99",
   "metadata": {},
   "outputs": [
    {
     "name": "stdout",
     "output_type": "stream",
     "text": [
      "<class 'pandas.core.frame.DataFrame'>\n",
      "RangeIndex: 678355 entries, 0 to 678354\n",
      "Data columns (total 4 columns):\n",
      " #   Column  Non-Null Count   Dtype \n",
      "---  ------  --------------   ----- \n",
      " 0   text    678354 non-null  object\n",
      " 1   dial    678355 non-null  object\n",
      " 2   reg     678355 non-null  object\n",
      " 3   eng     678355 non-null  object\n",
      "dtypes: object(4)\n",
      "memory usage: 20.7+ MB\n"
     ]
    }
   ],
   "source": [
    "del full_data['Unnamed: 0']\n",
    "full_data.info()"
   ]
  },
  {
   "cell_type": "code",
   "execution_count": 32,
   "id": "cc4c5fe2",
   "metadata": {},
   "outputs": [
    {
     "name": "stdout",
     "output_type": "stream",
     "text": [
      "영어 문장\n",
      "[\"I've changed my mind a little bit.\"\n",
      " 'You know what? Foreigners still get used to it.'\n",
      " \"All of a sudden, I think I've ripped off my appendix before.\"\n",
      " 'I have a lot of ideas about getting older in a more dignified way.'\n",
      " \"It's a little bit of a tastey, but still...\"]\n",
      "사투리 문장\n",
      "[('생각이 쪼금씩 바뀌드라고', 'jd'), ('어 알겄는가 외국인들이 그래도 잘 적응하고', 'jd'), ('아으 갑자기 예전에 맹장 뜯은 게 생각난디야.', 'jd'), ('보면은 쫌 품위 있게 나이 들어가야 되겠단 생각을 참 많이 해요.', 'jd'), ('약간 쫌 약간 맛이 쪼끔 거시기 하긴 한데 그래도', 'jd')]\n"
     ]
    }
   ],
   "source": [
    "print('영어 문장')\n",
    "print(eng_dat[:5])\n",
    "print('사투리 문장')\n",
    "print(dial_dat[:5])"
   ]
  },
  {
   "cell_type": "code",
   "execution_count": 35,
   "id": "e73c2db2",
   "metadata": {},
   "outputs": [
    {
     "data": {
      "image/png": "[encoded data removed]",
      "text/plain": [
       "<Figure size 432x288 with 1 Axes>"
      ]
     },
     "metadata": {
      "needs_background": "light"
     },
     "output_type": "display_data"
    }
   ],
   "source": [
    "data = full_data['reg'].value_counts(normalize=True).round(2)\n",
    "fig,ax = plt.subplots()\n",
    "bar = plt.bar(data.index,data.values.tolist())\n",
    "ax.bar_label(bar)\n",
    "plt.title('label count')\n",
    "plt.show()"
   ]
  },
  {
   "cell_type": "code",
   "execution_count": 36,
   "id": "0458dddc",
   "metadata": {},
   "outputs": [],
   "source": [
    "def sen_len(corpus, kor=False) :\n",
    "    max_len = 0\n",
    "    min_len = 999\n",
    "    cum_len = 0\n",
    "    max_content = ''\n",
    "    min_content = ''\n",
    "    for i in corpus :\n",
    "        if kor : \n",
    "            i = i[0]\n",
    "        length = len(i)\n",
    "        if length >= max_len : \n",
    "            max_len = length\n",
    "            max_content = i\n",
    "        if length <= min_len : \n",
    "            min_len = length\n",
    "            min_content = i\n",
    "        cum_len += length\n",
    "    \n",
    "    print(f'max_len : {max_len}')\n",
    "    print('max_content :', max_content)\n",
    "    print(f'min_len : {min_len}')\n",
    "    print('min_content :', min_content)\n",
    "    print(f'average_len : {round(cum_len/len(corpus),1)}')\n",
    "    \n",
    "    return max_len, min_len, cum_len"
   ]
  },
  {
   "cell_type": "code",
   "execution_count": 37,
   "id": "72dfc613",
   "metadata": {},
   "outputs": [
    {
     "name": "stdout",
     "output_type": "stream",
     "text": [
      "eng_corpus\n",
      "max_len : 2717\n",
      "max_content : And to be honest, it's a little bit funny, and sometimes when you look at things like D-C-C-I-I-I don't know if they're kind of funny, so I'm not sure if they're doing something like roll or something like that or something like that or something like that or something like that or something like that or something like that or something like that or something like that or something like that or something like that or something like that or something like that or something like that or something like that or something like that or something like that or something like that or something like that or something like that or something like that or something or something like that or something like that or something or something like that or something like that or something or something or something like that or something or something or something or something or something or something or something or something or something or something or something or something or something or something or something like that or something or something or something or something or something or something like that or something or something like that or something like that or something or something or something or something or something or something or something or something like that or something like that or something like that or something or something or something or something or something or something or something or something or something or something or something or something or something or something or something or something or something or something or something or something or something or something or something or something or something or something or something or something or something or something or something or something or something or something or something or something or something or something or something or something or something or something or something or something or something or something or something or something or something or something or something or something or something or something or something or something or something or something or something or something or something or something or something or something or something or something or something or something or something or something or something or something or something or something or something or something or something or something or something or something or something or something or something or something or something or something or something or something or something or something or something or something or something or something or something or something or something or something or something or something or something or something or something or something or something or something or something\n",
      "min_len : 1\n",
      "min_content : I\n",
      "average_len : 57.2\n",
      "\n",
      "dial_corpus\n",
      "max_len : 203\n",
      "max_content : 잔채집에 따라가고 우리집은 왜 안해. 우리 딸도 빨리 잔채가 열려야지. 사나 복이 있어야지. 사나 복이 없으면 자식 복도 없다던데. 사나이 잘 해줘서 손도 안 움직인데. 너는 사나이 젊잖아. 우리 사나은 나이가 많아. 그래도 사나이 돈을 잘 벌잖아. 나는 착한 사나이 최고인 것 같아. 운제 한 번 놀러와. 저 사람 좀 보와. 몸띠이가 크더라. 다리 터리기 많아.\n",
      "min_len : 1\n",
      "min_content : 야\n",
      "average_len : 24.5\n"
     ]
    },
    {
     "data": {
      "text/plain": [
       "(203, 1, 16592565)"
      ]
     },
     "execution_count": 37,
     "metadata": {},
     "output_type": "execute_result"
    }
   ],
   "source": [
    "print('eng_corpus')\n",
    "sen_len(eng_dat)\n",
    "print()\n",
    "print('dial_corpus')\n",
    "sen_len(dial_dat,kor=True)"
   ]
  },
  {
   "cell_type": "code",
   "execution_count": 38,
   "id": "e6395135",
   "metadata": {},
   "outputs": [],
   "source": [
    "def plot_seq_dist(corpus,kor=False) :\n",
    "    max_len, min_len , _ = sen_len(corpus,kor)\n",
    "    seq_len_matrix = np.zeros((max_len+1), dtype=int)\n",
    "    for i in corpus :\n",
    "        if kor :\n",
    "            i = i[0]\n",
    "        length = len(i)\n",
    "        seq_len_matrix[length] += 1\n",
    "    \n",
    "    fig,ax = plt.subplots()\n",
    "    hist = ax.bar(range(len(seq_len_matrix)),seq_len_matrix)\n",
    "    plt.title('seq_distribution')\n",
    "    plt.show()"
   ]
  },
  {
   "cell_type": "code",
   "execution_count": 39,
   "id": "49f96ff8",
   "metadata": {},
   "outputs": [
    {
     "name": "stdout",
     "output_type": "stream",
     "text": [
      "max_len : 2717\n",
      "max_content : And to be honest, it's a little bit funny, and sometimes when you look at things like D-C-C-I-I-I don't know if they're kind of funny, so I'm not sure if they're doing something like roll or something like that or something like that or something like that or something like that or something like that or something like that or something like that or something like that or something like that or something like that or something like that or something like that or something like that or something like that or something like that or something like that or something like that or something like that or something like that or something like that or something or something like that or something like that or something or something like that or something like that or something or something or something like that or something or something or something or something or something or something or something or something or something or something or something or something or something or something or something like that or something or something or something or something or something or something like that or something or something like that or something like that or something or something or something or something or something or something or something or something like that or something like that or something like that or something or something or something or something or something or something or something or something or something or something or something or something or something or something or something or something or something or something or something or something or something or something or something or something or something or something or something or something or something or something or something or something or something or something or something or something or something or something or something or something or something or something or something or something or something or something or something or something or something or something or something or something or something or something or something or something or something or something or something or something or something or something or something or something or something or something or something or something or something or something or something or something or something or something or something or something or something or something or something or something or something or something or something or something or something or something or something or something or something or something or something or something or something or something or something or something or something or something or something or something or something or something or something or something or something or something or something\n",
      "min_len : 1\n",
      "min_content : I\n",
      "average_len : 57.2\n"
     ]
    },
    {
     "data": {
      "image/png": "[encoded data removed]",
      "text/plain": [
       "<Figure size 432x288 with 1 Axes>"
      ]
     },
     "metadata": {
      "needs_background": "light"
     },
     "output_type": "display_data"
    }
   ],
   "source": [
    "#english\n",
    "plot_seq_dist(eng_dat)"
   ]
  },
  {
   "cell_type": "code",
   "execution_count": 40,
   "id": "e23cb338",
   "metadata": {},
   "outputs": [
    {
     "name": "stdout",
     "output_type": "stream",
     "text": [
      "max_len : 203\n",
      "max_content : 잔채집에 따라가고 우리집은 왜 안해. 우리 딸도 빨리 잔채가 열려야지. 사나 복이 있어야지. 사나 복이 없으면 자식 복도 없다던데. 사나이 잘 해줘서 손도 안 움직인데. 너는 사나이 젊잖아. 우리 사나은 나이가 많아. 그래도 사나이 돈을 잘 벌잖아. 나는 착한 사나이 최고인 것 같아. 운제 한 번 놀러와. 저 사람 좀 보와. 몸띠이가 크더라. 다리 터리기 많아.\n",
      "min_len : 1\n",
      "min_content : 야\n",
      "average_len : 24.5\n"
     ]
    },
    {
     "data": {
      "image/png": "[encoded data removed]",
      "text/plain": [
       "<Figure size 432x288 with 1 Axes>"
      ]
     },
     "metadata": {
      "needs_background": "light"
     },
     "output_type": "display_data"
    }
   ],
   "source": [
    "#saturi\n",
    "plot_seq_dist(dial_dat,kor=True)"
   ]
  },
  {
   "cell_type": "code",
   "execution_count": 41,
   "id": "08a09b4a",
   "metadata": {},
   "outputs": [],
   "source": [
    "# 1. 모든 입력을 소문자로 변환합니다.\n",
    "# 2. 알파벳, 문장부호, 한글만 남기고 모두 제거합니다.\n",
    "# 3. 문장부호 양옆에 공백을 추가합니다.\n",
    "# 4. 문장 앞뒤의 불필요한 공백을 제거합니다.\n",
    "\n",
    "def preprocess_sentence(sentence):\n",
    "\n",
    "    sentence = sentence.lower() #1\n",
    "    sentence = re.sub(r\"[^a-zA-Z가-힣?.!,]+\", \" \", sentence) #2\n",
    "    sentence = re.sub(r\"([?.!,])\", r\" \\1 \", sentence) #3\n",
    "    sentence = re.sub(r'[\" \"]+', \" \", sentence) #4\n",
    "    \n",
    "    return sentence"
   ]
  },
  {
   "cell_type": "code",
   "execution_count": 42,
   "id": "b18fd982",
   "metadata": {},
   "outputs": [],
   "source": [
    "full_data['eng'] = full_data['eng'].apply(lambda x : preprocess_sentence(x))\n",
    "full_data['dial'] = full_data['dial'].apply(lambda x : preprocess_sentence(x))"
   ]
  },
  {
   "cell_type": "code",
   "execution_count": 43,
   "id": "d8abe00d",
   "metadata": {},
   "outputs": [],
   "source": [
    "full_data['eng_length'] = full_data['eng'].apply(lambda x : len(str(x).split()))\n",
    "full_data['dial_length'] = full_data['dial'].apply(lambda x : len(str(x).split()))\n",
    "full_data['eng_c_length'] = full_data['eng'].apply(lambda x : len(str(x)))\n",
    "full_data['dial_c_length'] = full_data['dial'].apply(lambda x : len(str(x)))"
   ]
  },
  {
   "cell_type": "code",
   "execution_count": 45,
   "id": "dd04db71",
   "metadata": {},
   "outputs": [
    {
     "data": {
      "text/plain": [
       "(0.0, 200.0)"
      ]
     },
     "execution_count": 45,
     "metadata": {},
     "output_type": "execute_result"
    },
    {
     "data": {
      "image/png": "[encoded data removed]",
      "text/plain": [
       "<Figure size 432x288 with 1 Axes>"
      ]
     },
     "metadata": {
      "needs_background": "light"
     },
     "output_type": "display_data"
    }
   ],
   "source": [
    "full_data['eng_c_length'].hist(bins=20)\n",
    "plt.xlim(0,200)"
   ]
  },
  {
   "cell_type": "code",
   "execution_count": 47,
   "id": "5bd39219",
   "metadata": {},
   "outputs": [],
   "source": [
    "full_data = full_data.loc[(full_data['eng_c_length'] < 130) & (full_data['eng_c_length'] > 5) ]"
   ]
  },
  {
   "cell_type": "code",
   "execution_count": 48,
   "id": "bdbe2716",
   "metadata": {},
   "outputs": [],
   "source": [
    "eng_dat = full_data['eng'].values\n",
    "dial_dat = list(zip(full_data['dial'].values, full_data['reg'].values))"
   ]
  },
  {
   "cell_type": "code",
   "execution_count": 49,
   "id": "fab3c1c0",
   "metadata": {},
   "outputs": [
    {
     "data": {
      "text/plain": [
       "reg\n",
       "cc    16.562420\n",
       "gs    15.557571\n",
       "jd    13.984492\n",
       "jj    10.928987\n",
       "kw    10.753551\n",
       "Name: eng_length, dtype: float64"
      ]
     },
     "execution_count": 49,
     "metadata": {},
     "output_type": "execute_result"
    }
   ],
   "source": [
    "full_data.groupby(full_data['reg'])['eng_length'].mean()"
   ]
  },
  {
   "cell_type": "code",
   "execution_count": 50,
   "id": "456e98d9",
   "metadata": {},
   "outputs": [
    {
     "data": {
      "text/plain": [
       "reg\n",
       "cc    10.470289\n",
       "gs     9.732168\n",
       "jd     9.087858\n",
       "jj     6.794227\n",
       "kw     6.860106\n",
       "Name: dial_length, dtype: float64"
      ]
     },
     "execution_count": 50,
     "metadata": {},
     "output_type": "execute_result"
    }
   ],
   "source": [
    "full_data.groupby(full_data['reg'])['dial_length'].mean()"
   ]
  },
  {
   "cell_type": "code",
   "execution_count": 51,
   "id": "b9b82017",
   "metadata": {},
   "outputs": [
    {
     "data": {
      "text/plain": [
       "reg\n",
       "cc    67.205326\n",
       "gs    63.304259\n",
       "jd    58.773766\n",
       "jj    45.479893\n",
       "kw    44.162127\n",
       "Name: eng_c_length, dtype: float64"
      ]
     },
     "execution_count": 51,
     "metadata": {},
     "output_type": "execute_result"
    }
   ],
   "source": [
    "full_data.groupby(full_data['reg'])['eng_c_length'].mean()"
   ]
  },
  {
   "cell_type": "code",
   "execution_count": 52,
   "id": "87ad0d67",
   "metadata": {},
   "outputs": [
    {
     "data": {
      "text/plain": [
       "reg\n",
       "cc    34.927519\n",
       "gs    31.961382\n",
       "jd    30.389684\n",
       "jj    21.881678\n",
       "kw    23.177159\n",
       "Name: dial_c_length, dtype: float64"
      ]
     },
     "execution_count": 52,
     "metadata": {},
     "output_type": "execute_result"
    }
   ],
   "source": [
    "full_data.groupby(full_data['reg'])['dial_c_length'].mean()"
   ]
  },
  {
   "cell_type": "code",
   "execution_count": 53,
   "id": "d0ff1896",
   "metadata": {},
   "outputs": [],
   "source": [
    "dirt_data = []\n",
    "clean_corpus = []\n",
    "for i in range(len(eng_dat)) :\n",
    "    length = len(eng_dat[i])\n",
    "    match = re.search(r'(.+)\\1{3,}',eng_dat[i]) # 반복적으로 나오는 단어가 있는 문장 삭제\n",
    "    if match or length == 0 :\n",
    "        dirt_data.append(i)\n",
    "    else :\n",
    "        clean_corpus.append( eng_dat[i] + '\\t' + dial_dat[i][0] + '\\t' + dial_dat[i][1])"
   ]
  },
  {
   "cell_type": "code",
   "execution_count": 54,
   "id": "a2075e01",
   "metadata": {},
   "outputs": [
    {
     "data": {
      "text/plain": [
       "'i ve changed my mind a little bit . \\t생각이 쪼금씩 바뀌드라고\\tjd'"
      ]
     },
     "execution_count": 54,
     "metadata": {},
     "output_type": "execute_result"
    }
   ],
   "source": [
    "clean_corpus[0]"
   ]
  },
  {
   "cell_type": "code",
   "execution_count": 82,
   "id": "eb2e41ed",
   "metadata": {},
   "outputs": [],
   "source": [
    "eng_dat_clean, dial_dat_clean = [], []\n",
    "for i in range(len(clean_corpus)) :\n",
    "    _eng, _dial, _reg = clean_corpus[i].split('\\t')\n",
    "    eng_dat_clean.append(_eng)\n",
    "    dial_dat_clean.append('<'+_reg+'> '+_dial)"
   ]
  },
  {
   "cell_type": "code",
   "execution_count": 83,
   "id": "b2fdc70d",
   "metadata": {},
   "outputs": [
    {
     "name": "stdout",
     "output_type": "stream",
     "text": [
      "max_len : 129\n",
      "max_content : i ve already seen that this is your marriage date , this is your date , this is your marriage date , this is your five minutes . \n",
      "min_len : 6\n",
      "min_content : why ? \n",
      "average_len : 48.6\n"
     ]
    },
    {
     "data": {
      "image/png": "[encoded data removed]",
      "text/plain": [
       "<Figure size 432x288 with 1 Axes>"
      ]
     },
     "metadata": {
      "needs_background": "light"
     },
     "output_type": "display_data"
    }
   ],
   "source": [
    "#eng\n",
    "plot_seq_dist(eng_dat_clean,kor=False)"
   ]
  },
  {
   "cell_type": "code",
   "execution_count": 84,
   "id": "b68f53f4",
   "metadata": {},
   "outputs": [
    {
     "name": "stdout",
     "output_type": "stream",
     "text": [
      "max_len : 137\n",
      "max_content : <gs> 그때 당시에는 이제 막 대학교 들어갔나 해서 돈이 별로 없었어 해서 아 언니야 나 돈이 별로 없어가지고 안 될 거 같다 이래서 아 안 되겠다 그러면 돈이 있는 친구를 또 흐 나름 흥이 있는 친구를 꼬셔야겠다 해가지고 친구를 꼬셨어요 . \n",
      "min_len : 6\n",
      "min_content : <kw> 야\n",
      "average_len : 30.0\n"
     ]
    },
    {
     "data": {
      "image/png": "[encoded data removed]",
      "text/plain": [
       "<Figure size 432x288 with 1 Axes>"
      ]
     },
     "metadata": {
      "needs_background": "light"
     },
     "output_type": "display_data"
    }
   ],
   "source": [
    "#saturi\n",
    "plot_seq_dist(dial_dat_clean)"
   ]
  },
  {
   "cell_type": "markdown",
   "id": "0ab6508b",
   "metadata": {},
   "source": [
    "# Step 2. 데이터 정제 및 토큰화"
   ]
  },
  {
   "cell_type": "code",
   "execution_count": 85,
   "id": "1e2ed4f9",
   "metadata": {},
   "outputs": [],
   "source": [
    "# 한글 말뭉치 kor_corpus 와 영문 말뭉치 eng_corpus 를 각각 분리한 후, 정제하여 토큰화를 진행\n",
    "# 최종적으로 ko_tokenizer 과 en_tokenizer 를 얻기\n",
    "# en_tokenizer에는 set_encode_extra_options(\"bos:eos\") 함수를 실행해 타겟 입력이 문장의 시작 토큰과 끝 토큰을 포함할 수 있게\n",
    "# 단어 사전을 매개변수로 받아 원하는 크기의 사전을 정의할 수 있게 합니다. (기본: 20,000)\n",
    "# 학습 후 저장된 model 파일을 SentencePieceProcessor() 클래스에 Load()한 후 반환합니다.\n",
    "# 특수 토큰의 인덱스를 아래와 동일하게 지정합니다.\n",
    "# <PAD> : 0 / <BOS> : 1 / <EOS> : 2 / <UNK> : 3\n",
    "# <jj> : 4 / <jd> : 5 / <gs> : 6 / <cc> : 7 / <kw> : 8\n",
    "\n",
    "# Sentencepiece를 활용하여 학습한 tokenizer를 생성\n",
    "def generate_tokenizer(corpus, vocab_size, lang=\"en\", pad_id=0, bos_id=1, eos_id=2, unk_id=3):\n",
    "\n",
    "    temp_file = os.getenv('HOME') + f'/aiffel/aiffelthon/corpus_{lang}.txt'     # corpus를 받아 txt파일로 저장\n",
    "    \n",
    "    with open(temp_file, 'w') as f:\n",
    "        for row in corpus:\n",
    "            f.write(str(row) + '\\n')\n",
    "    \n",
    "    # Sentencepiece를 이용해 \n",
    "    spm.SentencePieceTrainer.Train(\n",
    "        f'--input={temp_file} --model_type=bpe --pad_id={pad_id} --bos_id={bos_id} --eos_id={eos_id} \\\n",
    "        --unk_id={unk_id} --model_prefix=spm{lang}_r1 --vocab_size={vocab_size} \\\n",
    "        --user_defined_symbols=<jj>,<jd>,<gs>,<cc>,<kw> --remove_extra_whitespaces=false'   # model_r1\n",
    "    )\n",
    "    tokenizer = spm.SentencePieceProcessor()\n",
    "    tokenizer.Load(f'spm{lang}_r1.model') # model_r1\n",
    "\n",
    "    return tokenizer"
   ]
  },
  {
   "cell_type": "code",
   "execution_count": 99,
   "id": "5d6f2bbd",
   "metadata": {},
   "outputs": [
    {
     "data": {
      "text/plain": [
       "True"
      ]
     },
     "execution_count": 99,
     "metadata": {},
     "output_type": "execute_result"
    }
   ],
   "source": [
    "SRC_VOCAB_SIZE = TGT_VOCAB_SIZE = 4009\n",
    "\n",
    "# en_tokenizer = generate_tokenizer(eng_dat_clean, SRC_VOCAB_SIZE, \"en\")\n",
    "en_tokenizer = spm.SentencePieceProcessor()\n",
    "en_tokenizer.Load('spmen_r1.model')\n",
    "# ko_tokenizer = generate_tokenizer(dial_dat_clean, TGT_VOCAB_SIZE, \"ko\")\n",
    "ko_tokenizer = spm.SentencePieceProcessor()\n",
    "ko_tokenizer.Load('spmko_r1.model')\n",
    "ko_tokenizer.set_encode_extra_options(\"bos:eos\")"
   ]
  },
  {
   "cell_type": "code",
   "execution_count": 100,
   "id": "05647ee4",
   "metadata": {},
   "outputs": [
    {
     "data": {
      "text/plain": [
       "'it s just swollen , and others say health is running out of pus . '"
      ]
     },
     "execution_count": 100,
     "metadata": {},
     "output_type": "execute_result"
    }
   ],
   "source": [
    "eng_dat_clean[150]"
   ]
  },
  {
   "cell_type": "code",
   "execution_count": 101,
   "id": "031f1b98",
   "metadata": {},
   "outputs": [
    {
     "data": {
      "text/plain": [
       "['▁it',\n",
       " '▁s',\n",
       " '▁just',\n",
       " '▁sw',\n",
       " 'oll',\n",
       " 'en',\n",
       " '▁,',\n",
       " '▁and',\n",
       " '▁others',\n",
       " '▁say',\n",
       " '▁health',\n",
       " '▁is',\n",
       " '▁running',\n",
       " '▁out',\n",
       " '▁of',\n",
       " '▁pu',\n",
       " 's',\n",
       " '▁.']"
      ]
     },
     "execution_count": 101,
     "metadata": {},
     "output_type": "execute_result"
    }
   ],
   "source": [
    "en_tokenizer.EncodeAsPieces(eng_dat_clean[150])"
   ]
  },
  {
   "cell_type": "code",
   "execution_count": 102,
   "id": "ff694d2f",
   "metadata": {},
   "outputs": [
    {
     "data": {
      "text/plain": [
       "'<jd> 그때는 몰랐는디 이제 쪼끔 커가지고'"
      ]
     },
     "execution_count": 102,
     "metadata": {},
     "output_type": "execute_result"
    }
   ],
   "source": [
    "dial_dat_clean[120]"
   ]
  },
  {
   "cell_type": "code",
   "execution_count": 105,
   "id": "a4ed31d2",
   "metadata": {},
   "outputs": [
    {
     "data": {
      "text/plain": [
       "['<s>', '▁', '<jd>', '▁그때는', '▁몰랐', '는디', '▁이제', '▁쪼끔', '▁커', '가지고', '</s>']"
      ]
     },
     "execution_count": 105,
     "metadata": {},
     "output_type": "execute_result"
    }
   ],
   "source": [
    "ko_tokenizer.EncodeAsPieces(dial_dat_clean[120])"
   ]
  },
  {
   "cell_type": "code",
   "execution_count": 106,
   "id": "93d52954",
   "metadata": {},
   "outputs": [
    {
     "name": "stdout",
     "output_type": "stream",
     "text": [
      "문장의 최단 길이: 1\n",
      "문장의 최장 길이: 56\n",
      "문장의 평균 길이: 12\n"
     ]
    },
    {
     "data": {
      "image/png": "[encoded data removed]",
      "text/plain": [
       "<Figure size 432x288 with 1 Axes>"
      ]
     },
     "metadata": {
      "needs_background": "light"
     },
     "output_type": "display_data"
    }
   ],
   "source": [
    "# eng 통계\n",
    "\n",
    "min_len = 999\n",
    "max_len = 0\n",
    "sum_len = 0\n",
    "\n",
    "\n",
    "for sen in eng_dat_clean:\n",
    "    length = len(en_tokenizer.encode(sen))\n",
    "    if min_len > length: min_len = length\n",
    "    if max_len < length: max_len = length\n",
    "    sum_len += length\n",
    "\n",
    "print(\"문장의 최단 길이:\", min_len)\n",
    "print(\"문장의 최장 길이:\", max_len)\n",
    "print(\"문장의 평균 길이:\", sum_len // len(eng_dat_clean))\n",
    "\n",
    "sentence_length = np.zeros((max_len), dtype=int)\n",
    "\n",
    "#총 max_len(377, )의 배열을 만든 후, raw 문장을 돌면서 각 문장별 길이를 sentence_length의 len(sen) 인덱스마다  계속 더해가면서 counting\n",
    "for sen in eng_dat_clean:\n",
    "    sentence_length[len(en_tokenizer.encode(sen))-1] += 1\n",
    "\n",
    "plt.bar(range(max_len), sentence_length, width=1.0)\n",
    "plt.title(\"Sentence Length Distribution\")\n",
    "plt.show()"
   ]
  },
  {
   "cell_type": "code",
   "execution_count": 107,
   "id": "cee432d4",
   "metadata": {},
   "outputs": [
    {
     "name": "stdout",
     "output_type": "stream",
     "text": [
      "문장의 최단 길이: 5\n",
      "문장의 최장 길이: 65\n",
      "문장의 평균 길이: 16\n"
     ]
    },
    {
     "data": {
      "image/png": "[encoded data removed]",
      "text/plain": [
       "<Figure size 432x288 with 1 Axes>"
      ]
     },
     "metadata": {
      "needs_background": "light"
     },
     "output_type": "display_data"
    }
   ],
   "source": [
    "# saturi 통계\n",
    "\n",
    "min_len = 999\n",
    "max_len = 0\n",
    "sum_len = 0\n",
    "\n",
    "\n",
    "for sen in dial_dat_clean:\n",
    "    length = len(ko_tokenizer.encode(sen))\n",
    "    if min_len > length: min_len = length\n",
    "    if max_len < length: max_len = length\n",
    "    sum_len += length\n",
    "\n",
    "print(\"문장의 최단 길이:\", min_len)\n",
    "print(\"문장의 최장 길이:\", max_len)\n",
    "print(\"문장의 평균 길이:\", sum_len // len(dial_dat_clean))\n",
    "\n",
    "sentence_length = np.zeros((max_len), dtype=int)\n",
    "\n",
    "#총 max_len(377, )의 배열을 만든 후, raw 문장을 돌면서 각 문장별 길이를 sentence_length의 len(sen) 인덱스마다  계속 더해가면서 counting\n",
    "for sen in dial_dat_clean:\n",
    "    sentence_length[len(ko_tokenizer.encode(sen))-1] += 1\n",
    "\n",
    "plt.bar(range(max_len), sentence_length, width=1.0)\n",
    "plt.title(\"Sentence Length Distribution\")\n",
    "plt.show()"
   ]
  },
  {
   "cell_type": "code",
   "execution_count": 108,
   "id": "c7db04e2",
   "metadata": {},
   "outputs": [],
   "source": [
    "assert len(dial_dat_clean) == len(eng_dat_clean)"
   ]
  },
  {
   "cell_type": "code",
   "execution_count": 112,
   "id": "785cefcd",
   "metadata": {},
   "outputs": [
    {
     "data": {
      "application/vnd.jupyter.widget-view+json": {
       "model_id": "959c794b6c8148629a985ef8006b9076",
       "version_major": 2,
       "version_minor": 0
      },
      "text/plain": [
       "  0%|          | 0/654822 [00:00<?, ?it/s]"
      ]
     },
     "metadata": {},
     "output_type": "display_data"
    }
   ],
   "source": [
    "# 토크나이저를 활용해 토큰의 길이가 50 이하인 데이터를 선별하여 src_corpus 와 tgt_corpus 를 각각 구축하고, 텐서 enc_train 과 dec_train 으로 변환\n",
    "src_corpus = [] #영어\n",
    "tgt_corpus = [] #한글\n",
    "\n",
    "\n",
    "# 토큰의 길이가 135 이하인 문장만 남깁니다. \n",
    "for idx in tqdm(range(len(eng_dat_clean))):\n",
    "    src = en_tokenizer.EncodeAsIds(eng_dat_clean[idx])\n",
    "    tgt = ko_tokenizer.EncodeAsIds(dial_dat_clean[idx])\n",
    "    \n",
    "    if len(src) >= 5 : # enc, dec 의 seq_length는 달라도 상관없음..\n",
    "        src_corpus.append(src)\n",
    "        tgt_corpus.append(tgt)\n",
    "\n",
    "# 패딩처리를 완료하여 학습용 데이터를 완성합니다. \n",
    "enc_data = tf.keras.preprocessing.sequence.pad_sequences(src_corpus, padding='post')\n",
    "dec_data = tf.keras.preprocessing.sequence.pad_sequences(tgt_corpus, padding='post')"
   ]
  },
  {
   "cell_type": "code",
   "execution_count": 113,
   "id": "00df9852",
   "metadata": {},
   "outputs": [],
   "source": [
    "# 훈련 데이터와 검증 데이터로 분리하기\n",
    "enc_train, enc_val, dec_train, dec_val = train_test_split(enc_data, dec_data, test_size=0.2)"
   ]
  },
  {
   "cell_type": "code",
   "execution_count": 114,
   "id": "1e9d64b3",
   "metadata": {},
   "outputs": [
    {
     "name": "stdout",
     "output_type": "stream",
     "text": [
      "(503356, 56)\n",
      "(503356, 65)\n",
      "(125839, 56)\n",
      "(125839, 65)\n"
     ]
    }
   ],
   "source": [
    "# enc, dec 의 seq_length는 달라도 상관없음.\n",
    "print(enc_train.shape)\n",
    "print(dec_train.shape)\n",
    "print(enc_val.shape)\n",
    "print(dec_val.shape)"
   ]
  },
  {
   "cell_type": "markdown",
   "id": "eb280572",
   "metadata": {},
   "source": [
    "# Step 3. 모델설계"
   ]
  },
  {
   "cell_type": "markdown",
   "id": "1a2d7fdf",
   "metadata": {},
   "source": [
    "## Positional Encoding"
   ]
  },
  {
   "cell_type": "code",
   "execution_count": 115,
   "id": "745e8765",
   "metadata": {},
   "outputs": [],
   "source": [
    "# pos - 단어가 위치한 Time-step(각각의 토큰의 위치정보값이며 정수값을 의미)\n",
    "# d_model - 모델의 Embedding 차원 수\n",
    "# i - Encoding차원의 index\n",
    "\n",
    "def positional_encoding(pos, d_model):\n",
    "    def cal_angle(position, i):\n",
    "        return position / np.power(10000, int(i)/d_model)  # np.power(a,b) > a^b(제곱)\n",
    "    \n",
    "    def get_posi_angle_vec(position):\n",
    "        return [cal_angle(position, i) for i in range(d_model)]\n",
    "    \n",
    "    sinusoid_table = np.array([get_posi_angle_vec(pos_i) for pos_i in range(pos)])\n",
    "    \n",
    "    # 배열의 짝수 인덱스(2i)에는 사인 함수 적용\n",
    "    sinusoid_table[:, 0::2] = np.sin(sinusoid_table[:, 0::2])\n",
    "    # 배열의 홀수 인덱스(2i+1)에는 코사인 함수 적용\n",
    "    sinusoid_table[:, 1::2] = np.cos(sinusoid_table[:, 1::2])\n",
    "    \n",
    "    return sinusoid_table"
   ]
  },
  {
   "cell_type": "markdown",
   "id": "33b08cdf",
   "metadata": {},
   "source": [
    "## Multi-Head Attention"
   ]
  },
  {
   "cell_type": "code",
   "execution_count": 116,
   "id": "bbbefe3f",
   "metadata": {},
   "outputs": [],
   "source": [
    "class MultiHeadAttention(tf.keras.layers.Layer):\n",
    "    def __init__(self, d_model, num_heads):\n",
    "        super(MultiHeadAttention, self).__init__()\n",
    "        self.num_heads = num_heads\n",
    "        self.d_model = d_model\n",
    "        \n",
    "        self.depth = d_model // self.num_heads\n",
    "        \n",
    "        self.W_q = tf.keras.layers.Dense(d_model)  # Linear Layer\n",
    "        self.W_k = tf.keras.layers.Dense(d_model)\n",
    "        self.W_v = tf.keras.layers.Dense(d_model)\n",
    "        \n",
    "        self.linear = tf.keras.layers.Dense(d_model)\n",
    "        \n",
    "    def scaled_dot_product_attention(self, Q, K, V, mask):\n",
    "        d_k = tf.cast(K.shape[-1], tf.float32)\n",
    "        \n",
    "        # Scaled QK 값 구하기\n",
    "        QK = tf.matmul(Q, K, transpose_b=True)\n",
    "        scaled_qk = QK / tf.math.sqrt(d_k)\n",
    "        \n",
    "        if mask is not None:\n",
    "            scaled_qk += (mask * -1e9)\n",
    "        \n",
    "        # 1. Attention Weights 값 구하기 -> attentions\n",
    "        attentions = tf.nn.softmax(scaled_qk, axis=-1)\n",
    "        # 2. Attention 값을 V에 곱하기 -> out\n",
    "        out = tf.matmul(attentions, V)\n",
    "        return out, attentions\n",
    "    \n",
    "    def split_heads(self, x):\n",
    "        \"\"\"\n",
    "        Embedding된 입력을 head의 수로 분할하는 함수\n",
    "        \n",
    "        x: [ batch x length x emb ]\n",
    "        return: [ batch x length x heads x self.depth ]\n",
    "        \"\"\"\n",
    "        bsz = x.shape[0]\n",
    "        split_x = tf.reshape(x, (bsz, -1, self.num_heads, self.depth))\n",
    "        split_x = tf.transpose(split_x, perm=[0, 2, 1, 3])\n",
    "        return split_x\n",
    "    \n",
    "    def combine_heads(self, x):\n",
    "        \"\"\"\n",
    "        분할된 Embedding을 하나로 결합하는 함수\n",
    "        \n",
    "        x: [ batch x length x heads x self.depth ]\n",
    "        return: [ batch x length x emb ]\n",
    "        \"\"\"\n",
    "        bsz = x.shape[0]\n",
    "        combined_x = tf.transpose(x, perm=[0, 2, 1, 3])\n",
    "        combined_x = tf.reshape(combined_x, (bsz, -1, self.d_model))\n",
    "        return combined_x\n",
    "    \n",
    "    def call(self, Q, K, V, mask):\n",
    "        \"\"\"\n",
    "        Step 1: Linear_in(Q, K, V) -> WQ, WK, WV\n",
    "        Step 2: Split Heads(WQ, WK, WV) -> WQ_split, WK_split, WV_split\n",
    "        Step 3: Scaled Dot Product Attention(WQ_split, WK_split, WV_split)\n",
    "                 -> out, attention_weights\n",
    "        Step 4: Combine Heads(out) -> out\n",
    "        Step 5: Linear_out(out) -> out\n",
    "        \"\"\"\n",
    "        WQ = self.W_q(Q)\n",
    "        WK = self.W_k(K)\n",
    "        WV = self.W_v(V)\n",
    "        \n",
    "        WQ_splits = self.split_heads(WQ)\n",
    "        WK_splits = self.split_heads(WK)\n",
    "        WV_splits = self.split_heads(WV)\n",
    "        \n",
    "        out, attention_weights = self.scaled_dot_product_attention(\n",
    "            WQ_splits, WK_splits, WV_splits, mask\n",
    "        )\n",
    "        \n",
    "        out = self.combine_heads(out)\n",
    "        out = self.linear(out)\n",
    "        \n",
    "        return out, attention_weights"
   ]
  },
  {
   "cell_type": "markdown",
   "id": "d200c2a9",
   "metadata": {},
   "source": [
    "## Position-wise Feed-Forward Network"
   ]
  },
  {
   "cell_type": "code",
   "execution_count": 117,
   "id": "e829cea4",
   "metadata": {},
   "outputs": [
    {
     "name": "stdout",
     "output_type": "stream",
     "text": [
      "슝=3\n"
     ]
    }
   ],
   "source": [
    "class PoswiseFeedForwardNet(tf.keras.layers.Layer):\n",
    "    def __init__(self, d_model, d_ff):\n",
    "        super(PoswiseFeedForwardNet, self).__init__()\n",
    "        self.w_1 = tf.keras.layers.Dense(d_ff, activation='relu')\n",
    "        self.w_2 = tf.keras.layers.Dense(d_model)\n",
    "\n",
    "    def call(self, x):\n",
    "        out = self.w_1(x)\n",
    "        out = self.w_2(out)\n",
    "            \n",
    "        return out\n",
    "\n",
    "print(\"슝=3\")"
   ]
  },
  {
   "cell_type": "markdown",
   "id": "5047daba",
   "metadata": {},
   "source": [
    "d_ff 는 논문의 설명대로라면 2048 일 거고, d_model 은 512 겠죠? [ batch x length x d_model ] 의 입력을 받아 w_1 이 2048차원으로 매핑하고 활성함수 ReLU를 적용한 후, 다시 w_2 를 통해 512차원으로 되돌리는 과정"
   ]
  },
  {
   "cell_type": "markdown",
   "id": "43ee212f",
   "metadata": {},
   "source": [
    "## Encoder 레이어 구현하기"
   ]
  },
  {
   "cell_type": "code",
   "execution_count": 118,
   "id": "f9b10919",
   "metadata": {},
   "outputs": [],
   "source": [
    "class EncoderLayer(tf.keras.layers.Layer):\n",
    "    def __init__(self, d_model, n_heads, d_ff, dropout):\n",
    "        super(EncoderLayer, self).__init__()\n",
    "        self.enc_self_attn = MultiHeadAttention(d_model, n_heads)\n",
    "        self.ffn = PoswiseFeedForwardNet(d_model, d_ff)\n",
    "        \n",
    "        self.norm_1 = tf.keras.layers.LayerNormalization(epsilon=1e-6)\n",
    "        self.norm_2 = tf.keras.layers.LayerNormalization(epsilon=1e-6)\n",
    "        \n",
    "        self.do = tf.keras.layers.Dropout(dropout)\n",
    "        \n",
    "    def call(self, x, mask):\n",
    "        # Multi-Head Attention\n",
    "        residual = x\n",
    "        out = self.norm_1(x)\n",
    "        out, enc_attn = self.enc_self_attn(out, out, out, mask)\n",
    "        out = self.do(out)\n",
    "        out += residual*1 \n",
    "        \n",
    "        # Position-Wise Feed Forward Network\n",
    "        residual = out\n",
    "        out = self.norm_2(out)\n",
    "        out = self.ffn(out)\n",
    "        out = self.do(out)\n",
    "        out += residual*1 \n",
    "        \n",
    "        return out, enc_attn"
   ]
  },
  {
   "cell_type": "markdown",
   "id": "5e0dfc4a",
   "metadata": {},
   "source": [
    "## Decoder 레이어 구현하기"
   ]
  },
  {
   "cell_type": "code",
   "execution_count": 119,
   "id": "f04f331c",
   "metadata": {},
   "outputs": [],
   "source": [
    "class DecoderLayer(tf.keras.layers.Layer):\n",
    "    def __init__(self, d_model, num_heads, d_ff, dropout):\n",
    "        super(DecoderLayer, self).__init__()\n",
    "\n",
    "        self.dec_self_attn = MultiHeadAttention(d_model, num_heads)\n",
    "        self.enc_dec_attn = MultiHeadAttention(d_model, num_heads)\n",
    "\n",
    "        self.ffn = PoswiseFeedForwardNet(d_model, d_ff)\n",
    "\n",
    "        self.norm_1 = tf.keras.layers.LayerNormalization(epsilon=1e-6)\n",
    "        self.norm_2 = tf.keras.layers.LayerNormalization(epsilon=1e-6)\n",
    "        self.norm_3 = tf.keras.layers.LayerNormalization(epsilon=1e-6)\n",
    "\n",
    "        self.do = tf.keras.layers.Dropout(dropout)\n",
    "        \n",
    "    def call(self, x, enc_out, causality_mask, padding_mask):\n",
    "        # Masked Multi-Head Attention\n",
    "        residual = x\n",
    "        out = self.norm_1(x)\n",
    "        #out, dec_attn = self.dec_self_attn(out, out, out, causality_mask)\n",
    "        out, dec_attn = self.dec_self_attn(out, out, out, padding_mask)\n",
    "        out = self.do(out)\n",
    "        out += residual\n",
    "        \n",
    "        # Multi-Head Attention\n",
    "        residual = out\n",
    "        out = self.norm_2(out)\n",
    "        #out, dec_enc_attn = self.enc_dec_attn(out, enc_out, enc_out, padding_mask)\n",
    "        out, dec_enc_attn = self.enc_dec_attn(out, enc_out, enc_out, causality_mask)\n",
    "        out = self.do(out)\n",
    "        out += residual\n",
    "\n",
    "        # Position-Wise Feed Forward Network\n",
    "        residual = out\n",
    "        out = self.norm_3(out)\n",
    "        out = self.ffn(out)\n",
    "        out = self.do(out)\n",
    "        out += residual\n",
    "\n",
    "        return out, dec_attn, dec_enc_attn"
   ]
  },
  {
   "cell_type": "markdown",
   "id": "9298efe7",
   "metadata": {},
   "source": [
    "## Encoder와 Decoder 클래스를 정의\n",
    "EncodeLayer 와 DecoderLayer 를 모두 정의했으니 이를 조립하는 것은 어렵지 않겠죠? 이를 이용해 Encoder와 Decoder 클래스를 정의합니다."
   ]
  },
  {
   "cell_type": "code",
   "execution_count": 120,
   "id": "8dce5411",
   "metadata": {},
   "outputs": [],
   "source": [
    "class Encoder(tf.keras.Model):\n",
    "    def __init__(self, n_layers, d_model, n_heads, d_ff, dropout):\n",
    "        super(Encoder, self).__init__()\n",
    "        self.n_layers = n_layers\n",
    "        self.enc_layers = [EncoderLayer(d_model, n_heads, d_ff, dropout) for _ in range(n_layers)]\n",
    "        self.do = tf.keras.layers.Dropout(dropout)\n",
    "        \n",
    "    def call(self, x, mask):\n",
    "        out = x\n",
    "        enc_attns = list()\n",
    "        for i in range(self.n_layers):\n",
    "            out, enc_attn = self.enc_layers[i](out, mask)\n",
    "            enc_attns.append(enc_attn)\n",
    "            \n",
    "        return out, enc_attns"
   ]
  },
  {
   "cell_type": "code",
   "execution_count": 121,
   "id": "a087876b",
   "metadata": {},
   "outputs": [],
   "source": [
    "class Decoder(tf.keras.Model):\n",
    "    def __init__(self, n_layers, d_model, n_heads, d_ff, dropout):\n",
    "        super(Decoder, self).__init__()\n",
    "        self.n_layers = n_layers\n",
    "        self.dec_layers = [DecoderLayer(d_model, n_heads, d_ff, dropout) for _ in range(n_layers)]\n",
    "        \n",
    "    def call(self, x, enc_out, causality_mask, padding_mask):\n",
    "        out = x\n",
    "        dec_attns = list()\n",
    "        dec_enc_attns = list()\n",
    "        for i in range(self.n_layers):\n",
    "            out, dec_attn, dec_enc_attn = self.dec_layers[i](out, enc_out, causality_mask, padding_mask)\n",
    "            dec_attns.append(dec_attn)\n",
    "            dec_enc_attns.append(dec_enc_attn)\n",
    "        \n",
    "        return out, dec_attns, dec_enc_attns"
   ]
  },
  {
   "cell_type": "markdown",
   "id": "019b1374",
   "metadata": {},
   "source": [
    "## Transformer 완성하기\n",
    "\n",
    "    shared 변수를 매개변수로 받아 True 일 경우 Decoder Embedding과 출력층 Linear의 Weight를 공유\n",
    "    Weight가 공유될 경우 Embedding 값에 sqrt(d_model) 을 곱해줘야 하는 것, (참고: tf.keras.layers.Layer.set_weights())\n",
    "\n",
    "    우리가 정의한 positional_encoding 의 반환값 형태는 [ Length x d_model ] 인데, 이를 더해 줄 Embedding 값 형태가 [ Batch x Length x d_model ] 이라서 연산이 불가능합니다. 연산이 가능하도록 수정 (참고: tf.expand_dims(), np.newaxis)"
   ]
  },
  {
   "cell_type": "code",
   "execution_count": 122,
   "id": "3152b9e9",
   "metadata": {},
   "outputs": [],
   "source": [
    "class Transformer(tf.keras.Model):\n",
    "    def __init__(self, n_layers, d_model, n_heads, d_ff, src_vocab_size, tgt_vocab_size,\n",
    "                 pos_len, dropout=0.2, shared=True):\n",
    "        super(Transformer, self).__init__()\n",
    "        self.d_model = tf.cast(d_model, tf.float32)\n",
    "        \n",
    "        # 1. Embedding Layer 정의\n",
    "        self.enc_emb = tf.keras.layers.Embedding(src_vocab_size, d_model)\n",
    "        self.dec_emb = tf.keras.layers.Embedding(tgt_vocab_size, d_model)\n",
    "        \n",
    "        # 2. Positional Encoding 정의\n",
    "        self.pos_encoding = positional_encoding(pos_len, d_model)\n",
    "        # 6. Dropout 정의\n",
    "        self.do = tf.keras.layers.Dropout(dropout)\n",
    "        \n",
    "        # 3. Encoder / Decoder 정의\n",
    "        self.encoder = Encoder(n_layers, d_model, n_heads, d_ff, dropout)\n",
    "        self.decoder = Decoder(n_layers, d_model, n_heads, d_ff, dropout)\n",
    "        \n",
    "        # 4. Output Linear 정의\n",
    "        self.fc = tf.keras.layers.Dense(tgt_vocab_size)\n",
    "        \n",
    "        # 5. Shared Weights\n",
    "        self.shared = shared\n",
    "        \n",
    "        if shared:\n",
    "            self.fc.set_weights(tf.transpose(self.dec_emb.weights))\n",
    "        \n",
    "        \n",
    "    def embedding(self, emb, x):\n",
    "        \"\"\"\n",
    "        입력된 정수 배열을 Embedding + Pos Encoding\n",
    "        + Shared일 경우 Scaling 작업 포함\n",
    "\n",
    "        x: [ batch x length ]\n",
    "        return: [ batch x length x emb ]\n",
    "        \"\"\"\n",
    "        seq_len = x.shape[1]\n",
    "        out = emb(x)\n",
    "        \n",
    "        if self.shared:\n",
    "            out *= tf.math.sqrt(self.d_model)\n",
    "        \n",
    "        out += self.pos_encoding[np.newaxis, ...][:, :seq_len, :]\n",
    "        out = self.do(out)\n",
    "        \n",
    "        return out\n",
    "    \n",
    "    def call(self, enc_in, dec_in, enc_mask, causality_mask, dec_mask):\n",
    "        # Step 1: Embedding(enc_in, dec_in) -> enc_in, dec_in\n",
    "        enc_in = self.embedding(self.enc_emb, enc_in)\n",
    "        dec_in = self.embedding(self.dec_emb, dec_in)\n",
    "        \n",
    "        # Step 2: Encoder(enc_in, enc_mask) -> enc_out, enc_attns\n",
    "        enc_out, enc_attns = self.encoder(enc_in, enc_mask)\n",
    "\n",
    "        # Step 3: Decoder(dec_in, enc_out, mask) -> dec_out, dec_attns, dec_enc_attns\n",
    "        dec_out, dec_attns, dec_enc_attns = self.decoder(dec_in, enc_out, causality_mask, dec_mask)\n",
    "        \n",
    "        # Step 4: Out Linear(dec_out) -> logits\n",
    "        logits = self.fc(dec_out)\n",
    "        \n",
    "        return logits, enc_attns, dec_attns, dec_enc_attns\n",
    "    "
   ]
  },
  {
   "cell_type": "markdown",
   "id": "ea1cf934",
   "metadata": {},
   "source": [
    "## Mask"
   ]
  },
  {
   "cell_type": "code",
   "execution_count": 123,
   "id": "3f0c2cb6",
   "metadata": {},
   "outputs": [],
   "source": [
    "# Attention을 할 때에 <PAD> 토큰에도 Attention을 주는 것을 방지해 주는 역할\n",
    "def generate_padding_mask(seq):\n",
    "    seq = tf.cast(tf.math.equal(seq, 0), tf.float32)\n",
    "    return seq[:, tf.newaxis, tf.newaxis, :]\n",
    "\n",
    "def generate_causality_mask(src_len, tgt_len):\n",
    "    mask = 1 - np.cumsum(np.eye(src_len, tgt_len), 0)\n",
    "    return tf.cast(mask, tf.float32)\n",
    "\n",
    "def generate_masks(src, tgt):\n",
    "    enc_mask = generate_padding_mask(src)\n",
    "    dec_mask = generate_padding_mask(tgt)\n",
    "\n",
    "    dec_enc_causality_mask = generate_causality_mask(tgt.shape[1], src.shape[1])\n",
    "    dec_enc_mask = tf.maximum(enc_mask, dec_enc_causality_mask)\n",
    "\n",
    "    dec_causality_mask = generate_causality_mask(tgt.shape[1], tgt.shape[1])\n",
    "    dec_mask = tf.maximum(dec_mask, dec_causality_mask)\n",
    "\n",
    "    return enc_mask, dec_enc_mask, dec_mask"
   ]
  },
  {
   "cell_type": "markdown",
   "id": "5d359a42",
   "metadata": {},
   "source": [
    "# Step 4. 훈련하기"
   ]
  },
  {
   "cell_type": "markdown",
   "id": "5fcac8d2",
   "metadata": {},
   "source": [
    "## 2 Layer를 가지는 Transformer를 선언\n",
    "(하이퍼파라미터는 자유롭게 조절합니다.)"
   ]
  },
  {
   "cell_type": "code",
   "execution_count": 124,
   "id": "56e77201",
   "metadata": {},
   "outputs": [],
   "source": [
    "transformer = Transformer(\n",
    "    n_layers=6,\n",
    "    d_model=512,\n",
    "    n_heads=8,\n",
    "    d_ff=2048,\n",
    "    src_vocab_size=SRC_VOCAB_SIZE,\n",
    "    tgt_vocab_size=TGT_VOCAB_SIZE,\n",
    "    pos_len=200,\n",
    "    dropout=0.1,\n",
    "    shared=True\n",
    ")"
   ]
  },
  {
   "cell_type": "markdown",
   "id": "eb2242b0",
   "metadata": {},
   "source": [
    "##  Learning Rate Scheduler를 선언하고, 이를 포함하는 Adam Optimizer를 선언\n",
    "    (Optimizer의 파라미터 역시 논문과 동일하게 설정합니다.)"
   ]
  },
  {
   "cell_type": "code",
   "execution_count": 125,
   "id": "ff005933",
   "metadata": {},
   "outputs": [],
   "source": [
    "class LearningRateScheduler(tf.keras.optimizers.schedules.LearningRateSchedule):\n",
    "    def __init__(self, d_model, warmup_steps=4000):\n",
    "        super(LearningRateScheduler, self).__init__()\n",
    "        self.d_model = d_model\n",
    "        self.warmup_steps = warmup_steps\n",
    "    \n",
    "    def __call__(self, step):\n",
    "        arg1 = step ** -0.5\n",
    "        arg2 = step * (self.warmup_steps ** -1.5)\n",
    "        \n",
    "        return (self.d_model ** -0.5) * tf.math.minimum(arg1, arg2)"
   ]
  },
  {
   "cell_type": "code",
   "execution_count": 126,
   "id": "eedfab20",
   "metadata": {},
   "outputs": [],
   "source": [
    "learning_rate = LearningRateScheduler(512)\n",
    "optimizer = tf.keras.optimizers.Adam(learning_rate, beta_1=0.9, beta_2=0.98, epsilon=1e-9)"
   ]
  },
  {
   "cell_type": "markdown",
   "id": "973cc860",
   "metadata": {},
   "source": [
    "## Loss 함수를 정의\n",
    "    Sequence-to-sequence 모델에서 사용했던 Loss와 유사하되, Masking 되지 않은 입력의 개수로 Scaling하는 과정을 추가합니다. (트랜스포머가 모든 입력에 대한 Loss를 한 번에 구하기 때문입니다.)"
   ]
  },
  {
   "cell_type": "code",
   "execution_count": 127,
   "id": "8d49c1fe",
   "metadata": {},
   "outputs": [],
   "source": [
    "# Loss 함수 정의\n",
    "loss_object = tf.keras.losses.SparseCategoricalCrossentropy(from_logits=True, reduction='none')\n",
    "\n",
    "def loss_function(real, pred):\n",
    "    mask = tf.math.logical_not(tf.math.equal(real, 0))\n",
    "    loss_ = loss_object(real, pred)\n",
    "\n",
    "    # Masking 되지 않은 입력의 개수로 Scaling하는 과정\n",
    "    mask = tf.cast(mask, dtype=loss_.dtype)\n",
    "    loss_ *= mask\n",
    "\n",
    "    return tf.reduce_sum(loss_)/tf.reduce_sum(mask)"
   ]
  },
  {
   "cell_type": "markdown",
   "id": "d9ef8cf1",
   "metadata": {},
   "source": [
    "## train_step 함수를 정의\n",
    "    입력 데이터에 알맞은 Mask를 생성하고, 이를 모델에 전달하여 연산에서 사용할 수 있게 합니다."
   ]
  },
  {
   "cell_type": "code",
   "execution_count": 128,
   "id": "51d72a0a",
   "metadata": {},
   "outputs": [],
   "source": [
    "@tf.function()\n",
    "def train_step(src, tgt, model, optimizer):\n",
    "    gold = tgt[:, 1:]\n",
    "        \n",
    "    enc_mask, dec_enc_mask, dec_mask = generate_masks(src, tgt)\n",
    "\n",
    "    # 계산된 loss에 tf.GradientTape()를 적용해 학습을 진행합니다.\n",
    "    with tf.GradientTape() as tape:\n",
    "        predictions, enc_attns, dec_attns, dec_enc_attns = model(src, tgt, enc_mask, dec_enc_mask, dec_mask)\n",
    "        loss = loss_function(gold, predictions[:, :-1])\n",
    "\n",
    "    # 최종적으로 optimizer.apply_gradients()가 사용됩니다. \n",
    "    gradients = tape.gradient(loss, model.trainable_variables)    \n",
    "    optimizer.apply_gradients(zip(gradients, model.trainable_variables))\n",
    "    \n",
    "    return loss, enc_attns, dec_attns, dec_enc_attns"
   ]
  },
  {
   "cell_type": "code",
   "execution_count": 129,
   "id": "e0d9cbee",
   "metadata": {},
   "outputs": [],
   "source": [
    "ckpt = tf.train.Checkpoint(step = tf.Variable(1), optimizer = optimizer , transformer = transformer)\n",
    "manager = tf.train.CheckpointManager(ckpt, './tf_ckpts_gd12_r1',max_to_keep=3)"
   ]
  },
  {
   "cell_type": "markdown",
   "id": "9e456a94",
   "metadata": {},
   "source": [
    "## Attention 시각화 함수"
   ]
  },
  {
   "cell_type": "code",
   "execution_count": 130,
   "id": "a14d6700",
   "metadata": {},
   "outputs": [],
   "source": [
    "# Attention 시각화 함수\n",
    "def visualize_attention(src, tgt, enc_attns, dec_attns, dec_enc_attns):\n",
    "    def draw(data, ax, x=\"auto\", y=\"auto\"):\n",
    "        import seaborn\n",
    "        seaborn.heatmap(data, \n",
    "                        square=True,\n",
    "                        vmin=0.0, vmax=1.0, \n",
    "                        cbar=False, ax=ax,\n",
    "                        xticklabels=x,\n",
    "                        yticklabels=y)\n",
    "        \n",
    "    for layer in range(0, 2, 1):\n",
    "        fig, axs = plt.subplots(1, 4, figsize=(20, 10))\n",
    "        print(\"Encoder Layer\", layer + 1)\n",
    "        for h in range(4):\n",
    "            draw(enc_attns[layer][0, h, :len(src), :len(src)], axs[h], src, src)\n",
    "        plt.show()\n",
    "        \n",
    "    for layer in range(0, 2, 1):\n",
    "        fig, axs = plt.subplots(1, 4, figsize=(20, 10))\n",
    "        print(\"Decoder Self Layer\", layer+1)\n",
    "        for h in range(4):\n",
    "            draw(dec_attns[layer][0, h, :len(tgt), :len(tgt)], axs[h], tgt, tgt)\n",
    "        plt.show()\n",
    "\n",
    "        print(\"Decoder Src Layer\", layer+1)\n",
    "        fig, axs = plt.subplots(1, 4, figsize=(20, 10))\n",
    "        for h in range(4):\n",
    "            draw(dec_enc_attns[layer][0, h, :len(tgt), :len(src)], axs[h], src, tgt)\n",
    "        plt.show()"
   ]
  },
  {
   "cell_type": "markdown",
   "id": "a8b042df",
   "metadata": {},
   "source": [
    "## 번역생성함수"
   ]
  },
  {
   "cell_type": "code",
   "execution_count": 155,
   "id": "449b5126",
   "metadata": {},
   "outputs": [],
   "source": [
    "# 번역 생성 함수\n",
    "def evaluate(sentence, model,reg, src_tokenizer, tgt_tokenizer):\n",
    "    sentence = preprocess_sentence(sentence)\n",
    "    pieces = src_tokenizer.encode_as_pieces(sentence)\n",
    "    tokens = src_tokenizer.encode_as_ids(sentence)\n",
    "\n",
    "    _input = tf.keras.preprocessing.sequence.pad_sequences([tokens], maxlen=enc_train.shape[-1], padding='post')\n",
    "\n",
    "    ids = []\n",
    "    # jj > 4, jd > 5, gs > 6 , cc > 7 , kw > 8\n",
    "    output = tf.expand_dims([tgt_tokenizer.bos_id(),reg], 0)\n",
    "    for i in range(dec_train.shape[-1]):\n",
    "        enc_padding_mask, combined_mask, dec_padding_mask = generate_masks(_input, output)\n",
    "        \n",
    "        # InvalidArgumentError: In[0] mismatch In[1] shape: 50 vs. 1: [1,8,1,50] [1,8,1,64] 0 0 [Op:BatchMatMulV2]\n",
    "        predictions, enc_attns, dec_attns, dec_enc_attns = model(_input, output, enc_padding_mask, combined_mask, dec_padding_mask)\n",
    "        \n",
    "        predicted_id = tf.argmax(tf.math.softmax(predictions, axis=-1)[0, -1]).numpy().item()\n",
    "        if tgt_tokenizer.eos_id() == predicted_id:\n",
    "            result = tgt_tokenizer.decode_ids(ids)\n",
    "            return pieces, result, enc_attns, dec_attns, dec_enc_attns\n",
    "\n",
    "        ids.append(predicted_id)\n",
    "        output = tf.concat([output, tf.expand_dims([predicted_id], 0)], axis=-1)\n",
    "    result = tgt_tokenizer.decode_ids(ids)\n",
    "    return pieces, result, enc_attns, dec_attns, dec_enc_attns"
   ]
  },
  {
   "cell_type": "code",
   "execution_count": 156,
   "id": "48227777",
   "metadata": {},
   "outputs": [],
   "source": [
    "# 번역 생성 및 Attention 시각화 결합\n",
    "def translate(sentence, model, reg, src_tokenizer, tgt_tokenizer, plot_attention=False):\n",
    "    pieces, result, enc_attns, dec_attns, dec_enc_attns = evaluate(sentence, model, reg, src_tokenizer, tgt_tokenizer)\n",
    "    \n",
    "    print('Input: %s' % (sentence))\n",
    "    print('Predicted translation: {}'.format(result))\n",
    "\n",
    "    if plot_attention:\n",
    "        visualize_attention(pieces, result.split(), enc_attns, dec_attns, dec_enc_attns)"
   ]
  },
  {
   "cell_type": "code",
   "execution_count": 133,
   "id": "50002851",
   "metadata": {},
   "outputs": [],
   "source": [
    "examples = [\n",
    "    \"How was your day? I was the best.\",\n",
    "    \"Take your time, please.\",\n",
    "    \"I’m about to leave. Please hold for a moment.\",\n",
    "    \"Have you heard of it?\"\n",
    "]"
   ]
  },
  {
   "cell_type": "markdown",
   "id": "0ff6f302",
   "metadata": {},
   "source": [
    "## 학습"
   ]
  },
  {
   "cell_type": "code",
   "execution_count": null,
   "id": "c70509b7",
   "metadata": {},
   "outputs": [],
   "source": [
    "# jj > 4, jd > 5, gs > 6 , cc > 7 , kw > 8"
   ]
  },
  {
   "cell_type": "code",
   "execution_count": 145,
   "id": "a2f1f0d6",
   "metadata": {},
   "outputs": [
    {
     "data": {
      "text/plain": [
       "[1, 2500, 4, 2500, 5, 2500, 6, 2500, 7, 2500, 8, 2]"
      ]
     },
     "execution_count": 145,
     "metadata": {},
     "output_type": "execute_result"
    }
   ],
   "source": [
    "# ko_tokenizer.encode_as_ids('<jj> <jd> <gs> <cc> <kw>')"
   ]
  },
  {
   "cell_type": "code",
   "execution_count": 135,
   "id": "ebd4c60c",
   "metadata": {
    "scrolled": true
   },
   "outputs": [],
   "source": [
    "# # 학습\n",
    "# EPOCHS = 2\n",
    "# BATCH_SIZE = 64\n",
    "\n",
    "# def train_and_checkpoint(transformer, manager, EPOCHS):\n",
    "#     ckpt.restore(manager.latest_checkpoint)\n",
    "#     if manager.latest_checkpoint:\n",
    "#         print(\"Restored from {}\".format(manager.latest_checkpoint))\n",
    "    \n",
    "#     else:\n",
    "#         print(\"Initializing from scratch.\")\n",
    "\n",
    "\n",
    "#     for epoch in range(EPOCHS):\n",
    "#         total_loss = 0\n",
    "\n",
    "#         idx_list = list(range(0, enc_train.shape[0], BATCH_SIZE))\n",
    "#         random.shuffle(idx_list)\n",
    "#         t = tqdm(idx_list)\n",
    "\n",
    "#         for (batch, idx) in enumerate(t):\n",
    "#             batch_loss, enc_attns, dec_attns, dec_enc_attns = train_step(enc_train[idx:idx+BATCH_SIZE],\n",
    "#                                                                          dec_train[idx:idx+BATCH_SIZE],\n",
    "#                                                                          transformer,\n",
    "#                                                                          optimizer)\n",
    "\n",
    "#             total_loss += batch_loss\n",
    "\n",
    "#             t.set_description_str('Epoch %2d' % (epoch + 1))\n",
    "#             t.set_postfix_str('Loss %.4f' % (total_loss.numpy() / (batch + 1)))\n",
    "      \n",
    "      \n",
    "#         # 매 Epoch 마다 제시된 예문에 대한 번역 생성\n",
    "#         for example in examples:\n",
    "#             translate(example, transformer, en_tokenizer, ko_tokenizer)\n",
    "            \n",
    " \n",
    "#         if int(ckpt.step) % 2 == 0:\n",
    "#             save_path = manager.save()\n",
    "#             print(\"Saved checkpoint for step {}: {}\".format(int(ckpt.step), save_path))"
   ]
  },
  {
   "cell_type": "code",
   "execution_count": 136,
   "id": "6b03f1d6",
   "metadata": {},
   "outputs": [
    {
     "name": "stdout",
     "output_type": "stream",
     "text": [
      "Initializing from scratch.\n"
     ]
    },
    {
     "data": {
      "application/vnd.jupyter.widget-view+json": {
       "model_id": "566eff60e3aa4124aaf2f842b379cc29",
       "version_major": 2,
       "version_minor": 0
      },
      "text/plain": [
       "  0%|          | 0/7865 [00:00<?, ?it/s]"
      ]
     },
     "metadata": {},
     "output_type": "display_data"
    },
    {
     "name": "stdout",
     "output_type": "stream",
     "text": [
      "Input: How was your day? I was the best.\n",
      "Predicted translation: <kw> 너의 날은 내가 제일 좋았던 날이야 .\n",
      "Input: Take your time, please.\n",
      "Predicted translation: <kw> 시느매 좀 해 주십시오 .\n",
      "Input: I’m about to leave. Please hold for a moment.\n",
      "Predicted translation: <kw> 내가 좀 떠나 줘 제발 기다려 주십시오 .\n",
      "Input: Have you heard of it?\n",
      "Predicted translation: <kw> 잰작 들었어 ?\n"
     ]
    },
    {
     "data": {
      "application/vnd.jupyter.widget-view+json": {
       "model_id": "ef9bb0ce28b04e0dbb7a237b925107aa",
       "version_major": 2,
       "version_minor": 0
      },
      "text/plain": [
       "  0%|          | 0/7865 [00:00<?, ?it/s]"
      ]
     },
     "metadata": {},
     "output_type": "display_data"
    },
    {
     "name": "stdout",
     "output_type": "stream",
     "text": [
      "Input: How was your day? I was the best.\n",
      "Predicted translation: <kw> 내가 얼매나 됐다구 최 최고였어 .\n",
      "Input: Take your time, please.\n",
      "Predicted translation: <kw> 시간을 가꾸와요 .\n",
      "Input: I’m about to leave. Please hold for a moment.\n",
      "Predicted translation: <kw> 나 지굼 출발해 주십시오 잠깐만 .\n",
      "Input: Have you heard of it?\n",
      "Predicted translation: <kw> 들은 거야 ?\n"
     ]
    }
   ],
   "source": [
    "# train_and_checkpoint(transformer, manager, EPOCHS )"
   ]
  },
  {
   "cell_type": "code",
   "execution_count": 137,
   "id": "4c0b34d0",
   "metadata": {},
   "outputs": [
    {
     "name": "stdout",
     "output_type": "stream",
     "text": [
      "Input: I’d rather not do that.\n",
      "Predicted translation: <jj> 차라리 겅 안 해부난\n",
      "Input: You’re misunderstanding right now. Hear me out.\n",
      "Predicted translation: <kw> 지굼 오해하고 계시고 계시고 나오세요 .\n",
      "Input: I’m in good shape.\n",
      "Predicted translation: <kw> 나 지굼 상태가 좋아요 .\n",
      "Input: Would you like to have some coffee?\n",
      "Predicted translation: <kw> 커피도 마실까요 ?\n"
     ]
    }
   ],
   "source": [
    "ckpt.restore(manager.latest_checkpoint)\n",
    "\n",
    "examples = [\n",
    "    \"I’d rather not do that.\",\n",
    "    \"You’re misunderstanding right now. Hear me out.\",\n",
    "    \"I’m in good shape.\",\n",
    "    \"Would you like to have some coffee?\"\n",
    "]\n",
    "\n",
    "for example in examples:\n",
    "    translate(example, transformer, en_tokenizer, ko_tokenizer)"
   ]
  },
  {
   "cell_type": "code",
   "execution_count": 158,
   "id": "eaf8673d",
   "metadata": {},
   "outputs": [
    {
     "name": "stdout",
     "output_type": "stream",
     "text": [
      "제주도 사투리 :\n",
      "Input: what are you doing?\n",
      "Predicted translation: 뭐랜 ?\n",
      "\n",
      "전라도 사투리 :\n",
      "Input: what are you doing?\n",
      "Predicted translation: 뭐시냐 ?\n",
      "\n",
      "경상도 사투리 :\n",
      "Input: what are you doing?\n",
      "Predicted translation: 뭐 니 뭐 하는 거야 ?\n",
      "\n",
      "추청도 사투리 :\n",
      "Input: what are you doing?\n",
      "Predicted translation: 뭐 이케\n",
      "\n",
      "강원도 사투리 :\n",
      "Input: what are you doing?\n",
      "Predicted translation: 무신 일로 ?\n",
      "\n"
     ]
    }
   ],
   "source": [
    "# jj > 4, jd > 5, gs > 6 , cc > 7 , kw > 8\n",
    "\n",
    "reg = {4 : '제주도', 5 : '전라도', 6 :'경상도',7:'추청도', 8:'강원도'}\n",
    "\n",
    "for i in range(4,9) :\n",
    "    print(f'{reg[i]} 사투리 :')    \n",
    "    translate('what are you doing?',transformer, i, en_tokenizer, ko_tokenizer)\n",
    "    print()"
   ]
  },
  {
   "cell_type": "code",
   "execution_count": 159,
   "id": "99f5bc4a",
   "metadata": {},
   "outputs": [
    {
     "name": "stdout",
     "output_type": "stream",
     "text": [
      "제주도 사투리 :\n",
      "Input: what do you want to eat?\n",
      "Predicted translation: 어떵 먹젠 ?\n",
      "\n",
      "전라도 사투리 :\n",
      "Input: what do you want to eat?\n",
      "Predicted translation: 그 뭐 먹고 싶냐 ?\n",
      "\n",
      "경상도 사투리 :\n",
      "Input: what do you want to eat?\n",
      "Predicted translation: 뭐 먹고 싶노 ?\n",
      "\n",
      "추청도 사투리 :\n",
      "Input: what do you want to eat?\n",
      "Predicted translation: 그 뭐 먹고 싶나 ?\n",
      "\n",
      "강원도 사투리 :\n",
      "Input: what do you want to eat?\n",
      "Predicted translation: 무신 밥 먹구 싶나 ?\n",
      "\n"
     ]
    }
   ],
   "source": [
    "reg = {4 : '제주도', 5 : '전라도', 6 :'경상도',7:'추청도', 8:'강원도'}\n",
    "\n",
    "for i in range(4,9) :\n",
    "    print(f'{reg[i]} 사투리 :')    \n",
    "    translate('what do you want to eat?',transformer, i, en_tokenizer, ko_tokenizer)\n",
    "    print()"
   ]
  },
  {
   "cell_type": "code",
   "execution_count": 160,
   "id": "0aa42ab0",
   "metadata": {},
   "outputs": [
    {
     "name": "stdout",
     "output_type": "stream",
     "text": [
      "제주도 사투리 :\n",
      "Input: who is this?\n",
      "Predicted translation: 누구 누구꽈 ?\n",
      "\n",
      "전라도 사투리 :\n",
      "Input: who is this?\n",
      "Predicted translation: 누구 누구여 ?\n",
      "\n",
      "경상도 사투리 :\n",
      "Input: who is this?\n",
      "Predicted translation: 누구 누구야 ?\n",
      "\n",
      "추청도 사투리 :\n",
      "Input: who is this?\n",
      "Predicted translation: 누구 누구여 ?\n",
      "\n",
      "강원도 사투리 :\n",
      "Input: who is this?\n",
      "Predicted translation: 누그야 ?\n",
      "\n"
     ]
    }
   ],
   "source": [
    "reg = {4 : '제주도', 5 : '전라도', 6 :'경상도',7:'추청도', 8:'강원도'}\n",
    "\n",
    "for i in range(4,9) :\n",
    "    print(f'{reg[i]} 사투리 :')    \n",
    "    translate('who is this?',transformer, i, en_tokenizer, ko_tokenizer)\n",
    "    print()"
   ]
  },
  {
   "cell_type": "code",
   "execution_count": 163,
   "id": "4e26bcb9",
   "metadata": {},
   "outputs": [
    {
     "name": "stdout",
     "output_type": "stream",
     "text": [
      "제주도 사투리 :\n",
      "Input: Where are you?\n",
      "Predicted translation: 어딘 ?\n",
      "\n",
      "전라도 사투리 :\n",
      "Input: Where are you?\n",
      "Predicted translation: 그 어디여 ?\n",
      "\n",
      "경상도 사투리 :\n",
      "Input: Where are you?\n",
      "Predicted translation: 그 니 어디냐 ?\n",
      "\n",
      "추청도 사투리 :\n",
      "Input: Where are you?\n",
      "Predicted translation: 그 어딘데요 ?\n",
      "\n",
      "강원도 사투리 :\n",
      "Input: Where are you?\n",
      "Predicted translation: 어데야 ?\n",
      "\n"
     ]
    }
   ],
   "source": [
    "reg = {4 : '제주도', 5 : '전라도', 6 :'경상도',7:'추청도', 8:'강원도'}\n",
    "\n",
    "for i in range(4,9) :\n",
    "    print(f'{reg[i]} 사투리 :')    \n",
    "    translate('Where are you?',transformer, i, en_tokenizer, ko_tokenizer)\n",
    "    print()"
   ]
  }
 ],
 "metadata": {
  "kernelspec": {
   "display_name": "Python 3 (ipykernel)",
   "language": "python",
   "name": "python3"
  },
  "language_info": {
   "codemirror_mode": {
    "name": "ipython",
    "version": 3
   },
   "file_extension": ".py",
   "mimetype": "text/x-python",
   "name": "python",
   "nbconvert_exporter": "python",
   "pygments_lexer": "ipython3",
   "version": "3.9.7"
  }
 },
 "nbformat": 4,
 "nbformat_minor": 5
}
